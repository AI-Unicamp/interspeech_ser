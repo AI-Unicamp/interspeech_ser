{
 "cells": [
  {
   "cell_type": "code",
   "execution_count": 877,
   "id": "607c5c82-3f02-4bea-9cfa-9d24f7484069",
   "metadata": {},
   "outputs": [],
   "source": [
    "def get_stratified_subset(df, label_column, num_examples_per_label, random_state=None):\n",
    "    \"\"\"\n",
    "    Returns a stratified subset of the dataframe with a fixed number of examples for each label.\n",
    "\n",
    "    Args:\n",
    "        df (pd.DataFrame): The input dataframe.\n",
    "        label_column (str): The name of the column containing the labels.\n",
    "        num_examples_per_label (int): The fixed number of examples to sample for each label.\n",
    "        random_state (int, optional): Random seed for reproducibility.\n",
    "\n",
    "    Returns:\n",
    "        pd.DataFrame: A stratified subset of the dataframe.\n",
    "    \"\"\"\n",
    "    if random_state is not None:\n",
    "        np.random.seed(random_state)\n",
    "\n",
    "    stratified_subset = []\n",
    "\n",
    "    for label in df[label_column].unique():\n",
    "        label_group = df[df[label_column] == label]\n",
    "        if len(label_group) < num_examples_per_label:\n",
    "            raise ValueError(f\"Not enough examples for label '{label}'. Requested {num_examples_per_label}, but only {len(label_group)} available.\")\n",
    "        \n",
    "        sampled_group = label_group.sample(n=num_examples_per_label, random_state=random_state)\n",
    "        stratified_subset.append(sampled_group)\n",
    "\n",
    "    return pd.concat(stratified_subset).reset_index(drop=True)\n",
    "\n",
    "from collections import Counter\n",
    "\n",
    "def get_majority_vote(dataframes_list):\n",
    "    \"\"\"\n",
    "    Takes a list of dataframes with 'FileName' and 'Prediction' columns and returns\n",
    "    a new dataframe with majority vote predictions for each filename.\n",
    "    \n",
    "    Args:\n",
    "        dataframes_list (list): List of pandas dataframes, each containing 'FileName' and 'Prediction' columns\n",
    "        \n",
    "    Returns:\n",
    "        pandas.DataFrame: A dataframe with majority vote predictions\n",
    "    \"\"\"\n",
    "    # Concatenate all dataframes\n",
    "    combined_df = pd.concat(dataframes_list, ignore_index=True)\n",
    "    \n",
    "    # Function to get majority vote for a group\n",
    "    def majority_vote(group):\n",
    "        predictions = group['Prediction'].tolist()\n",
    "        # Get the most common prediction\n",
    "        most_common = Counter(predictions).most_common(1)[0][0]\n",
    "        return most_common\n",
    "    \n",
    "    # Group by FileName and apply majority vote\n",
    "    result_df = (combined_df.groupby('Filename')\n",
    "                          .apply(majority_vote)\n",
    "                          .reset_index())\n",
    "    \n",
    "    # Rename the columns\n",
    "    result_df.columns = ['Filename', 'Prediction']\n",
    "    \n",
    "    # Sort by FileName for consistency\n",
    "    result_df = result_df.sort_values('Filename').reset_index(drop=True)\n",
    "    \n",
    "    return result_df\n",
    "\n",
    "def get_probability_vote(dataframes_list):\n",
    "    \"\"\"\n",
    "    Takes a list of dataframes with 'FileName' and 'class_N_prob' columns\n",
    "    and returns a new dataframe with FileName and Prediction based on averaged probabilities.\n",
    "    \n",
    "    Args:\n",
    "        dataframes_list (list): List of pandas dataframes containing 'FileName' \n",
    "                               and probability columns ('class_0_prob', 'class_1_prob', etc.)\n",
    "        \n",
    "    Returns:\n",
    "        pandas.DataFrame: A dataframe with FileName and Prediction columns\n",
    "    \"\"\"\n",
    "    # Concatenate all dataframes\n",
    "    combined_df = pd.concat(dataframes_list, ignore_index=True)\n",
    "    \n",
    "    # Find probability columns (class_N_prob)\n",
    "    prob_columns = [col for col in combined_df.columns if col.startswith('class_') and col.endswith('_prob')]\n",
    "    \n",
    "    # Function to get prediction from probabilities\n",
    "    def get_prediction(group):\n",
    "        mean_probs = [group[col].mean() for col in prob_columns]\n",
    "        return np.argmax(mean_probs)\n",
    "    \n",
    "    # Group by FileName and get predictions\n",
    "    result_df = pd.DataFrame({\n",
    "        'Filename': combined_df['Filename'].unique()\n",
    "    })\n",
    "    \n",
    "    result_df['Prediction'] = (combined_df.groupby('Filename')\n",
    "                                        .apply(get_prediction)\n",
    "                                        .values)\n",
    "    \n",
    "    # Sort by FileName for consistency\n",
    "    result_df = result_df.sort_values('Filename').reset_index(drop=True)\n",
    "    \n",
    "    return result_df\n",
    "\n",
    "def softmax(x):\n",
    "    \"\"\"\n",
    "    Compute softmax values for each set of scores in x.\n",
    "    \"\"\"\n",
    "    exp_x = np.exp(x - np.max(x))  # Subtract max for numerical stability\n",
    "    return exp_x / exp_x.sum()\n",
    "\n",
    "def get_probability_vote_softmax(dataframes_list):\n",
    "    \"\"\"\n",
    "    Takes a list of dataframes with 'FileName' and 'class_N_prob' columns,\n",
    "    applies softmax to probabilities before averaging, and returns predictions.\n",
    "    \n",
    "    Args:\n",
    "        dataframes_list (list): List of pandas dataframes containing 'FileName' \n",
    "                               and probability columns ('class_0_prob', 'class_1_prob', etc.)\n",
    "        \n",
    "    Returns:\n",
    "        pandas.DataFrame: A dataframe with FileName and Prediction columns\n",
    "    \"\"\"\n",
    "    # Concatenate all dataframes\n",
    "    combined_df = pd.concat(dataframes_list, ignore_index=True)\n",
    "    \n",
    "    # Find probability columns (class_N_prob)\n",
    "    prob_columns = [col for col in combined_df.columns if col.startswith('class_') and col.endswith('_prob')]\n",
    "    \n",
    "    # Function to get prediction from probabilities with softmax\n",
    "    def get_softmax_prediction(group):\n",
    "        # Get raw probabilities for each prediction\n",
    "        raw_probs = np.array([group[col].values for col in prob_columns]).T\n",
    "        \n",
    "        # Apply softmax to each prediction\n",
    "        softmax_probs = np.array([softmax(pred) for pred in raw_probs])\n",
    "        \n",
    "        # Average the softmaxed probabilities\n",
    "        mean_probs = softmax_probs.mean(axis=0)\n",
    "        \n",
    "        return np.argmax(mean_probs)\n",
    "    \n",
    "    # Group by FileName and get predictions\n",
    "    result_df = pd.DataFrame({\n",
    "        'Filename': combined_df['Filename'].unique()\n",
    "    })\n",
    "    \n",
    "    result_df['Prediction'] = (combined_df.groupby('Filename')\n",
    "                                        .apply(get_softmax_prediction)\n",
    "                                        .values)\n",
    "    \n",
    "    # Sort by FileName for consistency\n",
    "    result_df = result_df.sort_values('Filename').reset_index(drop=True)\n",
    "    \n",
    "    return result_df"
   ]
  },
  {
   "cell_type": "code",
   "execution_count": 878,
   "id": "d30bdb9f-8704-4a6b-b074-05afbe73dfc8",
   "metadata": {},
   "outputs": [],
   "source": [
    "import pandas as pd\n",
    "import numpy as np"
   ]
  },
  {
   "cell_type": "code",
   "execution_count": 1079,
   "id": "5fc017e4-c8fe-4ec6-b607-57e197608526",
   "metadata": {},
   "outputs": [],
   "source": [
    "experiments_list = [\n",
    "    'multimodalmodel_wavlmlarge_robertalarge_lazyload_lr1e4',\n",
    "    # 'multimodalmodel_wavlmlarge_robertalarge_lazyload_lr1e4_focalloss',\n",
    "    # 'multimodalmodel_wavlmlarge_robertalarge_lazyload_lr1e4_batchbalanced',\n",
    "    # 'multimodalmodel_wavlmlarge_robertalarge_lazyload_lr1e4_batchbalanced_focaloss',\n",
    "    'multimodalmodel_w2v2robust_robertalarge_lazyload_lr1e4',\n",
    "    'multimodalmodel_hubertxlarge_robertalarge_lazyload_lr1e4',\n",
    "    'multimodalmodel_w2v2xls2b_robertalarge_lazyload_lr1e4',\n",
    "    # \"multimodalmodel_w2v2xls2b_robertalarge_lazyload_lr1e4_focaloss\",\n",
    "    # \"multimodalmodel_whisperlarge_w2v2xls_lazyload_lr1e4\",\n",
    "    'multimodalmodel_whisperlarge_robertalarge_lazyload_lr1e4',\n",
    "    # \"multimodalmodel_whisperlarge_robertalarge_lazyload_lr1e4_focaloss\",\n",
    "    # \"multimodalmodel_whisperlarge_robertalarge_lazyload_lr1e4_focaloss_gamma3\",\n",
    "    # \"multimodalmodel_whisperlarge_robertalarge_lazyload_lr1e5_nowce\",\n",
    "    # \"multimodalmodel_whisperlarge_robertalarge_lazyload_lr1e5_batchbalanced\",\n",
    "    # \"multimodalmodel_wavlmlarge_robertalarge_lazyload_lr1e4_f1loss_wce\",\n",
    "    # \"multimodalmodel_wavlmlarge_robertalarge_lazyload_lr1e4_f1loss\",\n",
    "    # \"multimodalmodel_wavlmlarge_robertalarge_lazyload_lr1e4_moe\",\n",
    "    # \"multimodalmodel_wavlmlarge_robertalarge_lazyload_lr1e5\",\n",
    "    # \"multimodalmodel_wavlmlarge_robertalarge_lazyload_lr1e4_deberta\",\n",
    "    # \"multimodalmodel_wavlmlarge_robertalarge_lazyload_lr1e4_fiona\",\n",
    "    # \"multimodalmodel_whisperlarge_debertaxxlarge_lazyload_lr1e5\",\n",
    "    \"multimodalmodel_whisperlarge_debertaxxlarge_lazyload_lr1e5_lasthidden\",\n",
    "    \"multimodalmodel_w2v2xls2b_debertaxxlarge_lazyload_lr1e4_lasthidden\"\n",
    "]\n",
    "\n",
    "# Experiments with 1 head\n",
    "experiments_list =[\n",
    "    \"multimodalmodel_w2v2robust_robertalarge_lazyload_lr1e4_head1\",\n",
    "    \"multimodalmodel_hubertxlarge_robertalarge_lazyload_lr1e4_head1\",\n",
    "    \"multimodalmodel_w2v2xls2b_robertalarge_lazyload_lr1e4_head1\",\n",
    "    \"multimodalmodel_whisperlarge_robertalarge_lazyload_lr1e4_1head\",\n",
    "    # \"multimodalmodel_whisperlarge_robertalarge_lazyload_lr1e4_1head_30epochs\",\n",
    "    \"multimodalmodel_wavlmlarge_robertalarge_lazyload_lr1e4_head1\",\n",
    "    \"multimodalmodel_whisperlarge_hubertxlarge_lazyload_lr1e4_head1\"\n",
    "]\n",
    "\n",
    "dfs = []\n",
    "\n",
    "for exp in experiments_list:\n",
    "    \n",
    "    dfs.append(pd.read_csv(f'../experiments/{exp}/results/dev.csv'))\n",
    "# preds.head()"
   ]
  },
  {
   "cell_type": "code",
   "execution_count": 1080,
   "id": "04969df8-f7c0-4330-92a1-20b0f669458c",
   "metadata": {},
   "outputs": [],
   "source": [
    "preds = get_majority_vote(dfs)"
   ]
  },
  {
   "cell_type": "code",
   "execution_count": 998,
   "id": "d6dd2334-9c87-4ce3-88d1-aac1f1f60b7b",
   "metadata": {},
   "outputs": [],
   "source": [
    "preds = get_probability_vote(dfs)\n",
    "# preds = get_probability_vote_softmax(dfs)\n",
    "classes_ = ['A', 'S', 'H', 'U', 'F', 'D', 'C', 'N']\n",
    "\n",
    "map_argmax = dict()\n",
    "for i, c in enumerate(classes_):\n",
    "    map_argmax[i] = c\n",
    "\n",
    "preds[\"Prediction\"] = preds[\"Prediction\"].map(map_argmax) "
   ]
  },
  {
   "cell_type": "code",
   "execution_count": 1081,
   "id": "c6771be3-748e-49e4-9840-2d3f4e2b9861",
   "metadata": {},
   "outputs": [
    {
     "data": {
      "text/html": [
       "<div>\n",
       "<style scoped>\n",
       "    .dataframe tbody tr th:only-of-type {\n",
       "        vertical-align: middle;\n",
       "    }\n",
       "\n",
       "    .dataframe tbody tr th {\n",
       "        vertical-align: top;\n",
       "    }\n",
       "\n",
       "    .dataframe thead th {\n",
       "        text-align: right;\n",
       "    }\n",
       "</style>\n",
       "<table border=\"1\" class=\"dataframe\">\n",
       "  <thead>\n",
       "    <tr style=\"text-align: right;\">\n",
       "      <th></th>\n",
       "      <th>Filename</th>\n",
       "      <th>Prediction</th>\n",
       "    </tr>\n",
       "  </thead>\n",
       "  <tbody>\n",
       "    <tr>\n",
       "      <th>0</th>\n",
       "      <td>MSP-PODCAST_0002_0033.wav</td>\n",
       "      <td>U</td>\n",
       "    </tr>\n",
       "    <tr>\n",
       "      <th>1</th>\n",
       "      <td>MSP-PODCAST_0002_0039.wav</td>\n",
       "      <td>N</td>\n",
       "    </tr>\n",
       "    <tr>\n",
       "      <th>2</th>\n",
       "      <td>MSP-PODCAST_0002_0051.wav</td>\n",
       "      <td>N</td>\n",
       "    </tr>\n",
       "    <tr>\n",
       "      <th>3</th>\n",
       "      <td>MSP-PODCAST_0002_0061.wav</td>\n",
       "      <td>C</td>\n",
       "    </tr>\n",
       "    <tr>\n",
       "      <th>4</th>\n",
       "      <td>MSP-PODCAST_0006_0017.wav</td>\n",
       "      <td>F</td>\n",
       "    </tr>\n",
       "  </tbody>\n",
       "</table>\n",
       "</div>"
      ],
      "text/plain": [
       "                    Filename Prediction\n",
       "0  MSP-PODCAST_0002_0033.wav          U\n",
       "1  MSP-PODCAST_0002_0039.wav          N\n",
       "2  MSP-PODCAST_0002_0051.wav          N\n",
       "3  MSP-PODCAST_0002_0061.wav          C\n",
       "4  MSP-PODCAST_0006_0017.wav          F"
      ]
     },
     "execution_count": 1081,
     "metadata": {},
     "output_type": "execute_result"
    }
   ],
   "source": [
    "preds.head()"
   ]
  },
  {
   "cell_type": "code",
   "execution_count": 1082,
   "id": "9ca46356-04ea-491c-8aaa-687a04b9585f",
   "metadata": {},
   "outputs": [
    {
     "data": {
      "text/html": [
       "<div>\n",
       "<style scoped>\n",
       "    .dataframe tbody tr th:only-of-type {\n",
       "        vertical-align: middle;\n",
       "    }\n",
       "\n",
       "    .dataframe tbody tr th {\n",
       "        vertical-align: top;\n",
       "    }\n",
       "\n",
       "    .dataframe thead th {\n",
       "        text-align: right;\n",
       "    }\n",
       "</style>\n",
       "<table border=\"1\" class=\"dataframe\">\n",
       "  <thead>\n",
       "    <tr style=\"text-align: right;\">\n",
       "      <th></th>\n",
       "      <th>FileName</th>\n",
       "      <th>EmoClass</th>\n",
       "      <th>EmoAct</th>\n",
       "      <th>EmoVal</th>\n",
       "      <th>EmoDom</th>\n",
       "      <th>SpkrID</th>\n",
       "      <th>Gender</th>\n",
       "      <th>Split_Set</th>\n",
       "    </tr>\n",
       "  </thead>\n",
       "  <tbody>\n",
       "    <tr>\n",
       "      <th>0</th>\n",
       "      <td>MSP-PODCAST_0002_0033.wav</td>\n",
       "      <td>N</td>\n",
       "      <td>4.8</td>\n",
       "      <td>4.2</td>\n",
       "      <td>5.4</td>\n",
       "      <td>127</td>\n",
       "      <td>Female</td>\n",
       "      <td>Development</td>\n",
       "    </tr>\n",
       "    <tr>\n",
       "      <th>1</th>\n",
       "      <td>MSP-PODCAST_0002_0039.wav</td>\n",
       "      <td>N</td>\n",
       "      <td>4.0</td>\n",
       "      <td>4.2</td>\n",
       "      <td>4.2</td>\n",
       "      <td>127</td>\n",
       "      <td>Female</td>\n",
       "      <td>Development</td>\n",
       "    </tr>\n",
       "    <tr>\n",
       "      <th>2</th>\n",
       "      <td>MSP-PODCAST_0002_0051.wav</td>\n",
       "      <td>N</td>\n",
       "      <td>4.0</td>\n",
       "      <td>4.2</td>\n",
       "      <td>4.2</td>\n",
       "      <td>127</td>\n",
       "      <td>Female</td>\n",
       "      <td>Development</td>\n",
       "    </tr>\n",
       "    <tr>\n",
       "      <th>3</th>\n",
       "      <td>MSP-PODCAST_0002_0059.wav</td>\n",
       "      <td>X</td>\n",
       "      <td>4.0</td>\n",
       "      <td>3.8</td>\n",
       "      <td>4.0</td>\n",
       "      <td>128</td>\n",
       "      <td>Female</td>\n",
       "      <td>Development</td>\n",
       "    </tr>\n",
       "    <tr>\n",
       "      <th>4</th>\n",
       "      <td>MSP-PODCAST_0002_0061.wav</td>\n",
       "      <td>F</td>\n",
       "      <td>3.4</td>\n",
       "      <td>2.8</td>\n",
       "      <td>4.2</td>\n",
       "      <td>128</td>\n",
       "      <td>Female</td>\n",
       "      <td>Development</td>\n",
       "    </tr>\n",
       "  </tbody>\n",
       "</table>\n",
       "</div>"
      ],
      "text/plain": [
       "                    FileName EmoClass  EmoAct  EmoVal  EmoDom  SpkrID  Gender  \\\n",
       "0  MSP-PODCAST_0002_0033.wav        N     4.8     4.2     5.4     127  Female   \n",
       "1  MSP-PODCAST_0002_0039.wav        N     4.0     4.2     4.2     127  Female   \n",
       "2  MSP-PODCAST_0002_0051.wav        N     4.0     4.2     4.2     127  Female   \n",
       "3  MSP-PODCAST_0002_0059.wav        X     4.0     3.8     4.0     128  Female   \n",
       "4  MSP-PODCAST_0002_0061.wav        F     3.4     2.8     4.2     128  Female   \n",
       "\n",
       "     Split_Set  \n",
       "0  Development  \n",
       "1  Development  \n",
       "2  Development  \n",
       "3  Development  \n",
       "4  Development  "
      ]
     },
     "execution_count": 1082,
     "metadata": {},
     "output_type": "execute_result"
    }
   ],
   "source": [
    "df = pd.read_csv('/workspace/lucas.ueda/interspeech_ser/data/Labels/labels_consensus.csv')\n",
    "df.head()"
   ]
  },
  {
   "cell_type": "code",
   "execution_count": null,
   "id": "f485c30a-2581-4036-85ad-bff4491828c0",
   "metadata": {},
   "outputs": [],
   "source": []
  },
  {
   "cell_type": "code",
   "execution_count": null,
   "id": "a60bf0d2-526f-4662-bb7b-da870e18ea77",
   "metadata": {},
   "outputs": [],
   "source": []
  },
  {
   "cell_type": "code",
   "execution_count": 1083,
   "id": "c3efa84c-a42c-4b16-adb9-6c0af843a12e",
   "metadata": {},
   "outputs": [],
   "source": [
    "preds['FileName'] = preds['Filename']\n",
    "preds = preds.merge(df[['FileName','EmoClass','Gender','SpkrID']], how='left', on = 'FileName')"
   ]
  },
  {
   "cell_type": "code",
   "execution_count": 1084,
   "id": "0fbaa4bd-7393-44ea-a465-e088fc022055",
   "metadata": {},
   "outputs": [
    {
     "data": {
      "text/plain": [
       "0"
      ]
     },
     "execution_count": 1084,
     "metadata": {},
     "output_type": "execute_result"
    }
   ],
   "source": [
    "preds['EmoClass'].isnull().sum()"
   ]
  },
  {
   "cell_type": "code",
   "execution_count": 1085,
   "id": "22a3faa7-164e-4b1d-86e3-e6d9e058e3c5",
   "metadata": {},
   "outputs": [
    {
     "data": {
      "text/html": [
       "<div>\n",
       "<style scoped>\n",
       "    .dataframe tbody tr th:only-of-type {\n",
       "        vertical-align: middle;\n",
       "    }\n",
       "\n",
       "    .dataframe tbody tr th {\n",
       "        vertical-align: top;\n",
       "    }\n",
       "\n",
       "    .dataframe thead th {\n",
       "        text-align: right;\n",
       "    }\n",
       "</style>\n",
       "<table border=\"1\" class=\"dataframe\">\n",
       "  <thead>\n",
       "    <tr style=\"text-align: right;\">\n",
       "      <th></th>\n",
       "      <th>Filename</th>\n",
       "      <th>Prediction</th>\n",
       "      <th>FileName</th>\n",
       "      <th>EmoClass</th>\n",
       "      <th>Gender</th>\n",
       "      <th>SpkrID</th>\n",
       "    </tr>\n",
       "  </thead>\n",
       "  <tbody>\n",
       "    <tr>\n",
       "      <th>0</th>\n",
       "      <td>MSP-PODCAST_0002_0033.wav</td>\n",
       "      <td>U</td>\n",
       "      <td>MSP-PODCAST_0002_0033.wav</td>\n",
       "      <td>N</td>\n",
       "      <td>Female</td>\n",
       "      <td>127</td>\n",
       "    </tr>\n",
       "    <tr>\n",
       "      <th>1</th>\n",
       "      <td>MSP-PODCAST_0002_0039.wav</td>\n",
       "      <td>N</td>\n",
       "      <td>MSP-PODCAST_0002_0039.wav</td>\n",
       "      <td>N</td>\n",
       "      <td>Female</td>\n",
       "      <td>127</td>\n",
       "    </tr>\n",
       "    <tr>\n",
       "      <th>2</th>\n",
       "      <td>MSP-PODCAST_0002_0051.wav</td>\n",
       "      <td>N</td>\n",
       "      <td>MSP-PODCAST_0002_0051.wav</td>\n",
       "      <td>N</td>\n",
       "      <td>Female</td>\n",
       "      <td>127</td>\n",
       "    </tr>\n",
       "    <tr>\n",
       "      <th>3</th>\n",
       "      <td>MSP-PODCAST_0002_0061.wav</td>\n",
       "      <td>C</td>\n",
       "      <td>MSP-PODCAST_0002_0061.wav</td>\n",
       "      <td>F</td>\n",
       "      <td>Female</td>\n",
       "      <td>128</td>\n",
       "    </tr>\n",
       "    <tr>\n",
       "      <th>4</th>\n",
       "      <td>MSP-PODCAST_0006_0017.wav</td>\n",
       "      <td>F</td>\n",
       "      <td>MSP-PODCAST_0006_0017.wav</td>\n",
       "      <td>N</td>\n",
       "      <td>Female</td>\n",
       "      <td>127</td>\n",
       "    </tr>\n",
       "  </tbody>\n",
       "</table>\n",
       "</div>"
      ],
      "text/plain": [
       "                    Filename Prediction                   FileName EmoClass  \\\n",
       "0  MSP-PODCAST_0002_0033.wav          U  MSP-PODCAST_0002_0033.wav        N   \n",
       "1  MSP-PODCAST_0002_0039.wav          N  MSP-PODCAST_0002_0039.wav        N   \n",
       "2  MSP-PODCAST_0002_0051.wav          N  MSP-PODCAST_0002_0051.wav        N   \n",
       "3  MSP-PODCAST_0002_0061.wav          C  MSP-PODCAST_0002_0061.wav        F   \n",
       "4  MSP-PODCAST_0006_0017.wav          F  MSP-PODCAST_0006_0017.wav        N   \n",
       "\n",
       "   Gender  SpkrID  \n",
       "0  Female     127  \n",
       "1  Female     127  \n",
       "2  Female     127  \n",
       "3  Female     128  \n",
       "4  Female     127  "
      ]
     },
     "execution_count": 1085,
     "metadata": {},
     "output_type": "execute_result"
    }
   ],
   "source": [
    "preds.head()"
   ]
  },
  {
   "cell_type": "code",
   "execution_count": 1086,
   "id": "1f88027d-0517-4018-8225-419b98548b88",
   "metadata": {},
   "outputs": [],
   "source": [
    "# !pip install matplotlib"
   ]
  },
  {
   "cell_type": "code",
   "execution_count": 1087,
   "id": "d114f83a-54db-4615-989d-6db4a1229f73",
   "metadata": {},
   "outputs": [
    {
     "data": {
      "image/png": "[encoded data removed]",
      "text/plain": [
       "<Figure size 640x480 with 2 Axes>"
      ]
     },
     "metadata": {},
     "output_type": "display_data"
    }
   ],
   "source": [
    "import pandas as pd\n",
    "from sklearn.metrics import confusion_matrix, ConfusionMatrixDisplay, accuracy_score, f1_score\n",
    "import matplotlib.pyplot as plt\n",
    "\n",
    "# Generate confusion matrix\n",
    "cm = confusion_matrix(preds['EmoClass'], preds['Prediction'], labels=preds['EmoClass'].unique())\n",
    "\n",
    "# Display labels\n",
    "labels = preds['EmoClass'].unique()\n",
    "\n",
    "# Visualize confusion matrix\n",
    "cmd = ConfusionMatrixDisplay(confusion_matrix=cm, display_labels=labels)\n",
    "cmd.plot(cmap=plt.cm.Blues)\n",
    "plt.title(\"Confusion Matrix\")\n",
    "plt.show()"
   ]
  },
  {
   "cell_type": "code",
   "execution_count": 1088,
   "id": "0f00b22b-aee3-4850-90c6-af42bb175f2f",
   "metadata": {},
   "outputs": [
    {
     "data": {
      "text/html": [
       "<div>\n",
       "<style scoped>\n",
       "    .dataframe tbody tr th:only-of-type {\n",
       "        vertical-align: middle;\n",
       "    }\n",
       "\n",
       "    .dataframe tbody tr th {\n",
       "        vertical-align: top;\n",
       "    }\n",
       "\n",
       "    .dataframe thead th {\n",
       "        text-align: right;\n",
       "    }\n",
       "</style>\n",
       "<table border=\"1\" class=\"dataframe\">\n",
       "  <thead>\n",
       "    <tr style=\"text-align: right;\">\n",
       "      <th></th>\n",
       "      <th>Filename</th>\n",
       "      <th>Prediction</th>\n",
       "      <th>FileName</th>\n",
       "      <th>EmoClass</th>\n",
       "      <th>Gender</th>\n",
       "      <th>SpkrID</th>\n",
       "    </tr>\n",
       "  </thead>\n",
       "  <tbody>\n",
       "    <tr>\n",
       "      <th>0</th>\n",
       "      <td>MSP-PODCAST_2421_0197.wav</td>\n",
       "      <td>S</td>\n",
       "      <td>MSP-PODCAST_2421_0197.wav</td>\n",
       "      <td>N</td>\n",
       "      <td>Female</td>\n",
       "      <td>210</td>\n",
       "    </tr>\n",
       "    <tr>\n",
       "      <th>1</th>\n",
       "      <td>MSP-PODCAST_2347_1004.wav</td>\n",
       "      <td>A</td>\n",
       "      <td>MSP-PODCAST_2347_1004.wav</td>\n",
       "      <td>N</td>\n",
       "      <td>Female</td>\n",
       "      <td>210</td>\n",
       "    </tr>\n",
       "    <tr>\n",
       "      <th>2</th>\n",
       "      <td>MSP-PODCAST_3406_0004_0003.wav</td>\n",
       "      <td>H</td>\n",
       "      <td>MSP-PODCAST_3406_0004_0003.wav</td>\n",
       "      <td>N</td>\n",
       "      <td>Male</td>\n",
       "      <td>1767</td>\n",
       "    </tr>\n",
       "    <tr>\n",
       "      <th>3</th>\n",
       "      <td>MSP-PODCAST_0807_1720.wav</td>\n",
       "      <td>U</td>\n",
       "      <td>MSP-PODCAST_0807_1720.wav</td>\n",
       "      <td>N</td>\n",
       "      <td>Male</td>\n",
       "      <td>97</td>\n",
       "    </tr>\n",
       "    <tr>\n",
       "      <th>4</th>\n",
       "      <td>MSP-PODCAST_3079_1429.wav</td>\n",
       "      <td>N</td>\n",
       "      <td>MSP-PODCAST_3079_1429.wav</td>\n",
       "      <td>N</td>\n",
       "      <td>Male</td>\n",
       "      <td>2261</td>\n",
       "    </tr>\n",
       "  </tbody>\n",
       "</table>\n",
       "</div>"
      ],
      "text/plain": [
       "                         Filename Prediction                        FileName  \\\n",
       "0       MSP-PODCAST_2421_0197.wav          S       MSP-PODCAST_2421_0197.wav   \n",
       "1       MSP-PODCAST_2347_1004.wav          A       MSP-PODCAST_2347_1004.wav   \n",
       "2  MSP-PODCAST_3406_0004_0003.wav          H  MSP-PODCAST_3406_0004_0003.wav   \n",
       "3       MSP-PODCAST_0807_1720.wav          U       MSP-PODCAST_0807_1720.wav   \n",
       "4       MSP-PODCAST_3079_1429.wav          N       MSP-PODCAST_3079_1429.wav   \n",
       "\n",
       "  EmoClass  Gender  SpkrID  \n",
       "0        N  Female     210  \n",
       "1        N  Female     210  \n",
       "2        N    Male    1767  \n",
       "3        N    Male      97  \n",
       "4        N    Male    2261  "
      ]
     },
     "execution_count": 1088,
     "metadata": {},
     "output_type": "execute_result"
    }
   ],
   "source": [
    "preds_subset = get_stratified_subset(preds, 'EmoClass', 100)\n",
    "preds_subset.head()"
   ]
  },
  {
   "cell_type": "code",
   "execution_count": 1089,
   "id": "8fb00efd-ac72-400d-a0ca-8faa1bc5aa21",
   "metadata": {},
   "outputs": [],
   "source": [
    "# Average F1-score using bootstrap\n",
    "f1_scores = []\n",
    "for i in range(100):\n",
    "    preds_subset = get_stratified_subset(preds, 'EmoClass', 200, i)\n",
    "    f1_scores.append(f1_score(preds_subset['EmoClass'], preds_subset['Prediction'], average='macro'))"
   ]
  },
  {
   "cell_type": "code",
   "execution_count": 1090,
   "id": "b13fe35a-23b2-43f0-90cc-a693529754ea",
   "metadata": {},
   "outputs": [
    {
     "data": {
      "text/plain": [
       "(0.41338049843394686,\n",
       " 0.010222999957790744,\n",
       " 0.43814127068444975,\n",
       " 0.38411025124645504)"
      ]
     },
     "execution_count": 1090,
     "metadata": {},
     "output_type": "execute_result"
    }
   ],
   "source": [
    "f1_scores = np.array(f1_scores)\n",
    "\n",
    "np.mean(f1_scores), np.std(f1_scores),np.max(f1_scores),np.min(f1_scores)"
   ]
  },
  {
   "cell_type": "code",
   "execution_count": 1091,
   "id": "a5492076-5253-4211-b593-ec0cd9e01bb2",
   "metadata": {},
   "outputs": [
    {
     "data": {
      "image/png": "[encoded data removed]",
      "text/plain": [
       "<Figure size 640x480 with 1 Axes>"
      ]
     },
     "metadata": {},
     "output_type": "display_data"
    }
   ],
   "source": [
    "plt.hist(f1_scores, bins=10)\n",
    "plt.show()"
   ]
  },
  {
   "cell_type": "code",
   "execution_count": null,
   "id": "4eb0cd95-611b-438a-a5dd-52fd63b6c5aa",
   "metadata": {},
   "outputs": [],
   "source": []
  },
  {
   "cell_type": "code",
   "execution_count": 1092,
   "id": "8159c179-b646-4164-aefe-ea07d1b14b63",
   "metadata": {},
   "outputs": [
    {
     "data": {
      "text/plain": [
       "0.3861827737063433"
      ]
     },
     "execution_count": 1092,
     "metadata": {},
     "output_type": "execute_result"
    }
   ],
   "source": [
    "f1_score(preds['EmoClass'], preds['Prediction'], average='macro')"
   ]
  },
  {
   "cell_type": "code",
   "execution_count": 1078,
   "id": "9ffcaae7-3a6c-4551-88b4-89443bf93542",
   "metadata": {},
   "outputs": [
    {
     "data": {
      "text/plain": [
       "0.5287037770211418"
      ]
     },
     "execution_count": 1078,
     "metadata": {},
     "output_type": "execute_result"
    }
   ],
   "source": [
    "f1_score(preds['EmoClass'], preds['Prediction'], average='micro')"
   ]
  },
  {
   "cell_type": "code",
   "execution_count": 1057,
   "id": "079afbb7-1cc7-4abd-8ddc-61c09caa62b4",
   "metadata": {},
   "outputs": [
    {
     "data": {
      "text/plain": [
       "0.5315147675983847"
      ]
     },
     "execution_count": 1057,
     "metadata": {},
     "output_type": "execute_result"
    }
   ],
   "source": [
    "accuracy_score(preds['EmoClass'], preds['Prediction'])"
   ]
  },
  {
   "cell_type": "code",
   "execution_count": 1058,
   "id": "b5b3e001-c2fd-4ac5-8700-3b8787d98c45",
   "metadata": {},
   "outputs": [
    {
     "data": {
      "text/plain": [
       "(0.05678375814693552, 0.2938870852799113)"
      ]
     },
     "execution_count": 1058,
     "metadata": {},
     "output_type": "execute_result"
    }
   ],
   "source": [
    "preds['PRED_dumb'] = 'N'\n",
    "f1_score(preds['EmoClass'], preds['PRED_dumb'], average='macro'), accuracy_score(preds['EmoClass'], preds['PRED_dumb'])"
   ]
  },
  {
   "cell_type": "code",
   "execution_count": 1059,
   "id": "b2406023-26bd-4c35-bf1d-a857c03a0173",
   "metadata": {},
   "outputs": [
    {
     "data": {
      "text/plain": [
       "EmoClass\n",
       "N    7423\n",
       "H    6344\n",
       "A    5836\n",
       "S    2341\n",
       "C    1459\n",
       "U     987\n",
       "D     542\n",
       "F     326\n",
       "Name: count, dtype: int64"
      ]
     },
     "execution_count": 1059,
     "metadata": {},
     "output_type": "execute_result"
    }
   ],
   "source": [
    "preds['EmoClass'].value_counts()"
   ]
  },
  {
   "cell_type": "code",
   "execution_count": 1060,
   "id": "85d9741c-041a-41fd-a379-72b8718e12e7",
   "metadata": {},
   "outputs": [
    {
     "data": {
      "text/html": [
       "<div>\n",
       "<style scoped>\n",
       "    .dataframe tbody tr th:only-of-type {\n",
       "        vertical-align: middle;\n",
       "    }\n",
       "\n",
       "    .dataframe tbody tr th {\n",
       "        vertical-align: top;\n",
       "    }\n",
       "\n",
       "    .dataframe thead th {\n",
       "        text-align: right;\n",
       "    }\n",
       "</style>\n",
       "<table border=\"1\" class=\"dataframe\">\n",
       "  <thead>\n",
       "    <tr style=\"text-align: right;\">\n",
       "      <th></th>\n",
       "      <th>Filename</th>\n",
       "      <th>Prediction</th>\n",
       "      <th>FileName</th>\n",
       "      <th>EmoClass</th>\n",
       "      <th>Gender</th>\n",
       "      <th>SpkrID</th>\n",
       "      <th>PRED_dumb</th>\n",
       "    </tr>\n",
       "  </thead>\n",
       "  <tbody>\n",
       "    <tr>\n",
       "      <th>0</th>\n",
       "      <td>MSP-PODCAST_0002_0033.wav</td>\n",
       "      <td>U</td>\n",
       "      <td>MSP-PODCAST_0002_0033.wav</td>\n",
       "      <td>N</td>\n",
       "      <td>Female</td>\n",
       "      <td>127</td>\n",
       "      <td>N</td>\n",
       "    </tr>\n",
       "    <tr>\n",
       "      <th>1</th>\n",
       "      <td>MSP-PODCAST_0002_0039.wav</td>\n",
       "      <td>N</td>\n",
       "      <td>MSP-PODCAST_0002_0039.wav</td>\n",
       "      <td>N</td>\n",
       "      <td>Female</td>\n",
       "      <td>127</td>\n",
       "      <td>N</td>\n",
       "    </tr>\n",
       "  </tbody>\n",
       "</table>\n",
       "</div>"
      ],
      "text/plain": [
       "                    Filename Prediction                   FileName EmoClass  \\\n",
       "0  MSP-PODCAST_0002_0033.wav          U  MSP-PODCAST_0002_0033.wav        N   \n",
       "1  MSP-PODCAST_0002_0039.wav          N  MSP-PODCAST_0002_0039.wav        N   \n",
       "\n",
       "   Gender  SpkrID PRED_dumb  \n",
       "0  Female     127         N  \n",
       "1  Female     127         N  "
      ]
     },
     "execution_count": 1060,
     "metadata": {},
     "output_type": "execute_result"
    }
   ],
   "source": [
    "preds.head(2)"
   ]
  },
  {
   "cell_type": "code",
   "execution_count": 1061,
   "id": "6a50f0e8-da6b-4ed2-ad8d-f081c128cb9b",
   "metadata": {},
   "outputs": [
    {
     "data": {
      "text/plain": [
       "0.3574676354265135"
      ]
     },
     "execution_count": 1061,
     "metadata": {},
     "output_type": "execute_result"
    }
   ],
   "source": [
    "f1_score(preds[preds['Gender']=='Female']['EmoClass'], preds[preds['Gender']=='Female']['Prediction'], average='macro')"
   ]
  },
  {
   "cell_type": "code",
   "execution_count": 1062,
   "id": "2b2021da-895b-4780-ae73-4a8cc13dfe2c",
   "metadata": {},
   "outputs": [
    {
     "data": {
      "text/plain": [
       "0.4112211056723223"
      ]
     },
     "execution_count": 1062,
     "metadata": {},
     "output_type": "execute_result"
    }
   ],
   "source": [
    "f1_score(preds[preds['Gender']=='Male']['EmoClass'], preds[preds['Gender']=='Male']['Prediction'], average='macro')"
   ]
  },
  {
   "cell_type": "code",
   "execution_count": 1063,
   "id": "f899dc67-4135-4fea-98ed-8de8dce0823c",
   "metadata": {},
   "outputs": [
    {
     "data": {
      "text/plain": [
       "0.4696783265951837"
      ]
     },
     "execution_count": 1063,
     "metadata": {},
     "output_type": "execute_result"
    }
   ],
   "source": [
    "accuracy_score(preds[preds['Gender']=='Female']['EmoClass'], preds[preds['Gender']=='Female']['Prediction'])"
   ]
  },
  {
   "cell_type": "code",
   "execution_count": 902,
   "id": "084d8c58-046d-4590-ac05-0f9cf97f6dfb",
   "metadata": {},
   "outputs": [
    {
     "data": {
      "text/plain": [
       "0.5564121037463977"
      ]
     },
     "execution_count": 902,
     "metadata": {},
     "output_type": "execute_result"
    }
   ],
   "source": [
    "accuracy_score(preds[preds['Gender']=='Male']['EmoClass'], preds[preds['Gender']=='Male']['Prediction'])"
   ]
  },
  {
   "cell_type": "code",
   "execution_count": 903,
   "id": "f03c7ac6-8acb-4764-b8ad-65e34477f9a3",
   "metadata": {
    "scrolled": true
   },
   "outputs": [
    {
     "name": "stdout",
     "output_type": "stream",
     "text": [
      "Emotion N acc = 0.3250707261215142\n",
      "Emotion F acc = 0.13803680981595093\n",
      "Emotion H acc = 0.6765447667087011\n",
      "Emotion D acc = 0.3191881918819188\n",
      "Emotion C acc = 0.29472241261137766\n",
      "Emotion S acc = 0.5442118752669799\n",
      "Emotion U acc = 0.42451874366767983\n",
      "Emotion A acc = 0.6459904043865662\n"
     ]
    }
   ],
   "source": [
    "for e in preds['EmoClass'].unique():\n",
    "    acc = accuracy_score(preds[preds['EmoClass']==e]['EmoClass'], preds[preds['EmoClass']==e]['Prediction'])\n",
    "    print(f'Emotion {e} acc = {acc}')"
   ]
  },
  {
   "cell_type": "code",
   "execution_count": 725,
   "id": "bf73e724-d25a-41bb-89b6-49f8aea045e7",
   "metadata": {},
   "outputs": [
    {
     "data": {
      "text/html": [
       "<div>\n",
       "<style scoped>\n",
       "    .dataframe tbody tr th:only-of-type {\n",
       "        vertical-align: middle;\n",
       "    }\n",
       "\n",
       "    .dataframe tbody tr th {\n",
       "        vertical-align: top;\n",
       "    }\n",
       "\n",
       "    .dataframe thead th {\n",
       "        text-align: right;\n",
       "    }\n",
       "</style>\n",
       "<table border=\"1\" class=\"dataframe\">\n",
       "  <thead>\n",
       "    <tr style=\"text-align: right;\">\n",
       "      <th></th>\n",
       "      <th>SpkrID</th>\n",
       "      <th>Gender</th>\n",
       "    </tr>\n",
       "  </thead>\n",
       "  <tbody>\n",
       "    <tr>\n",
       "      <th>17</th>\n",
       "      <td>210</td>\n",
       "      <td>3400</td>\n",
       "    </tr>\n",
       "    <tr>\n",
       "      <th>5</th>\n",
       "      <td>97</td>\n",
       "      <td>1371</td>\n",
       "    </tr>\n",
       "    <tr>\n",
       "      <th>610</th>\n",
       "      <td>2789</td>\n",
       "      <td>1135</td>\n",
       "    </tr>\n",
       "    <tr>\n",
       "      <th>4</th>\n",
       "      <td>54</td>\n",
       "      <td>444</td>\n",
       "    </tr>\n",
       "    <tr>\n",
       "      <th>281</th>\n",
       "      <td>2027</td>\n",
       "      <td>390</td>\n",
       "    </tr>\n",
       "    <tr>\n",
       "      <th>611</th>\n",
       "      <td>2794</td>\n",
       "      <td>353</td>\n",
       "    </tr>\n",
       "    <tr>\n",
       "      <th>623</th>\n",
       "      <td>2951</td>\n",
       "      <td>347</td>\n",
       "    </tr>\n",
       "    <tr>\n",
       "      <th>15</th>\n",
       "      <td>169</td>\n",
       "      <td>347</td>\n",
       "    </tr>\n",
       "    <tr>\n",
       "      <th>0</th>\n",
       "      <td>26</td>\n",
       "      <td>312</td>\n",
       "    </tr>\n",
       "    <tr>\n",
       "      <th>13</th>\n",
       "      <td>149</td>\n",
       "      <td>296</td>\n",
       "    </tr>\n",
       "  </tbody>\n",
       "</table>\n",
       "</div>"
      ],
      "text/plain": [
       "     SpkrID  Gender\n",
       "17      210    3400\n",
       "5        97    1371\n",
       "610    2789    1135\n",
       "4        54     444\n",
       "281    2027     390\n",
       "611    2794     353\n",
       "623    2951     347\n",
       "15      169     347\n",
       "0        26     312\n",
       "13      149     296"
      ]
     },
     "execution_count": 725,
     "metadata": {},
     "output_type": "execute_result"
    }
   ],
   "source": [
    "preds.groupby('SpkrID').agg({'Gender': 'count'}).reset_index().sort_values(by='Gender', ascending= False).head(10)"
   ]
  },
  {
   "cell_type": "code",
   "execution_count": 221,
   "id": "75e71014-e9fb-4a5e-a923-a3d1f7239fc8",
   "metadata": {},
   "outputs": [],
   "source": [
    "top10_volumetry_spks = preds.groupby('SpkrID').agg({'Gender': 'count'}).reset_index().sort_values(by='Gender', ascending= False).head(10).SpkrID"
   ]
  },
  {
   "cell_type": "code",
   "execution_count": 222,
   "id": "05fbe2d4-0a78-406f-809d-a2d3238b2704",
   "metadata": {},
   "outputs": [
    {
     "name": "stdout",
     "output_type": "stream",
     "text": [
      "Spk 210 (Gender = Female) has emotions = ['F' 'S' 'N' 'D' 'C' 'A' 'U' 'H'] with acc = 0.2826470588235294 f1-macro = 0.21323255971597066\n",
      "Spk 97 (Gender = Male) has emotions = ['H' 'C' 'N' 'D' 'U' 'A' 'F' 'S'] with acc = 0.45295404814004375 f1-macro = 0.3033985939968499\n",
      "Spk 2789 (Gender = Male) has emotions = ['C' 'A' 'H' 'N' 'S' 'U' 'D'] with acc = 0.8449339207048459 f1-macro = 0.2679964191812114\n",
      "Spk 54 (Gender = Male) has emotions = ['H' 'N' 'D' 'C' 'A' 'F' 'U'] with acc = 0.4774774774774775 f1-macro = 0.2396382313095639\n",
      "Spk 2027 (Gender = Male) has emotions = ['A' 'C' 'N' 'H' 'S' 'U' 'D'] with acc = 0.7 f1-macro = 0.28519261672720503\n",
      "Spk 2794 (Gender = Male) has emotions = ['H' 'S' 'N' 'A' 'U'] with acc = 0.6968838526912181 f1-macro = 0.35956244143942767\n",
      "Spk 2951 (Gender = Male) has emotions = ['H' 'N' 'A' 'S' 'C' 'U'] with acc = 0.8097982708933718 f1-macro = 0.4137796636424523\n",
      "Spk 169 (Gender = Male) has emotions = ['H' 'N' 'C' 'A' 'U' 'S' 'D' 'F'] with acc = 0.34870317002881845 f1-macro = 0.24946990849306314\n",
      "Spk 26 (Gender = Female) has emotions = ['H' 'N' 'S' 'D' 'C' 'U' 'A' 'F'] with acc = 0.47435897435897434 f1-macro = 0.3689068588486384\n",
      "Spk 149 (Gender = Female) has emotions = ['N' 'D' 'A' 'S' 'F' 'H' 'C' 'U'] with acc = 0.34797297297297297 f1-macro = 0.30115105324163627\n"
     ]
    }
   ],
   "source": [
    "for spk in top10_volumetry_spks:\n",
    "    emotions_spk = preds[preds['SpkrID']==spk]['EmoClass'].unique()\n",
    "    gender = preds[preds['SpkrID']==spk]['Gender'].values[0]\n",
    "    acc = accuracy_score(preds[preds['SpkrID']==spk]['EmoClass'], preds[preds['SpkrID']==spk]['Prediction'])\n",
    "    f1_ = f1_score(preds[preds['SpkrID']==spk]['EmoClass'], preds[preds['SpkrID']==spk]['Prediction'], average='macro')\n",
    "    print(f'Spk {spk} (Gender = {gender}) has emotions = {emotions_spk} with acc = {acc} f1-macro = {f1_}')"
   ]
  },
  {
   "cell_type": "code",
   "execution_count": 223,
   "id": "cc7101b0-d7e8-46b1-b153-f7361e0a9ee9",
   "metadata": {},
   "outputs": [
    {
     "name": "stdout",
     "output_type": "stream",
     "text": [
      "SPK 210 (gender = Female) in emotion F acc = 0.045454545454545456\n",
      "SPK 210 (gender = Female) in emotion S acc = 0.4881889763779528\n",
      "SPK 210 (gender = Female) in emotion N acc = 0.15\n",
      "SPK 210 (gender = Female) in emotion D acc = 0.38372093023255816\n",
      "SPK 210 (gender = Female) in emotion C acc = 0.20040485829959515\n",
      "SPK 210 (gender = Female) in emotion A acc = 0.4713313896987366\n",
      "SPK 210 (gender = Female) in emotion U acc = 0.2073170731707317\n",
      "SPK 210 (gender = Female) in emotion H acc = 0.26216216216216215\n",
      "SPK 97 (gender = Male) in emotion H acc = 0.6927272727272727\n",
      "SPK 97 (gender = Male) in emotion C acc = 0.3418803418803419\n",
      "SPK 97 (gender = Male) in emotion N acc = 0.27808988764044945\n",
      "SPK 97 (gender = Male) in emotion D acc = 0.29333333333333333\n",
      "SPK 97 (gender = Male) in emotion U acc = 0.3237410071942446\n",
      "SPK 97 (gender = Male) in emotion A acc = 0.3626373626373626\n",
      "SPK 97 (gender = Male) in emotion F acc = 0.0\n",
      "SPK 97 (gender = Male) in emotion S acc = 0.14285714285714285\n",
      "SPK 2789 (gender = Male) in emotion C acc = 0.09090909090909091\n",
      "SPK 2789 (gender = Male) in emotion A acc = 0.9576719576719577\n",
      "SPK 2789 (gender = Male) in emotion H acc = 0.4936708860759494\n",
      "SPK 2789 (gender = Male) in emotion N acc = 0.09230769230769231\n",
      "SPK 2789 (gender = Male) in emotion S acc = 0.2916666666666667\n",
      "SPK 2789 (gender = Male) in emotion U acc = 0.1\n",
      "SPK 2789 (gender = Male) in emotion D acc = 0.0\n",
      "SPK 54 (gender = Male) in emotion H acc = 0.5714285714285714\n",
      "SPK 54 (gender = Male) in emotion N acc = 0.10975609756097561\n",
      "SPK 54 (gender = Male) in emotion D acc = 0.20967741935483872\n",
      "SPK 54 (gender = Male) in emotion C acc = 0.1746031746031746\n",
      "SPK 54 (gender = Male) in emotion A acc = 0.8076923076923077\n",
      "SPK 54 (gender = Male) in emotion F acc = 0.0\n",
      "SPK 54 (gender = Male) in emotion U acc = 0.42857142857142855\n",
      "SPK 2027 (gender = Male) in emotion A acc = 0.9580152671755725\n",
      "SPK 2027 (gender = Male) in emotion C acc = 0.0\n",
      "SPK 2027 (gender = Male) in emotion N acc = 0.1\n",
      "SPK 2027 (gender = Male) in emotion H acc = 0.48148148148148145\n",
      "SPK 2027 (gender = Male) in emotion S acc = 0.2\n",
      "SPK 2027 (gender = Male) in emotion U acc = 0.1111111111111111\n",
      "SPK 2027 (gender = Male) in emotion D acc = 0.0\n",
      "SPK 2794 (gender = Male) in emotion H acc = 0.8513513513513513\n",
      "SPK 2794 (gender = Male) in emotion S acc = 0.8181818181818182\n",
      "SPK 2794 (gender = Male) in emotion N acc = 0.37894736842105264\n",
      "SPK 2794 (gender = Male) in emotion A acc = 0.2222222222222222\n",
      "SPK 2794 (gender = Male) in emotion U acc = 0.5\n",
      "SPK 2951 (gender = Male) in emotion H acc = 0.7792207792207793\n",
      "SPK 2951 (gender = Male) in emotion N acc = 0.3611111111111111\n",
      "SPK 2951 (gender = Male) in emotion A acc = 0.9439252336448598\n",
      "SPK 2951 (gender = Male) in emotion S acc = 0.625\n",
      "SPK 2951 (gender = Male) in emotion C acc = 0.0\n",
      "SPK 2951 (gender = Male) in emotion U acc = 0.25\n",
      "SPK 169 (gender = Male) in emotion H acc = 0.28431372549019607\n",
      "SPK 169 (gender = Male) in emotion N acc = 0.46616541353383456\n",
      "SPK 169 (gender = Male) in emotion C acc = 0.5384615384615384\n",
      "SPK 169 (gender = Male) in emotion A acc = 0.3157894736842105\n",
      "SPK 169 (gender = Male) in emotion U acc = 0.12121212121212122\n",
      "SPK 169 (gender = Male) in emotion S acc = 0.0\n",
      "SPK 169 (gender = Male) in emotion D acc = 0.26666666666666666\n",
      "SPK 169 (gender = Male) in emotion F acc = 0.16666666666666666\n",
      "SPK 26 (gender = Female) in emotion H acc = 0.896551724137931\n",
      "SPK 26 (gender = Female) in emotion N acc = 0.3235294117647059\n",
      "SPK 26 (gender = Female) in emotion S acc = 0.4166666666666667\n",
      "SPK 26 (gender = Female) in emotion D acc = 0.21621621621621623\n",
      "SPK 26 (gender = Female) in emotion C acc = 0.3611111111111111\n",
      "SPK 26 (gender = Female) in emotion U acc = 0.5\n",
      "SPK 26 (gender = Female) in emotion A acc = 0.5789473684210527\n",
      "SPK 26 (gender = Female) in emotion F acc = 0.0\n",
      "SPK 149 (gender = Female) in emotion N acc = 0.2709677419354839\n",
      "SPK 149 (gender = Female) in emotion D acc = 0.375\n",
      "SPK 149 (gender = Female) in emotion A acc = 0.45454545454545453\n",
      "SPK 149 (gender = Female) in emotion S acc = 0.4594594594594595\n",
      "SPK 149 (gender = Female) in emotion F acc = 0.2\n",
      "SPK 149 (gender = Female) in emotion H acc = 0.65625\n",
      "SPK 149 (gender = Female) in emotion C acc = 0.3684210526315789\n",
      "SPK 149 (gender = Female) in emotion U acc = 0.07692307692307693\n"
     ]
    }
   ],
   "source": [
    "for spk in top10_volumetry_spks:\n",
    "    df_filt = preds[preds['SpkrID']==spk]\n",
    "    gender = df_filt.Gender.values[0]\n",
    "    for e in df_filt['EmoClass'].unique():\n",
    "        acc = accuracy_score(df_filt[df_filt['EmoClass']==e]['EmoClass'], df_filt[df_filt['EmoClass']==e]['Prediction'])\n",
    "        print(f'SPK {spk} (gender = {gender}) in emotion {e} acc = {acc}')"
   ]
  },
  {
   "cell_type": "markdown",
   "id": "d050bd83-f890-4b04-b178-4f5a2c119c2c",
   "metadata": {},
   "source": [
    "# Dimensional"
   ]
  },
  {
   "cell_type": "code",
   "execution_count": 26,
   "id": "14344c0d-0250-4a39-a97c-26ae088cfd3b",
   "metadata": {},
   "outputs": [
    {
     "name": "stdout",
     "output_type": "stream",
     "text": [
      "dev.csv  test3.csv\n"
     ]
    }
   ],
   "source": [
    "!ls ../benchmark/model/dim_ser/7/results"
   ]
  },
  {
   "cell_type": "code",
   "execution_count": 27,
   "id": "d71ba360-1a4d-4c0e-8ea3-ef86876b75a7",
   "metadata": {},
   "outputs": [
    {
     "data": {
      "text/html": [
       "<div>\n",
       "<style scoped>\n",
       "    .dataframe tbody tr th:only-of-type {\n",
       "        vertical-align: middle;\n",
       "    }\n",
       "\n",
       "    .dataframe tbody tr th {\n",
       "        vertical-align: top;\n",
       "    }\n",
       "\n",
       "    .dataframe thead th {\n",
       "        text-align: right;\n",
       "    }\n",
       "</style>\n",
       "<table border=\"1\" class=\"dataframe\">\n",
       "  <thead>\n",
       "    <tr style=\"text-align: right;\">\n",
       "      <th></th>\n",
       "      <th>FileName</th>\n",
       "      <th>EmoAct</th>\n",
       "      <th>EmoVal</th>\n",
       "      <th>EmoDom</th>\n",
       "    </tr>\n",
       "  </thead>\n",
       "  <tbody>\n",
       "    <tr>\n",
       "      <th>0</th>\n",
       "      <td>MSP-PODCAST_0002_0033.wav</td>\n",
       "      <td>4.110488</td>\n",
       "      <td>3.377474</td>\n",
       "      <td>4.107728</td>\n",
       "    </tr>\n",
       "    <tr>\n",
       "      <th>1</th>\n",
       "      <td>MSP-PODCAST_0002_0039.wav</td>\n",
       "      <td>4.309968</td>\n",
       "      <td>3.705411</td>\n",
       "      <td>4.469491</td>\n",
       "    </tr>\n",
       "    <tr>\n",
       "      <th>2</th>\n",
       "      <td>MSP-PODCAST_0002_0051.wav</td>\n",
       "      <td>3.757301</td>\n",
       "      <td>4.351225</td>\n",
       "      <td>4.176206</td>\n",
       "    </tr>\n",
       "    <tr>\n",
       "      <th>3</th>\n",
       "      <td>MSP-PODCAST_0002_0059.wav</td>\n",
       "      <td>4.127300</td>\n",
       "      <td>3.831695</td>\n",
       "      <td>4.195695</td>\n",
       "    </tr>\n",
       "    <tr>\n",
       "      <th>4</th>\n",
       "      <td>MSP-PODCAST_0002_0061.wav</td>\n",
       "      <td>4.053204</td>\n",
       "      <td>3.987261</td>\n",
       "      <td>4.183712</td>\n",
       "    </tr>\n",
       "  </tbody>\n",
       "</table>\n",
       "</div>"
      ],
      "text/plain": [
       "                    FileName    EmoAct    EmoVal    EmoDom\n",
       "0  MSP-PODCAST_0002_0033.wav  4.110488  3.377474  4.107728\n",
       "1  MSP-PODCAST_0002_0039.wav  4.309968  3.705411  4.469491\n",
       "2  MSP-PODCAST_0002_0051.wav  3.757301  4.351225  4.176206\n",
       "3  MSP-PODCAST_0002_0059.wav  4.127300  3.831695  4.195695\n",
       "4  MSP-PODCAST_0002_0061.wav  4.053204  3.987261  4.183712"
      ]
     },
     "execution_count": 27,
     "metadata": {},
     "output_type": "execute_result"
    }
   ],
   "source": [
    "preds = pd.read_csv('../benchmark/model/dim_ser/7/results/dev.csv')\n",
    "preds.head()"
   ]
  },
  {
   "cell_type": "code",
   "execution_count": 28,
   "id": "23fd2162-6c5e-4f1d-aefb-289a838495c7",
   "metadata": {},
   "outputs": [
    {
     "data": {
      "text/html": [
       "<div>\n",
       "<style scoped>\n",
       "    .dataframe tbody tr th:only-of-type {\n",
       "        vertical-align: middle;\n",
       "    }\n",
       "\n",
       "    .dataframe tbody tr th {\n",
       "        vertical-align: top;\n",
       "    }\n",
       "\n",
       "    .dataframe thead th {\n",
       "        text-align: right;\n",
       "    }\n",
       "</style>\n",
       "<table border=\"1\" class=\"dataframe\">\n",
       "  <thead>\n",
       "    <tr style=\"text-align: right;\">\n",
       "      <th></th>\n",
       "      <th>FileName</th>\n",
       "      <th>EmoClass</th>\n",
       "      <th>EmoAct</th>\n",
       "      <th>EmoVal</th>\n",
       "      <th>EmoDom</th>\n",
       "      <th>SpkrID</th>\n",
       "      <th>Gender</th>\n",
       "      <th>Split_Set</th>\n",
       "    </tr>\n",
       "  </thead>\n",
       "  <tbody>\n",
       "    <tr>\n",
       "      <th>0</th>\n",
       "      <td>MSP-PODCAST_0002_0033.wav</td>\n",
       "      <td>N</td>\n",
       "      <td>4.8</td>\n",
       "      <td>4.2</td>\n",
       "      <td>5.4</td>\n",
       "      <td>127</td>\n",
       "      <td>Female</td>\n",
       "      <td>Development</td>\n",
       "    </tr>\n",
       "    <tr>\n",
       "      <th>1</th>\n",
       "      <td>MSP-PODCAST_0002_0039.wav</td>\n",
       "      <td>N</td>\n",
       "      <td>4.0</td>\n",
       "      <td>4.2</td>\n",
       "      <td>4.2</td>\n",
       "      <td>127</td>\n",
       "      <td>Female</td>\n",
       "      <td>Development</td>\n",
       "    </tr>\n",
       "  </tbody>\n",
       "</table>\n",
       "</div>"
      ],
      "text/plain": [
       "                    FileName EmoClass  EmoAct  EmoVal  EmoDom  SpkrID  Gender  \\\n",
       "0  MSP-PODCAST_0002_0033.wav        N     4.8     4.2     5.4     127  Female   \n",
       "1  MSP-PODCAST_0002_0039.wav        N     4.0     4.2     4.2     127  Female   \n",
       "\n",
       "     Split_Set  \n",
       "0  Development  \n",
       "1  Development  "
      ]
     },
     "execution_count": 28,
     "metadata": {},
     "output_type": "execute_result"
    }
   ],
   "source": [
    "df = pd.read_csv('/workspace/lucas.ueda/interspeech_ser/data/Labels/labels_consensus.csv')\n",
    "df.head(2)"
   ]
  },
  {
   "cell_type": "code",
   "execution_count": 47,
   "id": "58a3082d-d674-4645-8afd-261746c190f8",
   "metadata": {},
   "outputs": [],
   "source": [
    "preds = preds.merge(df[['FileName','EmoAct','EmoVal','EmoDom']], how='left', on = 'FileName')"
   ]
  },
  {
   "cell_type": "code",
   "execution_count": 49,
   "id": "bf318819-5944-4d28-b71f-ffd7751540f9",
   "metadata": {},
   "outputs": [
    {
     "data": {
      "text/html": [
       "<div>\n",
       "<style scoped>\n",
       "    .dataframe tbody tr th:only-of-type {\n",
       "        vertical-align: middle;\n",
       "    }\n",
       "\n",
       "    .dataframe tbody tr th {\n",
       "        vertical-align: top;\n",
       "    }\n",
       "\n",
       "    .dataframe thead th {\n",
       "        text-align: right;\n",
       "    }\n",
       "</style>\n",
       "<table border=\"1\" class=\"dataframe\">\n",
       "  <thead>\n",
       "    <tr style=\"text-align: right;\">\n",
       "      <th></th>\n",
       "      <th>FileName</th>\n",
       "      <th>EmoAct_x</th>\n",
       "      <th>EmoVal_x</th>\n",
       "      <th>EmoDom_x</th>\n",
       "      <th>EmoAct_y</th>\n",
       "      <th>EmoVal_y</th>\n",
       "      <th>EmoDom_y</th>\n",
       "    </tr>\n",
       "  </thead>\n",
       "  <tbody>\n",
       "    <tr>\n",
       "      <th>0</th>\n",
       "      <td>MSP-PODCAST_0002_0033.wav</td>\n",
       "      <td>4.110488</td>\n",
       "      <td>3.377474</td>\n",
       "      <td>4.107728</td>\n",
       "      <td>4.8</td>\n",
       "      <td>4.2</td>\n",
       "      <td>5.4</td>\n",
       "    </tr>\n",
       "    <tr>\n",
       "      <th>1</th>\n",
       "      <td>MSP-PODCAST_0002_0039.wav</td>\n",
       "      <td>4.309968</td>\n",
       "      <td>3.705411</td>\n",
       "      <td>4.469491</td>\n",
       "      <td>4.0</td>\n",
       "      <td>4.2</td>\n",
       "      <td>4.2</td>\n",
       "    </tr>\n",
       "  </tbody>\n",
       "</table>\n",
       "</div>"
      ],
      "text/plain": [
       "                    FileName  EmoAct_x  EmoVal_x  EmoDom_x  EmoAct_y  \\\n",
       "0  MSP-PODCAST_0002_0033.wav  4.110488  3.377474  4.107728       4.8   \n",
       "1  MSP-PODCAST_0002_0039.wav  4.309968  3.705411  4.469491       4.0   \n",
       "\n",
       "   EmoVal_y  EmoDom_y  \n",
       "0       4.2       5.4  \n",
       "1       4.2       4.2  "
      ]
     },
     "execution_count": 49,
     "metadata": {},
     "output_type": "execute_result"
    }
   ],
   "source": [
    "preds.head(2)"
   ]
  },
  {
   "cell_type": "code",
   "execution_count": 48,
   "id": "44fd8c93-f07e-4987-96cf-1fd91cb493b2",
   "metadata": {},
   "outputs": [],
   "source": [
    "import torch\n",
    "def CCC_loss(pred, lab, m_lab=None, v_lab=None, is_numpy=True):\n",
    "    \"\"\"\n",
    "    pred: (N, 3)\n",
    "    lab: (N, 3)\n",
    "    \"\"\"\n",
    "    if is_numpy:\n",
    "        pred = torch.Tensor(pred).float()\n",
    "        lab = torch.Tensor(lab).float()\n",
    "    \n",
    "    m_pred = torch.mean(pred, 0, keepdim=True)\n",
    "    m_lab = torch.mean(lab, 0, keepdim=True)\n",
    "\n",
    "    d_pred = pred - m_pred\n",
    "    d_lab = lab - m_lab\n",
    "\n",
    "    v_pred = torch.var(pred, 0, unbiased=False)\n",
    "    v_lab = torch.var(lab, 0, unbiased=False)\n",
    "\n",
    "    corr = torch.sum(d_pred * d_lab, 0) / (torch.sqrt(torch.sum(d_pred ** 2, 0)) * torch.sqrt(torch.sum(d_lab ** 2, 0)))\n",
    "\n",
    "    s_pred = torch.std(pred, 0, unbiased=False)\n",
    "    s_lab = torch.std(lab, 0, unbiased=False)\n",
    "\n",
    "    ccc = (2*corr*s_pred*s_lab) / (v_pred + v_lab + (m_pred[0]-m_lab[0])**2)    \n",
    "    return ccc"
   ]
  },
  {
   "cell_type": "code",
   "execution_count": 54,
   "id": "6c0a954f-9e58-45bb-a198-4c35c6d370da",
   "metadata": {},
   "outputs": [
    {
     "data": {
      "text/plain": [
       "tensor([0.6949, 0.7050, 0.6312])"
      ]
     },
     "execution_count": 54,
     "metadata": {},
     "output_type": "execute_result"
    }
   ],
   "source": [
    "CCC_loss(preds[['EmoAct_x','EmoVal_x','EmoDom_x']].values,preds[['EmoAct_y','EmoVal_y','EmoDom_y']].values)"
   ]
  },
  {
   "cell_type": "code",
   "execution_count": 55,
   "id": "1afe25e1-81c1-44dc-ae5e-bb45f7b0253b",
   "metadata": {},
   "outputs": [],
   "source": [
    "preds['EmoAct_d'] = preds['EmoAct_y'].mean() \n",
    "preds['EmoVal_d'] = preds['EmoVal_y'].mean() \n",
    "preds['EmoDom_d'] = preds['EmoDom_y'].mean() "
   ]
  },
  {
   "cell_type": "code",
   "execution_count": 56,
   "id": "39b76776-f62a-48a9-a42e-4e7c828d9a6c",
   "metadata": {},
   "outputs": [
    {
     "data": {
      "text/plain": [
       "tensor([-0., -0., -0.])"
      ]
     },
     "execution_count": 56,
     "metadata": {},
     "output_type": "execute_result"
    }
   ],
   "source": [
    "CCC_loss(preds[['EmoAct_d','EmoVal_d','EmoDom_d']].values,preds[['EmoAct_y','EmoVal_y','EmoDom_y']].values)"
   ]
  },
  {
   "cell_type": "code",
   "execution_count": null,
   "id": "e4940eb7-460e-410d-907b-a8081584ef5c",
   "metadata": {},
   "outputs": [],
   "source": []
  }
 ],
 "metadata": {
  "kernelspec": {
   "display_name": "Python 3 (ipykernel)",
   "language": "python",
   "name": "python3"
  },
  "language_info": {
   "codemirror_mode": {
    "name": "ipython",
    "version": 3
   },
   "file_extension": ".py",
   "mimetype": "text/x-python",
   "name": "python",
   "nbconvert_exporter": "python",
   "pygments_lexer": "ipython3",
   "version": "3.10.8"
  }
 },
 "nbformat": 4,
 "nbformat_minor": 5
}
