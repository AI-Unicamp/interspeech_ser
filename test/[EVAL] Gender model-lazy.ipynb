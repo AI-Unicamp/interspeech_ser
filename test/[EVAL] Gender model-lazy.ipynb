{
 "cells": [
  {
   "cell_type": "code",
   "execution_count": 2,
   "id": "f0e3c1e5-7b1b-43ff-bf64-2819a4fbf48a",
   "metadata": {},
   "outputs": [],
   "source": [
    "import pandas as pd\n",
    "import torch\n",
    "from torch.utils.data import Dataset, DataLoader\n",
    "from transformers import RobertaTokenizer, RobertaForSequenceClassification, AdamW\n",
    "from sklearn.model_selection import train_test_split\n",
    "from sklearn.metrics import accuracy_score, f1_score\n",
    "import argparse\n",
    "import sys\n",
    "import os\n",
    "import random\n",
    "import librosa\n",
    "import numpy as np\n",
    "sys.path.append('../')\n",
    "from src.information_encoder.samplers import PerfectBatchSampler\n",
    "from src.information_encoder.losses import AngleProtoLoss\n",
    "from benchmark import utils\n",
    "import logging\n",
    "import time\n",
    "from tqdm import tqdm\n",
    "from src.losses import loss\n",
    "from torch.utils.data import WeightedRandomSampler\n",
    "from transformers import AutoModel\n",
    "from torch import nn\n",
    "import torch.nn.functional as F\n",
    "from benchmark.utils.dataset.dataset import fixed_timbre_perturb\n",
    "import torchaudio.transforms as T\n",
    "\n",
    "import math\n",
    "from torch.optim.lr_scheduler import _LRScheduler"
   ]
  },
  {
   "cell_type": "code",
   "execution_count": 21,
   "id": "e678fb40-0fd6-49c7-a931-7258f5dff38d",
   "metadata": {},
   "outputs": [],
   "source": [
    "class GenderRepresentationModel(nn.Module):\n",
    "    def __init__(self, input_dim=80, hidden_dim=512, num_categories=8, num_attention_heads=4):\n",
    "        super().__init__()\n",
    "\n",
    "        # Initial dropout for input features\n",
    "        self.wav_dropout = nn.Dropout(0.5)\n",
    "\n",
    "        # Linear projection to hidden dimension\n",
    "        self.wav_proj = nn.Linear(input_dim, hidden_dim)\n",
    "\n",
    "        # Multi-head attention layer\n",
    "        self.multihead_attn = nn.MultiheadAttention(\n",
    "            embed_dim=hidden_dim,\n",
    "            num_heads=num_attention_heads,\n",
    "            dropout=0.5,\n",
    "            batch_first=True\n",
    "        )\n",
    "        self.attn_norm = nn.LayerNorm(hidden_dim)\n",
    "\n",
    "        # Convolutional layer\n",
    "        self.conv1d = nn.Conv1d(in_channels=hidden_dim, out_channels=hidden_dim, kernel_size=3, padding=1)\n",
    "        self.conv_norm = nn.LayerNorm(hidden_dim)\n",
    "\n",
    "        # Attention pooling layer\n",
    "        self.attn_pooling = nn.Linear(hidden_dim, 1)\n",
    "\n",
    "    def forward(self, wavlm_output):\n",
    "        # Apply initial dropout to inputs\n",
    "        wav_x = self.wav_dropout(wavlm_output)\n",
    "\n",
    "        # Project to hidden dimension\n",
    "        wav_x = self.wav_proj(wav_x)\n",
    "\n",
    "        # Process with multi-head attention\n",
    "        attn_output, _ = self.multihead_attn(wav_x, wav_x, wav_x)\n",
    "        wav_x = self.attn_norm(attn_output + wav_x)  # Residual connection with layer norm\n",
    "\n",
    "        # Convolutional processing\n",
    "        wav_x = wav_x.transpose(1, 2)  # Change to (batch_size, hidden_dim, seq_len) for Conv1D\n",
    "        conv_x = self.conv1d(wav_x)\n",
    "        conv_x = self.conv_norm(conv_x.transpose(1, 2))  # Back to (batch_size, seq_len, hidden_dim) after LayerNorm\n",
    "\n",
    "        # Attention pooling\n",
    "        attn_weights = F.softmax(self.attn_pooling(conv_x), dim=1)  # Shape: (batch_size, seq_len, 1)\n",
    "        embeddings = torch.sum(conv_x * attn_weights, dim=1)  # Weighted sum over sequence length\n",
    "\n",
    "        return embeddings\n",
    "\n",
    "class BidirectionalReferenceEncoder(nn.Module):\n",
    "    \"\"\"NN module creating a fixed size prosody embedding from a spectrogram.\n",
    "\n",
    "    inputs: mel spectrograms [batch_size, num_spec_frames, num_mel]\n",
    "    outputs: [batch_size, embedding_dim]\n",
    "    \"\"\"\n",
    "\n",
    "    def __init__(self, num_mel, embedding_dim, use_nonlinear_proj = False):\n",
    "\n",
    "        super().__init__()\n",
    "        self.num_mel = num_mel\n",
    "        self.embedding_dim = embedding_dim\n",
    "        filters = [1] + [32, 32, 64, 64, 128, 128]\n",
    "        num_layers = len(filters) - 1\n",
    "        convs = [\n",
    "            nn.Conv2d(\n",
    "                in_channels=filters[i], out_channels=filters[i + 1], kernel_size=(3, 3), stride=(2, 2), padding=(1, 1)\n",
    "            )\n",
    "            for i in range(num_layers)\n",
    "        ]\n",
    "        self.convs = nn.ModuleList(convs)\n",
    "        self.bns = nn.ModuleList([nn.BatchNorm2d(num_features=filter_size) for filter_size in filters[1:]])\n",
    "\n",
    "        post_conv_height = self.calculate_post_conv_height(num_mel, 3, 2, 1, num_layers)\n",
    "        self.recurrence = nn.GRU(\n",
    "            input_size=filters[-1] * post_conv_height, hidden_size=embedding_dim//2, batch_first=True, bidirectional=True\n",
    "        )\n",
    "        self.dropout = nn.Dropout(p=0.5)\n",
    "    \n",
    "        self.use_nonlinear_proj = use_nonlinear_proj\n",
    "\n",
    "        if(self.use_nonlinear_proj):\n",
    "            self.proj = nn.Linear(embedding_dim, embedding_dim)\n",
    "            nn.init.xavier_normal_(self.proj.weight) # Good init for projection\n",
    "            # self.proj.bias.data.zero_() # Not random bias to \"move\" z\n",
    "\n",
    "    def forward(self, inputs):\n",
    "        batch_size = inputs.size(0)\n",
    "        # x = inputs.view(batch_size, 1, -1, self.num_mel)\n",
    "        x = inputs.unsqueeze(1)\n",
    "        # x: 4D tensor [batch_size, num_channels==1, num_frames, num_mel]\n",
    "        for conv, bn in zip(self.convs, self.bns):\n",
    "            x = conv(x)\n",
    "            x = bn(x)\n",
    "            x = F.relu(x)\n",
    "\n",
    "        x = x.transpose(1, 2)\n",
    "        # x: 4D tensor [batch_size, post_conv_width,\n",
    "        #               num_channels==128, post_conv_height]\n",
    "        post_conv_width = x.size(1)\n",
    "        x = x.contiguous().view(batch_size, post_conv_width, -1)\n",
    "        # x: 3D tensor [batch_size, post_conv_width,\n",
    "        #               num_channels*post_conv_height]\n",
    "\n",
    "        self.recurrence.flatten_parameters()\n",
    "        _, out = self.recurrence(x)\n",
    "        # out: 3D tensor [seq_len==2, batch_size, encoding_size=384]\n",
    "        out = torch.cat([out[0,:,:], out[1,:,:]], dim = 1)\n",
    "        # out: 2D tensor [batch_size, encoding_size = 384]\n",
    "\n",
    "        # print(out.shape)\n",
    "        if(self.use_nonlinear_proj):\n",
    "            out = torch.tanh(self.proj(out))\n",
    "            out = self.dropout(out)\n",
    "            \n",
    "        return out\n",
    "\n",
    "    @staticmethod\n",
    "    def calculate_post_conv_height(height, kernel_size, stride, pad, n_convs):\n",
    "        \"\"\"Height of spec after n convolutions with fixed kernel/stride/pad.\"\"\"\n",
    "        for _ in range(n_convs):\n",
    "            height = (height - kernel_size + 2 * pad) // stride + 1\n",
    "        return height"
   ]
  },
  {
   "cell_type": "code",
   "execution_count": 22,
   "id": "17f47b87-0e35-4f06-b324-d24a12cf4973",
   "metadata": {},
   "outputs": [],
   "source": [
    "class MultiLabelAudioDataset(Dataset):\n",
    "    def __init__(self, wav_files, audio_dir):\n",
    "        self.wav_paths = wav_files\n",
    "        # self.labels = labels\n",
    "        self.lazy_path = audio_dir\n",
    "        \n",
    "    def __len__(self):\n",
    "        return len(self.wav_paths)\n",
    "\n",
    "\n",
    "    def __getitem__(self, idx):\n",
    "        # label = self.labels[idx]\n",
    "        # feat = torch.load(feat_name)\n",
    "        utter = self.wav_paths[idx]\n",
    "        feat_name = os.path.join(self.lazy_path, self.wav_paths[idx].replace('.wav','.pt'))\n",
    "        feat = torch.load(feat_name, map_location='cpu')\n",
    "        return {\n",
    "            \"feat\": feat,\n",
    "            \"utter\": utter,  # Use float for BCEWithLogitsLoss\n",
    "        }"
   ]
  },
  {
   "cell_type": "code",
   "execution_count": 23,
   "id": "ef4c09a2-b989-470e-90db-194a05105c8d",
   "metadata": {},
   "outputs": [],
   "source": [
    "df = pd.read_csv(\"../benchmark/processed_labels.csv\")"
   ]
  },
  {
   "cell_type": "code",
   "execution_count": 24,
   "id": "2e872785-3506-4019-890b-22b67cbf3aa0",
   "metadata": {},
   "outputs": [
    {
     "data": {
      "text/html": [
       "<div>\n",
       "<style scoped>\n",
       "    .dataframe tbody tr th:only-of-type {\n",
       "        vertical-align: middle;\n",
       "    }\n",
       "\n",
       "    .dataframe tbody tr th {\n",
       "        vertical-align: top;\n",
       "    }\n",
       "\n",
       "    .dataframe thead th {\n",
       "        text-align: right;\n",
       "    }\n",
       "</style>\n",
       "<table border=\"1\" class=\"dataframe\">\n",
       "  <thead>\n",
       "    <tr style=\"text-align: right;\">\n",
       "      <th></th>\n",
       "      <th>FileName</th>\n",
       "      <th>Angry</th>\n",
       "      <th>Sad</th>\n",
       "      <th>Happy</th>\n",
       "      <th>Surprise</th>\n",
       "      <th>Fear</th>\n",
       "      <th>Disgust</th>\n",
       "      <th>Contempt</th>\n",
       "      <th>Neutral</th>\n",
       "      <th>Split_Set</th>\n",
       "    </tr>\n",
       "  </thead>\n",
       "  <tbody>\n",
       "    <tr>\n",
       "      <th>0</th>\n",
       "      <td>MSP-PODCAST_0002_0033.wav</td>\n",
       "      <td>0.0</td>\n",
       "      <td>0.0</td>\n",
       "      <td>0.0</td>\n",
       "      <td>0.0</td>\n",
       "      <td>0.0</td>\n",
       "      <td>0.0</td>\n",
       "      <td>0.0</td>\n",
       "      <td>1.0</td>\n",
       "      <td>Development</td>\n",
       "    </tr>\n",
       "    <tr>\n",
       "      <th>1</th>\n",
       "      <td>MSP-PODCAST_0002_0039.wav</td>\n",
       "      <td>0.0</td>\n",
       "      <td>0.0</td>\n",
       "      <td>0.0</td>\n",
       "      <td>0.0</td>\n",
       "      <td>0.0</td>\n",
       "      <td>0.0</td>\n",
       "      <td>0.0</td>\n",
       "      <td>1.0</td>\n",
       "      <td>Development</td>\n",
       "    </tr>\n",
       "  </tbody>\n",
       "</table>\n",
       "</div>"
      ],
      "text/plain": [
       "                    FileName  Angry  Sad  Happy  Surprise  Fear  Disgust  \\\n",
       "0  MSP-PODCAST_0002_0033.wav    0.0  0.0    0.0       0.0   0.0      0.0   \n",
       "1  MSP-PODCAST_0002_0039.wav    0.0  0.0    0.0       0.0   0.0      0.0   \n",
       "\n",
       "   Contempt  Neutral    Split_Set  \n",
       "0       0.0      1.0  Development  \n",
       "1       0.0      1.0  Development  "
      ]
     },
     "execution_count": 24,
     "metadata": {},
     "output_type": "execute_result"
    }
   ],
   "source": [
    "df_val = df[df['Split_Set'] == 'Development']\n",
    "df_val.head(2)"
   ]
  },
  {
   "cell_type": "code",
   "execution_count": 25,
   "id": "ae66d083-c396-4723-8d34-6a5382944e60",
   "metadata": {},
   "outputs": [],
   "source": [
    "dataset = MultiLabelAudioDataset(df_val.FileName.values.tolist(), '/workspace/lucas.ueda/interspeech_ser/data_tmp/wavlm_large')"
   ]
  },
  {
   "cell_type": "code",
   "execution_count": 26,
   "id": "b091bc5a-9b1e-41e2-81c5-6d2f89639b30",
   "metadata": {},
   "outputs": [
    {
     "data": {
      "text/plain": [
       "'MSP-PODCAST_0006_0017.wav'"
      ]
     },
     "execution_count": 26,
     "metadata": {},
     "output_type": "execute_result"
    }
   ],
   "source": [
    "dataset.wav_paths[4]"
   ]
  },
  {
   "cell_type": "code",
   "execution_count": 27,
   "id": "7baaf04e-3105-4136-bd36-e7f1858c372c",
   "metadata": {},
   "outputs": [
    {
     "data": {
      "text/plain": [
       "{'feat': tensor([[ 0.0104,  0.1546, -0.2043,  ..., -0.4211,  0.4074, -0.2074],\n",
       "         [-0.0618,  0.1313, -0.1846,  ..., -0.1376,  0.1368, -0.1451],\n",
       "         [-0.1910,  0.1318, -0.0410,  ..., -0.1359, -0.1206,  0.0122],\n",
       "         ...,\n",
       "         [-0.2868,  0.3348,  0.3625,  ...,  0.0288,  0.2623, -0.1730],\n",
       "         [-0.1333,  0.2430,  0.4265,  ...,  0.0717,  0.1680,  0.1287],\n",
       "         [-0.2690,  0.1238,  0.3299,  ..., -0.0193,  0.3853,  0.0598]]),\n",
       " 'utter': 'MSP-PODCAST_0002_0061.wav'}"
      ]
     },
     "execution_count": 27,
     "metadata": {},
     "output_type": "execute_result"
    }
   ],
   "source": [
    "dataset.__getitem__(3)"
   ]
  },
  {
   "cell_type": "code",
   "execution_count": 28,
   "id": "54e4876f-3454-4e1c-a202-ae26003e6e9f",
   "metadata": {},
   "outputs": [],
   "source": [
    "loader = DataLoader(dataset, batch_size=1, shuffle=False)\n"
   ]
  },
  {
   "cell_type": "code",
   "execution_count": 29,
   "id": "1857464d-ae10-40fe-a3ca-163612e64364",
   "metadata": {},
   "outputs": [],
   "source": [
    "batch = next(iter(loader))"
   ]
  },
  {
   "cell_type": "code",
   "execution_count": 30,
   "id": "8411a1f4-8f21-4349-8140-aedd73bb23ba",
   "metadata": {},
   "outputs": [],
   "source": [
    "device = torch.device(\"cuda\" if torch.cuda.is_available() else \"cpu\")\n",
    "ser_model = GenderRepresentationModel(input_dim=1024, hidden_dim=512, num_categories=2, num_attention_heads=4)\n"
   ]
  },
  {
   "cell_type": "code",
   "execution_count": 33,
   "id": "6b10ab04-00d8-4ecd-8c28-c4d99e64d33d",
   "metadata": {},
   "outputs": [
    {
     "data": {
      "text/plain": [
       "GenderRepresentationModel(\n",
       "  (wav_dropout): Dropout(p=0.5, inplace=False)\n",
       "  (wav_proj): Linear(in_features=1024, out_features=512, bias=True)\n",
       "  (multihead_attn): MultiheadAttention(\n",
       "    (out_proj): NonDynamicallyQuantizableLinear(in_features=512, out_features=512, bias=True)\n",
       "  )\n",
       "  (attn_norm): LayerNorm((512,), eps=1e-05, elementwise_affine=True)\n",
       "  (conv1d): Conv1d(512, 512, kernel_size=(3,), stride=(1,), padding=(1,))\n",
       "  (conv_norm): LayerNorm((512,), eps=1e-05, elementwise_affine=True)\n",
       "  (attn_pooling): Linear(in_features=512, out_features=1, bias=True)\n",
       ")"
      ]
     },
     "execution_count": 33,
     "metadata": {},
     "output_type": "execute_result"
    }
   ],
   "source": [
    "ser_model.load_state_dict(torch.load('../experiments/ownsermodel_wavlmlarge_lazyload_lr1e4_angleloss_gender/angle_gender.pt', map_location='cpu'))\n",
    "ser_model.to('cpu')"
   ]
  },
  {
   "cell_type": "code",
   "execution_count": 34,
   "id": "58b3592e-444f-494a-8a03-7143d610f0c3",
   "metadata": {},
   "outputs": [],
   "source": [
    "emb = ser_model(batch['feat'].to('cpu'))"
   ]
  },
  {
   "cell_type": "code",
   "execution_count": 35,
   "id": "6b6ad20a-1e8e-4d4d-8a10-5689a3fe9396",
   "metadata": {},
   "outputs": [
    {
     "data": {
      "text/plain": [
       "torch.Size([1, 512])"
      ]
     },
     "execution_count": 35,
     "metadata": {},
     "output_type": "execute_result"
    }
   ],
   "source": [
    "emb.shape"
   ]
  },
  {
   "cell_type": "code",
   "execution_count": 36,
   "id": "14813d60-00cb-476d-99da-e51a162a7fb7",
   "metadata": {},
   "outputs": [
    {
     "name": "stderr",
     "output_type": "stream",
     "text": [
      "\n",
      "00%|████████████████████████████████████████████████████████████████████████████| 25258/25258 [04:01<00:00, 104.51it/s]"
     ]
    }
   ],
   "source": [
    "features = []\n",
    "utts = []\n",
    "\n",
    "for batch in tqdm(loader):\n",
    "    emb = ser_model(batch['feat']).squeeze(0).detach().numpy()\n",
    "    features.append(emb)\n",
    "    utts.append(batch['utter'])\n",
    "\n",
    "features = np.array(features)"
   ]
  },
  {
   "cell_type": "code",
   "execution_count": 37,
   "id": "b1f0a30b-8235-4e51-9f3c-a1c4905f1b37",
   "metadata": {},
   "outputs": [
    {
     "name": "stdout",
     "output_type": "stream",
     "text": [
      "Requirement already satisfied: umap-learn in /opt/conda/lib/python3.10/site-packages (0.5.7)\n",
      "Requirement already satisfied: numpy>=1.17 in /opt/conda/lib/python3.10/site-packages (from umap-learn) (1.24.4)\n",
      "Requirement already satisfied: numba>=0.51.2 in /opt/conda/lib/python3.10/site-packages (from umap-learn) (0.57.1)\n",
      "Requirement already satisfied: scikit-learn>=0.22 in /opt/conda/lib/python3.10/site-packages (from umap-learn) (1.3.0)\n",
      "Requirement already satisfied: scipy>=1.3.1 in /opt/conda/lib/python3.10/site-packages (from umap-learn) (1.11.2)\n",
      "Requirement already satisfied: pynndescent>=0.5 in /opt/conda/lib/python3.10/site-packages (from umap-learn) (0.5.13)\n",
      "Requirement already satisfied: tqdm in /opt/conda/lib/python3.10/site-packages (from umap-learn) (4.67.1)\n",
      "Requirement already satisfied: llvmlite<0.41,>=0.40.0dev0 in /opt/conda/lib/python3.10/site-packages (from numba>=0.51.2->umap-learn) (0.40.1)\n",
      "Requirement already satisfied: joblib>=0.11 in /opt/conda/lib/python3.10/site-packages (from pynndescent>=0.5->umap-learn) (1.3.2)\n",
      "Requirement already satisfied: threadpoolctl>=2.0.0 in /opt/conda/lib/python3.10/site-packages (from scikit-learn>=0.22->umap-learn) (3.2.0)\n",
      "\u001b[33mWARNING: Running pip as the 'root' user can result in broken permissions and conflicting behaviour with the system package manager. It is recommended to use a virtual environment instead: https://pip.pypa.io/warnings/venv\u001b[0m\u001b[33m\n",
      "\u001b[0m"
     ]
    }
   ],
   "source": [
    "!pip install umap-learn"
   ]
  },
  {
   "cell_type": "code",
   "execution_count": 38,
   "id": "178bce9c-88a0-4a97-b086-f7a43e2bd900",
   "metadata": {},
   "outputs": [],
   "source": [
    "import umap"
   ]
  },
  {
   "cell_type": "code",
   "execution_count": 39,
   "id": "3cadbc9e-b26e-4c19-940b-d690e40cdb53",
   "metadata": {},
   "outputs": [
    {
     "name": "stderr",
     "output_type": "stream",
     "text": [
      "/opt/conda/lib/python3.10/site-packages/umap/umap_.py:1952: UserWarning: n_jobs value 1 overridden to 1 by setting random_state. Use no seed for parallelism.\n",
      "  warn(\n"
     ]
    }
   ],
   "source": [
    "reducer = umap.UMAP(random_state = 42)\n",
    "\n",
    "embeddings = reducer.fit_transform(features)"
   ]
  },
  {
   "cell_type": "code",
   "execution_count": 40,
   "id": "ef68fe41-daf6-4a72-804e-9e389b07a24a",
   "metadata": {},
   "outputs": [
    {
     "data": {
      "text/html": [
       "<div>\n",
       "<style scoped>\n",
       "    .dataframe tbody tr th:only-of-type {\n",
       "        vertical-align: middle;\n",
       "    }\n",
       "\n",
       "    .dataframe tbody tr th {\n",
       "        vertical-align: top;\n",
       "    }\n",
       "\n",
       "    .dataframe thead th {\n",
       "        text-align: right;\n",
       "    }\n",
       "</style>\n",
       "<table border=\"1\" class=\"dataframe\">\n",
       "  <thead>\n",
       "    <tr style=\"text-align: right;\">\n",
       "      <th></th>\n",
       "      <th>FileName</th>\n",
       "      <th>dim1</th>\n",
       "      <th>dim2</th>\n",
       "    </tr>\n",
       "  </thead>\n",
       "  <tbody>\n",
       "    <tr>\n",
       "      <th>0</th>\n",
       "      <td>MSP-PODCAST_0002_0033.wav</td>\n",
       "      <td>-2.799032</td>\n",
       "      <td>0.796687</td>\n",
       "    </tr>\n",
       "    <tr>\n",
       "      <th>1</th>\n",
       "      <td>MSP-PODCAST_0002_0039.wav</td>\n",
       "      <td>-2.436559</td>\n",
       "      <td>1.773111</td>\n",
       "    </tr>\n",
       "    <tr>\n",
       "      <th>2</th>\n",
       "      <td>MSP-PODCAST_0002_0051.wav</td>\n",
       "      <td>-0.600959</td>\n",
       "      <td>-3.332659</td>\n",
       "    </tr>\n",
       "    <tr>\n",
       "      <th>3</th>\n",
       "      <td>MSP-PODCAST_0002_0061.wav</td>\n",
       "      <td>-2.612125</td>\n",
       "      <td>5.585777</td>\n",
       "    </tr>\n",
       "    <tr>\n",
       "      <th>4</th>\n",
       "      <td>MSP-PODCAST_0006_0017.wav</td>\n",
       "      <td>-2.068648</td>\n",
       "      <td>-2.669755</td>\n",
       "    </tr>\n",
       "  </tbody>\n",
       "</table>\n",
       "</div>"
      ],
      "text/plain": [
       "                    FileName      dim1      dim2\n",
       "0  MSP-PODCAST_0002_0033.wav -2.799032  0.796687\n",
       "1  MSP-PODCAST_0002_0039.wav -2.436559  1.773111\n",
       "2  MSP-PODCAST_0002_0051.wav -0.600959 -3.332659\n",
       "3  MSP-PODCAST_0002_0061.wav -2.612125  5.585777\n",
       "4  MSP-PODCAST_0006_0017.wav -2.068648 -2.669755"
      ]
     },
     "execution_count": 40,
     "metadata": {},
     "output_type": "execute_result"
    }
   ],
   "source": [
    "df_p = pd.DataFrame({'FileName': [utt[0] for utt in utts], 'dim1': embeddings[:,0], 'dim2': embeddings[:,1]})\n",
    "df_p.head()"
   ]
  },
  {
   "cell_type": "code",
   "execution_count": 41,
   "id": "7b714421-d989-4617-8a5d-a6734fe77b51",
   "metadata": {},
   "outputs": [],
   "source": [
    "import matplotlib.pyplot as plt\n",
    "%matplotlib inline"
   ]
  },
  {
   "cell_type": "code",
   "execution_count": 42,
   "id": "aff3b553-6884-49a0-83a6-e1a06785eb8b",
   "metadata": {},
   "outputs": [],
   "source": [
    "df = pd.read_csv('/workspace/lucas.ueda/interspeech_ser/data/Labels/labels_consensus.csv')\n",
    "df_p = df_p.merge(df[['FileName','Gender']], how='left', on = 'FileName')"
   ]
  },
  {
   "cell_type": "code",
   "execution_count": 47,
   "id": "7a1b3fb7-834f-4852-899a-0a89d5aba07e",
   "metadata": {},
   "outputs": [
    {
     "data": {
      "image/png": "[encoded data removed]",
      "text/plain": [
       "<Figure size 1200x500 with 1 Axes>"
      ]
     },
     "metadata": {},
     "output_type": "display_data"
    }
   ],
   "source": [
    "plt.figure(figsize=(12,5))\n",
    "plt.title('Validation UMAP gender distribution')\n",
    "plt.scatter(df_p[df_p['Gender'] == 'Male']['dim1'], df_p[df_p['Gender'] == 'Male']['dim2'], label = 'Male', color='green')\n",
    "plt.scatter(df_p[df_p['Gender'] == 'Female']['dim1'], df_p[df_p['Gender'] == 'Female']['dim2'], label = 'Female', color='red')\n",
    "\n",
    "plt.legend()\n",
    "plt.show()"
   ]
  },
  {
   "cell_type": "code",
   "execution_count": 44,
   "id": "13385741-fb6e-4e0d-ba3b-c98f831f8fa5",
   "metadata": {},
   "outputs": [
    {
     "data": {
      "image/png": "[encoded data removed]",
      "text/plain": [
       "<Figure size 1200x500 with 1 Axes>"
      ]
     },
     "metadata": {},
     "output_type": "display_data"
    }
   ],
   "source": [
    "plt.figure(figsize=(12,5))\n",
    "plt.title('Validation UMAP gender distribution')\n",
    "plt.scatter(df_p[df_p['dim1'] < 4]['dim1'], df_p[df_p['dim1'] < 4]['dim2'], label = 'Male', color='green')\n",
    "# plt.scatter(df_p[df_p['Gender'] == 'Female']['dim1'], df_p[df_p['Gender'] == 'Female']['dim2'], label = 'Female', color='red')\n",
    "\n",
    "plt.legend()\n",
    "plt.show()"
   ]
  },
  {
   "cell_type": "code",
   "execution_count": 90,
   "id": "5d8f0a2c-cd68-4225-93bf-e5a8dbfd5d0c",
   "metadata": {},
   "outputs": [],
   "source": [
    "df_p[df_p['dim1']<4].to_csv('less4umap.csv')"
   ]
  },
  {
   "cell_type": "code",
   "execution_count": 91,
   "id": "bc644c9d-2bb1-4e0a-b1d4-0658e3da3418",
   "metadata": {},
   "outputs": [],
   "source": [
    "df_p[df_p['dim1']>4].to_csv('greater4umap.csv')"
   ]
  },
  {
   "cell_type": "code",
   "execution_count": null,
   "id": "ec1d43bc-1f46-4e9e-acae-07ccc1d9189b",
   "metadata": {},
   "outputs": [],
   "source": []
  }
 ],
 "metadata": {
  "kernelspec": {
   "display_name": "Python 3 (ipykernel)",
   "language": "python",
   "name": "python3"
  },
  "language_info": {
   "codemirror_mode": {
    "name": "ipython",
    "version": 3
   },
   "file_extension": ".py",
   "mimetype": "text/x-python",
   "name": "python",
   "nbconvert_exporter": "python",
   "pygments_lexer": "ipython3",
   "version": "3.10.8"
  }
 },
 "nbformat": 4,
 "nbformat_minor": 5
}
