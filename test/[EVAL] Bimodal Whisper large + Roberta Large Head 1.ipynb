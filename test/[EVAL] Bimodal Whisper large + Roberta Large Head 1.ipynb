{
 "cells": [
  {
   "cell_type": "code",
   "execution_count": 1,
   "id": "c121eed9-d1ce-4084-bd32-026d59bcfe96",
   "metadata": {},
   "outputs": [
    {
     "name": "stdout",
     "output_type": "stream",
     "text": [
      "../experiments/multimodalmodel_whisperlarge_robertalarge_lazyload_lr1e4_1head/results/dev.csv\n"
     ]
    }
   ],
   "source": [
    "!ls ../experiments/multimodalmodel_whisperlarge_robertalarge_lazyload_lr1e4_1head/results/dev.csv"
   ]
  },
  {
   "cell_type": "code",
   "execution_count": 2,
   "id": "607c5c82-3f02-4bea-9cfa-9d24f7484069",
   "metadata": {},
   "outputs": [],
   "source": [
    "def get_stratified_subset(df, label_column, num_examples_per_label, random_state=None):\n",
    "    \"\"\"\n",
    "    Returns a stratified subset of the dataframe with a fixed number of examples for each label.\n",
    "\n",
    "    Args:\n",
    "        df (pd.DataFrame): The input dataframe.\n",
    "        label_column (str): The name of the column containing the labels.\n",
    "        num_examples_per_label (int): The fixed number of examples to sample for each label.\n",
    "        random_state (int, optional): Random seed for reproducibility.\n",
    "\n",
    "    Returns:\n",
    "        pd.DataFrame: A stratified subset of the dataframe.\n",
    "    \"\"\"\n",
    "    if random_state is not None:\n",
    "        np.random.seed(random_state)\n",
    "\n",
    "    stratified_subset = []\n",
    "\n",
    "    for label in df[label_column].unique():\n",
    "        label_group = df[df[label_column] == label]\n",
    "        if len(label_group) < num_examples_per_label:\n",
    "            raise ValueError(f\"Not enough examples for label '{label}'. Requested {num_examples_per_label}, but only {len(label_group)} available.\")\n",
    "        \n",
    "        sampled_group = label_group.sample(n=num_examples_per_label, random_state=random_state)\n",
    "        stratified_subset.append(sampled_group)\n",
    "\n",
    "    return pd.concat(stratified_subset).reset_index(drop=True)"
   ]
  },
  {
   "cell_type": "code",
   "execution_count": 3,
   "id": "d30bdb9f-8704-4a6b-b074-05afbe73dfc8",
   "metadata": {},
   "outputs": [],
   "source": [
    "import pandas as pd\n",
    "import numpy as np"
   ]
  },
  {
   "cell_type": "code",
   "execution_count": 4,
   "id": "5fc017e4-c8fe-4ec6-b607-57e197608526",
   "metadata": {},
   "outputs": [
    {
     "data": {
      "text/html": [
       "<div>\n",
       "<style scoped>\n",
       "    .dataframe tbody tr th:only-of-type {\n",
       "        vertical-align: middle;\n",
       "    }\n",
       "\n",
       "    .dataframe tbody tr th {\n",
       "        vertical-align: top;\n",
       "    }\n",
       "\n",
       "    .dataframe thead th {\n",
       "        text-align: right;\n",
       "    }\n",
       "</style>\n",
       "<table border=\"1\" class=\"dataframe\">\n",
       "  <thead>\n",
       "    <tr style=\"text-align: right;\">\n",
       "      <th></th>\n",
       "      <th>Filename</th>\n",
       "      <th>Prediction</th>\n",
       "      <th>class_0_prob</th>\n",
       "      <th>class_1_prob</th>\n",
       "      <th>class_2_prob</th>\n",
       "      <th>class_3_prob</th>\n",
       "      <th>class_4_prob</th>\n",
       "      <th>class_5_prob</th>\n",
       "      <th>class_6_prob</th>\n",
       "      <th>class_7_prob</th>\n",
       "    </tr>\n",
       "  </thead>\n",
       "  <tbody>\n",
       "    <tr>\n",
       "      <th>0</th>\n",
       "      <td>MSP-PODCAST_0002_0033.wav</td>\n",
       "      <td>N</td>\n",
       "      <td>-0.5298</td>\n",
       "      <td>-0.8180</td>\n",
       "      <td>-0.5207</td>\n",
       "      <td>-0.1679</td>\n",
       "      <td>0.1737</td>\n",
       "      <td>0.6106</td>\n",
       "      <td>0.6704</td>\n",
       "      <td>1.1493</td>\n",
       "    </tr>\n",
       "    <tr>\n",
       "      <th>1</th>\n",
       "      <td>MSP-PODCAST_0002_0039.wav</td>\n",
       "      <td>N</td>\n",
       "      <td>-0.4826</td>\n",
       "      <td>-1.2260</td>\n",
       "      <td>0.1915</td>\n",
       "      <td>0.0058</td>\n",
       "      <td>0.2577</td>\n",
       "      <td>-0.4974</td>\n",
       "      <td>0.1689</td>\n",
       "      <td>0.9680</td>\n",
       "    </tr>\n",
       "    <tr>\n",
       "      <th>2</th>\n",
       "      <td>MSP-PODCAST_0002_0051.wav</td>\n",
       "      <td>N</td>\n",
       "      <td>-1.0789</td>\n",
       "      <td>-0.2830</td>\n",
       "      <td>0.9523</td>\n",
       "      <td>-0.6871</td>\n",
       "      <td>-1.6681</td>\n",
       "      <td>-0.0808</td>\n",
       "      <td>1.2839</td>\n",
       "      <td>1.8211</td>\n",
       "    </tr>\n",
       "    <tr>\n",
       "      <th>3</th>\n",
       "      <td>MSP-PODCAST_0002_0061.wav</td>\n",
       "      <td>C</td>\n",
       "      <td>-1.5239</td>\n",
       "      <td>-1.0702</td>\n",
       "      <td>-0.4315</td>\n",
       "      <td>-0.1733</td>\n",
       "      <td>-0.1663</td>\n",
       "      <td>1.1688</td>\n",
       "      <td>2.2975</td>\n",
       "      <td>0.2385</td>\n",
       "    </tr>\n",
       "    <tr>\n",
       "      <th>4</th>\n",
       "      <td>MSP-PODCAST_0006_0017.wav</td>\n",
       "      <td>N</td>\n",
       "      <td>-2.2101</td>\n",
       "      <td>1.2126</td>\n",
       "      <td>-0.4750</td>\n",
       "      <td>-0.3883</td>\n",
       "      <td>-0.5750</td>\n",
       "      <td>-0.0319</td>\n",
       "      <td>1.0874</td>\n",
       "      <td>1.6301</td>\n",
       "    </tr>\n",
       "  </tbody>\n",
       "</table>\n",
       "</div>"
      ],
      "text/plain": [
       "                    Filename Prediction  class_0_prob  class_1_prob  \\\n",
       "0  MSP-PODCAST_0002_0033.wav          N       -0.5298       -0.8180   \n",
       "1  MSP-PODCAST_0002_0039.wav          N       -0.4826       -1.2260   \n",
       "2  MSP-PODCAST_0002_0051.wav          N       -1.0789       -0.2830   \n",
       "3  MSP-PODCAST_0002_0061.wav          C       -1.5239       -1.0702   \n",
       "4  MSP-PODCAST_0006_0017.wav          N       -2.2101        1.2126   \n",
       "\n",
       "   class_2_prob  class_3_prob  class_4_prob  class_5_prob  class_6_prob  \\\n",
       "0       -0.5207       -0.1679        0.1737        0.6106        0.6704   \n",
       "1        0.1915        0.0058        0.2577       -0.4974        0.1689   \n",
       "2        0.9523       -0.6871       -1.6681       -0.0808        1.2839   \n",
       "3       -0.4315       -0.1733       -0.1663        1.1688        2.2975   \n",
       "4       -0.4750       -0.3883       -0.5750       -0.0319        1.0874   \n",
       "\n",
       "   class_7_prob  \n",
       "0        1.1493  \n",
       "1        0.9680  \n",
       "2        1.8211  \n",
       "3        0.2385  \n",
       "4        1.6301  "
      ]
     },
     "execution_count": 4,
     "metadata": {},
     "output_type": "execute_result"
    }
   ],
   "source": [
    "preds = pd.read_csv('../experiments/multimodalmodel_whisperlarge_robertalarge_lazyload_lr1e4_1head/results/dev.csv')\n",
    "preds.head()"
   ]
  },
  {
   "cell_type": "code",
   "execution_count": 5,
   "id": "9ca46356-04ea-491c-8aaa-687a04b9585f",
   "metadata": {},
   "outputs": [
    {
     "data": {
      "text/html": [
       "<div>\n",
       "<style scoped>\n",
       "    .dataframe tbody tr th:only-of-type {\n",
       "        vertical-align: middle;\n",
       "    }\n",
       "\n",
       "    .dataframe tbody tr th {\n",
       "        vertical-align: top;\n",
       "    }\n",
       "\n",
       "    .dataframe thead th {\n",
       "        text-align: right;\n",
       "    }\n",
       "</style>\n",
       "<table border=\"1\" class=\"dataframe\">\n",
       "  <thead>\n",
       "    <tr style=\"text-align: right;\">\n",
       "      <th></th>\n",
       "      <th>FileName</th>\n",
       "      <th>EmoClass</th>\n",
       "      <th>EmoAct</th>\n",
       "      <th>EmoVal</th>\n",
       "      <th>EmoDom</th>\n",
       "      <th>SpkrID</th>\n",
       "      <th>Gender</th>\n",
       "      <th>Split_Set</th>\n",
       "    </tr>\n",
       "  </thead>\n",
       "  <tbody>\n",
       "    <tr>\n",
       "      <th>0</th>\n",
       "      <td>MSP-PODCAST_0002_0033.wav</td>\n",
       "      <td>N</td>\n",
       "      <td>4.8</td>\n",
       "      <td>4.2</td>\n",
       "      <td>5.4</td>\n",
       "      <td>127</td>\n",
       "      <td>Female</td>\n",
       "      <td>Development</td>\n",
       "    </tr>\n",
       "    <tr>\n",
       "      <th>1</th>\n",
       "      <td>MSP-PODCAST_0002_0039.wav</td>\n",
       "      <td>N</td>\n",
       "      <td>4.0</td>\n",
       "      <td>4.2</td>\n",
       "      <td>4.2</td>\n",
       "      <td>127</td>\n",
       "      <td>Female</td>\n",
       "      <td>Development</td>\n",
       "    </tr>\n",
       "    <tr>\n",
       "      <th>2</th>\n",
       "      <td>MSP-PODCAST_0002_0051.wav</td>\n",
       "      <td>N</td>\n",
       "      <td>4.0</td>\n",
       "      <td>4.2</td>\n",
       "      <td>4.2</td>\n",
       "      <td>127</td>\n",
       "      <td>Female</td>\n",
       "      <td>Development</td>\n",
       "    </tr>\n",
       "    <tr>\n",
       "      <th>3</th>\n",
       "      <td>MSP-PODCAST_0002_0059.wav</td>\n",
       "      <td>X</td>\n",
       "      <td>4.0</td>\n",
       "      <td>3.8</td>\n",
       "      <td>4.0</td>\n",
       "      <td>128</td>\n",
       "      <td>Female</td>\n",
       "      <td>Development</td>\n",
       "    </tr>\n",
       "    <tr>\n",
       "      <th>4</th>\n",
       "      <td>MSP-PODCAST_0002_0061.wav</td>\n",
       "      <td>F</td>\n",
       "      <td>3.4</td>\n",
       "      <td>2.8</td>\n",
       "      <td>4.2</td>\n",
       "      <td>128</td>\n",
       "      <td>Female</td>\n",
       "      <td>Development</td>\n",
       "    </tr>\n",
       "  </tbody>\n",
       "</table>\n",
       "</div>"
      ],
      "text/plain": [
       "                    FileName EmoClass  EmoAct  EmoVal  EmoDom  SpkrID  Gender  \\\n",
       "0  MSP-PODCAST_0002_0033.wav        N     4.8     4.2     5.4     127  Female   \n",
       "1  MSP-PODCAST_0002_0039.wav        N     4.0     4.2     4.2     127  Female   \n",
       "2  MSP-PODCAST_0002_0051.wav        N     4.0     4.2     4.2     127  Female   \n",
       "3  MSP-PODCAST_0002_0059.wav        X     4.0     3.8     4.0     128  Female   \n",
       "4  MSP-PODCAST_0002_0061.wav        F     3.4     2.8     4.2     128  Female   \n",
       "\n",
       "     Split_Set  \n",
       "0  Development  \n",
       "1  Development  \n",
       "2  Development  \n",
       "3  Development  \n",
       "4  Development  "
      ]
     },
     "execution_count": 5,
     "metadata": {},
     "output_type": "execute_result"
    }
   ],
   "source": [
    "df = pd.read_csv('/workspace/lucas.ueda/interspeech_ser/data/Labels/labels_consensus.csv')\n",
    "df.head()"
   ]
  },
  {
   "cell_type": "code",
   "execution_count": 6,
   "id": "c3efa84c-a42c-4b16-adb9-6c0af843a12e",
   "metadata": {},
   "outputs": [],
   "source": [
    "preds['FileName'] = preds['Filename']\n",
    "preds = preds.merge(df[['FileName','EmoClass','Gender','SpkrID']], how='left', on = 'FileName')"
   ]
  },
  {
   "cell_type": "code",
   "execution_count": 7,
   "id": "0fbaa4bd-7393-44ea-a465-e088fc022055",
   "metadata": {},
   "outputs": [
    {
     "data": {
      "text/plain": [
       "0"
      ]
     },
     "execution_count": 7,
     "metadata": {},
     "output_type": "execute_result"
    }
   ],
   "source": [
    "preds['EmoClass'].isnull().sum()"
   ]
  },
  {
   "cell_type": "code",
   "execution_count": 8,
   "id": "22a3faa7-164e-4b1d-86e3-e6d9e058e3c5",
   "metadata": {},
   "outputs": [
    {
     "data": {
      "text/html": [
       "<div>\n",
       "<style scoped>\n",
       "    .dataframe tbody tr th:only-of-type {\n",
       "        vertical-align: middle;\n",
       "    }\n",
       "\n",
       "    .dataframe tbody tr th {\n",
       "        vertical-align: top;\n",
       "    }\n",
       "\n",
       "    .dataframe thead th {\n",
       "        text-align: right;\n",
       "    }\n",
       "</style>\n",
       "<table border=\"1\" class=\"dataframe\">\n",
       "  <thead>\n",
       "    <tr style=\"text-align: right;\">\n",
       "      <th></th>\n",
       "      <th>Filename</th>\n",
       "      <th>Prediction</th>\n",
       "      <th>class_0_prob</th>\n",
       "      <th>class_1_prob</th>\n",
       "      <th>class_2_prob</th>\n",
       "      <th>class_3_prob</th>\n",
       "      <th>class_4_prob</th>\n",
       "      <th>class_5_prob</th>\n",
       "      <th>class_6_prob</th>\n",
       "      <th>class_7_prob</th>\n",
       "      <th>FileName</th>\n",
       "      <th>EmoClass</th>\n",
       "      <th>Gender</th>\n",
       "      <th>SpkrID</th>\n",
       "    </tr>\n",
       "  </thead>\n",
       "  <tbody>\n",
       "    <tr>\n",
       "      <th>0</th>\n",
       "      <td>MSP-PODCAST_0002_0033.wav</td>\n",
       "      <td>N</td>\n",
       "      <td>-0.5298</td>\n",
       "      <td>-0.8180</td>\n",
       "      <td>-0.5207</td>\n",
       "      <td>-0.1679</td>\n",
       "      <td>0.1737</td>\n",
       "      <td>0.6106</td>\n",
       "      <td>0.6704</td>\n",
       "      <td>1.1493</td>\n",
       "      <td>MSP-PODCAST_0002_0033.wav</td>\n",
       "      <td>N</td>\n",
       "      <td>Female</td>\n",
       "      <td>127</td>\n",
       "    </tr>\n",
       "    <tr>\n",
       "      <th>1</th>\n",
       "      <td>MSP-PODCAST_0002_0039.wav</td>\n",
       "      <td>N</td>\n",
       "      <td>-0.4826</td>\n",
       "      <td>-1.2260</td>\n",
       "      <td>0.1915</td>\n",
       "      <td>0.0058</td>\n",
       "      <td>0.2577</td>\n",
       "      <td>-0.4974</td>\n",
       "      <td>0.1689</td>\n",
       "      <td>0.9680</td>\n",
       "      <td>MSP-PODCAST_0002_0039.wav</td>\n",
       "      <td>N</td>\n",
       "      <td>Female</td>\n",
       "      <td>127</td>\n",
       "    </tr>\n",
       "    <tr>\n",
       "      <th>2</th>\n",
       "      <td>MSP-PODCAST_0002_0051.wav</td>\n",
       "      <td>N</td>\n",
       "      <td>-1.0789</td>\n",
       "      <td>-0.2830</td>\n",
       "      <td>0.9523</td>\n",
       "      <td>-0.6871</td>\n",
       "      <td>-1.6681</td>\n",
       "      <td>-0.0808</td>\n",
       "      <td>1.2839</td>\n",
       "      <td>1.8211</td>\n",
       "      <td>MSP-PODCAST_0002_0051.wav</td>\n",
       "      <td>N</td>\n",
       "      <td>Female</td>\n",
       "      <td>127</td>\n",
       "    </tr>\n",
       "    <tr>\n",
       "      <th>3</th>\n",
       "      <td>MSP-PODCAST_0002_0061.wav</td>\n",
       "      <td>C</td>\n",
       "      <td>-1.5239</td>\n",
       "      <td>-1.0702</td>\n",
       "      <td>-0.4315</td>\n",
       "      <td>-0.1733</td>\n",
       "      <td>-0.1663</td>\n",
       "      <td>1.1688</td>\n",
       "      <td>2.2975</td>\n",
       "      <td>0.2385</td>\n",
       "      <td>MSP-PODCAST_0002_0061.wav</td>\n",
       "      <td>F</td>\n",
       "      <td>Female</td>\n",
       "      <td>128</td>\n",
       "    </tr>\n",
       "    <tr>\n",
       "      <th>4</th>\n",
       "      <td>MSP-PODCAST_0006_0017.wav</td>\n",
       "      <td>N</td>\n",
       "      <td>-2.2101</td>\n",
       "      <td>1.2126</td>\n",
       "      <td>-0.4750</td>\n",
       "      <td>-0.3883</td>\n",
       "      <td>-0.5750</td>\n",
       "      <td>-0.0319</td>\n",
       "      <td>1.0874</td>\n",
       "      <td>1.6301</td>\n",
       "      <td>MSP-PODCAST_0006_0017.wav</td>\n",
       "      <td>N</td>\n",
       "      <td>Female</td>\n",
       "      <td>127</td>\n",
       "    </tr>\n",
       "  </tbody>\n",
       "</table>\n",
       "</div>"
      ],
      "text/plain": [
       "                    Filename Prediction  class_0_prob  class_1_prob  \\\n",
       "0  MSP-PODCAST_0002_0033.wav          N       -0.5298       -0.8180   \n",
       "1  MSP-PODCAST_0002_0039.wav          N       -0.4826       -1.2260   \n",
       "2  MSP-PODCAST_0002_0051.wav          N       -1.0789       -0.2830   \n",
       "3  MSP-PODCAST_0002_0061.wav          C       -1.5239       -1.0702   \n",
       "4  MSP-PODCAST_0006_0017.wav          N       -2.2101        1.2126   \n",
       "\n",
       "   class_2_prob  class_3_prob  class_4_prob  class_5_prob  class_6_prob  \\\n",
       "0       -0.5207       -0.1679        0.1737        0.6106        0.6704   \n",
       "1        0.1915        0.0058        0.2577       -0.4974        0.1689   \n",
       "2        0.9523       -0.6871       -1.6681       -0.0808        1.2839   \n",
       "3       -0.4315       -0.1733       -0.1663        1.1688        2.2975   \n",
       "4       -0.4750       -0.3883       -0.5750       -0.0319        1.0874   \n",
       "\n",
       "   class_7_prob                   FileName EmoClass  Gender  SpkrID  \n",
       "0        1.1493  MSP-PODCAST_0002_0033.wav        N  Female     127  \n",
       "1        0.9680  MSP-PODCAST_0002_0039.wav        N  Female     127  \n",
       "2        1.8211  MSP-PODCAST_0002_0051.wav        N  Female     127  \n",
       "3        0.2385  MSP-PODCAST_0002_0061.wav        F  Female     128  \n",
       "4        1.6301  MSP-PODCAST_0006_0017.wav        N  Female     127  "
      ]
     },
     "execution_count": 8,
     "metadata": {},
     "output_type": "execute_result"
    }
   ],
   "source": [
    "preds.head()"
   ]
  },
  {
   "cell_type": "code",
   "execution_count": 9,
   "id": "1f88027d-0517-4018-8225-419b98548b88",
   "metadata": {},
   "outputs": [],
   "source": [
    "# !pip install matplotlib"
   ]
  },
  {
   "cell_type": "code",
   "execution_count": 10,
   "id": "d114f83a-54db-4615-989d-6db4a1229f73",
   "metadata": {},
   "outputs": [
    {
     "data": {
      "image/png": "[encoded data removed]",
      "text/plain": [
       "<Figure size 640x480 with 2 Axes>"
      ]
     },
     "metadata": {},
     "output_type": "display_data"
    }
   ],
   "source": [
    "import pandas as pd\n",
    "from sklearn.metrics import confusion_matrix, ConfusionMatrixDisplay, accuracy_score, f1_score\n",
    "import matplotlib.pyplot as plt\n",
    "\n",
    "# Generate confusion matrix\n",
    "cm = confusion_matrix(preds['EmoClass'], preds['Prediction'], labels=preds['EmoClass'].unique())\n",
    "\n",
    "# Display labels\n",
    "labels = preds['EmoClass'].unique()\n",
    "\n",
    "# Visualize confusion matrix\n",
    "cmd = ConfusionMatrixDisplay(confusion_matrix=cm, display_labels=labels)\n",
    "cmd.plot(cmap=plt.cm.Blues)\n",
    "plt.title(\"Confusion Matrix\")\n",
    "plt.show()"
   ]
  },
  {
   "cell_type": "code",
   "execution_count": 11,
   "id": "0f00b22b-aee3-4850-90c6-af42bb175f2f",
   "metadata": {},
   "outputs": [
    {
     "data": {
      "text/html": [
       "<div>\n",
       "<style scoped>\n",
       "    .dataframe tbody tr th:only-of-type {\n",
       "        vertical-align: middle;\n",
       "    }\n",
       "\n",
       "    .dataframe tbody tr th {\n",
       "        vertical-align: top;\n",
       "    }\n",
       "\n",
       "    .dataframe thead th {\n",
       "        text-align: right;\n",
       "    }\n",
       "</style>\n",
       "<table border=\"1\" class=\"dataframe\">\n",
       "  <thead>\n",
       "    <tr style=\"text-align: right;\">\n",
       "      <th></th>\n",
       "      <th>Filename</th>\n",
       "      <th>Prediction</th>\n",
       "      <th>class_0_prob</th>\n",
       "      <th>class_1_prob</th>\n",
       "      <th>class_2_prob</th>\n",
       "      <th>class_3_prob</th>\n",
       "      <th>class_4_prob</th>\n",
       "      <th>class_5_prob</th>\n",
       "      <th>class_6_prob</th>\n",
       "      <th>class_7_prob</th>\n",
       "      <th>FileName</th>\n",
       "      <th>EmoClass</th>\n",
       "      <th>Gender</th>\n",
       "      <th>SpkrID</th>\n",
       "    </tr>\n",
       "  </thead>\n",
       "  <tbody>\n",
       "    <tr>\n",
       "      <th>0</th>\n",
       "      <td>MSP-PODCAST_3077_1547.wav</td>\n",
       "      <td>N</td>\n",
       "      <td>1.7708</td>\n",
       "      <td>-0.3182</td>\n",
       "      <td>0.6754</td>\n",
       "      <td>-1.5548</td>\n",
       "      <td>-1.7982</td>\n",
       "      <td>-0.2460</td>\n",
       "      <td>0.5842</td>\n",
       "      <td>2.0497</td>\n",
       "      <td>MSP-PODCAST_3077_1547.wav</td>\n",
       "      <td>N</td>\n",
       "      <td>Male</td>\n",
       "      <td>1794</td>\n",
       "    </tr>\n",
       "    <tr>\n",
       "      <th>1</th>\n",
       "      <td>MSP-PODCAST_1530_0039_0002.wav</td>\n",
       "      <td>U</td>\n",
       "      <td>-1.0761</td>\n",
       "      <td>-2.3841</td>\n",
       "      <td>1.2476</td>\n",
       "      <td>1.8987</td>\n",
       "      <td>-0.3151</td>\n",
       "      <td>-1.3656</td>\n",
       "      <td>-0.7774</td>\n",
       "      <td>0.8724</td>\n",
       "      <td>MSP-PODCAST_1530_0039_0002.wav</td>\n",
       "      <td>N</td>\n",
       "      <td>Male</td>\n",
       "      <td>335</td>\n",
       "    </tr>\n",
       "    <tr>\n",
       "      <th>2</th>\n",
       "      <td>MSP-PODCAST_0726_0040.wav</td>\n",
       "      <td>S</td>\n",
       "      <td>-3.1734</td>\n",
       "      <td>3.9579</td>\n",
       "      <td>0.6256</td>\n",
       "      <td>-0.5810</td>\n",
       "      <td>-1.0491</td>\n",
       "      <td>-2.5835</td>\n",
       "      <td>-0.6668</td>\n",
       "      <td>2.4122</td>\n",
       "      <td>MSP-PODCAST_0726_0040.wav</td>\n",
       "      <td>N</td>\n",
       "      <td>Female</td>\n",
       "      <td>471</td>\n",
       "    </tr>\n",
       "    <tr>\n",
       "      <th>3</th>\n",
       "      <td>MSP-PODCAST_2805_0446.wav</td>\n",
       "      <td>F</td>\n",
       "      <td>-0.4082</td>\n",
       "      <td>0.0555</td>\n",
       "      <td>0.7211</td>\n",
       "      <td>-0.4561</td>\n",
       "      <td>1.3499</td>\n",
       "      <td>-1.3152</td>\n",
       "      <td>0.1828</td>\n",
       "      <td>0.2102</td>\n",
       "      <td>MSP-PODCAST_2805_0446.wav</td>\n",
       "      <td>N</td>\n",
       "      <td>Male</td>\n",
       "      <td>1705</td>\n",
       "    </tr>\n",
       "    <tr>\n",
       "      <th>4</th>\n",
       "      <td>MSP-PODCAST_1168_0061_0006.wav</td>\n",
       "      <td>N</td>\n",
       "      <td>-1.1404</td>\n",
       "      <td>0.9993</td>\n",
       "      <td>0.8537</td>\n",
       "      <td>-0.0647</td>\n",
       "      <td>-1.7155</td>\n",
       "      <td>-1.4355</td>\n",
       "      <td>0.3978</td>\n",
       "      <td>1.5824</td>\n",
       "      <td>MSP-PODCAST_1168_0061_0006.wav</td>\n",
       "      <td>N</td>\n",
       "      <td>Female</td>\n",
       "      <td>743</td>\n",
       "    </tr>\n",
       "  </tbody>\n",
       "</table>\n",
       "</div>"
      ],
      "text/plain": [
       "                         Filename Prediction  class_0_prob  class_1_prob  \\\n",
       "0       MSP-PODCAST_3077_1547.wav          N        1.7708       -0.3182   \n",
       "1  MSP-PODCAST_1530_0039_0002.wav          U       -1.0761       -2.3841   \n",
       "2       MSP-PODCAST_0726_0040.wav          S       -3.1734        3.9579   \n",
       "3       MSP-PODCAST_2805_0446.wav          F       -0.4082        0.0555   \n",
       "4  MSP-PODCAST_1168_0061_0006.wav          N       -1.1404        0.9993   \n",
       "\n",
       "   class_2_prob  class_3_prob  class_4_prob  class_5_prob  class_6_prob  \\\n",
       "0        0.6754       -1.5548       -1.7982       -0.2460        0.5842   \n",
       "1        1.2476        1.8987       -0.3151       -1.3656       -0.7774   \n",
       "2        0.6256       -0.5810       -1.0491       -2.5835       -0.6668   \n",
       "3        0.7211       -0.4561        1.3499       -1.3152        0.1828   \n",
       "4        0.8537       -0.0647       -1.7155       -1.4355        0.3978   \n",
       "\n",
       "   class_7_prob                        FileName EmoClass  Gender  SpkrID  \n",
       "0        2.0497       MSP-PODCAST_3077_1547.wav        N    Male    1794  \n",
       "1        0.8724  MSP-PODCAST_1530_0039_0002.wav        N    Male     335  \n",
       "2        2.4122       MSP-PODCAST_0726_0040.wav        N  Female     471  \n",
       "3        0.2102       MSP-PODCAST_2805_0446.wav        N    Male    1705  \n",
       "4        1.5824  MSP-PODCAST_1168_0061_0006.wav        N  Female     743  "
      ]
     },
     "execution_count": 11,
     "metadata": {},
     "output_type": "execute_result"
    }
   ],
   "source": [
    "preds_subset = get_stratified_subset(preds, 'EmoClass', 100)\n",
    "preds_subset.head()"
   ]
  },
  {
   "cell_type": "code",
   "execution_count": 12,
   "id": "8fb00efd-ac72-400d-a0ca-8faa1bc5aa21",
   "metadata": {},
   "outputs": [],
   "source": [
    "# Average F1-score using bootstrap\n",
    "f1_scores = []\n",
    "for i in range(100):\n",
    "    preds_subset = get_stratified_subset(preds, 'EmoClass', 200, i)\n",
    "    f1_scores.append(f1_score(preds_subset['EmoClass'], preds_subset['Prediction'], average='macro'))"
   ]
  },
  {
   "cell_type": "code",
   "execution_count": 13,
   "id": "b13fe35a-23b2-43f0-90cc-a693529754ea",
   "metadata": {},
   "outputs": [
    {
     "data": {
      "text/plain": [
       "(0.41741564945059445,\n",
       " 0.009711017121367347,\n",
       " 0.44020562674117775,\n",
       " 0.39193922371545864)"
      ]
     },
     "execution_count": 13,
     "metadata": {},
     "output_type": "execute_result"
    }
   ],
   "source": [
    "f1_scores = np.array(f1_scores)\n",
    "\n",
    "np.mean(f1_scores), np.std(f1_scores),np.max(f1_scores),np.min(f1_scores)"
   ]
  },
  {
   "cell_type": "code",
   "execution_count": 14,
   "id": "a5492076-5253-4211-b593-ec0cd9e01bb2",
   "metadata": {},
   "outputs": [
    {
     "data": {
      "image/png": "[encoded data removed]",
      "text/plain": [
       "<Figure size 640x480 with 1 Axes>"
      ]
     },
     "metadata": {},
     "output_type": "display_data"
    }
   ],
   "source": [
    "plt.hist(f1_scores, bins=10)\n",
    "plt.show()"
   ]
  },
  {
   "cell_type": "code",
   "execution_count": null,
   "id": "4eb0cd95-611b-438a-a5dd-52fd63b6c5aa",
   "metadata": {},
   "outputs": [],
   "source": []
  },
  {
   "cell_type": "code",
   "execution_count": 15,
   "id": "8159c179-b646-4164-aefe-ea07d1b14b63",
   "metadata": {},
   "outputs": [
    {
     "data": {
      "text/plain": [
       "0.3880362940374437"
      ]
     },
     "execution_count": 15,
     "metadata": {},
     "output_type": "execute_result"
    }
   ],
   "source": [
    "f1_score(preds['EmoClass'], preds['Prediction'], average='macro')"
   ]
  },
  {
   "cell_type": "code",
   "execution_count": 16,
   "id": "9ffcaae7-3a6c-4551-88b4-89443bf93542",
   "metadata": {},
   "outputs": [
    {
     "data": {
      "text/plain": [
       "0.5239923984480165"
      ]
     },
     "execution_count": 16,
     "metadata": {},
     "output_type": "execute_result"
    }
   ],
   "source": [
    "f1_score(preds['EmoClass'], preds['Prediction'], average='micro')"
   ]
  },
  {
   "cell_type": "code",
   "execution_count": 17,
   "id": "079afbb7-1cc7-4abd-8ddc-61c09caa62b4",
   "metadata": {},
   "outputs": [
    {
     "data": {
      "text/plain": [
       "0.5239923984480165"
      ]
     },
     "execution_count": 17,
     "metadata": {},
     "output_type": "execute_result"
    }
   ],
   "source": [
    "accuracy_score(preds['EmoClass'], preds['Prediction'])"
   ]
  },
  {
   "cell_type": "code",
   "execution_count": 18,
   "id": "b5b3e001-c2fd-4ac5-8700-3b8787d98c45",
   "metadata": {},
   "outputs": [
    {
     "data": {
      "text/plain": [
       "(0.05678375814693552, 0.2938870852799113)"
      ]
     },
     "execution_count": 18,
     "metadata": {},
     "output_type": "execute_result"
    }
   ],
   "source": [
    "preds['PRED_dumb'] = 'N'\n",
    "f1_score(preds['EmoClass'], preds['PRED_dumb'], average='macro'), accuracy_score(preds['EmoClass'], preds['PRED_dumb'])"
   ]
  },
  {
   "cell_type": "code",
   "execution_count": 19,
   "id": "b2406023-26bd-4c35-bf1d-a857c03a0173",
   "metadata": {},
   "outputs": [
    {
     "data": {
      "text/plain": [
       "EmoClass\n",
       "N    7423\n",
       "H    6344\n",
       "A    5836\n",
       "S    2341\n",
       "C    1459\n",
       "U     987\n",
       "D     542\n",
       "F     326\n",
       "Name: count, dtype: int64"
      ]
     },
     "execution_count": 19,
     "metadata": {},
     "output_type": "execute_result"
    }
   ],
   "source": [
    "preds['EmoClass'].value_counts()"
   ]
  },
  {
   "cell_type": "code",
   "execution_count": 20,
   "id": "85d9741c-041a-41fd-a379-72b8718e12e7",
   "metadata": {},
   "outputs": [
    {
     "data": {
      "text/html": [
       "<div>\n",
       "<style scoped>\n",
       "    .dataframe tbody tr th:only-of-type {\n",
       "        vertical-align: middle;\n",
       "    }\n",
       "\n",
       "    .dataframe tbody tr th {\n",
       "        vertical-align: top;\n",
       "    }\n",
       "\n",
       "    .dataframe thead th {\n",
       "        text-align: right;\n",
       "    }\n",
       "</style>\n",
       "<table border=\"1\" class=\"dataframe\">\n",
       "  <thead>\n",
       "    <tr style=\"text-align: right;\">\n",
       "      <th></th>\n",
       "      <th>Filename</th>\n",
       "      <th>Prediction</th>\n",
       "      <th>class_0_prob</th>\n",
       "      <th>class_1_prob</th>\n",
       "      <th>class_2_prob</th>\n",
       "      <th>class_3_prob</th>\n",
       "      <th>class_4_prob</th>\n",
       "      <th>class_5_prob</th>\n",
       "      <th>class_6_prob</th>\n",
       "      <th>class_7_prob</th>\n",
       "      <th>FileName</th>\n",
       "      <th>EmoClass</th>\n",
       "      <th>Gender</th>\n",
       "      <th>SpkrID</th>\n",
       "      <th>PRED_dumb</th>\n",
       "    </tr>\n",
       "  </thead>\n",
       "  <tbody>\n",
       "    <tr>\n",
       "      <th>0</th>\n",
       "      <td>MSP-PODCAST_0002_0033.wav</td>\n",
       "      <td>N</td>\n",
       "      <td>-0.5298</td>\n",
       "      <td>-0.818</td>\n",
       "      <td>-0.5207</td>\n",
       "      <td>-0.1679</td>\n",
       "      <td>0.1737</td>\n",
       "      <td>0.6106</td>\n",
       "      <td>0.6704</td>\n",
       "      <td>1.1493</td>\n",
       "      <td>MSP-PODCAST_0002_0033.wav</td>\n",
       "      <td>N</td>\n",
       "      <td>Female</td>\n",
       "      <td>127</td>\n",
       "      <td>N</td>\n",
       "    </tr>\n",
       "    <tr>\n",
       "      <th>1</th>\n",
       "      <td>MSP-PODCAST_0002_0039.wav</td>\n",
       "      <td>N</td>\n",
       "      <td>-0.4826</td>\n",
       "      <td>-1.226</td>\n",
       "      <td>0.1915</td>\n",
       "      <td>0.0058</td>\n",
       "      <td>0.2577</td>\n",
       "      <td>-0.4974</td>\n",
       "      <td>0.1689</td>\n",
       "      <td>0.9680</td>\n",
       "      <td>MSP-PODCAST_0002_0039.wav</td>\n",
       "      <td>N</td>\n",
       "      <td>Female</td>\n",
       "      <td>127</td>\n",
       "      <td>N</td>\n",
       "    </tr>\n",
       "  </tbody>\n",
       "</table>\n",
       "</div>"
      ],
      "text/plain": [
       "                    Filename Prediction  class_0_prob  class_1_prob  \\\n",
       "0  MSP-PODCAST_0002_0033.wav          N       -0.5298        -0.818   \n",
       "1  MSP-PODCAST_0002_0039.wav          N       -0.4826        -1.226   \n",
       "\n",
       "   class_2_prob  class_3_prob  class_4_prob  class_5_prob  class_6_prob  \\\n",
       "0       -0.5207       -0.1679        0.1737        0.6106        0.6704   \n",
       "1        0.1915        0.0058        0.2577       -0.4974        0.1689   \n",
       "\n",
       "   class_7_prob                   FileName EmoClass  Gender  SpkrID PRED_dumb  \n",
       "0        1.1493  MSP-PODCAST_0002_0033.wav        N  Female     127         N  \n",
       "1        0.9680  MSP-PODCAST_0002_0039.wav        N  Female     127         N  "
      ]
     },
     "execution_count": 20,
     "metadata": {},
     "output_type": "execute_result"
    }
   ],
   "source": [
    "preds.head(2)"
   ]
  },
  {
   "cell_type": "code",
   "execution_count": 21,
   "id": "6a50f0e8-da6b-4ed2-ad8d-f081c128cb9b",
   "metadata": {},
   "outputs": [
    {
     "data": {
      "text/plain": [
       "0.3642530920208962"
      ]
     },
     "execution_count": 21,
     "metadata": {},
     "output_type": "execute_result"
    }
   ],
   "source": [
    "f1_score(preds[preds['Gender']=='Female']['EmoClass'], preds[preds['Gender']=='Female']['Prediction'], average='macro')"
   ]
  },
  {
   "cell_type": "code",
   "execution_count": 22,
   "id": "2b2021da-895b-4780-ae73-4a8cc13dfe2c",
   "metadata": {},
   "outputs": [
    {
     "data": {
      "text/plain": [
       "0.40396685848966807"
      ]
     },
     "execution_count": 22,
     "metadata": {},
     "output_type": "execute_result"
    }
   ],
   "source": [
    "f1_score(preds[preds['Gender']=='Male']['EmoClass'], preds[preds['Gender']=='Male']['Prediction'], average='macro')"
   ]
  },
  {
   "cell_type": "code",
   "execution_count": 23,
   "id": "f899dc67-4135-4fea-98ed-8de8dce0823c",
   "metadata": {},
   "outputs": [
    {
     "data": {
      "text/plain": [
       "0.46906310423624537"
      ]
     },
     "execution_count": 23,
     "metadata": {},
     "output_type": "execute_result"
    }
   ],
   "source": [
    "accuracy_score(preds[preds['Gender']=='Female']['EmoClass'], preds[preds['Gender']=='Female']['Prediction'])"
   ]
  },
  {
   "cell_type": "code",
   "execution_count": 24,
   "id": "084d8c58-046d-4590-ac05-0f9cf97f6dfb",
   "metadata": {},
   "outputs": [
    {
     "data": {
      "text/plain": [
       "0.5690201729106629"
      ]
     },
     "execution_count": 24,
     "metadata": {},
     "output_type": "execute_result"
    }
   ],
   "source": [
    "accuracy_score(preds[preds['Gender']=='Male']['EmoClass'], preds[preds['Gender']=='Male']['Prediction'])"
   ]
  },
  {
   "cell_type": "code",
   "execution_count": 25,
   "id": "f03c7ac6-8acb-4764-b8ad-65e34477f9a3",
   "metadata": {},
   "outputs": [
    {
     "name": "stdout",
     "output_type": "stream",
     "text": [
      "Emotion N acc = 0.34824195069378955\n",
      "Emotion F acc = 0.147239263803681\n",
      "Emotion H acc = 0.6694514501891551\n",
      "Emotion D acc = 0.34317343173431736\n",
      "Emotion C acc = 0.2906100068540096\n",
      "Emotion S acc = 0.5779581375480564\n",
      "Emotion U acc = 0.37487335359675783\n",
      "Emotion A acc = 0.6891706648389307\n"
     ]
    }
   ],
   "source": [
    "for e in preds['EmoClass'].unique():\n",
    "    acc = accuracy_score(preds[preds['EmoClass']==e]['EmoClass'], preds[preds['EmoClass']==e]['Prediction'])\n",
    "    print(f'Emotion {e} acc = {acc}')"
   ]
  },
  {
   "cell_type": "code",
   "execution_count": 26,
   "id": "bf73e724-d25a-41bb-89b6-49f8aea045e7",
   "metadata": {},
   "outputs": [
    {
     "data": {
      "text/html": [
       "<div>\n",
       "<style scoped>\n",
       "    .dataframe tbody tr th:only-of-type {\n",
       "        vertical-align: middle;\n",
       "    }\n",
       "\n",
       "    .dataframe tbody tr th {\n",
       "        vertical-align: top;\n",
       "    }\n",
       "\n",
       "    .dataframe thead th {\n",
       "        text-align: right;\n",
       "    }\n",
       "</style>\n",
       "<table border=\"1\" class=\"dataframe\">\n",
       "  <thead>\n",
       "    <tr style=\"text-align: right;\">\n",
       "      <th></th>\n",
       "      <th>SpkrID</th>\n",
       "      <th>Gender</th>\n",
       "    </tr>\n",
       "  </thead>\n",
       "  <tbody>\n",
       "    <tr>\n",
       "      <th>17</th>\n",
       "      <td>210</td>\n",
       "      <td>3400</td>\n",
       "    </tr>\n",
       "    <tr>\n",
       "      <th>5</th>\n",
       "      <td>97</td>\n",
       "      <td>1371</td>\n",
       "    </tr>\n",
       "    <tr>\n",
       "      <th>610</th>\n",
       "      <td>2789</td>\n",
       "      <td>1135</td>\n",
       "    </tr>\n",
       "    <tr>\n",
       "      <th>4</th>\n",
       "      <td>54</td>\n",
       "      <td>444</td>\n",
       "    </tr>\n",
       "    <tr>\n",
       "      <th>281</th>\n",
       "      <td>2027</td>\n",
       "      <td>390</td>\n",
       "    </tr>\n",
       "    <tr>\n",
       "      <th>611</th>\n",
       "      <td>2794</td>\n",
       "      <td>353</td>\n",
       "    </tr>\n",
       "    <tr>\n",
       "      <th>623</th>\n",
       "      <td>2951</td>\n",
       "      <td>347</td>\n",
       "    </tr>\n",
       "    <tr>\n",
       "      <th>15</th>\n",
       "      <td>169</td>\n",
       "      <td>347</td>\n",
       "    </tr>\n",
       "    <tr>\n",
       "      <th>0</th>\n",
       "      <td>26</td>\n",
       "      <td>312</td>\n",
       "    </tr>\n",
       "    <tr>\n",
       "      <th>13</th>\n",
       "      <td>149</td>\n",
       "      <td>296</td>\n",
       "    </tr>\n",
       "  </tbody>\n",
       "</table>\n",
       "</div>"
      ],
      "text/plain": [
       "     SpkrID  Gender\n",
       "17      210    3400\n",
       "5        97    1371\n",
       "610    2789    1135\n",
       "4        54     444\n",
       "281    2027     390\n",
       "611    2794     353\n",
       "623    2951     347\n",
       "15      169     347\n",
       "0        26     312\n",
       "13      149     296"
      ]
     },
     "execution_count": 26,
     "metadata": {},
     "output_type": "execute_result"
    }
   ],
   "source": [
    "preds.groupby('SpkrID').agg({'Gender': 'count'}).reset_index().sort_values(by='Gender', ascending= False).head(10)"
   ]
  },
  {
   "cell_type": "code",
   "execution_count": 27,
   "id": "75e71014-e9fb-4a5e-a923-a3d1f7239fc8",
   "metadata": {},
   "outputs": [],
   "source": [
    "top10_volumetry_spks = preds.groupby('SpkrID').agg({'Gender': 'count'}).reset_index().sort_values(by='Gender', ascending= False).head(10).SpkrID"
   ]
  },
  {
   "cell_type": "code",
   "execution_count": 28,
   "id": "05fbe2d4-0a78-406f-809d-a2d3238b2704",
   "metadata": {},
   "outputs": [
    {
     "name": "stdout",
     "output_type": "stream",
     "text": [
      "Spk 210 (Gender = Female) has emotions = ['F' 'S' 'N' 'D' 'C' 'A' 'U' 'H'] with acc = 0.30205882352941177 f1-macro = 0.23426476859387246\n",
      "Spk 97 (Gender = Male) has emotions = ['H' 'C' 'N' 'D' 'U' 'A' 'F' 'S'] with acc = 0.4412837345003647 f1-macro = 0.28513412958573214\n",
      "Spk 2789 (Gender = Male) has emotions = ['C' 'A' 'H' 'N' 'S' 'U' 'D'] with acc = 0.8493392070484581 f1-macro = 0.3112803505477465\n",
      "Spk 54 (Gender = Male) has emotions = ['H' 'N' 'D' 'C' 'A' 'F' 'U'] with acc = 0.4617117117117117 f1-macro = 0.3139138372432758\n",
      "Spk 2027 (Gender = Male) has emotions = ['A' 'C' 'N' 'H' 'S' 'U' 'D'] with acc = 0.6666666666666666 f1-macro = 0.24245870376775575\n",
      "Spk 2794 (Gender = Male) has emotions = ['H' 'S' 'N' 'A' 'U'] with acc = 0.7053824362606232 f1-macro = 0.34422668911231535\n",
      "Spk 2951 (Gender = Male) has emotions = ['H' 'N' 'A' 'S' 'C' 'U'] with acc = 0.7867435158501441 f1-macro = 0.3330393066038768\n",
      "Spk 169 (Gender = Male) has emotions = ['H' 'N' 'C' 'A' 'U' 'S' 'D' 'F'] with acc = 0.2478386167146974 f1-macro = 0.18440777544244089\n",
      "Spk 26 (Gender = Female) has emotions = ['H' 'N' 'S' 'D' 'C' 'U' 'A' 'F'] with acc = 0.3974358974358974 f1-macro = 0.34666748072249215\n",
      "Spk 149 (Gender = Female) has emotions = ['N' 'D' 'A' 'S' 'F' 'H' 'C' 'U'] with acc = 0.23986486486486486 f1-macro = 0.22179994410061393\n"
     ]
    }
   ],
   "source": [
    "for spk in top10_volumetry_spks:\n",
    "    emotions_spk = preds[preds['SpkrID']==spk]['EmoClass'].unique()\n",
    "    gender = preds[preds['SpkrID']==spk]['Gender'].values[0]\n",
    "    acc = accuracy_score(preds[preds['SpkrID']==spk]['EmoClass'], preds[preds['SpkrID']==spk]['Prediction'])\n",
    "    f1_ = f1_score(preds[preds['SpkrID']==spk]['EmoClass'], preds[preds['SpkrID']==spk]['Prediction'], average='macro')\n",
    "    print(f'Spk {spk} (Gender = {gender}) has emotions = {emotions_spk} with acc = {acc} f1-macro = {f1_}')"
   ]
  },
  {
   "cell_type": "code",
   "execution_count": 30,
   "id": "cc7101b0-d7e8-46b1-b153-f7361e0a9ee9",
   "metadata": {},
   "outputs": [
    {
     "name": "stdout",
     "output_type": "stream",
     "text": [
      "SPK 210 (gender = Female) in emotion F acc = 0.0\n",
      "SPK 210 (gender = Female) in emotion S acc = 0.4330708661417323\n",
      "SPK 210 (gender = Female) in emotion N acc = 0.3351851851851852\n",
      "SPK 210 (gender = Female) in emotion D acc = 0.10465116279069768\n",
      "SPK 210 (gender = Female) in emotion C acc = 0.11740890688259109\n",
      "SPK 210 (gender = Female) in emotion A acc = 0.6103012633624878\n",
      "SPK 210 (gender = Female) in emotion U acc = 0.18292682926829268\n",
      "SPK 210 (gender = Female) in emotion H acc = 0.2864864864864865\n",
      "SPK 97 (gender = Male) in emotion H acc = 0.7272727272727273\n",
      "SPK 97 (gender = Male) in emotion C acc = 0.1282051282051282\n",
      "SPK 97 (gender = Male) in emotion N acc = 0.6432584269662921\n",
      "SPK 97 (gender = Male) in emotion D acc = 0.05333333333333334\n",
      "SPK 97 (gender = Male) in emotion U acc = 0.18705035971223022\n",
      "SPK 97 (gender = Male) in emotion A acc = 0.4945054945054945\n",
      "SPK 97 (gender = Male) in emotion F acc = 0.0\n",
      "SPK 97 (gender = Male) in emotion S acc = 0.0\n",
      "SPK 2789 (gender = Male) in emotion C acc = 0.0\n",
      "SPK 2789 (gender = Male) in emotion A acc = 0.9566137566137566\n",
      "SPK 2789 (gender = Male) in emotion H acc = 0.5949367088607594\n",
      "SPK 2789 (gender = Male) in emotion N acc = 0.24615384615384617\n",
      "SPK 2789 (gender = Male) in emotion S acc = 0.375\n",
      "SPK 2789 (gender = Male) in emotion U acc = 0.1\n",
      "SPK 2789 (gender = Male) in emotion D acc = 0.0\n",
      "SPK 54 (gender = Male) in emotion H acc = 0.5\n",
      "SPK 54 (gender = Male) in emotion N acc = 0.5609756097560976\n",
      "SPK 54 (gender = Male) in emotion D acc = 0.016129032258064516\n",
      "SPK 54 (gender = Male) in emotion C acc = 0.031746031746031744\n",
      "SPK 54 (gender = Male) in emotion A acc = 0.8557692307692307\n",
      "SPK 54 (gender = Male) in emotion F acc = 0.0\n",
      "SPK 54 (gender = Male) in emotion U acc = 0.0\n",
      "SPK 2027 (gender = Male) in emotion A acc = 0.8969465648854962\n",
      "SPK 2027 (gender = Male) in emotion C acc = 0.0\n",
      "SPK 2027 (gender = Male) in emotion N acc = 0.25\n",
      "SPK 2027 (gender = Male) in emotion H acc = 0.5925925925925926\n",
      "SPK 2027 (gender = Male) in emotion S acc = 0.2\n",
      "SPK 2027 (gender = Male) in emotion U acc = 0.1111111111111111\n",
      "SPK 2027 (gender = Male) in emotion D acc = 0.0\n",
      "SPK 2794 (gender = Male) in emotion H acc = 0.9121621621621622\n",
      "SPK 2794 (gender = Male) in emotion S acc = 0.8282828282828283\n",
      "SPK 2794 (gender = Male) in emotion N acc = 0.5473684210526316\n",
      "SPK 2794 (gender = Male) in emotion A acc = 0.3333333333333333\n",
      "SPK 2794 (gender = Male) in emotion U acc = 0.5\n",
      "SPK 2951 (gender = Male) in emotion H acc = 0.8181818181818182\n",
      "SPK 2951 (gender = Male) in emotion N acc = 0.4166666666666667\n",
      "SPK 2951 (gender = Male) in emotion A acc = 0.9485981308411215\n",
      "SPK 2951 (gender = Male) in emotion S acc = 0.5\n",
      "SPK 2951 (gender = Male) in emotion C acc = 0.0\n",
      "SPK 2951 (gender = Male) in emotion U acc = 0.0\n",
      "SPK 169 (gender = Male) in emotion H acc = 0.43137254901960786\n",
      "SPK 169 (gender = Male) in emotion N acc = 0.7293233082706767\n",
      "SPK 169 (gender = Male) in emotion C acc = 0.11538461538461539\n",
      "SPK 169 (gender = Male) in emotion A acc = 0.42105263157894735\n",
      "SPK 169 (gender = Male) in emotion U acc = 0.12121212121212122\n",
      "SPK 169 (gender = Male) in emotion S acc = 0.0\n",
      "SPK 169 (gender = Male) in emotion D acc = 0.06666666666666667\n",
      "SPK 169 (gender = Male) in emotion F acc = 0.0\n",
      "SPK 26 (gender = Female) in emotion H acc = 0.9137931034482759\n",
      "SPK 26 (gender = Female) in emotion N acc = 0.7745098039215687\n",
      "SPK 26 (gender = Female) in emotion S acc = 0.4166666666666667\n",
      "SPK 26 (gender = Female) in emotion D acc = 0.13513513513513514\n",
      "SPK 26 (gender = Female) in emotion C acc = 0.0\n",
      "SPK 26 (gender = Female) in emotion U acc = 0.375\n",
      "SPK 26 (gender = Female) in emotion A acc = 0.543859649122807\n",
      "SPK 26 (gender = Female) in emotion F acc = 0.0\n",
      "SPK 149 (gender = Female) in emotion N acc = 0.4838709677419355\n",
      "SPK 149 (gender = Female) in emotion D acc = 0.375\n",
      "SPK 149 (gender = Female) in emotion A acc = 0.5454545454545454\n",
      "SPK 149 (gender = Female) in emotion S acc = 0.43243243243243246\n",
      "SPK 149 (gender = Female) in emotion F acc = 0.0\n",
      "SPK 149 (gender = Female) in emotion H acc = 0.78125\n",
      "SPK 149 (gender = Female) in emotion C acc = 0.05263157894736842\n",
      "SPK 149 (gender = Female) in emotion U acc = 0.3076923076923077\n"
     ]
    }
   ],
   "source": [
    "for spk in top10_volumetry_spks:\n",
    "    df_filt = preds[preds['SpkrID']==spk]\n",
    "    gender = df_filt.Gender.values[0]\n",
    "    for e in df_filt['EmoClass'].unique():\n",
    "        acc = accuracy_score(df_filt[df_filt['EmoClass']==e]['EmoClass'], df_filt[df_filt['EmoClass']==e]['Prediction'])\n",
    "        print(f'SPK {spk} (gender = {gender}) in emotion {e} acc = {acc}')"
   ]
  },
  {
   "cell_type": "markdown",
   "id": "d050bd83-f890-4b04-b178-4f5a2c119c2c",
   "metadata": {},
   "source": [
    "# Dimensional"
   ]
  },
  {
   "cell_type": "code",
   "execution_count": 31,
   "id": "14344c0d-0250-4a39-a97c-26ae088cfd3b",
   "metadata": {},
   "outputs": [
    {
     "name": "stdout",
     "output_type": "stream",
     "text": [
      "dev.csv  test3.csv\n"
     ]
    }
   ],
   "source": [
    "!ls ../benchmark/model/dim_ser/7/results"
   ]
  },
  {
   "cell_type": "code",
   "execution_count": 32,
   "id": "d71ba360-1a4d-4c0e-8ea3-ef86876b75a7",
   "metadata": {},
   "outputs": [
    {
     "data": {
      "text/html": [
       "<div>\n",
       "<style scoped>\n",
       "    .dataframe tbody tr th:only-of-type {\n",
       "        vertical-align: middle;\n",
       "    }\n",
       "\n",
       "    .dataframe tbody tr th {\n",
       "        vertical-align: top;\n",
       "    }\n",
       "\n",
       "    .dataframe thead th {\n",
       "        text-align: right;\n",
       "    }\n",
       "</style>\n",
       "<table border=\"1\" class=\"dataframe\">\n",
       "  <thead>\n",
       "    <tr style=\"text-align: right;\">\n",
       "      <th></th>\n",
       "      <th>FileName</th>\n",
       "      <th>EmoAct</th>\n",
       "      <th>EmoVal</th>\n",
       "      <th>EmoDom</th>\n",
       "    </tr>\n",
       "  </thead>\n",
       "  <tbody>\n",
       "    <tr>\n",
       "      <th>0</th>\n",
       "      <td>MSP-PODCAST_0002_0033.wav</td>\n",
       "      <td>4.110488</td>\n",
       "      <td>3.377474</td>\n",
       "      <td>4.107728</td>\n",
       "    </tr>\n",
       "    <tr>\n",
       "      <th>1</th>\n",
       "      <td>MSP-PODCAST_0002_0039.wav</td>\n",
       "      <td>4.309968</td>\n",
       "      <td>3.705411</td>\n",
       "      <td>4.469491</td>\n",
       "    </tr>\n",
       "    <tr>\n",
       "      <th>2</th>\n",
       "      <td>MSP-PODCAST_0002_0051.wav</td>\n",
       "      <td>3.757301</td>\n",
       "      <td>4.351225</td>\n",
       "      <td>4.176206</td>\n",
       "    </tr>\n",
       "    <tr>\n",
       "      <th>3</th>\n",
       "      <td>MSP-PODCAST_0002_0059.wav</td>\n",
       "      <td>4.127300</td>\n",
       "      <td>3.831695</td>\n",
       "      <td>4.195695</td>\n",
       "    </tr>\n",
       "    <tr>\n",
       "      <th>4</th>\n",
       "      <td>MSP-PODCAST_0002_0061.wav</td>\n",
       "      <td>4.053204</td>\n",
       "      <td>3.987261</td>\n",
       "      <td>4.183712</td>\n",
       "    </tr>\n",
       "  </tbody>\n",
       "</table>\n",
       "</div>"
      ],
      "text/plain": [
       "                    FileName    EmoAct    EmoVal    EmoDom\n",
       "0  MSP-PODCAST_0002_0033.wav  4.110488  3.377474  4.107728\n",
       "1  MSP-PODCAST_0002_0039.wav  4.309968  3.705411  4.469491\n",
       "2  MSP-PODCAST_0002_0051.wav  3.757301  4.351225  4.176206\n",
       "3  MSP-PODCAST_0002_0059.wav  4.127300  3.831695  4.195695\n",
       "4  MSP-PODCAST_0002_0061.wav  4.053204  3.987261  4.183712"
      ]
     },
     "execution_count": 32,
     "metadata": {},
     "output_type": "execute_result"
    }
   ],
   "source": [
    "preds = pd.read_csv('../benchmark/model/dim_ser/7/results/dev.csv')\n",
    "preds.head()"
   ]
  },
  {
   "cell_type": "code",
   "execution_count": 28,
   "id": "23fd2162-6c5e-4f1d-aefb-289a838495c7",
   "metadata": {},
   "outputs": [
    {
     "data": {
      "text/html": [
       "<div>\n",
       "<style scoped>\n",
       "    .dataframe tbody tr th:only-of-type {\n",
       "        vertical-align: middle;\n",
       "    }\n",
       "\n",
       "    .dataframe tbody tr th {\n",
       "        vertical-align: top;\n",
       "    }\n",
       "\n",
       "    .dataframe thead th {\n",
       "        text-align: right;\n",
       "    }\n",
       "</style>\n",
       "<table border=\"1\" class=\"dataframe\">\n",
       "  <thead>\n",
       "    <tr style=\"text-align: right;\">\n",
       "      <th></th>\n",
       "      <th>FileName</th>\n",
       "      <th>EmoClass</th>\n",
       "      <th>EmoAct</th>\n",
       "      <th>EmoVal</th>\n",
       "      <th>EmoDom</th>\n",
       "      <th>SpkrID</th>\n",
       "      <th>Gender</th>\n",
       "      <th>Split_Set</th>\n",
       "    </tr>\n",
       "  </thead>\n",
       "  <tbody>\n",
       "    <tr>\n",
       "      <th>0</th>\n",
       "      <td>MSP-PODCAST_0002_0033.wav</td>\n",
       "      <td>N</td>\n",
       "      <td>4.8</td>\n",
       "      <td>4.2</td>\n",
       "      <td>5.4</td>\n",
       "      <td>127</td>\n",
       "      <td>Female</td>\n",
       "      <td>Development</td>\n",
       "    </tr>\n",
       "    <tr>\n",
       "      <th>1</th>\n",
       "      <td>MSP-PODCAST_0002_0039.wav</td>\n",
       "      <td>N</td>\n",
       "      <td>4.0</td>\n",
       "      <td>4.2</td>\n",
       "      <td>4.2</td>\n",
       "      <td>127</td>\n",
       "      <td>Female</td>\n",
       "      <td>Development</td>\n",
       "    </tr>\n",
       "  </tbody>\n",
       "</table>\n",
       "</div>"
      ],
      "text/plain": [
       "                    FileName EmoClass  EmoAct  EmoVal  EmoDom  SpkrID  Gender  \\\n",
       "0  MSP-PODCAST_0002_0033.wav        N     4.8     4.2     5.4     127  Female   \n",
       "1  MSP-PODCAST_0002_0039.wav        N     4.0     4.2     4.2     127  Female   \n",
       "\n",
       "     Split_Set  \n",
       "0  Development  \n",
       "1  Development  "
      ]
     },
     "execution_count": 28,
     "metadata": {},
     "output_type": "execute_result"
    }
   ],
   "source": [
    "df = pd.read_csv('/workspace/lucas.ueda/interspeech_ser/data/Labels/labels_consensus.csv')\n",
    "df.head(2)"
   ]
  },
  {
   "cell_type": "code",
   "execution_count": 47,
   "id": "58a3082d-d674-4645-8afd-261746c190f8",
   "metadata": {},
   "outputs": [],
   "source": [
    "preds = preds.merge(df[['FileName','EmoAct','EmoVal','EmoDom']], how='left', on = 'FileName')"
   ]
  },
  {
   "cell_type": "code",
   "execution_count": 49,
   "id": "bf318819-5944-4d28-b71f-ffd7751540f9",
   "metadata": {},
   "outputs": [
    {
     "data": {
      "text/html": [
       "<div>\n",
       "<style scoped>\n",
       "    .dataframe tbody tr th:only-of-type {\n",
       "        vertical-align: middle;\n",
       "    }\n",
       "\n",
       "    .dataframe tbody tr th {\n",
       "        vertical-align: top;\n",
       "    }\n",
       "\n",
       "    .dataframe thead th {\n",
       "        text-align: right;\n",
       "    }\n",
       "</style>\n",
       "<table border=\"1\" class=\"dataframe\">\n",
       "  <thead>\n",
       "    <tr style=\"text-align: right;\">\n",
       "      <th></th>\n",
       "      <th>FileName</th>\n",
       "      <th>EmoAct_x</th>\n",
       "      <th>EmoVal_x</th>\n",
       "      <th>EmoDom_x</th>\n",
       "      <th>EmoAct_y</th>\n",
       "      <th>EmoVal_y</th>\n",
       "      <th>EmoDom_y</th>\n",
       "    </tr>\n",
       "  </thead>\n",
       "  <tbody>\n",
       "    <tr>\n",
       "      <th>0</th>\n",
       "      <td>MSP-PODCAST_0002_0033.wav</td>\n",
       "      <td>4.110488</td>\n",
       "      <td>3.377474</td>\n",
       "      <td>4.107728</td>\n",
       "      <td>4.8</td>\n",
       "      <td>4.2</td>\n",
       "      <td>5.4</td>\n",
       "    </tr>\n",
       "    <tr>\n",
       "      <th>1</th>\n",
       "      <td>MSP-PODCAST_0002_0039.wav</td>\n",
       "      <td>4.309968</td>\n",
       "      <td>3.705411</td>\n",
       "      <td>4.469491</td>\n",
       "      <td>4.0</td>\n",
       "      <td>4.2</td>\n",
       "      <td>4.2</td>\n",
       "    </tr>\n",
       "  </tbody>\n",
       "</table>\n",
       "</div>"
      ],
      "text/plain": [
       "                    FileName  EmoAct_x  EmoVal_x  EmoDom_x  EmoAct_y  \\\n",
       "0  MSP-PODCAST_0002_0033.wav  4.110488  3.377474  4.107728       4.8   \n",
       "1  MSP-PODCAST_0002_0039.wav  4.309968  3.705411  4.469491       4.0   \n",
       "\n",
       "   EmoVal_y  EmoDom_y  \n",
       "0       4.2       5.4  \n",
       "1       4.2       4.2  "
      ]
     },
     "execution_count": 49,
     "metadata": {},
     "output_type": "execute_result"
    }
   ],
   "source": [
    "preds.head(2)"
   ]
  },
  {
   "cell_type": "code",
   "execution_count": 48,
   "id": "44fd8c93-f07e-4987-96cf-1fd91cb493b2",
   "metadata": {},
   "outputs": [],
   "source": [
    "import torch\n",
    "def CCC_loss(pred, lab, m_lab=None, v_lab=None, is_numpy=True):\n",
    "    \"\"\"\n",
    "    pred: (N, 3)\n",
    "    lab: (N, 3)\n",
    "    \"\"\"\n",
    "    if is_numpy:\n",
    "        pred = torch.Tensor(pred).float()\n",
    "        lab = torch.Tensor(lab).float()\n",
    "    \n",
    "    m_pred = torch.mean(pred, 0, keepdim=True)\n",
    "    m_lab = torch.mean(lab, 0, keepdim=True)\n",
    "\n",
    "    d_pred = pred - m_pred\n",
    "    d_lab = lab - m_lab\n",
    "\n",
    "    v_pred = torch.var(pred, 0, unbiased=False)\n",
    "    v_lab = torch.var(lab, 0, unbiased=False)\n",
    "\n",
    "    corr = torch.sum(d_pred * d_lab, 0) / (torch.sqrt(torch.sum(d_pred ** 2, 0)) * torch.sqrt(torch.sum(d_lab ** 2, 0)))\n",
    "\n",
    "    s_pred = torch.std(pred, 0, unbiased=False)\n",
    "    s_lab = torch.std(lab, 0, unbiased=False)\n",
    "\n",
    "    ccc = (2*corr*s_pred*s_lab) / (v_pred + v_lab + (m_pred[0]-m_lab[0])**2)    \n",
    "    return ccc"
   ]
  },
  {
   "cell_type": "code",
   "execution_count": 54,
   "id": "6c0a954f-9e58-45bb-a198-4c35c6d370da",
   "metadata": {},
   "outputs": [
    {
     "data": {
      "text/plain": [
       "tensor([0.6949, 0.7050, 0.6312])"
      ]
     },
     "execution_count": 54,
     "metadata": {},
     "output_type": "execute_result"
    }
   ],
   "source": [
    "CCC_loss(preds[['EmoAct_x','EmoVal_x','EmoDom_x']].values,preds[['EmoAct_y','EmoVal_y','EmoDom_y']].values)"
   ]
  },
  {
   "cell_type": "code",
   "execution_count": 55,
   "id": "1afe25e1-81c1-44dc-ae5e-bb45f7b0253b",
   "metadata": {},
   "outputs": [],
   "source": [
    "preds['EmoAct_d'] = preds['EmoAct_y'].mean() \n",
    "preds['EmoVal_d'] = preds['EmoVal_y'].mean() \n",
    "preds['EmoDom_d'] = preds['EmoDom_y'].mean() "
   ]
  },
  {
   "cell_type": "code",
   "execution_count": 56,
   "id": "39b76776-f62a-48a9-a42e-4e7c828d9a6c",
   "metadata": {},
   "outputs": [
    {
     "data": {
      "text/plain": [
       "tensor([-0., -0., -0.])"
      ]
     },
     "execution_count": 56,
     "metadata": {},
     "output_type": "execute_result"
    }
   ],
   "source": [
    "CCC_loss(preds[['EmoAct_d','EmoVal_d','EmoDom_d']].values,preds[['EmoAct_y','EmoVal_y','EmoDom_y']].values)"
   ]
  },
  {
   "cell_type": "code",
   "execution_count": null,
   "id": "e4940eb7-460e-410d-907b-a8081584ef5c",
   "metadata": {},
   "outputs": [],
   "source": []
  }
 ],
 "metadata": {
  "kernelspec": {
   "display_name": "Python 3 (ipykernel)",
   "language": "python",
   "name": "python3"
  },
  "language_info": {
   "codemirror_mode": {
    "name": "ipython",
    "version": 3
   },
   "file_extension": ".py",
   "mimetype": "text/x-python",
   "name": "python",
   "nbconvert_exporter": "python",
   "pygments_lexer": "ipython3",
   "version": "3.10.8"
  }
 },
 "nbformat": 4,
 "nbformat_minor": 5
}
