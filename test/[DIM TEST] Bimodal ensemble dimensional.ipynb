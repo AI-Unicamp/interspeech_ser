{
 "cells": [
  {
   "cell_type": "code",
   "execution_count": null,
   "id": "607c5c82-3f02-4bea-9cfa-9d24f7484069",
   "metadata": {},
   "outputs": [],
   "source": []
  },
  {
   "cell_type": "code",
   "execution_count": 16,
   "id": "d30bdb9f-8704-4a6b-b074-05afbe73dfc8",
   "metadata": {},
   "outputs": [],
   "source": [
    "import pandas as pd\n",
    "import numpy as np"
   ]
  },
  {
   "cell_type": "code",
   "execution_count": 17,
   "id": "5fc017e4-c8fe-4ec6-b607-57e197608526",
   "metadata": {},
   "outputs": [],
   "source": [
    "experiments_list = [\n",
    "    # 'dim_multimodalmodel_wavlmlarge_robertalarge_lazyload_lr1e4_cka',\n",
    "    # 'dim_multimodalmodel_wav2vec2_xls_2b_robertalarge_lazyload_lr1e5_cka',\n",
    "    # \"dim_multimodalmodel_wavlmlarge_robertalarge_lazyload_lr1e4_mse\",\n",
    "    \"dim_multimodalmodel_wavlmlarge_robertalarge_lazyload_lr1e4\",\n",
    "    \"dim_multimodalmodel_hubert_xlarge_robertalarge_lazyload_lr1e5\",\n",
    "    \"dim_multimodalmodel_whisperlarge_robertalarge_lazyload_lr1e5\"\n",
    "]\n",
    "\n",
    "dfs = []\n",
    "\n",
    "for exp in experiments_list:\n",
    "\n",
    "    dfs.append(pd.read_csv(f'../experiments/{exp}/results/test.csv'))\n",
    "# preds.head()"
   ]
  },
  {
   "cell_type": "code",
   "execution_count": 18,
   "id": "6e18862d-2ec0-49fd-ad84-c707d9cd7bbc",
   "metadata": {},
   "outputs": [],
   "source": [
    "# combined_df.shape, dfs[0].shape"
   ]
  },
  {
   "cell_type": "code",
   "execution_count": null,
   "id": "a03666d3-701d-4f9b-92db-bdbec7c3e5f8",
   "metadata": {},
   "outputs": [],
   "source": []
  },
  {
   "cell_type": "code",
   "execution_count": 19,
   "id": "7d4ed897-e471-47cf-ba1c-e70b7466a062",
   "metadata": {},
   "outputs": [],
   "source": [
    "combined_df = pd.concat(dfs, ignore_index=True)"
   ]
  },
  {
   "cell_type": "code",
   "execution_count": 20,
   "id": "289e2527-2a7f-4e01-882d-7b386ecad212",
   "metadata": {},
   "outputs": [
    {
     "name": "stderr",
     "output_type": "stream",
     "text": [
      "/tmp/ipykernel_1817001/3698676199.py:1: FutureWarning: The provided callable <function mean at 0x7b923d920700> is currently using SeriesGroupBy.mean. In a future version of pandas, the provided callable will be used directly. To keep current behavior pass 'mean' instead.\n",
      "  preds = combined_df.groupby('Filename').agg({'EmoAct_pred': np.mean,'EmoVal_pred':np.mean,'EmoDom_pred':np.mean}).reset_index()\n",
      "/tmp/ipykernel_1817001/3698676199.py:1: FutureWarning: The provided callable <function mean at 0x7b923d920700> is currently using SeriesGroupBy.mean. In a future version of pandas, the provided callable will be used directly. To keep current behavior pass 'mean' instead.\n",
      "  preds = combined_df.groupby('Filename').agg({'EmoAct_pred': np.mean,'EmoVal_pred':np.mean,'EmoDom_pred':np.mean}).reset_index()\n"
     ]
    }
   ],
   "source": [
    "preds = combined_df.groupby('Filename').agg({'EmoAct_pred': np.mean,'EmoVal_pred':np.mean,'EmoDom_pred':np.mean}).reset_index()"
   ]
  },
  {
   "cell_type": "code",
   "execution_count": 21,
   "id": "c6771be3-748e-49e4-9840-2d3f4e2b9861",
   "metadata": {},
   "outputs": [
    {
     "data": {
      "text/html": [
       "<div>\n",
       "<style scoped>\n",
       "    .dataframe tbody tr th:only-of-type {\n",
       "        vertical-align: middle;\n",
       "    }\n",
       "\n",
       "    .dataframe tbody tr th {\n",
       "        vertical-align: top;\n",
       "    }\n",
       "\n",
       "    .dataframe thead th {\n",
       "        text-align: right;\n",
       "    }\n",
       "</style>\n",
       "<table border=\"1\" class=\"dataframe\">\n",
       "  <thead>\n",
       "    <tr style=\"text-align: right;\">\n",
       "      <th></th>\n",
       "      <th>Filename</th>\n",
       "      <th>EmoAct_pred</th>\n",
       "      <th>EmoVal_pred</th>\n",
       "      <th>EmoDom_pred</th>\n",
       "    </tr>\n",
       "  </thead>\n",
       "  <tbody>\n",
       "    <tr>\n",
       "      <th>0</th>\n",
       "      <td>MSP-PODCAST_test3_0001.wav</td>\n",
       "      <td>2.269758</td>\n",
       "      <td>2.926405</td>\n",
       "      <td>2.597856</td>\n",
       "    </tr>\n",
       "    <tr>\n",
       "      <th>1</th>\n",
       "      <td>MSP-PODCAST_test3_0002.wav</td>\n",
       "      <td>3.871503</td>\n",
       "      <td>3.100317</td>\n",
       "      <td>4.102466</td>\n",
       "    </tr>\n",
       "    <tr>\n",
       "      <th>2</th>\n",
       "      <td>MSP-PODCAST_test3_0003.wav</td>\n",
       "      <td>1.748898</td>\n",
       "      <td>2.791306</td>\n",
       "      <td>2.299717</td>\n",
       "    </tr>\n",
       "    <tr>\n",
       "      <th>3</th>\n",
       "      <td>MSP-PODCAST_test3_0004.wav</td>\n",
       "      <td>3.142224</td>\n",
       "      <td>2.465293</td>\n",
       "      <td>3.528655</td>\n",
       "    </tr>\n",
       "    <tr>\n",
       "      <th>4</th>\n",
       "      <td>MSP-PODCAST_test3_0005.wav</td>\n",
       "      <td>2.999203</td>\n",
       "      <td>3.599456</td>\n",
       "      <td>3.421839</td>\n",
       "    </tr>\n",
       "  </tbody>\n",
       "</table>\n",
       "</div>"
      ],
      "text/plain": [
       "                     Filename  EmoAct_pred  EmoVal_pred  EmoDom_pred\n",
       "0  MSP-PODCAST_test3_0001.wav     2.269758     2.926405     2.597856\n",
       "1  MSP-PODCAST_test3_0002.wav     3.871503     3.100317     4.102466\n",
       "2  MSP-PODCAST_test3_0003.wav     1.748898     2.791306     2.299717\n",
       "3  MSP-PODCAST_test3_0004.wav     3.142224     2.465293     3.528655\n",
       "4  MSP-PODCAST_test3_0005.wav     2.999203     3.599456     3.421839"
      ]
     },
     "execution_count": 21,
     "metadata": {},
     "output_type": "execute_result"
    }
   ],
   "source": [
    "preds.head()"
   ]
  },
  {
   "cell_type": "code",
   "execution_count": 22,
   "id": "4b67afc8-482b-4b45-bb7e-6c053f1f5f19",
   "metadata": {},
   "outputs": [],
   "source": [
    "preds['FileName'] = preds['Filename']\n",
    "preds['EmoAct'] = preds['EmoAct_pred']\n",
    "preds['EmoVal'] = preds['EmoVal_pred']\n",
    "preds['EmoDom'] = preds['EmoDom_pred']\n",
    "\n",
    "columns = ['FileName', 'EmoAct', 'EmoVal', 'EmoDom']"
   ]
  },
  {
   "cell_type": "code",
   "execution_count": null,
   "id": "8b9112a2-f805-4524-b892-5da1395d2b86",
   "metadata": {},
   "outputs": [],
   "source": []
  },
  {
   "cell_type": "code",
   "execution_count": 23,
   "id": "020f8555-b8b0-4580-9ef2-e1f7b94d659e",
   "metadata": {},
   "outputs": [],
   "source": [
    "preds = preds.sort_values(by='FileName').reset_index(drop = True)\n",
    "preds[columns].to_csv(\"../submissions/dim_bimodal_ensemble3.csv\", index=False)"
   ]
  },
  {
   "cell_type": "code",
   "execution_count": null,
   "id": "260d9802-9287-45d3-9c53-a44516ef67a3",
   "metadata": {},
   "outputs": [],
   "source": []
  },
  {
   "cell_type": "code",
   "execution_count": null,
   "id": "4bef02e5-34b4-4a1b-9950-0e907f66b2c0",
   "metadata": {},
   "outputs": [],
   "source": []
  },
  {
   "cell_type": "code",
   "execution_count": null,
   "id": "e821536d-2d69-4888-8bed-99c63f13fc1d",
   "metadata": {},
   "outputs": [],
   "source": []
  },
  {
   "cell_type": "code",
   "execution_count": null,
   "id": "0921b733-c759-42fa-8a15-35367ff8aa92",
   "metadata": {},
   "outputs": [],
   "source": []
  },
  {
   "cell_type": "code",
   "execution_count": null,
   "id": "d75fc25e-0472-4d7f-817d-d0d35dcd3030",
   "metadata": {},
   "outputs": [],
   "source": []
  },
  {
   "cell_type": "code",
   "execution_count": null,
   "id": "55529f30-2217-4fcc-bd29-0759366128ad",
   "metadata": {},
   "outputs": [],
   "source": []
  },
  {
   "cell_type": "code",
   "execution_count": 29,
   "id": "9ca46356-04ea-491c-8aaa-687a04b9585f",
   "metadata": {},
   "outputs": [
    {
     "data": {
      "text/html": [
       "<div>\n",
       "<style scoped>\n",
       "    .dataframe tbody tr th:only-of-type {\n",
       "        vertical-align: middle;\n",
       "    }\n",
       "\n",
       "    .dataframe tbody tr th {\n",
       "        vertical-align: top;\n",
       "    }\n",
       "\n",
       "    .dataframe thead th {\n",
       "        text-align: right;\n",
       "    }\n",
       "</style>\n",
       "<table border=\"1\" class=\"dataframe\">\n",
       "  <thead>\n",
       "    <tr style=\"text-align: right;\">\n",
       "      <th></th>\n",
       "      <th>FileName</th>\n",
       "      <th>EmoClass</th>\n",
       "      <th>EmoAct</th>\n",
       "      <th>EmoVal</th>\n",
       "      <th>EmoDom</th>\n",
       "      <th>SpkrID</th>\n",
       "      <th>Gender</th>\n",
       "      <th>Split_Set</th>\n",
       "    </tr>\n",
       "  </thead>\n",
       "  <tbody>\n",
       "    <tr>\n",
       "      <th>0</th>\n",
       "      <td>MSP-PODCAST_0002_0033.wav</td>\n",
       "      <td>N</td>\n",
       "      <td>4.8</td>\n",
       "      <td>4.2</td>\n",
       "      <td>5.4</td>\n",
       "      <td>127</td>\n",
       "      <td>Female</td>\n",
       "      <td>Development</td>\n",
       "    </tr>\n",
       "    <tr>\n",
       "      <th>1</th>\n",
       "      <td>MSP-PODCAST_0002_0039.wav</td>\n",
       "      <td>N</td>\n",
       "      <td>4.0</td>\n",
       "      <td>4.2</td>\n",
       "      <td>4.2</td>\n",
       "      <td>127</td>\n",
       "      <td>Female</td>\n",
       "      <td>Development</td>\n",
       "    </tr>\n",
       "    <tr>\n",
       "      <th>2</th>\n",
       "      <td>MSP-PODCAST_0002_0051.wav</td>\n",
       "      <td>N</td>\n",
       "      <td>4.0</td>\n",
       "      <td>4.2</td>\n",
       "      <td>4.2</td>\n",
       "      <td>127</td>\n",
       "      <td>Female</td>\n",
       "      <td>Development</td>\n",
       "    </tr>\n",
       "    <tr>\n",
       "      <th>3</th>\n",
       "      <td>MSP-PODCAST_0002_0059.wav</td>\n",
       "      <td>X</td>\n",
       "      <td>4.0</td>\n",
       "      <td>3.8</td>\n",
       "      <td>4.0</td>\n",
       "      <td>128</td>\n",
       "      <td>Female</td>\n",
       "      <td>Development</td>\n",
       "    </tr>\n",
       "    <tr>\n",
       "      <th>4</th>\n",
       "      <td>MSP-PODCAST_0002_0061.wav</td>\n",
       "      <td>F</td>\n",
       "      <td>3.4</td>\n",
       "      <td>2.8</td>\n",
       "      <td>4.2</td>\n",
       "      <td>128</td>\n",
       "      <td>Female</td>\n",
       "      <td>Development</td>\n",
       "    </tr>\n",
       "  </tbody>\n",
       "</table>\n",
       "</div>"
      ],
      "text/plain": [
       "                    FileName EmoClass  EmoAct  EmoVal  EmoDom  SpkrID  Gender  \\\n",
       "0  MSP-PODCAST_0002_0033.wav        N     4.8     4.2     5.4     127  Female   \n",
       "1  MSP-PODCAST_0002_0039.wav        N     4.0     4.2     4.2     127  Female   \n",
       "2  MSP-PODCAST_0002_0051.wav        N     4.0     4.2     4.2     127  Female   \n",
       "3  MSP-PODCAST_0002_0059.wav        X     4.0     3.8     4.0     128  Female   \n",
       "4  MSP-PODCAST_0002_0061.wav        F     3.4     2.8     4.2     128  Female   \n",
       "\n",
       "     Split_Set  \n",
       "0  Development  \n",
       "1  Development  \n",
       "2  Development  \n",
       "3  Development  \n",
       "4  Development  "
      ]
     },
     "execution_count": 29,
     "metadata": {},
     "output_type": "execute_result"
    }
   ],
   "source": [
    "df = pd.read_csv('/workspace/lucas.ueda/interspeech_ser/data/Labels/labels_consensus.csv')\n",
    "df.head()"
   ]
  },
  {
   "cell_type": "code",
   "execution_count": null,
   "id": "f485c30a-2581-4036-85ad-bff4491828c0",
   "metadata": {},
   "outputs": [],
   "source": []
  },
  {
   "cell_type": "code",
   "execution_count": null,
   "id": "a60bf0d2-526f-4662-bb7b-da870e18ea77",
   "metadata": {},
   "outputs": [],
   "source": []
  },
  {
   "cell_type": "code",
   "execution_count": 30,
   "id": "c3efa84c-a42c-4b16-adb9-6c0af843a12e",
   "metadata": {},
   "outputs": [],
   "source": [
    "preds['FileName'] = preds['Filename']\n",
    "preds = preds.merge(df[['FileName','EmoAct','EmoVal','EmoDom','Gender','SpkrID']], how='left', on = 'FileName')"
   ]
  },
  {
   "cell_type": "code",
   "execution_count": 31,
   "id": "0fbaa4bd-7393-44ea-a465-e088fc022055",
   "metadata": {},
   "outputs": [],
   "source": [
    "# preds['EmoClass'].isnull().sum()"
   ]
  },
  {
   "cell_type": "code",
   "execution_count": 32,
   "id": "22a3faa7-164e-4b1d-86e3-e6d9e058e3c5",
   "metadata": {},
   "outputs": [
    {
     "data": {
      "text/html": [
       "<div>\n",
       "<style scoped>\n",
       "    .dataframe tbody tr th:only-of-type {\n",
       "        vertical-align: middle;\n",
       "    }\n",
       "\n",
       "    .dataframe tbody tr th {\n",
       "        vertical-align: top;\n",
       "    }\n",
       "\n",
       "    .dataframe thead th {\n",
       "        text-align: right;\n",
       "    }\n",
       "</style>\n",
       "<table border=\"1\" class=\"dataframe\">\n",
       "  <thead>\n",
       "    <tr style=\"text-align: right;\">\n",
       "      <th></th>\n",
       "      <th>Filename</th>\n",
       "      <th>EmoAct_pred</th>\n",
       "      <th>EmoVal_pred</th>\n",
       "      <th>EmoDom_pred</th>\n",
       "      <th>FileName</th>\n",
       "      <th>EmoAct</th>\n",
       "      <th>EmoVal</th>\n",
       "      <th>EmoDom</th>\n",
       "      <th>Gender</th>\n",
       "      <th>SpkrID</th>\n",
       "    </tr>\n",
       "  </thead>\n",
       "  <tbody>\n",
       "    <tr>\n",
       "      <th>0</th>\n",
       "      <td>MSP-PODCAST_0002_0033.wav</td>\n",
       "      <td>3.969050</td>\n",
       "      <td>2.887507</td>\n",
       "      <td>3.883964</td>\n",
       "      <td>MSP-PODCAST_0002_0033.wav</td>\n",
       "      <td>4.8</td>\n",
       "      <td>4.2</td>\n",
       "      <td>5.4</td>\n",
       "      <td>Female</td>\n",
       "      <td>127</td>\n",
       "    </tr>\n",
       "    <tr>\n",
       "      <th>1</th>\n",
       "      <td>MSP-PODCAST_0002_0039.wav</td>\n",
       "      <td>3.851024</td>\n",
       "      <td>3.302966</td>\n",
       "      <td>3.826526</td>\n",
       "      <td>MSP-PODCAST_0002_0039.wav</td>\n",
       "      <td>4.0</td>\n",
       "      <td>4.2</td>\n",
       "      <td>4.2</td>\n",
       "      <td>Female</td>\n",
       "      <td>127</td>\n",
       "    </tr>\n",
       "    <tr>\n",
       "      <th>2</th>\n",
       "      <td>MSP-PODCAST_0002_0051.wav</td>\n",
       "      <td>3.477084</td>\n",
       "      <td>3.643494</td>\n",
       "      <td>3.642449</td>\n",
       "      <td>MSP-PODCAST_0002_0051.wav</td>\n",
       "      <td>4.0</td>\n",
       "      <td>4.2</td>\n",
       "      <td>4.2</td>\n",
       "      <td>Female</td>\n",
       "      <td>127</td>\n",
       "    </tr>\n",
       "    <tr>\n",
       "      <th>3</th>\n",
       "      <td>MSP-PODCAST_0002_0059.wav</td>\n",
       "      <td>3.752211</td>\n",
       "      <td>3.498477</td>\n",
       "      <td>3.744045</td>\n",
       "      <td>MSP-PODCAST_0002_0059.wav</td>\n",
       "      <td>4.0</td>\n",
       "      <td>3.8</td>\n",
       "      <td>4.0</td>\n",
       "      <td>Female</td>\n",
       "      <td>128</td>\n",
       "    </tr>\n",
       "    <tr>\n",
       "      <th>4</th>\n",
       "      <td>MSP-PODCAST_0002_0061.wav</td>\n",
       "      <td>3.706166</td>\n",
       "      <td>3.301337</td>\n",
       "      <td>3.757827</td>\n",
       "      <td>MSP-PODCAST_0002_0061.wav</td>\n",
       "      <td>3.4</td>\n",
       "      <td>2.8</td>\n",
       "      <td>4.2</td>\n",
       "      <td>Female</td>\n",
       "      <td>128</td>\n",
       "    </tr>\n",
       "  </tbody>\n",
       "</table>\n",
       "</div>"
      ],
      "text/plain": [
       "                    Filename  EmoAct_pred  EmoVal_pred  EmoDom_pred  \\\n",
       "0  MSP-PODCAST_0002_0033.wav     3.969050     2.887507     3.883964   \n",
       "1  MSP-PODCAST_0002_0039.wav     3.851024     3.302966     3.826526   \n",
       "2  MSP-PODCAST_0002_0051.wav     3.477084     3.643494     3.642449   \n",
       "3  MSP-PODCAST_0002_0059.wav     3.752211     3.498477     3.744045   \n",
       "4  MSP-PODCAST_0002_0061.wav     3.706166     3.301337     3.757827   \n",
       "\n",
       "                    FileName  EmoAct  EmoVal  EmoDom  Gender  SpkrID  \n",
       "0  MSP-PODCAST_0002_0033.wav     4.8     4.2     5.4  Female     127  \n",
       "1  MSP-PODCAST_0002_0039.wav     4.0     4.2     4.2  Female     127  \n",
       "2  MSP-PODCAST_0002_0051.wav     4.0     4.2     4.2  Female     127  \n",
       "3  MSP-PODCAST_0002_0059.wav     4.0     3.8     4.0  Female     128  \n",
       "4  MSP-PODCAST_0002_0061.wav     3.4     2.8     4.2  Female     128  "
      ]
     },
     "execution_count": 32,
     "metadata": {},
     "output_type": "execute_result"
    }
   ],
   "source": [
    "preds.head()"
   ]
  },
  {
   "cell_type": "code",
   "execution_count": 33,
   "id": "ecfbcdb1-b9cf-44f6-8b88-bc8adce462d6",
   "metadata": {},
   "outputs": [],
   "source": [
    "c = CCC_loss(preds[['EmoAct_pred','EmoVal_pred','EmoDom_pred']].values,preds[['EmoAct','EmoVal','EmoDom']].values)"
   ]
  },
  {
   "cell_type": "code",
   "execution_count": 34,
   "id": "a35cfdd4-102c-461f-ac23-2a91199d522a",
   "metadata": {},
   "outputs": [
    {
     "data": {
      "text/plain": [
       "(0.6491772532463074, 0.6893381476402283, 0.5675678253173828)"
      ]
     },
     "execution_count": 34,
     "metadata": {},
     "output_type": "execute_result"
    }
   ],
   "source": [
    "c[0].item(), c[1].item(), c[2].item()"
   ]
  },
  {
   "cell_type": "code",
   "execution_count": null,
   "id": "5c141266-94c6-4f82-9f45-6fb9dbfdf9cf",
   "metadata": {},
   "outputs": [],
   "source": []
  },
  {
   "cell_type": "code",
   "execution_count": 35,
   "id": "748ae964-f2d3-438d-83b7-9ae322e6565b",
   "metadata": {},
   "outputs": [],
   "source": [
    "# Average F1-score using bootstrap\n",
    "act = []\n",
    "val = []\n",
    "dom = []\n",
    "\n",
    "for i in range(100):\n",
    "    preds_subset = preds.sample(1000).reset_index(drop=True)\n",
    "    c = CCC_loss(preds_subset[['EmoAct_pred','EmoVal_pred','EmoDom_pred']].values,preds_subset[['EmoAct','EmoVal','EmoDom']].values)\n",
    "\n",
    "    act.append(c[0].item())\n",
    "    val.append(c[1].item())\n",
    "    dom.append(c[2].item())"
   ]
  },
  {
   "cell_type": "code",
   "execution_count": 36,
   "id": "2e6b9925-5090-4853-945b-32f407dd562c",
   "metadata": {},
   "outputs": [
    {
     "data": {
      "text/plain": [
       "(0.6512376266717911, 0.6896158766746521, 0.5711691707372666)"
      ]
     },
     "execution_count": 36,
     "metadata": {},
     "output_type": "execute_result"
    }
   ],
   "source": [
    "np.mean(act), np.mean(val), np.mean(dom)"
   ]
  },
  {
   "cell_type": "code",
   "execution_count": 37,
   "id": "98502836-1c7a-4c2d-81a4-97c4a00aea7f",
   "metadata": {},
   "outputs": [
    {
     "data": {
      "text/plain": [
       "(0.5960695147514343, 0.6350388526916504, 0.5166829824447632)"
      ]
     },
     "execution_count": 37,
     "metadata": {},
     "output_type": "execute_result"
    }
   ],
   "source": [
    "np.min(act), np.min(val), np.min(dom)"
   ]
  },
  {
   "cell_type": "code",
   "execution_count": 38,
   "id": "42842b7f-11e5-41e2-a096-15166202f796",
   "metadata": {},
   "outputs": [
    {
     "data": {
      "text/plain": [
       "(0.7011719346046448, 0.7274823784828186, 0.6214733123779297)"
      ]
     },
     "execution_count": 38,
     "metadata": {},
     "output_type": "execute_result"
    }
   ],
   "source": [
    "np.max(act), np.max(val), np.max(dom)"
   ]
  },
  {
   "cell_type": "code",
   "execution_count": 39,
   "id": "436a8326-c8b9-4200-b531-c1fa5c7975d1",
   "metadata": {},
   "outputs": [
    {
     "data": {
      "text/plain": [
       "tensor([0.5739, 0.6793, 0.4857])"
      ]
     },
     "execution_count": 39,
     "metadata": {},
     "output_type": "execute_result"
    }
   ],
   "source": [
    "preds_subset = preds[preds['Gender'] == 'Female']\n",
    "c = CCC_loss(preds_subset[['EmoAct_pred','EmoVal_pred','EmoDom_pred']].values,preds_subset[['EmoAct','EmoVal','EmoDom']].values)\n",
    "c"
   ]
  },
  {
   "cell_type": "code",
   "execution_count": 40,
   "id": "b8eab107-d01a-4289-909b-132d9b20923a",
   "metadata": {},
   "outputs": [
    {
     "data": {
      "text/plain": [
       "tensor([0.7239, 0.6932, 0.6665])"
      ]
     },
     "execution_count": 40,
     "metadata": {},
     "output_type": "execute_result"
    }
   ],
   "source": [
    "preds_subset = preds[preds['Gender'] == 'Male']\n",
    "c = CCC_loss(preds_subset[['EmoAct_pred','EmoVal_pred','EmoDom_pred']].values,preds_subset[['EmoAct','EmoVal','EmoDom']].values)\n",
    "c"
   ]
  },
  {
   "cell_type": "code",
   "execution_count": null,
   "id": "aeb7240a-1a47-45e1-8cbb-73177202ab34",
   "metadata": {},
   "outputs": [],
   "source": []
  },
  {
   "cell_type": "code",
   "execution_count": null,
   "id": "ce83ee42-1b03-4154-8a71-fc704cebef39",
   "metadata": {},
   "outputs": [],
   "source": []
  },
  {
   "cell_type": "code",
   "execution_count": null,
   "id": "e4940eb7-460e-410d-907b-a8081584ef5c",
   "metadata": {},
   "outputs": [],
   "source": []
  }
 ],
 "metadata": {
  "kernelspec": {
   "display_name": "Python 3 (ipykernel)",
   "language": "python",
   "name": "python3"
  },
  "language_info": {
   "codemirror_mode": {
    "name": "ipython",
    "version": 3
   },
   "file_extension": ".py",
   "mimetype": "text/x-python",
   "name": "python",
   "nbconvert_exporter": "python",
   "pygments_lexer": "ipython3",
   "version": "3.10.8"
  }
 },
 "nbformat": 4,
 "nbformat_minor": 5
}
