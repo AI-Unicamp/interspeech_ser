{
 "cells": [
  {
   "cell_type": "code",
   "execution_count": 5,
   "id": "607c5c82-3f02-4bea-9cfa-9d24f7484069",
   "metadata": {},
   "outputs": [],
   "source": [
    "from collections import Counter\n",
    "\n",
    "def get_majority_vote(dataframes_list):\n",
    "    \"\"\"\n",
    "    Takes a list of dataframes with 'FileName' and 'Prediction' columns and returns\n",
    "    a new dataframe with majority vote predictions for each filename.\n",
    "    \n",
    "    Args:\n",
    "        dataframes_list (list): List of pandas dataframes, each containing 'FileName' and 'Prediction' columns\n",
    "        \n",
    "    Returns:\n",
    "        pandas.DataFrame: A dataframe with majority vote predictions\n",
    "    \"\"\"\n",
    "    # Concatenate all dataframes\n",
    "    combined_df = pd.concat(dataframes_list, ignore_index=True)\n",
    "    \n",
    "    # Function to get majority vote for a group\n",
    "    def majority_vote(group):\n",
    "        predictions = group['EmoClass'].tolist()\n",
    "        # Get the most common prediction\n",
    "        most_common = Counter(predictions).most_common(1)[0][0]\n",
    "        return most_common\n",
    "    \n",
    "    # Group by FileName and apply majority vote\n",
    "    result_df = (combined_df.groupby('FileName')\n",
    "                          .apply(majority_vote)\n",
    "                          .reset_index())\n",
    "    \n",
    "    # Rename the columns\n",
    "    result_df.columns = ['FileName', 'EmoClass']\n",
    "    \n",
    "    # Sort by FileName for consistency\n",
    "    result_df = result_df.sort_values('FileName').reset_index(drop=True)\n",
    "    \n",
    "    return result_df\n",
    "\n",
    "def get_probability_vote(dataframes_list):\n",
    "    \"\"\"\n",
    "    Takes a list of dataframes with 'FileName' and 'class_N_prob' columns\n",
    "    and returns a new dataframe with FileName and Prediction based on averaged probabilities.\n",
    "    \n",
    "    Args:\n",
    "        dataframes_list (list): List of pandas dataframes containing 'FileName' \n",
    "                               and probability columns ('class_0_prob', 'class_1_prob', etc.)\n",
    "        \n",
    "    Returns:\n",
    "        pandas.DataFrame: A dataframe with FileName and Prediction columns\n",
    "    \"\"\"\n",
    "    # Concatenate all dataframes\n",
    "    combined_df = pd.concat(dataframes_list, ignore_index=True)\n",
    "    \n",
    "    # Find probability columns (class_N_prob)\n",
    "    prob_columns = [col for col in combined_df.columns if col.startswith('class_') and col.endswith('_prob')]\n",
    "    \n",
    "    # Function to get prediction from probabilities\n",
    "    def get_prediction(group):\n",
    "        mean_probs = [group[col].mean() for col in prob_columns]\n",
    "        return np.argmax(mean_probs)\n",
    "    \n",
    "    # Group by FileName and get predictions\n",
    "    result_df = pd.DataFrame({\n",
    "        'FileName': combined_df['FileName'].unique()\n",
    "    })\n",
    "    \n",
    "    result_df['EmoClass'] = (combined_df.groupby('FileName')\n",
    "                                        .apply(get_prediction)\n",
    "                                        .values)\n",
    "    \n",
    "    # Sort by FileName for consistency\n",
    "    result_df = result_df.sort_values('FileName').reset_index(drop=True)\n",
    "    \n",
    "    return result_df\n",
    "\n",
    "def softmax(x):\n",
    "    \"\"\"\n",
    "    Compute softmax values for each set of scores in x.\n",
    "    \"\"\"\n",
    "    exp_x = np.exp(x - np.max(x))  # Subtract max for numerical stability\n",
    "    return exp_x / exp_x.sum()\n",
    "\n",
    "def get_probability_vote_softmax(dataframes_list):\n",
    "    \"\"\"\n",
    "    Takes a list of dataframes with 'FileName' and 'class_N_prob' columns,\n",
    "    applies softmax to probabilities before averaging, and returns predictions.\n",
    "    \n",
    "    Args:\n",
    "        dataframes_list (list): List of pandas dataframes containing 'FileName' \n",
    "                               and probability columns ('class_0_prob', 'class_1_prob', etc.)\n",
    "        \n",
    "    Returns:\n",
    "        pandas.DataFrame: A dataframe with FileName and Prediction columns\n",
    "    \"\"\"\n",
    "    # Concatenate all dataframes\n",
    "    combined_df = pd.concat(dataframes_list, ignore_index=True)\n",
    "    \n",
    "    # Find probability columns (class_N_prob)\n",
    "    prob_columns = [col for col in combined_df.columns if col.startswith('class_') and col.endswith('_prob')]\n",
    "    \n",
    "    # Function to get prediction from probabilities with softmax\n",
    "    def get_softmax_prediction(group):\n",
    "        # Get raw probabilities for each prediction\n",
    "        raw_probs = np.array([group[col].values for col in prob_columns]).T\n",
    "        \n",
    "        # Apply softmax to each prediction\n",
    "        softmax_probs = np.array([softmax(pred) for pred in raw_probs])\n",
    "        \n",
    "        # Average the softmaxed probabilities\n",
    "        mean_probs = softmax_probs.mean(axis=0)\n",
    "        \n",
    "        return np.argmax(mean_probs)\n",
    "    \n",
    "    # Group by FileName and get predictions\n",
    "    result_df = pd.DataFrame({\n",
    "        'FileName': combined_df['FileName'].unique()\n",
    "    })\n",
    "    \n",
    "    result_df['EmoClass'] = (combined_df.groupby('FileName')\n",
    "                                        .apply(get_softmax_prediction)\n",
    "                                        .values)\n",
    "    \n",
    "    # Sort by FileName for consistency\n",
    "    result_df = result_df.sort_values('FileName').reset_index(drop=True)\n",
    "    \n",
    "    return result_df"
   ]
  },
  {
   "cell_type": "code",
   "execution_count": 6,
   "id": "d30bdb9f-8704-4a6b-b074-05afbe73dfc8",
   "metadata": {},
   "outputs": [],
   "source": [
    "import pandas as pd\n",
    "import numpy as np"
   ]
  },
  {
   "cell_type": "code",
   "execution_count": 7,
   "id": "5fc017e4-c8fe-4ec6-b607-57e197608526",
   "metadata": {},
   "outputs": [],
   "source": [
    "experiments_list = [\n",
    "    'multimodalmodel_wavlmlarge_robertalarge_lazyload_lr1e4',\n",
    "    'multimodalmodel_wavlmlarge_robertalarge_lazyload_lr1e4_focalloss',\n",
    "    'multimodalmodel_wavlmlarge_robertalarge_lazyload_lr1e4_batchbalanced',\n",
    "    'multimodalmodel_wavlmlarge_robertalarge_lazyload_lr1e4_batchbalanced_focaloss',\n",
    "    'multimodalmodel_w2v2robust_robertalarge_lazyload_lr1e4',\n",
    "    'multimodalmodel_hubertxlarge_robertalarge_lazyload_lr1e4',\n",
    "    'multimodalmodel_w2v2xls2b_robertalarge_lazyload_lr1e4'\n",
    "]\n",
    "\n",
    "dfs = []\n",
    "\n",
    "for exp in experiments_list:\n",
    "    \n",
    "    dfs.append(pd.read_csv(f'../experiments/{exp}/results/test.csv'))\n",
    "# preds.head()"
   ]
  },
  {
   "cell_type": "code",
   "execution_count": 8,
   "id": "04969df8-f7c0-4330-92a1-20b0f669458c",
   "metadata": {},
   "outputs": [],
   "source": [
    "preds = get_majority_vote(dfs)"
   ]
  },
  {
   "cell_type": "code",
   "execution_count": 9,
   "id": "d6dd2334-9c87-4ce3-88d1-aac1f1f60b7b",
   "metadata": {},
   "outputs": [],
   "source": [
    "# # preds = get_probability_vote(dfs)\n",
    "# preds = get_probability_vote_softmax(dfs)\n",
    "# classes_ = ['A', 'S', 'H', 'U', 'F', 'D', 'C', 'N']\n",
    "\n",
    "# map_argmax = dict()\n",
    "# for i, c in enumerate(classes_):\n",
    "#     map_argmax[i] = c\n",
    "\n",
    "# preds[\"Prediction\"] = preds[\"Prediction\"].map(map_argmax) "
   ]
  },
  {
   "cell_type": "code",
   "execution_count": 10,
   "id": "c6771be3-748e-49e4-9840-2d3f4e2b9861",
   "metadata": {},
   "outputs": [
    {
     "data": {
      "text/html": [
       "<div>\n",
       "<style scoped>\n",
       "    .dataframe tbody tr th:only-of-type {\n",
       "        vertical-align: middle;\n",
       "    }\n",
       "\n",
       "    .dataframe tbody tr th {\n",
       "        vertical-align: top;\n",
       "    }\n",
       "\n",
       "    .dataframe thead th {\n",
       "        text-align: right;\n",
       "    }\n",
       "</style>\n",
       "<table border=\"1\" class=\"dataframe\">\n",
       "  <thead>\n",
       "    <tr style=\"text-align: right;\">\n",
       "      <th></th>\n",
       "      <th>FileName</th>\n",
       "      <th>EmoClass</th>\n",
       "    </tr>\n",
       "  </thead>\n",
       "  <tbody>\n",
       "    <tr>\n",
       "      <th>0</th>\n",
       "      <td>MSP-PODCAST_test3_0001.wav</td>\n",
       "      <td>S</td>\n",
       "    </tr>\n",
       "    <tr>\n",
       "      <th>1</th>\n",
       "      <td>MSP-PODCAST_test3_0002.wav</td>\n",
       "      <td>A</td>\n",
       "    </tr>\n",
       "    <tr>\n",
       "      <th>2</th>\n",
       "      <td>MSP-PODCAST_test3_0003.wav</td>\n",
       "      <td>S</td>\n",
       "    </tr>\n",
       "    <tr>\n",
       "      <th>3</th>\n",
       "      <td>MSP-PODCAST_test3_0004.wav</td>\n",
       "      <td>S</td>\n",
       "    </tr>\n",
       "    <tr>\n",
       "      <th>4</th>\n",
       "      <td>MSP-PODCAST_test3_0005.wav</td>\n",
       "      <td>N</td>\n",
       "    </tr>\n",
       "  </tbody>\n",
       "</table>\n",
       "</div>"
      ],
      "text/plain": [
       "                     FileName EmoClass\n",
       "0  MSP-PODCAST_test3_0001.wav        S\n",
       "1  MSP-PODCAST_test3_0002.wav        A\n",
       "2  MSP-PODCAST_test3_0003.wav        S\n",
       "3  MSP-PODCAST_test3_0004.wav        S\n",
       "4  MSP-PODCAST_test3_0005.wav        N"
      ]
     },
     "execution_count": 10,
     "metadata": {},
     "output_type": "execute_result"
    }
   ],
   "source": [
    "preds.head()"
   ]
  },
  {
   "cell_type": "code",
   "execution_count": 11,
   "id": "4bbdac52-05ea-40ad-9bbb-cc8e758522b0",
   "metadata": {},
   "outputs": [
    {
     "data": {
      "text/plain": [
       "EmoClass\n",
       "A    1262\n",
       "H     609\n",
       "S     403\n",
       "N     262\n",
       "D     229\n",
       "C     185\n",
       "U     172\n",
       "F      78\n",
       "Name: count, dtype: int64"
      ]
     },
     "execution_count": 11,
     "metadata": {},
     "output_type": "execute_result"
    }
   ],
   "source": [
    "preds[\"EmoClass\"].value_counts()"
   ]
  },
  {
   "cell_type": "code",
   "execution_count": 12,
   "id": "79537311-a63a-4709-85aa-cbd47a72c315",
   "metadata": {},
   "outputs": [],
   "source": [
    "baseline = pd.read_csv(\"../submissions/baseline_reprod_cat.csv\")"
   ]
  },
  {
   "cell_type": "code",
   "execution_count": 16,
   "id": "a53d7409-5f75-4b4d-b24d-0ee16b9d9ae2",
   "metadata": {},
   "outputs": [
    {
     "data": {
      "text/plain": [
       "EmoClass\n",
       "A    1007\n",
       "S     603\n",
       "H     453\n",
       "C     400\n",
       "N     393\n",
       "D     185\n",
       "U     129\n",
       "F      30\n",
       "Name: count, dtype: int64"
      ]
     },
     "execution_count": 16,
     "metadata": {},
     "output_type": "execute_result"
    }
   ],
   "source": [
    "baseline[\"EmoClass\"].value_counts()"
   ]
  },
  {
   "cell_type": "code",
   "execution_count": 13,
   "id": "737564e5-28b7-4b18-9693-8d5994f5b7e9",
   "metadata": {},
   "outputs": [
    {
     "data": {
      "text/plain": [
       "(Index(['FileName', 'EmoClass'], dtype='object'),\n",
       " Index(['FileName', 'EmoClass'], dtype='object'))"
      ]
     },
     "execution_count": 13,
     "metadata": {},
     "output_type": "execute_result"
    }
   ],
   "source": [
    "baseline.columns, preds.columns"
   ]
  },
  {
   "cell_type": "code",
   "execution_count": 15,
   "id": "db82e0ff-e4dd-4059-b318-56926d6c572e",
   "metadata": {},
   "outputs": [
    {
     "data": {
      "text/plain": [
       "3200"
      ]
     },
     "execution_count": 15,
     "metadata": {},
     "output_type": "execute_result"
    }
   ],
   "source": [
    "(baseline.FileName == preds.FileName).sum()"
   ]
  },
  {
   "cell_type": "code",
   "execution_count": 17,
   "id": "3b1060f7-1d54-40de-8ed6-8c335a77e1f8",
   "metadata": {},
   "outputs": [],
   "source": [
    "preds = preds.sort_values(by='FileName').reset_index(drop = True)\n",
    "preds.to_csv(\"../submissions/bimodal_ensemble7.csv\", index=False)"
   ]
  },
  {
   "cell_type": "code",
   "execution_count": null,
   "id": "23809401-e762-4fd6-a1bc-7e592dda7645",
   "metadata": {},
   "outputs": [],
   "source": []
  },
  {
   "cell_type": "code",
   "execution_count": null,
   "id": "e4940eb7-460e-410d-907b-a8081584ef5c",
   "metadata": {},
   "outputs": [],
   "source": []
  }
 ],
 "metadata": {
  "kernelspec": {
   "display_name": "Python 3 (ipykernel)",
   "language": "python",
   "name": "python3"
  },
  "language_info": {
   "codemirror_mode": {
    "name": "ipython",
    "version": 3
   },
   "file_extension": ".py",
   "mimetype": "text/x-python",
   "name": "python",
   "nbconvert_exporter": "python",
   "pygments_lexer": "ipython3",
   "version": "3.10.8"
  }
 },
 "nbformat": 4,
 "nbformat_minor": 5
}
