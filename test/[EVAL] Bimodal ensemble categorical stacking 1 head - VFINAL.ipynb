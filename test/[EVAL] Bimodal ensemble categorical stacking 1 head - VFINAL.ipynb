{
 "cells": [
  {
   "cell_type": "code",
   "execution_count": 1,
   "id": "607c5c82-3f02-4bea-9cfa-9d24f7484069",
   "metadata": {},
   "outputs": [],
   "source": [
    "import pandas as pd\n",
    "\n",
    "\n",
    "def get_stratified_subset(df, label_column, num_examples_per_label, random_state=None):\n",
    "    \"\"\"\n",
    "    Returns a stratified subset of the dataframe with a fixed number of examples for each label.\n",
    "\n",
    "    Args:\n",
    "        df (pd.DataFrame): The input dataframe.\n",
    "        label_column (str): The name of the column containing the labels.\n",
    "        num_examples_per_label (int): The fixed number of examples to sample for each label.\n",
    "        random_state (int, optional): Random seed for reproducibility.\n",
    "\n",
    "    Returns:\n",
    "        pd.DataFrame: A stratified subset of the dataframe.\n",
    "    \"\"\"\n",
    "    if random_state is not None:\n",
    "        np.random.seed(random_state)\n",
    "\n",
    "    stratified_subset = []\n",
    "\n",
    "    for label in df[label_column].unique():\n",
    "        label_group = df[df[label_column] == label]\n",
    "        if len(label_group) < num_examples_per_label:\n",
    "            raise ValueError(f\"Not enough examples for label '{label}'. Requested {num_examples_per_label}, but only {len(label_group)} available.\")\n",
    "        \n",
    "        sampled_group = label_group.sample(n=num_examples_per_label, random_state=random_state)\n",
    "        stratified_subset.append(sampled_group)\n",
    "\n",
    "    return pd.concat(stratified_subset).reset_index(drop=True)\n",
    "def concatenate_dataframes(dfs):\n",
    "    \"\"\"\n",
    "    Concatenates a list of DataFrames based on the 'filename' column as the ID.\n",
    "    Drops the 'Prediction' column from each DataFrame and returns all column names except 'filename'.\n",
    "\n",
    "    Parameters:\n",
    "        dfs (list): List of pandas DataFrames to concatenate. Each must have a 'filename' column.\n",
    "\n",
    "    Returns:\n",
    "        pd.DataFrame: A single DataFrame with merged data.\n",
    "        list: List of all column names excluding 'filename'.\n",
    "    \"\"\"\n",
    "    if not dfs:\n",
    "        raise ValueError(\"The list of DataFrames is empty.\")\n",
    "\n",
    "    for df in dfs:\n",
    "        if 'Filename' not in df.columns:\n",
    "            raise ValueError(\"Each DataFrame must contain a 'filename' column.\")\n",
    "\n",
    "    # Drop 'Prediction' column from each DataFrame if it exists\n",
    "    dfs = [df.drop(columns=['Prediction'], errors='ignore') for df in dfs]\n",
    "\n",
    "    # Start with the first DataFrame\n",
    "    result = dfs[0].copy()\n",
    "    \n",
    "    for idx, df in enumerate(dfs[1:], start=1):\n",
    "        # Rename columns to add a suffix except for 'filename'\n",
    "        renamed_df = df.rename(columns={col: f\"{col}_exp{idx}\" for col in df.columns if col != 'Filename'})\n",
    "        \n",
    "        # Merge with the existing result\n",
    "        result = pd.merge(result, renamed_df, on='Filename', how='outer')\n",
    "\n",
    "    # Get all column names except 'filename'\n",
    "    column_names = [col for col in result.columns if col != 'Filename']\n",
    "\n",
    "    return result, column_names"
   ]
  },
  {
   "cell_type": "code",
   "execution_count": 2,
   "id": "d30bdb9f-8704-4a6b-b074-05afbe73dfc8",
   "metadata": {},
   "outputs": [],
   "source": [
    "import pandas as pd\n",
    "import numpy as np"
   ]
  },
  {
   "cell_type": "code",
   "execution_count": 2897,
   "id": "5fc017e4-c8fe-4ec6-b607-57e197608526",
   "metadata": {},
   "outputs": [],
   "source": [
    "experiments_list =[\n",
    "    # 'multimodalmodel_wavlmlarge_robertalarge_lazyload_lr1e4',\n",
    "    # 'multimodalmodel_w2v2robust_robertalarge_lazyload_lr1e4',\n",
    "    # 'multimodalmodel_hubertxlarge_robertalarge_lazyload_lr1e4',\n",
    "    # 'multimodalmodel_w2v2xls2b_robertalarge_lazyload_lr1e4',\n",
    "    # 'multimodalmodel_whisperlarge_robertalarge_lazyload_lr1e4',\n",
    "    # \"multimodalmodel_w2v2robust_robertalarge_lazyload_lr1e4_head1\",\n",
    "    \"multimodalmodel_hubertxlarge_robertalarge_lazyload_lr1e4_head1\",\n",
    "    # \"multimodalmodel_w2v2xls2b_robertalarge_lazyload_lr1e4_head1\",\n",
    "    \"multimodalmodel_whisperlarge_robertalarge_lazyload_lr1e4_1head\",\n",
    "    \"multimodalmodel_wavlmlarge_robertalarge_lazyload_lr1e4_head1\",\n",
    "    \"multimodalmodel_whisperlarge_debertaxxlarge_lazyload_lr1e5_lasthidden_head1\",\n",
    "    \"multimodalmodel_whisperlarge_hubertxlarge_lazyload_lr1e4_head1\",\n",
    "    # \"multimodalmodel_whisperlarge_robertalarge_ns3_lazyload_lr1e5_focaloss\",\n",
    "    \"multimodalmodel_whisperlarge_robertalarge_lazyload_lr1e4_1head_prodosyembs\",\n",
    "    \"multimodalmodel_hubertxlarge_robertalarge_lazyload_lr1e4_head1_rankingloss\",\n",
    "    # \"multimodalmodel_w2v2xls2b_robertalarge_lazyload_lr1e4_head1_rankingloss\",\n",
    "    # \"multimodalmodel_w2v2robust_robertalarge_lazyload_lr1e4_head1_rankingloss\",\n",
    "    \"multimodalmodel_whisperlarge_debertaxxlarge_lazyload_lr1e5_lasthidden_head1_rankingloss\",\n",
    "    \"multimodalmodel_whisperlarge_robertalarge_lazyload_lr1e4_1head_rankingloss\",\n",
    "    \"multimodalmodel_wavlmlarge_robertalarge_lazyload_lr1e4_head1_softlossneutral\",\n",
    "    \"multimodalmodel_whisperlarge_hubertxlarge_lazyload_lr1e4_head1_rankingloss\",\n",
    "    \"multimodalmodel_whisperlarge_robertalarge_lazyload_lr1e4_1head_prodosyembs_rankingloss\"\n",
    "]\n",
    "\n",
    "dfs = []\n",
    "dfs_val = []\n",
    "for exp in experiments_list:\n",
    "    dfs.append(pd.read_csv(f'../experiments/{exp}/results/train.csv'))\n",
    "    dfs_val.append(pd.read_csv(f'../experiments/{exp}/results/dev.csv'))\n",
    "# preds.head()"
   ]
  },
  {
   "cell_type": "code",
   "execution_count": 2898,
   "id": "04969df8-f7c0-4330-92a1-20b0f669458c",
   "metadata": {},
   "outputs": [],
   "source": [
    "preds, cols = concatenate_dataframes(dfs)\n",
    "preds_val, _ = concatenate_dataframes(dfs_val)"
   ]
  },
  {
   "cell_type": "code",
   "execution_count": 2899,
   "id": "c6771be3-748e-49e4-9840-2d3f4e2b9861",
   "metadata": {},
   "outputs": [
    {
     "data": {
      "text/html": [
       "<div>\n",
       "<style scoped>\n",
       "    .dataframe tbody tr th:only-of-type {\n",
       "        vertical-align: middle;\n",
       "    }\n",
       "\n",
       "    .dataframe tbody tr th {\n",
       "        vertical-align: top;\n",
       "    }\n",
       "\n",
       "    .dataframe thead th {\n",
       "        text-align: right;\n",
       "    }\n",
       "</style>\n",
       "<table border=\"1\" class=\"dataframe\">\n",
       "  <thead>\n",
       "    <tr style=\"text-align: right;\">\n",
       "      <th></th>\n",
       "      <th>Filename</th>\n",
       "      <th>class_0_prob</th>\n",
       "      <th>class_1_prob</th>\n",
       "      <th>class_2_prob</th>\n",
       "      <th>class_3_prob</th>\n",
       "      <th>class_4_prob</th>\n",
       "      <th>class_5_prob</th>\n",
       "      <th>class_6_prob</th>\n",
       "      <th>class_7_prob</th>\n",
       "      <th>class_0_prob_exp1</th>\n",
       "      <th>...</th>\n",
       "      <th>class_6_prob_exp10</th>\n",
       "      <th>class_7_prob_exp10</th>\n",
       "      <th>class_0_prob_exp11</th>\n",
       "      <th>class_1_prob_exp11</th>\n",
       "      <th>class_2_prob_exp11</th>\n",
       "      <th>class_3_prob_exp11</th>\n",
       "      <th>class_4_prob_exp11</th>\n",
       "      <th>class_5_prob_exp11</th>\n",
       "      <th>class_6_prob_exp11</th>\n",
       "      <th>class_7_prob_exp11</th>\n",
       "    </tr>\n",
       "  </thead>\n",
       "  <tbody>\n",
       "    <tr>\n",
       "      <th>0</th>\n",
       "      <td>MSP-PODCAST_0003_0126.wav</td>\n",
       "      <td>-1.4778</td>\n",
       "      <td>0.0072</td>\n",
       "      <td>-2.0437</td>\n",
       "      <td>-1.0448</td>\n",
       "      <td>-0.8017</td>\n",
       "      <td>1.9434</td>\n",
       "      <td>1.8167</td>\n",
       "      <td>0.4819</td>\n",
       "      <td>-1.7075</td>\n",
       "      <td>...</td>\n",
       "      <td>1.7705</td>\n",
       "      <td>2.2998</td>\n",
       "      <td>-1.9165</td>\n",
       "      <td>1.9867</td>\n",
       "      <td>-1.8567</td>\n",
       "      <td>-1.3196</td>\n",
       "      <td>-2.1378</td>\n",
       "      <td>1.1639</td>\n",
       "      <td>1.4546</td>\n",
       "      <td>1.7732</td>\n",
       "    </tr>\n",
       "    <tr>\n",
       "      <th>1</th>\n",
       "      <td>MSP-PODCAST_0003_0129.wav</td>\n",
       "      <td>-2.5707</td>\n",
       "      <td>-0.7032</td>\n",
       "      <td>-0.3989</td>\n",
       "      <td>0.5493</td>\n",
       "      <td>0.0279</td>\n",
       "      <td>0.2155</td>\n",
       "      <td>0.3474</td>\n",
       "      <td>2.0000</td>\n",
       "      <td>-3.7439</td>\n",
       "      <td>...</td>\n",
       "      <td>0.4668</td>\n",
       "      <td>2.4885</td>\n",
       "      <td>-2.5076</td>\n",
       "      <td>1.0149</td>\n",
       "      <td>0.8641</td>\n",
       "      <td>0.9063</td>\n",
       "      <td>-1.0641</td>\n",
       "      <td>-1.3063</td>\n",
       "      <td>-0.7272</td>\n",
       "      <td>3.0251</td>\n",
       "    </tr>\n",
       "    <tr>\n",
       "      <th>2</th>\n",
       "      <td>MSP-PODCAST_0003_0283.wav</td>\n",
       "      <td>0.6876</td>\n",
       "      <td>-0.7270</td>\n",
       "      <td>-2.3672</td>\n",
       "      <td>-0.8801</td>\n",
       "      <td>-2.0673</td>\n",
       "      <td>2.1210</td>\n",
       "      <td>2.3877</td>\n",
       "      <td>0.2139</td>\n",
       "      <td>1.0979</td>\n",
       "      <td>...</td>\n",
       "      <td>1.8361</td>\n",
       "      <td>0.3757</td>\n",
       "      <td>0.9986</td>\n",
       "      <td>-1.8184</td>\n",
       "      <td>-2.4329</td>\n",
       "      <td>-0.9919</td>\n",
       "      <td>-1.0731</td>\n",
       "      <td>2.3439</td>\n",
       "      <td>1.8298</td>\n",
       "      <td>-0.2505</td>\n",
       "    </tr>\n",
       "    <tr>\n",
       "      <th>3</th>\n",
       "      <td>MSP-PODCAST_0003_0398.wav</td>\n",
       "      <td>-0.5895</td>\n",
       "      <td>-1.0725</td>\n",
       "      <td>-1.6910</td>\n",
       "      <td>-0.0523</td>\n",
       "      <td>-0.7390</td>\n",
       "      <td>1.6207</td>\n",
       "      <td>1.5453</td>\n",
       "      <td>-0.3019</td>\n",
       "      <td>-0.7290</td>\n",
       "      <td>...</td>\n",
       "      <td>1.4236</td>\n",
       "      <td>0.8751</td>\n",
       "      <td>0.1991</td>\n",
       "      <td>-1.1304</td>\n",
       "      <td>-2.4288</td>\n",
       "      <td>0.1222</td>\n",
       "      <td>-0.6725</td>\n",
       "      <td>2.6246</td>\n",
       "      <td>2.1097</td>\n",
       "      <td>-0.2199</td>\n",
       "    </tr>\n",
       "    <tr>\n",
       "      <th>4</th>\n",
       "      <td>MSP-PODCAST_0003_0593.wav</td>\n",
       "      <td>-0.9469</td>\n",
       "      <td>-1.7439</td>\n",
       "      <td>-0.0296</td>\n",
       "      <td>-0.7940</td>\n",
       "      <td>-0.8741</td>\n",
       "      <td>1.1541</td>\n",
       "      <td>1.9676</td>\n",
       "      <td>0.2182</td>\n",
       "      <td>-1.3801</td>\n",
       "      <td>...</td>\n",
       "      <td>2.5068</td>\n",
       "      <td>0.4212</td>\n",
       "      <td>-0.9477</td>\n",
       "      <td>-1.0442</td>\n",
       "      <td>1.3873</td>\n",
       "      <td>0.1836</td>\n",
       "      <td>-0.9326</td>\n",
       "      <td>0.3390</td>\n",
       "      <td>1.8802</td>\n",
       "      <td>0.1368</td>\n",
       "    </tr>\n",
       "  </tbody>\n",
       "</table>\n",
       "<p>5 rows × 97 columns</p>\n",
       "</div>"
      ],
      "text/plain": [
       "                    Filename  class_0_prob  class_1_prob  class_2_prob  \\\n",
       "0  MSP-PODCAST_0003_0126.wav       -1.4778        0.0072       -2.0437   \n",
       "1  MSP-PODCAST_0003_0129.wav       -2.5707       -0.7032       -0.3989   \n",
       "2  MSP-PODCAST_0003_0283.wav        0.6876       -0.7270       -2.3672   \n",
       "3  MSP-PODCAST_0003_0398.wav       -0.5895       -1.0725       -1.6910   \n",
       "4  MSP-PODCAST_0003_0593.wav       -0.9469       -1.7439       -0.0296   \n",
       "\n",
       "   class_3_prob  class_4_prob  class_5_prob  class_6_prob  class_7_prob  \\\n",
       "0       -1.0448       -0.8017        1.9434        1.8167        0.4819   \n",
       "1        0.5493        0.0279        0.2155        0.3474        2.0000   \n",
       "2       -0.8801       -2.0673        2.1210        2.3877        0.2139   \n",
       "3       -0.0523       -0.7390        1.6207        1.5453       -0.3019   \n",
       "4       -0.7940       -0.8741        1.1541        1.9676        0.2182   \n",
       "\n",
       "   class_0_prob_exp1  ...  class_6_prob_exp10  class_7_prob_exp10  \\\n",
       "0            -1.7075  ...              1.7705              2.2998   \n",
       "1            -3.7439  ...              0.4668              2.4885   \n",
       "2             1.0979  ...              1.8361              0.3757   \n",
       "3            -0.7290  ...              1.4236              0.8751   \n",
       "4            -1.3801  ...              2.5068              0.4212   \n",
       "\n",
       "   class_0_prob_exp11  class_1_prob_exp11  class_2_prob_exp11  \\\n",
       "0             -1.9165              1.9867             -1.8567   \n",
       "1             -2.5076              1.0149              0.8641   \n",
       "2              0.9986             -1.8184             -2.4329   \n",
       "3              0.1991             -1.1304             -2.4288   \n",
       "4             -0.9477             -1.0442              1.3873   \n",
       "\n",
       "   class_3_prob_exp11  class_4_prob_exp11  class_5_prob_exp11  \\\n",
       "0             -1.3196             -2.1378              1.1639   \n",
       "1              0.9063             -1.0641             -1.3063   \n",
       "2             -0.9919             -1.0731              2.3439   \n",
       "3              0.1222             -0.6725              2.6246   \n",
       "4              0.1836             -0.9326              0.3390   \n",
       "\n",
       "   class_6_prob_exp11  class_7_prob_exp11  \n",
       "0              1.4546              1.7732  \n",
       "1             -0.7272              3.0251  \n",
       "2              1.8298             -0.2505  \n",
       "3              2.1097             -0.2199  \n",
       "4              1.8802              0.1368  \n",
       "\n",
       "[5 rows x 97 columns]"
      ]
     },
     "execution_count": 2899,
     "metadata": {},
     "output_type": "execute_result"
    }
   ],
   "source": [
    "preds.head()"
   ]
  },
  {
   "cell_type": "code",
   "execution_count": 2900,
   "id": "c5acec0e-6aaf-4a34-93ad-1f12adbaaf54",
   "metadata": {},
   "outputs": [],
   "source": [
    "classes_ = ['A', 'S', 'H', 'U', 'F', 'D', 'C', 'N']\n",
    "\n",
    "map_idx = dict()\n",
    "for i, c in enumerate(classes_):\n",
    "    map_idx[c] = i\n",
    "\n",
    "map_argmax = dict()\n",
    "for i, c in enumerate(classes_):\n",
    "    map_argmax[i] = c"
   ]
  },
  {
   "cell_type": "code",
   "execution_count": 2901,
   "id": "9ca46356-04ea-491c-8aaa-687a04b9585f",
   "metadata": {},
   "outputs": [
    {
     "data": {
      "text/html": [
       "<div>\n",
       "<style scoped>\n",
       "    .dataframe tbody tr th:only-of-type {\n",
       "        vertical-align: middle;\n",
       "    }\n",
       "\n",
       "    .dataframe tbody tr th {\n",
       "        vertical-align: top;\n",
       "    }\n",
       "\n",
       "    .dataframe thead th {\n",
       "        text-align: right;\n",
       "    }\n",
       "</style>\n",
       "<table border=\"1\" class=\"dataframe\">\n",
       "  <thead>\n",
       "    <tr style=\"text-align: right;\">\n",
       "      <th></th>\n",
       "      <th>FileName</th>\n",
       "      <th>EmoClass</th>\n",
       "      <th>EmoAct</th>\n",
       "      <th>EmoVal</th>\n",
       "      <th>EmoDom</th>\n",
       "      <th>SpkrID</th>\n",
       "      <th>Gender</th>\n",
       "      <th>Split_Set</th>\n",
       "    </tr>\n",
       "  </thead>\n",
       "  <tbody>\n",
       "    <tr>\n",
       "      <th>0</th>\n",
       "      <td>MSP-PODCAST_0002_0033.wav</td>\n",
       "      <td>N</td>\n",
       "      <td>4.8</td>\n",
       "      <td>4.2</td>\n",
       "      <td>5.4</td>\n",
       "      <td>127</td>\n",
       "      <td>Female</td>\n",
       "      <td>Development</td>\n",
       "    </tr>\n",
       "    <tr>\n",
       "      <th>1</th>\n",
       "      <td>MSP-PODCAST_0002_0039.wav</td>\n",
       "      <td>N</td>\n",
       "      <td>4.0</td>\n",
       "      <td>4.2</td>\n",
       "      <td>4.2</td>\n",
       "      <td>127</td>\n",
       "      <td>Female</td>\n",
       "      <td>Development</td>\n",
       "    </tr>\n",
       "    <tr>\n",
       "      <th>2</th>\n",
       "      <td>MSP-PODCAST_0002_0051.wav</td>\n",
       "      <td>N</td>\n",
       "      <td>4.0</td>\n",
       "      <td>4.2</td>\n",
       "      <td>4.2</td>\n",
       "      <td>127</td>\n",
       "      <td>Female</td>\n",
       "      <td>Development</td>\n",
       "    </tr>\n",
       "    <tr>\n",
       "      <th>3</th>\n",
       "      <td>MSP-PODCAST_0002_0059.wav</td>\n",
       "      <td>X</td>\n",
       "      <td>4.0</td>\n",
       "      <td>3.8</td>\n",
       "      <td>4.0</td>\n",
       "      <td>128</td>\n",
       "      <td>Female</td>\n",
       "      <td>Development</td>\n",
       "    </tr>\n",
       "    <tr>\n",
       "      <th>4</th>\n",
       "      <td>MSP-PODCAST_0002_0061.wav</td>\n",
       "      <td>F</td>\n",
       "      <td>3.4</td>\n",
       "      <td>2.8</td>\n",
       "      <td>4.2</td>\n",
       "      <td>128</td>\n",
       "      <td>Female</td>\n",
       "      <td>Development</td>\n",
       "    </tr>\n",
       "  </tbody>\n",
       "</table>\n",
       "</div>"
      ],
      "text/plain": [
       "                    FileName EmoClass  EmoAct  EmoVal  EmoDom  SpkrID  Gender  \\\n",
       "0  MSP-PODCAST_0002_0033.wav        N     4.8     4.2     5.4     127  Female   \n",
       "1  MSP-PODCAST_0002_0039.wav        N     4.0     4.2     4.2     127  Female   \n",
       "2  MSP-PODCAST_0002_0051.wav        N     4.0     4.2     4.2     127  Female   \n",
       "3  MSP-PODCAST_0002_0059.wav        X     4.0     3.8     4.0     128  Female   \n",
       "4  MSP-PODCAST_0002_0061.wav        F     3.4     2.8     4.2     128  Female   \n",
       "\n",
       "     Split_Set  \n",
       "0  Development  \n",
       "1  Development  \n",
       "2  Development  \n",
       "3  Development  \n",
       "4  Development  "
      ]
     },
     "execution_count": 2901,
     "metadata": {},
     "output_type": "execute_result"
    }
   ],
   "source": [
    "df = pd.read_csv('/workspace/lucas.ueda/interspeech_ser/data/Labels/labels_consensus.csv')\n",
    "df.head()"
   ]
  },
  {
   "cell_type": "code",
   "execution_count": 2902,
   "id": "be037647-fa89-49d1-9a74-d08e28ec3c33",
   "metadata": {},
   "outputs": [],
   "source": [
    "# Just saving the auxiliardataset"
   ]
  },
  {
   "cell_type": "code",
   "execution_count": null,
   "id": "ed1421bd-07f7-4b28-b7e6-bba4fc947ac4",
   "metadata": {},
   "outputs": [],
   "source": []
  },
  {
   "cell_type": "code",
   "execution_count": 2903,
   "id": "c3efa84c-a42c-4b16-adb9-6c0af843a12e",
   "metadata": {},
   "outputs": [],
   "source": [
    "preds['FileName'] = preds['Filename']\n",
    "preds = preds.merge(df[['FileName','EmoClass','Gender','SpkrID']], how='left', on = 'FileName')\n",
    "\n",
    "preds_val['FileName'] = preds_val['Filename']\n",
    "preds_val = preds_val.merge(df[['FileName','EmoClass','Gender','SpkrID']], how='left', on = 'FileName')"
   ]
  },
  {
   "cell_type": "code",
   "execution_count": 2904,
   "id": "0fbaa4bd-7393-44ea-a465-e088fc022055",
   "metadata": {},
   "outputs": [],
   "source": [
    "preds['target'] = preds['EmoClass'].map(map_idx)\n",
    "preds_val['target'] = preds_val['EmoClass'].map(map_idx)"
   ]
  },
  {
   "cell_type": "code",
   "execution_count": 2905,
   "id": "22a3faa7-164e-4b1d-86e3-e6d9e058e3c5",
   "metadata": {},
   "outputs": [
    {
     "data": {
      "text/html": [
       "<div>\n",
       "<style scoped>\n",
       "    .dataframe tbody tr th:only-of-type {\n",
       "        vertical-align: middle;\n",
       "    }\n",
       "\n",
       "    .dataframe tbody tr th {\n",
       "        vertical-align: top;\n",
       "    }\n",
       "\n",
       "    .dataframe thead th {\n",
       "        text-align: right;\n",
       "    }\n",
       "</style>\n",
       "<table border=\"1\" class=\"dataframe\">\n",
       "  <thead>\n",
       "    <tr style=\"text-align: right;\">\n",
       "      <th></th>\n",
       "      <th>Filename</th>\n",
       "      <th>class_0_prob</th>\n",
       "      <th>class_1_prob</th>\n",
       "      <th>class_2_prob</th>\n",
       "      <th>class_3_prob</th>\n",
       "      <th>class_4_prob</th>\n",
       "      <th>class_5_prob</th>\n",
       "      <th>class_6_prob</th>\n",
       "      <th>class_7_prob</th>\n",
       "      <th>class_0_prob_exp1</th>\n",
       "      <th>...</th>\n",
       "      <th>class_3_prob_exp11</th>\n",
       "      <th>class_4_prob_exp11</th>\n",
       "      <th>class_5_prob_exp11</th>\n",
       "      <th>class_6_prob_exp11</th>\n",
       "      <th>class_7_prob_exp11</th>\n",
       "      <th>FileName</th>\n",
       "      <th>EmoClass</th>\n",
       "      <th>Gender</th>\n",
       "      <th>SpkrID</th>\n",
       "      <th>target</th>\n",
       "    </tr>\n",
       "  </thead>\n",
       "  <tbody>\n",
       "    <tr>\n",
       "      <th>0</th>\n",
       "      <td>MSP-PODCAST_0003_0126.wav</td>\n",
       "      <td>-1.4778</td>\n",
       "      <td>0.0072</td>\n",
       "      <td>-2.0437</td>\n",
       "      <td>-1.0448</td>\n",
       "      <td>-0.8017</td>\n",
       "      <td>1.9434</td>\n",
       "      <td>1.8167</td>\n",
       "      <td>0.4819</td>\n",
       "      <td>-1.7075</td>\n",
       "      <td>...</td>\n",
       "      <td>-1.3196</td>\n",
       "      <td>-2.1378</td>\n",
       "      <td>1.1639</td>\n",
       "      <td>1.4546</td>\n",
       "      <td>1.7732</td>\n",
       "      <td>MSP-PODCAST_0003_0126.wav</td>\n",
       "      <td>D</td>\n",
       "      <td>Male</td>\n",
       "      <td>3</td>\n",
       "      <td>5</td>\n",
       "    </tr>\n",
       "    <tr>\n",
       "      <th>1</th>\n",
       "      <td>MSP-PODCAST_0003_0129.wav</td>\n",
       "      <td>-2.5707</td>\n",
       "      <td>-0.7032</td>\n",
       "      <td>-0.3989</td>\n",
       "      <td>0.5493</td>\n",
       "      <td>0.0279</td>\n",
       "      <td>0.2155</td>\n",
       "      <td>0.3474</td>\n",
       "      <td>2.0000</td>\n",
       "      <td>-3.7439</td>\n",
       "      <td>...</td>\n",
       "      <td>0.9063</td>\n",
       "      <td>-1.0641</td>\n",
       "      <td>-1.3063</td>\n",
       "      <td>-0.7272</td>\n",
       "      <td>3.0251</td>\n",
       "      <td>MSP-PODCAST_0003_0129.wav</td>\n",
       "      <td>N</td>\n",
       "      <td>Male</td>\n",
       "      <td>3</td>\n",
       "      <td>7</td>\n",
       "    </tr>\n",
       "    <tr>\n",
       "      <th>2</th>\n",
       "      <td>MSP-PODCAST_0003_0283.wav</td>\n",
       "      <td>0.6876</td>\n",
       "      <td>-0.7270</td>\n",
       "      <td>-2.3672</td>\n",
       "      <td>-0.8801</td>\n",
       "      <td>-2.0673</td>\n",
       "      <td>2.1210</td>\n",
       "      <td>2.3877</td>\n",
       "      <td>0.2139</td>\n",
       "      <td>1.0979</td>\n",
       "      <td>...</td>\n",
       "      <td>-0.9919</td>\n",
       "      <td>-1.0731</td>\n",
       "      <td>2.3439</td>\n",
       "      <td>1.8298</td>\n",
       "      <td>-0.2505</td>\n",
       "      <td>MSP-PODCAST_0003_0283.wav</td>\n",
       "      <td>D</td>\n",
       "      <td>Male</td>\n",
       "      <td>3</td>\n",
       "      <td>5</td>\n",
       "    </tr>\n",
       "    <tr>\n",
       "      <th>3</th>\n",
       "      <td>MSP-PODCAST_0003_0398.wav</td>\n",
       "      <td>-0.5895</td>\n",
       "      <td>-1.0725</td>\n",
       "      <td>-1.6910</td>\n",
       "      <td>-0.0523</td>\n",
       "      <td>-0.7390</td>\n",
       "      <td>1.6207</td>\n",
       "      <td>1.5453</td>\n",
       "      <td>-0.3019</td>\n",
       "      <td>-0.7290</td>\n",
       "      <td>...</td>\n",
       "      <td>0.1222</td>\n",
       "      <td>-0.6725</td>\n",
       "      <td>2.6246</td>\n",
       "      <td>2.1097</td>\n",
       "      <td>-0.2199</td>\n",
       "      <td>MSP-PODCAST_0003_0398.wav</td>\n",
       "      <td>F</td>\n",
       "      <td>Male</td>\n",
       "      <td>3</td>\n",
       "      <td>4</td>\n",
       "    </tr>\n",
       "    <tr>\n",
       "      <th>4</th>\n",
       "      <td>MSP-PODCAST_0003_0593.wav</td>\n",
       "      <td>-0.9469</td>\n",
       "      <td>-1.7439</td>\n",
       "      <td>-0.0296</td>\n",
       "      <td>-0.7940</td>\n",
       "      <td>-0.8741</td>\n",
       "      <td>1.1541</td>\n",
       "      <td>1.9676</td>\n",
       "      <td>0.2182</td>\n",
       "      <td>-1.3801</td>\n",
       "      <td>...</td>\n",
       "      <td>0.1836</td>\n",
       "      <td>-0.9326</td>\n",
       "      <td>0.3390</td>\n",
       "      <td>1.8802</td>\n",
       "      <td>0.1368</td>\n",
       "      <td>MSP-PODCAST_0003_0593.wav</td>\n",
       "      <td>C</td>\n",
       "      <td>Male</td>\n",
       "      <td>3</td>\n",
       "      <td>6</td>\n",
       "    </tr>\n",
       "  </tbody>\n",
       "</table>\n",
       "<p>5 rows × 102 columns</p>\n",
       "</div>"
      ],
      "text/plain": [
       "                    Filename  class_0_prob  class_1_prob  class_2_prob  \\\n",
       "0  MSP-PODCAST_0003_0126.wav       -1.4778        0.0072       -2.0437   \n",
       "1  MSP-PODCAST_0003_0129.wav       -2.5707       -0.7032       -0.3989   \n",
       "2  MSP-PODCAST_0003_0283.wav        0.6876       -0.7270       -2.3672   \n",
       "3  MSP-PODCAST_0003_0398.wav       -0.5895       -1.0725       -1.6910   \n",
       "4  MSP-PODCAST_0003_0593.wav       -0.9469       -1.7439       -0.0296   \n",
       "\n",
       "   class_3_prob  class_4_prob  class_5_prob  class_6_prob  class_7_prob  \\\n",
       "0       -1.0448       -0.8017        1.9434        1.8167        0.4819   \n",
       "1        0.5493        0.0279        0.2155        0.3474        2.0000   \n",
       "2       -0.8801       -2.0673        2.1210        2.3877        0.2139   \n",
       "3       -0.0523       -0.7390        1.6207        1.5453       -0.3019   \n",
       "4       -0.7940       -0.8741        1.1541        1.9676        0.2182   \n",
       "\n",
       "   class_0_prob_exp1  ...  class_3_prob_exp11  class_4_prob_exp11  \\\n",
       "0            -1.7075  ...             -1.3196             -2.1378   \n",
       "1            -3.7439  ...              0.9063             -1.0641   \n",
       "2             1.0979  ...             -0.9919             -1.0731   \n",
       "3            -0.7290  ...              0.1222             -0.6725   \n",
       "4            -1.3801  ...              0.1836             -0.9326   \n",
       "\n",
       "   class_5_prob_exp11  class_6_prob_exp11  class_7_prob_exp11  \\\n",
       "0              1.1639              1.4546              1.7732   \n",
       "1             -1.3063             -0.7272              3.0251   \n",
       "2              2.3439              1.8298             -0.2505   \n",
       "3              2.6246              2.1097             -0.2199   \n",
       "4              0.3390              1.8802              0.1368   \n",
       "\n",
       "                    FileName  EmoClass  Gender  SpkrID  target  \n",
       "0  MSP-PODCAST_0003_0126.wav         D    Male       3       5  \n",
       "1  MSP-PODCAST_0003_0129.wav         N    Male       3       7  \n",
       "2  MSP-PODCAST_0003_0283.wav         D    Male       3       5  \n",
       "3  MSP-PODCAST_0003_0398.wav         F    Male       3       4  \n",
       "4  MSP-PODCAST_0003_0593.wav         C    Male       3       6  \n",
       "\n",
       "[5 rows x 102 columns]"
      ]
     },
     "execution_count": 2905,
     "metadata": {},
     "output_type": "execute_result"
    }
   ],
   "source": [
    "preds.head()"
   ]
  },
  {
   "cell_type": "code",
   "execution_count": 2906,
   "id": "1f88027d-0517-4018-8225-419b98548b88",
   "metadata": {},
   "outputs": [],
   "source": [
    "from sklearn.metrics import confusion_matrix, ConfusionMatrixDisplay, accuracy_score, f1_score\n",
    "from sklearn.linear_model import LogisticRegression\n",
    "from sklearn.ensemble import RandomForestClassifier, AdaBoostClassifier\n",
    "from sklearn.tree import DecisionTreeClassifier\n",
    "from sklearn.svm import SVC\n",
    "from sklearn.model_selection import train_test_split"
   ]
  },
  {
   "cell_type": "code",
   "execution_count": 2907,
   "id": "5c0e65d9-2b92-45da-879e-30d8deed09e7",
   "metadata": {},
   "outputs": [
    {
     "data": {
      "text/plain": [
       "(8960, 102)"
      ]
     },
     "execution_count": 2907,
     "metadata": {},
     "output_type": "execute_result"
    }
   ],
   "source": [
    "preds.shape"
   ]
  },
  {
   "cell_type": "code",
   "execution_count": 2908,
   "id": "d5081c84-442c-4670-81c0-fe362fd14229",
   "metadata": {},
   "outputs": [],
   "source": [
    "# preds_estrat = get_stratified_subset(preds, 'EmoClass', 300, random_state=42)\n",
    "preds_estrat = preds"
   ]
  },
  {
   "cell_type": "code",
   "execution_count": 2909,
   "id": "a9536b29-675b-4728-a673-855cd15ee27d",
   "metadata": {},
   "outputs": [],
   "source": [
    "# preds_estrat"
   ]
  },
  {
   "cell_type": "code",
   "execution_count": 2910,
   "id": "bc643259-a071-4aa0-98d2-3c8da69e7c1b",
   "metadata": {},
   "outputs": [],
   "source": [
    "# # Just saving the auxiliardataset\n",
    "# filenames = preds_estrat.FileName\n",
    "\n",
    "# tmp = pd.read_csv(\"../benchmark/processed_labels.csv\")"
   ]
  },
  {
   "cell_type": "code",
   "execution_count": 2911,
   "id": "6f5687a3-c5f8-4303-bcd4-85ded86698db",
   "metadata": {},
   "outputs": [],
   "source": [
    "# tmp = tmp[tmp['FileName'].isin(filenames)].reset_index(drop=True)\n",
    "# tmp.shape"
   ]
  },
  {
   "cell_type": "code",
   "execution_count": 2912,
   "id": "494c39f6-fda6-4971-bbab-b4516cb19edf",
   "metadata": {},
   "outputs": [],
   "source": [
    "# tmp.to_csv(\"train_stacking_sample.csv\")"
   ]
  },
  {
   "cell_type": "code",
   "execution_count": 2913,
   "id": "de234c72-21d1-42c3-a592-e2c84577cc5b",
   "metadata": {},
   "outputs": [],
   "source": [
    "# tmp.head()"
   ]
  },
  {
   "cell_type": "code",
   "execution_count": 2914,
   "id": "d8885b6a-bf31-456f-b403-27de40b97abc",
   "metadata": {},
   "outputs": [
    {
     "data": {
      "text/plain": [
       "EmoClass\n",
       "D    1120\n",
       "N    1120\n",
       "F    1120\n",
       "C    1120\n",
       "U    1120\n",
       "H    1120\n",
       "A    1120\n",
       "S    1120\n",
       "Name: count, dtype: int64"
      ]
     },
     "execution_count": 2914,
     "metadata": {},
     "output_type": "execute_result"
    }
   ],
   "source": [
    "preds_estrat.EmoClass.value_counts()"
   ]
  },
  {
   "cell_type": "code",
   "execution_count": 2915,
   "id": "051d579b-31e0-4f65-ae0a-0d76235bade2",
   "metadata": {},
   "outputs": [
    {
     "data": {
      "text/plain": [
       "Gender\n",
       "Male      5174\n",
       "Female    3786\n",
       "Name: count, dtype: int64"
      ]
     },
     "execution_count": 2915,
     "metadata": {},
     "output_type": "execute_result"
    }
   ],
   "source": [
    "preds_estrat.Gender.value_counts()"
   ]
  },
  {
   "cell_type": "code",
   "execution_count": 2916,
   "id": "a6e4a7b8-27dd-4386-ae12-d716c44cce5a",
   "metadata": {},
   "outputs": [
    {
     "data": {
      "text/plain": [
       "array([0, 0, 0, 0, 0, 0, 0, 0, 0, 0, 0, 0, 0, 0, 0, 0, 0, 0, 0, 0, 0, 0,\n",
       "       0, 0, 0, 0, 0, 0, 0, 0, 0, 0, 0, 0, 0, 0, 0, 0, 0, 0, 0, 0, 0, 0,\n",
       "       0, 0, 0, 0, 0, 0, 0, 0, 0, 0, 0, 0, 0, 0, 0, 0, 0, 0, 0, 0, 0, 0,\n",
       "       0, 0, 0, 0, 0, 0, 0, 0, 0, 0, 0, 0, 0, 0, 0, 0, 0, 0, 0, 0, 0, 0,\n",
       "       0, 0, 0, 0, 0, 0, 0, 0, 0, 0, 0, 0, 0, 0])"
      ]
     },
     "execution_count": 2916,
     "metadata": {},
     "output_type": "execute_result"
    }
   ],
   "source": [
    "preds_estrat.isna().sum().values\n"
   ]
  },
  {
   "cell_type": "code",
   "execution_count": 2917,
   "id": "d0a39888-c6ae-49e2-af29-a35bda704e3b",
   "metadata": {},
   "outputs": [],
   "source": [
    "from xgboost import XGBClassifier, callback"
   ]
  },
  {
   "cell_type": "code",
   "execution_count": 3099,
   "id": "e4a28a98-1a2e-4a8d-9e3d-5f77ffa4ec97",
   "metadata": {},
   "outputs": [],
   "source": [
    "from sklearn.model_selection import KFold, StratifiedKFold\n",
    "def train_kfold(df, feature_names, target_name, random_state=42, k=5):\n",
    "    # Set random seed for reproducibility\n",
    "    np.random.seed(random_state)\n",
    "    \n",
    "    # Prepare features and target\n",
    "    X = df[feature_names].values\n",
    "    y = df[target_name].values\n",
    "\n",
    "    skf = StratifiedKFold(n_splits=k, shuffle=True, random_state=random_state)\n",
    "    \n",
    "    trained_models = []\n",
    "    for train_index, _ in skf.split(X,y):\n",
    "        # Split data\n",
    "        X_train = X[train_index]\n",
    "        y_train = y[train_index]\n",
    "        \n",
    "        # Train SVM\n",
    "        # svm = SVC(random_state = 42, C = 0.7, kernel='rbf', gamma = 'scale', probability=True)\n",
    "        svm = RandomForestClassifier(random_state = 42, n_estimators = 200, max_depth = 8, criterion=\"gini\", min_samples_leaf=10, min_samples_split=10)\n",
    "    \n",
    "        # svm = RandomForestClassifier(random_state = 42, \n",
    "        #                              n_estimators = 1000, \n",
    "        #                              max_depth = 8, \n",
    "        #                              criterion=\"gini\", \n",
    "        #                              min_samples_leaf=10, \n",
    "        #                              min_samples_split=10, \n",
    "        #                              max_features = 0.07)\n",
    "        \n",
    "        svm.fit(X_train, y_train)\n",
    "        \n",
    "        trained_models.append(svm)\n",
    "    \n",
    "    return trained_models\n",
    "\n",
    "def predict_with_ensemble(val_df, feature_names, target_name, trained_models, idx = 0):\n",
    "    # Prepare features\n",
    "    X_val = val_df[feature_names].values\n",
    "    \n",
    "    # Aggregate predictions\n",
    "    predictions = []\n",
    "    for i, model in enumerate(trained_models):\n",
    "        # Predic\n",
    "        if i == idx:\n",
    "            fold_pred = model.predict_proba(X_val)\n",
    "            predictions.append(fold_pred)\n",
    "    \n",
    "    # Average probabilities\n",
    "    avg_probabilities = np.mean(predictions, axis=0)\n",
    "    \n",
    "    # Return argmax of averaged probabilities\n",
    "    return np.argmax(avg_probabilities, axis=1)"
   ]
  },
  {
   "cell_type": "code",
   "execution_count": 3076,
   "id": "984faaa1-2337-4f6b-9d21-4f8f651c97ae",
   "metadata": {},
   "outputs": [],
   "source": [
    "# lr = LogisticRegression(random_state = 42, max_iter = 500, C=1,  multi_class='ovr', penalty='l2')\n",
    "lr = RandomForestClassifier(random_state = 42, n_estimators = 500, max_depth = 8, criterion=\"gini\", min_samples_leaf=10, min_samples_split=10)\n",
    "# lr = RandomForestClassifier(random_state = 42, n_estimators = 500, max_depth = 8, criterion=\"gini\", min_samples_leaf=10, min_samples_split=10, max_samples=0.7)\n",
    "\n",
    "# xgb_params = {\n",
    "#     \"objective\": \"multi:softmax\",  # Use 'multi:softprob' for probabilities instead of classes\n",
    "#     \"num_class\": 8,               # Number of classes\n",
    "#     \"eval_metric\": \"mlogloss\",    # Evaluation metric\n",
    "#     \"learning_rate\": 0.01,         # Lower value to reduce overfitting (0.05-0.1 is common)\n",
    "#     \"max_depth\": 8,               # Depth of trees; lower to prevent overfitting\n",
    "#     \"min_child_weight\": 3,        # Minimum sum of instance weight (hessian) in a leaf\n",
    "#     \"gamma\": 0.2,                 # Minimum loss reduction to make a split; combats overfitting\n",
    "#     \"subsample\": 1.0,             # Subsample ratio of training instances (80% of rows)\n",
    "#     \"colsample_bytree\": 0.5,      # Subsample ratio of columns for each tree (80% of columns)\n",
    "#     \"lambda\": 1.0,                # L2 regularization term\n",
    "#     \"alpha\": 0.1,                 # L1 regularization term\n",
    "#     \"scale_pos_weight\": 1,        # For imbalanced classes; adjust if needed\n",
    "#     \"n_estimators\": 100,          # Total number of trees; use early stopping for optimization\n",
    "#     \"random_state\": 42,           # Seed for reproducibility\n",
    "#     \"tree_method\": \"hist\",        # Faster training for large datasets\n",
    "#     \"predictor\": \"gpu_predictor\", # Use GPU if available for better performance\n",
    "#     \"early_stopping_rounds\":15\n",
    "# }\n",
    "\n",
    "# Define early stopping callback\n",
    "# early_stopping = callback.EarlyStopping(\n",
    "    # rounds=5,                      # Stop if no improvement after 50 rounds\n",
    "    # save_best=True,                 # Save the best model\n",
    "# )\n",
    "\n",
    "# lr = XGBClassifier(**xgb_params)\n",
    "# lr = SVC(random_state = 42, C = 0.7, kernel='rbf', gamma = 'scale', probability=True)\n",
    "\n",
    "# preds_estrat = get_stratified_subset(preds, 'EmoClass', 300, random_state=42)\n",
    "\n",
    "# lr.fit(preds_estrat[cols], preds_estrat['target'])\n",
    "# lr.fit(preds_estrat[cols],\n",
    "    # preds_estrat['target'],\n",
    "    # eval_set=[(preds_estrat[cols], preds_estrat['target']), (preds_val[cols], preds_val[\"target\"])],\n",
    "    # verbose=10)\n",
    "\n",
    "models =  train_kfold(preds_estrat, cols, 'target', random_state=42, k=5)"
   ]
  },
  {
   "cell_type": "code",
   "execution_count": 3077,
   "id": "1cb6b1c7-2d2a-4b14-8608-de51b1327480",
   "metadata": {},
   "outputs": [],
   "source": [
    "# x = predict_with_ensemble(preds_val, cols, \"target\", models)"
   ]
  },
  {
   "cell_type": "code",
   "execution_count": 3078,
   "id": "32ae1f3a-6775-49ee-9a6e-174f12be48c0",
   "metadata": {},
   "outputs": [],
   "source": [
    "# x"
   ]
  },
  {
   "cell_type": "code",
   "execution_count": 3153,
   "id": "371a894e-f673-41ce-9cdc-d46545573610",
   "metadata": {},
   "outputs": [],
   "source": [
    "preds_val['Prediction'] = predict_with_ensemble(preds_val, cols, \"target\", models, idx = 4)\n",
    "preds_val['Prediction'] = preds_val['Prediction'].map(map_argmax) \n",
    "\n",
    "preds_estrat['Prediction'] = predict_with_ensemble(preds_estrat, cols, \"target\", models, idx =4)\n",
    "preds_estrat['Prediction'] = preds_estrat['Prediction'].map(map_argmax) \n",
    "\n",
    "# preds_val['Prediction'] = lr.predict(preds_val[cols])\n",
    "# preds_val['Prediction'] = preds_val['Prediction'].map(map_argmax) \n",
    "\n",
    "# preds_estrat['Prediction'] = lr.predict(preds_estrat[cols])\n",
    "# preds_estrat['Prediction'] = preds_estrat['Prediction'].map(map_argmax) "
   ]
  },
  {
   "cell_type": "code",
   "execution_count": 3154,
   "id": "58801223-8fea-4f4f-8250-fb210cdd12a1",
   "metadata": {},
   "outputs": [
    {
     "data": {
      "text/html": [
       "<div>\n",
       "<style scoped>\n",
       "    .dataframe tbody tr th:only-of-type {\n",
       "        vertical-align: middle;\n",
       "    }\n",
       "\n",
       "    .dataframe tbody tr th {\n",
       "        vertical-align: top;\n",
       "    }\n",
       "\n",
       "    .dataframe thead th {\n",
       "        text-align: right;\n",
       "    }\n",
       "</style>\n",
       "<table border=\"1\" class=\"dataframe\">\n",
       "  <thead>\n",
       "    <tr style=\"text-align: right;\">\n",
       "      <th></th>\n",
       "      <th>Filename</th>\n",
       "      <th>class_0_prob</th>\n",
       "      <th>class_1_prob</th>\n",
       "      <th>class_2_prob</th>\n",
       "      <th>class_3_prob</th>\n",
       "      <th>class_4_prob</th>\n",
       "      <th>class_5_prob</th>\n",
       "      <th>class_6_prob</th>\n",
       "      <th>class_7_prob</th>\n",
       "      <th>class_0_prob_exp1</th>\n",
       "      <th>...</th>\n",
       "      <th>class_4_prob_exp11</th>\n",
       "      <th>class_5_prob_exp11</th>\n",
       "      <th>class_6_prob_exp11</th>\n",
       "      <th>class_7_prob_exp11</th>\n",
       "      <th>FileName</th>\n",
       "      <th>EmoClass</th>\n",
       "      <th>Gender</th>\n",
       "      <th>SpkrID</th>\n",
       "      <th>target</th>\n",
       "      <th>Prediction</th>\n",
       "    </tr>\n",
       "  </thead>\n",
       "  <tbody>\n",
       "    <tr>\n",
       "      <th>0</th>\n",
       "      <td>MSP-PODCAST_0002_0033.wav</td>\n",
       "      <td>-1.5255</td>\n",
       "      <td>-0.9042</td>\n",
       "      <td>-0.6863</td>\n",
       "      <td>1.0975</td>\n",
       "      <td>1.5944</td>\n",
       "      <td>-0.9076</td>\n",
       "      <td>-0.0396</td>\n",
       "      <td>0.5794</td>\n",
       "      <td>-0.5298</td>\n",
       "      <td>...</td>\n",
       "      <td>0.1076</td>\n",
       "      <td>0.2568</td>\n",
       "      <td>0.2409</td>\n",
       "      <td>0.6177</td>\n",
       "      <td>MSP-PODCAST_0002_0033.wav</td>\n",
       "      <td>N</td>\n",
       "      <td>Female</td>\n",
       "      <td>127</td>\n",
       "      <td>7</td>\n",
       "      <td>F</td>\n",
       "    </tr>\n",
       "    <tr>\n",
       "      <th>1</th>\n",
       "      <td>MSP-PODCAST_0002_0039.wav</td>\n",
       "      <td>-1.1414</td>\n",
       "      <td>-0.4389</td>\n",
       "      <td>0.4976</td>\n",
       "      <td>0.2762</td>\n",
       "      <td>0.5475</td>\n",
       "      <td>-1.1234</td>\n",
       "      <td>-0.7050</td>\n",
       "      <td>0.6852</td>\n",
       "      <td>-0.4826</td>\n",
       "      <td>...</td>\n",
       "      <td>0.6337</td>\n",
       "      <td>-0.3545</td>\n",
       "      <td>0.0928</td>\n",
       "      <td>0.8891</td>\n",
       "      <td>MSP-PODCAST_0002_0039.wav</td>\n",
       "      <td>N</td>\n",
       "      <td>Female</td>\n",
       "      <td>127</td>\n",
       "      <td>7</td>\n",
       "      <td>N</td>\n",
       "    </tr>\n",
       "    <tr>\n",
       "      <th>2</th>\n",
       "      <td>MSP-PODCAST_0002_0051.wav</td>\n",
       "      <td>-0.6628</td>\n",
       "      <td>-0.8917</td>\n",
       "      <td>0.3540</td>\n",
       "      <td>0.2094</td>\n",
       "      <td>0.4543</td>\n",
       "      <td>0.0595</td>\n",
       "      <td>-0.3424</td>\n",
       "      <td>0.4155</td>\n",
       "      <td>-1.0789</td>\n",
       "      <td>...</td>\n",
       "      <td>-0.4951</td>\n",
       "      <td>0.2014</td>\n",
       "      <td>0.7075</td>\n",
       "      <td>1.4479</td>\n",
       "      <td>MSP-PODCAST_0002_0051.wav</td>\n",
       "      <td>N</td>\n",
       "      <td>Female</td>\n",
       "      <td>127</td>\n",
       "      <td>7</td>\n",
       "      <td>N</td>\n",
       "    </tr>\n",
       "    <tr>\n",
       "      <th>3</th>\n",
       "      <td>MSP-PODCAST_0002_0061.wav</td>\n",
       "      <td>-1.1753</td>\n",
       "      <td>-0.5957</td>\n",
       "      <td>-0.2784</td>\n",
       "      <td>0.1372</td>\n",
       "      <td>0.4138</td>\n",
       "      <td>-0.4262</td>\n",
       "      <td>0.3996</td>\n",
       "      <td>0.2329</td>\n",
       "      <td>-1.5239</td>\n",
       "      <td>...</td>\n",
       "      <td>0.0896</td>\n",
       "      <td>0.1752</td>\n",
       "      <td>1.0439</td>\n",
       "      <td>0.6118</td>\n",
       "      <td>MSP-PODCAST_0002_0061.wav</td>\n",
       "      <td>F</td>\n",
       "      <td>Female</td>\n",
       "      <td>128</td>\n",
       "      <td>4</td>\n",
       "      <td>C</td>\n",
       "    </tr>\n",
       "    <tr>\n",
       "      <th>4</th>\n",
       "      <td>MSP-PODCAST_0006_0017.wav</td>\n",
       "      <td>-1.9912</td>\n",
       "      <td>0.3821</td>\n",
       "      <td>-0.1018</td>\n",
       "      <td>-0.1456</td>\n",
       "      <td>0.8424</td>\n",
       "      <td>-0.6897</td>\n",
       "      <td>0.0197</td>\n",
       "      <td>0.7851</td>\n",
       "      <td>-2.2101</td>\n",
       "      <td>...</td>\n",
       "      <td>-0.9243</td>\n",
       "      <td>0.1276</td>\n",
       "      <td>0.5126</td>\n",
       "      <td>1.7037</td>\n",
       "      <td>MSP-PODCAST_0006_0017.wav</td>\n",
       "      <td>N</td>\n",
       "      <td>Female</td>\n",
       "      <td>127</td>\n",
       "      <td>7</td>\n",
       "      <td>N</td>\n",
       "    </tr>\n",
       "  </tbody>\n",
       "</table>\n",
       "<p>5 rows × 103 columns</p>\n",
       "</div>"
      ],
      "text/plain": [
       "                    Filename  class_0_prob  class_1_prob  class_2_prob  \\\n",
       "0  MSP-PODCAST_0002_0033.wav       -1.5255       -0.9042       -0.6863   \n",
       "1  MSP-PODCAST_0002_0039.wav       -1.1414       -0.4389        0.4976   \n",
       "2  MSP-PODCAST_0002_0051.wav       -0.6628       -0.8917        0.3540   \n",
       "3  MSP-PODCAST_0002_0061.wav       -1.1753       -0.5957       -0.2784   \n",
       "4  MSP-PODCAST_0006_0017.wav       -1.9912        0.3821       -0.1018   \n",
       "\n",
       "   class_3_prob  class_4_prob  class_5_prob  class_6_prob  class_7_prob  \\\n",
       "0        1.0975        1.5944       -0.9076       -0.0396        0.5794   \n",
       "1        0.2762        0.5475       -1.1234       -0.7050        0.6852   \n",
       "2        0.2094        0.4543        0.0595       -0.3424        0.4155   \n",
       "3        0.1372        0.4138       -0.4262        0.3996        0.2329   \n",
       "4       -0.1456        0.8424       -0.6897        0.0197        0.7851   \n",
       "\n",
       "   class_0_prob_exp1  ...  class_4_prob_exp11  class_5_prob_exp11  \\\n",
       "0            -0.5298  ...              0.1076              0.2568   \n",
       "1            -0.4826  ...              0.6337             -0.3545   \n",
       "2            -1.0789  ...             -0.4951              0.2014   \n",
       "3            -1.5239  ...              0.0896              0.1752   \n",
       "4            -2.2101  ...             -0.9243              0.1276   \n",
       "\n",
       "   class_6_prob_exp11  class_7_prob_exp11                   FileName  \\\n",
       "0              0.2409              0.6177  MSP-PODCAST_0002_0033.wav   \n",
       "1              0.0928              0.8891  MSP-PODCAST_0002_0039.wav   \n",
       "2              0.7075              1.4479  MSP-PODCAST_0002_0051.wav   \n",
       "3              1.0439              0.6118  MSP-PODCAST_0002_0061.wav   \n",
       "4              0.5126              1.7037  MSP-PODCAST_0006_0017.wav   \n",
       "\n",
       "   EmoClass  Gender  SpkrID  target  Prediction  \n",
       "0         N  Female     127       7           F  \n",
       "1         N  Female     127       7           N  \n",
       "2         N  Female     127       7           N  \n",
       "3         F  Female     128       4           C  \n",
       "4         N  Female     127       7           N  \n",
       "\n",
       "[5 rows x 103 columns]"
      ]
     },
     "execution_count": 3154,
     "metadata": {},
     "output_type": "execute_result"
    }
   ],
   "source": [
    "preds_val.head()"
   ]
  },
  {
   "cell_type": "code",
   "execution_count": 3155,
   "id": "d114f83a-54db-4615-989d-6db4a1229f73",
   "metadata": {},
   "outputs": [
    {
     "data": {
      "image/png": "[encoded data removed]",
      "text/plain": [
       "<Figure size 640x480 with 2 Axes>"
      ]
     },
     "metadata": {},
     "output_type": "display_data"
    }
   ],
   "source": [
    "import pandas as pd\n",
    "from sklearn.metrics import confusion_matrix, ConfusionMatrixDisplay, accuracy_score, f1_score\n",
    "import matplotlib.pyplot as plt\n",
    "\n",
    "# Generate confusion matrix\n",
    "cm = confusion_matrix(preds_val['EmoClass'], preds_val['Prediction'], labels=preds_val['EmoClass'].unique())\n",
    "\n",
    "# Display labels\n",
    "labels = preds_val['EmoClass'].unique()\n",
    "\n",
    "# Visualize confusion matrix\n",
    "cmd = ConfusionMatrixDisplay(confusion_matrix=cm, display_labels=labels)\n",
    "cmd.plot(cmap=plt.cm.Blues)\n",
    "plt.title(\"Confusion Matrix\")\n",
    "plt.show()"
   ]
  },
  {
   "cell_type": "code",
   "execution_count": 3156,
   "id": "0f00b22b-aee3-4850-90c6-af42bb175f2f",
   "metadata": {},
   "outputs": [
    {
     "data": {
      "text/html": [
       "<div>\n",
       "<style scoped>\n",
       "    .dataframe tbody tr th:only-of-type {\n",
       "        vertical-align: middle;\n",
       "    }\n",
       "\n",
       "    .dataframe tbody tr th {\n",
       "        vertical-align: top;\n",
       "    }\n",
       "\n",
       "    .dataframe thead th {\n",
       "        text-align: right;\n",
       "    }\n",
       "</style>\n",
       "<table border=\"1\" class=\"dataframe\">\n",
       "  <thead>\n",
       "    <tr style=\"text-align: right;\">\n",
       "      <th></th>\n",
       "      <th>Filename</th>\n",
       "      <th>class_0_prob</th>\n",
       "      <th>class_1_prob</th>\n",
       "      <th>class_2_prob</th>\n",
       "      <th>class_3_prob</th>\n",
       "      <th>class_4_prob</th>\n",
       "      <th>class_5_prob</th>\n",
       "      <th>class_6_prob</th>\n",
       "      <th>class_7_prob</th>\n",
       "      <th>class_0_prob_exp1</th>\n",
       "      <th>...</th>\n",
       "      <th>class_4_prob_exp11</th>\n",
       "      <th>class_5_prob_exp11</th>\n",
       "      <th>class_6_prob_exp11</th>\n",
       "      <th>class_7_prob_exp11</th>\n",
       "      <th>FileName</th>\n",
       "      <th>EmoClass</th>\n",
       "      <th>Gender</th>\n",
       "      <th>SpkrID</th>\n",
       "      <th>target</th>\n",
       "      <th>Prediction</th>\n",
       "    </tr>\n",
       "  </thead>\n",
       "  <tbody>\n",
       "    <tr>\n",
       "      <th>0</th>\n",
       "      <td>MSP-PODCAST_2421_0197.wav</td>\n",
       "      <td>0.5336</td>\n",
       "      <td>0.3645</td>\n",
       "      <td>-2.4403</td>\n",
       "      <td>-0.4542</td>\n",
       "      <td>-0.4124</td>\n",
       "      <td>1.2771</td>\n",
       "      <td>1.0001</td>\n",
       "      <td>-1.2352</td>\n",
       "      <td>0.5945</td>\n",
       "      <td>...</td>\n",
       "      <td>-0.5616</td>\n",
       "      <td>0.5499</td>\n",
       "      <td>0.9331</td>\n",
       "      <td>-1.0239</td>\n",
       "      <td>MSP-PODCAST_2421_0197.wav</td>\n",
       "      <td>N</td>\n",
       "      <td>Female</td>\n",
       "      <td>210</td>\n",
       "      <td>7</td>\n",
       "      <td>S</td>\n",
       "    </tr>\n",
       "    <tr>\n",
       "      <th>1</th>\n",
       "      <td>MSP-PODCAST_2347_1004.wav</td>\n",
       "      <td>4.1935</td>\n",
       "      <td>-2.3495</td>\n",
       "      <td>-1.3108</td>\n",
       "      <td>-0.3024</td>\n",
       "      <td>-0.4416</td>\n",
       "      <td>-0.0597</td>\n",
       "      <td>0.3433</td>\n",
       "      <td>-2.2734</td>\n",
       "      <td>4.7512</td>\n",
       "      <td>...</td>\n",
       "      <td>-1.2015</td>\n",
       "      <td>1.9021</td>\n",
       "      <td>1.9905</td>\n",
       "      <td>-2.2894</td>\n",
       "      <td>MSP-PODCAST_2347_1004.wav</td>\n",
       "      <td>N</td>\n",
       "      <td>Female</td>\n",
       "      <td>210</td>\n",
       "      <td>7</td>\n",
       "      <td>A</td>\n",
       "    </tr>\n",
       "    <tr>\n",
       "      <th>2</th>\n",
       "      <td>MSP-PODCAST_3406_0004_0003.wav</td>\n",
       "      <td>-1.3492</td>\n",
       "      <td>-1.1070</td>\n",
       "      <td>1.1130</td>\n",
       "      <td>-0.1864</td>\n",
       "      <td>-0.1879</td>\n",
       "      <td>-1.2438</td>\n",
       "      <td>0.0610</td>\n",
       "      <td>0.8294</td>\n",
       "      <td>-0.8285</td>\n",
       "      <td>...</td>\n",
       "      <td>-0.7390</td>\n",
       "      <td>-2.4185</td>\n",
       "      <td>-1.0858</td>\n",
       "      <td>2.1934</td>\n",
       "      <td>MSP-PODCAST_3406_0004_0003.wav</td>\n",
       "      <td>N</td>\n",
       "      <td>Male</td>\n",
       "      <td>1767</td>\n",
       "      <td>7</td>\n",
       "      <td>N</td>\n",
       "    </tr>\n",
       "    <tr>\n",
       "      <th>3</th>\n",
       "      <td>MSP-PODCAST_0807_1720.wav</td>\n",
       "      <td>-2.1952</td>\n",
       "      <td>-2.3865</td>\n",
       "      <td>1.3040</td>\n",
       "      <td>2.3231</td>\n",
       "      <td>-1.0546</td>\n",
       "      <td>-1.7946</td>\n",
       "      <td>0.3089</td>\n",
       "      <td>0.5984</td>\n",
       "      <td>-1.4937</td>\n",
       "      <td>...</td>\n",
       "      <td>-1.2828</td>\n",
       "      <td>-0.5457</td>\n",
       "      <td>0.8967</td>\n",
       "      <td>1.0590</td>\n",
       "      <td>MSP-PODCAST_0807_1720.wav</td>\n",
       "      <td>N</td>\n",
       "      <td>Male</td>\n",
       "      <td>97</td>\n",
       "      <td>7</td>\n",
       "      <td>U</td>\n",
       "    </tr>\n",
       "    <tr>\n",
       "      <th>4</th>\n",
       "      <td>MSP-PODCAST_3079_1429.wav</td>\n",
       "      <td>-2.6322</td>\n",
       "      <td>0.2084</td>\n",
       "      <td>0.1194</td>\n",
       "      <td>0.6955</td>\n",
       "      <td>-0.3376</td>\n",
       "      <td>-0.5716</td>\n",
       "      <td>-0.7618</td>\n",
       "      <td>1.6250</td>\n",
       "      <td>-3.1947</td>\n",
       "      <td>...</td>\n",
       "      <td>-2.2546</td>\n",
       "      <td>-2.1688</td>\n",
       "      <td>-1.6295</td>\n",
       "      <td>3.3364</td>\n",
       "      <td>MSP-PODCAST_3079_1429.wav</td>\n",
       "      <td>N</td>\n",
       "      <td>Male</td>\n",
       "      <td>2261</td>\n",
       "      <td>7</td>\n",
       "      <td>N</td>\n",
       "    </tr>\n",
       "  </tbody>\n",
       "</table>\n",
       "<p>5 rows × 103 columns</p>\n",
       "</div>"
      ],
      "text/plain": [
       "                         Filename  class_0_prob  class_1_prob  class_2_prob  \\\n",
       "0       MSP-PODCAST_2421_0197.wav        0.5336        0.3645       -2.4403   \n",
       "1       MSP-PODCAST_2347_1004.wav        4.1935       -2.3495       -1.3108   \n",
       "2  MSP-PODCAST_3406_0004_0003.wav       -1.3492       -1.1070        1.1130   \n",
       "3       MSP-PODCAST_0807_1720.wav       -2.1952       -2.3865        1.3040   \n",
       "4       MSP-PODCAST_3079_1429.wav       -2.6322        0.2084        0.1194   \n",
       "\n",
       "   class_3_prob  class_4_prob  class_5_prob  class_6_prob  class_7_prob  \\\n",
       "0       -0.4542       -0.4124        1.2771        1.0001       -1.2352   \n",
       "1       -0.3024       -0.4416       -0.0597        0.3433       -2.2734   \n",
       "2       -0.1864       -0.1879       -1.2438        0.0610        0.8294   \n",
       "3        2.3231       -1.0546       -1.7946        0.3089        0.5984   \n",
       "4        0.6955       -0.3376       -0.5716       -0.7618        1.6250   \n",
       "\n",
       "   class_0_prob_exp1  ...  class_4_prob_exp11  class_5_prob_exp11  \\\n",
       "0             0.5945  ...             -0.5616              0.5499   \n",
       "1             4.7512  ...             -1.2015              1.9021   \n",
       "2            -0.8285  ...             -0.7390             -2.4185   \n",
       "3            -1.4937  ...             -1.2828             -0.5457   \n",
       "4            -3.1947  ...             -2.2546             -2.1688   \n",
       "\n",
       "   class_6_prob_exp11  class_7_prob_exp11                        FileName  \\\n",
       "0              0.9331             -1.0239       MSP-PODCAST_2421_0197.wav   \n",
       "1              1.9905             -2.2894       MSP-PODCAST_2347_1004.wav   \n",
       "2             -1.0858              2.1934  MSP-PODCAST_3406_0004_0003.wav   \n",
       "3              0.8967              1.0590       MSP-PODCAST_0807_1720.wav   \n",
       "4             -1.6295              3.3364       MSP-PODCAST_3079_1429.wav   \n",
       "\n",
       "   EmoClass  Gender  SpkrID  target  Prediction  \n",
       "0         N  Female     210       7           S  \n",
       "1         N  Female     210       7           A  \n",
       "2         N    Male    1767       7           N  \n",
       "3         N    Male      97       7           U  \n",
       "4         N    Male    2261       7           N  \n",
       "\n",
       "[5 rows x 103 columns]"
      ]
     },
     "execution_count": 3156,
     "metadata": {},
     "output_type": "execute_result"
    }
   ],
   "source": [
    "preds_subset = get_stratified_subset(preds_val, 'EmoClass', 100)\n",
    "preds_subset.head()"
   ]
  },
  {
   "cell_type": "markdown",
   "id": "c6d276da-b7b8-49c7-9d65-9b00034390d7",
   "metadata": {},
   "source": [
    "# Training bootstrap"
   ]
  },
  {
   "cell_type": "code",
   "execution_count": 3157,
   "id": "0d8f431d-deb1-4659-8061-4d354a13712c",
   "metadata": {},
   "outputs": [],
   "source": [
    "# Average F1-score using bootstrap\n",
    "f1_scores = []\n",
    "for i in range(100):\n",
    "    preds_subset = get_stratified_subset(preds_estrat, 'EmoClass', 100, i)\n",
    "    f1_scores.append(f1_score(preds_estrat['EmoClass'], preds_estrat['Prediction'], average='macro'))"
   ]
  },
  {
   "cell_type": "code",
   "execution_count": 3158,
   "id": "098b7ff3-d17e-4135-8798-9dc2428db382",
   "metadata": {},
   "outputs": [
    {
     "data": {
      "text/plain": [
       "(0.651336918512519,\n",
       " 1.1102230246251565e-16,\n",
       " 0.6513369185125188,\n",
       " 0.6513369185125188)"
      ]
     },
     "execution_count": 3158,
     "metadata": {},
     "output_type": "execute_result"
    }
   ],
   "source": [
    "f1_scores = np.array(f1_scores)\n",
    "\n",
    "np.mean(f1_scores), np.std(f1_scores),np.max(f1_scores),np.min(f1_scores)"
   ]
  },
  {
   "cell_type": "code",
   "execution_count": 3159,
   "id": "4eb0cd95-611b-438a-a5dd-52fd63b6c5aa",
   "metadata": {},
   "outputs": [
    {
     "data": {
      "text/plain": [
       "0.6513369185125188"
      ]
     },
     "execution_count": 3159,
     "metadata": {},
     "output_type": "execute_result"
    }
   ],
   "source": [
    "f1_score(preds_estrat['EmoClass'], preds_estrat['Prediction'], average='macro')"
   ]
  },
  {
   "cell_type": "code",
   "execution_count": 3160,
   "id": "c1b8ae11-358c-4630-8015-f6576259e306",
   "metadata": {},
   "outputs": [
    {
     "data": {
      "text/plain": [
       "0.6513392857142857"
      ]
     },
     "execution_count": 3160,
     "metadata": {},
     "output_type": "execute_result"
    }
   ],
   "source": [
    "accuracy_score(preds_estrat['EmoClass'], preds_estrat['Prediction'])"
   ]
  },
  {
   "cell_type": "markdown",
   "id": "61a7572e-1f30-403d-a83c-2ce462f8bba8",
   "metadata": {},
   "source": [
    "# Dev bootstrap"
   ]
  },
  {
   "cell_type": "code",
   "execution_count": 3161,
   "id": "8fb00efd-ac72-400d-a0ca-8faa1bc5aa21",
   "metadata": {},
   "outputs": [],
   "source": [
    "# Average F1-score using bootstrap\n",
    "f1_scores = []\n",
    "for i in range(100):\n",
    "    preds_subset = get_stratified_subset(preds_val, 'EmoClass', 200, i)\n",
    "    f1_scores.append(f1_score(preds_subset['EmoClass'], preds_subset['Prediction'], average='macro'))"
   ]
  },
  {
   "cell_type": "code",
   "execution_count": 3162,
   "id": "096eccda-b4b0-4af9-b0c4-58c67d0e3a01",
   "metadata": {},
   "outputs": [],
   "source": [
    "# f1_scores"
   ]
  },
  {
   "cell_type": "code",
   "execution_count": 3163,
   "id": "b13fe35a-23b2-43f0-90cc-a693529754ea",
   "metadata": {},
   "outputs": [
    {
     "data": {
      "text/plain": [
       "(0.4292336299226378,\n",
       " 0.00996323230648333,\n",
       " 0.4509996583080222,\n",
       " 0.4037795383095361)"
      ]
     },
     "execution_count": 3163,
     "metadata": {},
     "output_type": "execute_result"
    }
   ],
   "source": [
    "f1_scores = np.array(f1_scores)\n",
    "\n",
    "np.mean(f1_scores), np.std(f1_scores),np.max(f1_scores),np.min(f1_scores)"
   ]
  },
  {
   "cell_type": "code",
   "execution_count": 3164,
   "id": "a5492076-5253-4211-b593-ec0cd9e01bb2",
   "metadata": {},
   "outputs": [
    {
     "data": {
      "image/png": "[encoded data removed]",
      "text/plain": [
       "<Figure size 640x480 with 1 Axes>"
      ]
     },
     "metadata": {},
     "output_type": "display_data"
    }
   ],
   "source": [
    "plt.hist(f1_scores, bins=10)\n",
    "plt.show()"
   ]
  },
  {
   "cell_type": "code",
   "execution_count": 3165,
   "id": "8159c179-b646-4164-aefe-ea07d1b14b63",
   "metadata": {},
   "outputs": [
    {
     "data": {
      "text/plain": [
       "0.3785077904339177"
      ]
     },
     "execution_count": 3165,
     "metadata": {},
     "output_type": "execute_result"
    }
   ],
   "source": [
    "f1_score(preds_val['EmoClass'], preds_val['Prediction'], average='macro')"
   ]
  },
  {
   "cell_type": "code",
   "execution_count": 3166,
   "id": "9ffcaae7-3a6c-4551-88b4-89443bf93542",
   "metadata": {},
   "outputs": [
    {
     "data": {
      "text/plain": [
       "0.4978224720880513"
      ]
     },
     "execution_count": 3166,
     "metadata": {},
     "output_type": "execute_result"
    }
   ],
   "source": [
    "f1_score(preds_val['EmoClass'], preds_val['Prediction'], average='micro')"
   ]
  },
  {
   "cell_type": "code",
   "execution_count": 3167,
   "id": "079afbb7-1cc7-4abd-8ddc-61c09caa62b4",
   "metadata": {},
   "outputs": [
    {
     "data": {
      "text/plain": [
       "0.4978224720880513"
      ]
     },
     "execution_count": 3167,
     "metadata": {},
     "output_type": "execute_result"
    }
   ],
   "source": [
    "accuracy_score(preds_val['EmoClass'], preds_val['Prediction'])"
   ]
  },
  {
   "cell_type": "code",
   "execution_count": 3140,
   "id": "6a50f0e8-da6b-4ed2-ad8d-f081c128cb9b",
   "metadata": {},
   "outputs": [
    {
     "data": {
      "text/plain": [
       "0.35086324551524495"
      ]
     },
     "execution_count": 3140,
     "metadata": {},
     "output_type": "execute_result"
    }
   ],
   "source": [
    "f1_score(preds_val[preds_val['Gender']=='Female']['EmoClass'], preds_val[preds_val['Gender']=='Female']['Prediction'], average='macro')"
   ]
  },
  {
   "cell_type": "code",
   "execution_count": 3054,
   "id": "2b2021da-895b-4780-ae73-4a8cc13dfe2c",
   "metadata": {},
   "outputs": [
    {
     "data": {
      "text/plain": [
       "0.3978423893949967"
      ]
     },
     "execution_count": 3054,
     "metadata": {},
     "output_type": "execute_result"
    }
   ],
   "source": [
    "f1_score(preds_val[preds_val['Gender']=='Male']['EmoClass'], preds_val[preds_val['Gender']=='Male']['Prediction'], average='macro')"
   ]
  },
  {
   "cell_type": "code",
   "execution_count": 3055,
   "id": "f899dc67-4135-4fea-98ed-8de8dce0823c",
   "metadata": {},
   "outputs": [
    {
     "data": {
      "text/plain": [
       "0.4361047635788364"
      ]
     },
     "execution_count": 3055,
     "metadata": {},
     "output_type": "execute_result"
    }
   ],
   "source": [
    "accuracy_score(preds_val[preds_val['Gender']=='Female']['EmoClass'], preds_val[preds_val['Gender']=='Female']['Prediction'])"
   ]
  },
  {
   "cell_type": "code",
   "execution_count": 3056,
   "id": "084d8c58-046d-4590-ac05-0f9cf97f6dfb",
   "metadata": {},
   "outputs": [
    {
     "name": "stderr",
     "output_type": "stream",
     "text": [
      "/opt/conda/lib/python3.10/site-packages/IPython/core/displayhook.py:275: UserWarning: Output cache limit (currently 1000 entries) hit.\n",
      "Flushing oldest 200 entries.\n",
      "  warn('Output cache limit (currently {sz} entries) hit.\\n'\n"
     ]
    },
    {
     "data": {
      "text/plain": [
       "0.5498559077809798"
      ]
     },
     "execution_count": 3056,
     "metadata": {},
     "output_type": "execute_result"
    }
   ],
   "source": [
    "accuracy_score(preds_val[preds_val['Gender']=='Male']['EmoClass'], preds_val[preds_val['Gender']=='Male']['Prediction'])"
   ]
  },
  {
   "cell_type": "code",
   "execution_count": 3033,
   "id": "f03c7ac6-8acb-4764-b8ad-65e34477f9a3",
   "metadata": {
    "scrolled": true
   },
   "outputs": [
    {
     "name": "stdout",
     "output_type": "stream",
     "text": [
      "Emotion D acc = 0.4151291512915129\n",
      "Emotion N acc = 0.3285733530917419\n",
      "Emotion F acc = 0.24846625766871167\n",
      "Emotion C acc = 0.24126113776559288\n",
      "Emotion U acc = 0.4275582573454914\n",
      "Emotion H acc = 0.5991488020176545\n",
      "Emotion A acc = 0.6958533241946538\n",
      "Emotion S acc = 0.5288338316958565\n"
     ]
    }
   ],
   "source": [
    "for e in preds['EmoClass'].unique():\n",
    "    acc = accuracy_score(preds_val[preds_val['EmoClass']==e]['EmoClass'], preds_val[preds_val['EmoClass']==e]['Prediction'])\n",
    "    print(f'Emotion {e} acc = {acc}')"
   ]
  },
  {
   "cell_type": "code",
   "execution_count": 2739,
   "id": "e4940eb7-460e-410d-907b-a8081584ef5c",
   "metadata": {},
   "outputs": [
    {
     "data": {
      "text/plain": [
       "EmoClass\n",
       "N    7423\n",
       "H    6344\n",
       "A    5836\n",
       "S    2341\n",
       "C    1459\n",
       "U     987\n",
       "D     542\n",
       "F     326\n",
       "Name: count, dtype: int64"
      ]
     },
     "execution_count": 2739,
     "metadata": {},
     "output_type": "execute_result"
    }
   ],
   "source": [
    "preds_val.EmoClass.value_counts()"
   ]
  },
  {
   "cell_type": "code",
   "execution_count": null,
   "id": "78ffb47e-a7ce-4fb0-805f-75e2f1ce0b38",
   "metadata": {},
   "outputs": [],
   "source": [
    "preds_val.Prediction.value_counts(normalize=True)"
   ]
  },
  {
   "cell_type": "code",
   "execution_count": null,
   "id": "c06efc45-f914-4107-a794-535953cd18ce",
   "metadata": {},
   "outputs": [],
   "source": [
    "import joblib\n",
    "\n",
    "# Save to a file\n",
    "for i,m in enumerate(models):\n",
    "    joblib.dump(m, f'../submissions/rf_model_stackingv3_{i}.pkl')"
   ]
  },
  {
   "cell_type": "code",
   "execution_count": null,
   "id": "08d3ec4c-c89c-4053-a9b4-df719f08216d",
   "metadata": {},
   "outputs": [],
   "source": []
  },
  {
   "cell_type": "code",
   "execution_count": null,
   "id": "a22eb401-32ec-485e-b226-ee82703e1102",
   "metadata": {},
   "outputs": [],
   "source": []
  }
 ],
 "metadata": {
  "kernelspec": {
   "display_name": "Python 3 (ipykernel)",
   "language": "python",
   "name": "python3"
  },
  "language_info": {
   "codemirror_mode": {
    "name": "ipython",
    "version": 3
   },
   "file_extension": ".py",
   "mimetype": "text/x-python",
   "name": "python",
   "nbconvert_exporter": "python",
   "pygments_lexer": "ipython3",
   "version": "3.10.8"
  }
 },
 "nbformat": 4,
 "nbformat_minor": 5
}
