{
 "cells": [
  {
   "cell_type": "code",
   "execution_count": 1,
   "id": "c121eed9-d1ce-4084-bd32-026d59bcfe96",
   "metadata": {},
   "outputs": [
    {
     "name": "stdout",
     "output_type": "stream",
     "text": [
      "../experiments/multimodalmodel_wavlmlarge_robertalarge_lazyload_lr1e4_f1loss_wce/results/dev.csv\n"
     ]
    }
   ],
   "source": [
    "!ls ../experiments/multimodalmodel_wavlmlarge_robertalarge_lazyload_lr1e4_f1loss_wce/results/dev.csv"
   ]
  },
  {
   "cell_type": "code",
   "execution_count": 2,
   "id": "607c5c82-3f02-4bea-9cfa-9d24f7484069",
   "metadata": {},
   "outputs": [],
   "source": [
    "def get_stratified_subset(df, label_column, num_examples_per_label, random_state=None):\n",
    "    \"\"\"\n",
    "    Returns a stratified subset of the dataframe with a fixed number of examples for each label.\n",
    "\n",
    "    Args:\n",
    "        df (pd.DataFrame): The input dataframe.\n",
    "        label_column (str): The name of the column containing the labels.\n",
    "        num_examples_per_label (int): The fixed number of examples to sample for each label.\n",
    "        random_state (int, optional): Random seed for reproducibility.\n",
    "\n",
    "    Returns:\n",
    "        pd.DataFrame: A stratified subset of the dataframe.\n",
    "    \"\"\"\n",
    "    if random_state is not None:\n",
    "        np.random.seed(random_state)\n",
    "\n",
    "    stratified_subset = []\n",
    "\n",
    "    for label in df[label_column].unique():\n",
    "        label_group = df[df[label_column] == label]\n",
    "        if len(label_group) < num_examples_per_label:\n",
    "            raise ValueError(f\"Not enough examples for label '{label}'. Requested {num_examples_per_label}, but only {len(label_group)} available.\")\n",
    "        \n",
    "        sampled_group = label_group.sample(n=num_examples_per_label, random_state=random_state)\n",
    "        stratified_subset.append(sampled_group)\n",
    "\n",
    "    return pd.concat(stratified_subset).reset_index(drop=True)"
   ]
  },
  {
   "cell_type": "code",
   "execution_count": 3,
   "id": "d30bdb9f-8704-4a6b-b074-05afbe73dfc8",
   "metadata": {},
   "outputs": [],
   "source": [
    "import pandas as pd\n",
    "import numpy as np"
   ]
  },
  {
   "cell_type": "code",
   "execution_count": 5,
   "id": "5fc017e4-c8fe-4ec6-b607-57e197608526",
   "metadata": {},
   "outputs": [
    {
     "data": {
      "text/html": [
       "<div>\n",
       "<style scoped>\n",
       "    .dataframe tbody tr th:only-of-type {\n",
       "        vertical-align: middle;\n",
       "    }\n",
       "\n",
       "    .dataframe tbody tr th {\n",
       "        vertical-align: top;\n",
       "    }\n",
       "\n",
       "    .dataframe thead th {\n",
       "        text-align: right;\n",
       "    }\n",
       "</style>\n",
       "<table border=\"1\" class=\"dataframe\">\n",
       "  <thead>\n",
       "    <tr style=\"text-align: right;\">\n",
       "      <th></th>\n",
       "      <th>Filename</th>\n",
       "      <th>Prediction</th>\n",
       "      <th>class_0_prob</th>\n",
       "      <th>class_1_prob</th>\n",
       "      <th>class_2_prob</th>\n",
       "      <th>class_3_prob</th>\n",
       "      <th>class_4_prob</th>\n",
       "      <th>class_5_prob</th>\n",
       "      <th>class_6_prob</th>\n",
       "      <th>class_7_prob</th>\n",
       "    </tr>\n",
       "  </thead>\n",
       "  <tbody>\n",
       "    <tr>\n",
       "      <th>0</th>\n",
       "      <td>MSP-PODCAST_0002_0033.wav</td>\n",
       "      <td>F</td>\n",
       "      <td>-2.3731</td>\n",
       "      <td>-2.9168</td>\n",
       "      <td>-1.5092</td>\n",
       "      <td>-0.4441</td>\n",
       "      <td>-0.0443</td>\n",
       "      <td>-1.4159</td>\n",
       "      <td>-1.2152</td>\n",
       "      <td>-0.8510</td>\n",
       "    </tr>\n",
       "    <tr>\n",
       "      <th>1</th>\n",
       "      <td>MSP-PODCAST_0002_0039.wav</td>\n",
       "      <td>N</td>\n",
       "      <td>-2.7057</td>\n",
       "      <td>-2.4473</td>\n",
       "      <td>-1.0662</td>\n",
       "      <td>-1.5510</td>\n",
       "      <td>-1.2790</td>\n",
       "      <td>-1.4551</td>\n",
       "      <td>-0.7842</td>\n",
       "      <td>-0.3773</td>\n",
       "    </tr>\n",
       "    <tr>\n",
       "      <th>2</th>\n",
       "      <td>MSP-PODCAST_0002_0051.wav</td>\n",
       "      <td>N</td>\n",
       "      <td>-2.4262</td>\n",
       "      <td>-2.2340</td>\n",
       "      <td>-1.2545</td>\n",
       "      <td>-2.0483</td>\n",
       "      <td>-2.0708</td>\n",
       "      <td>-1.1401</td>\n",
       "      <td>-0.7878</td>\n",
       "      <td>-0.5329</td>\n",
       "    </tr>\n",
       "    <tr>\n",
       "      <th>3</th>\n",
       "      <td>MSP-PODCAST_0002_0061.wav</td>\n",
       "      <td>F</td>\n",
       "      <td>-2.8370</td>\n",
       "      <td>-1.0668</td>\n",
       "      <td>-1.8577</td>\n",
       "      <td>-1.2425</td>\n",
       "      <td>0.1975</td>\n",
       "      <td>-1.5300</td>\n",
       "      <td>-1.1089</td>\n",
       "      <td>-0.6582</td>\n",
       "    </tr>\n",
       "    <tr>\n",
       "      <th>4</th>\n",
       "      <td>MSP-PODCAST_0006_0017.wav</td>\n",
       "      <td>F</td>\n",
       "      <td>-3.8144</td>\n",
       "      <td>-1.3945</td>\n",
       "      <td>-1.4914</td>\n",
       "      <td>-0.6513</td>\n",
       "      <td>0.2636</td>\n",
       "      <td>-1.1785</td>\n",
       "      <td>-0.7943</td>\n",
       "      <td>-0.8912</td>\n",
       "    </tr>\n",
       "  </tbody>\n",
       "</table>\n",
       "</div>"
      ],
      "text/plain": [
       "                    Filename Prediction  class_0_prob  class_1_prob  \\\n",
       "0  MSP-PODCAST_0002_0033.wav          F       -2.3731       -2.9168   \n",
       "1  MSP-PODCAST_0002_0039.wav          N       -2.7057       -2.4473   \n",
       "2  MSP-PODCAST_0002_0051.wav          N       -2.4262       -2.2340   \n",
       "3  MSP-PODCAST_0002_0061.wav          F       -2.8370       -1.0668   \n",
       "4  MSP-PODCAST_0006_0017.wav          F       -3.8144       -1.3945   \n",
       "\n",
       "   class_2_prob  class_3_prob  class_4_prob  class_5_prob  class_6_prob  \\\n",
       "0       -1.5092       -0.4441       -0.0443       -1.4159       -1.2152   \n",
       "1       -1.0662       -1.5510       -1.2790       -1.4551       -0.7842   \n",
       "2       -1.2545       -2.0483       -2.0708       -1.1401       -0.7878   \n",
       "3       -1.8577       -1.2425        0.1975       -1.5300       -1.1089   \n",
       "4       -1.4914       -0.6513        0.2636       -1.1785       -0.7943   \n",
       "\n",
       "   class_7_prob  \n",
       "0       -0.8510  \n",
       "1       -0.3773  \n",
       "2       -0.5329  \n",
       "3       -0.6582  \n",
       "4       -0.8912  "
      ]
     },
     "execution_count": 5,
     "metadata": {},
     "output_type": "execute_result"
    }
   ],
   "source": [
    "preds = pd.read_csv('../experiments/multimodalmodel_wavlmlarge_robertalarge_lazyload_lr1e4_f1loss_wce/results/dev.csv')\n",
    "preds.head()"
   ]
  },
  {
   "cell_type": "code",
   "execution_count": 6,
   "id": "9ca46356-04ea-491c-8aaa-687a04b9585f",
   "metadata": {},
   "outputs": [
    {
     "data": {
      "text/html": [
       "<div>\n",
       "<style scoped>\n",
       "    .dataframe tbody tr th:only-of-type {\n",
       "        vertical-align: middle;\n",
       "    }\n",
       "\n",
       "    .dataframe tbody tr th {\n",
       "        vertical-align: top;\n",
       "    }\n",
       "\n",
       "    .dataframe thead th {\n",
       "        text-align: right;\n",
       "    }\n",
       "</style>\n",
       "<table border=\"1\" class=\"dataframe\">\n",
       "  <thead>\n",
       "    <tr style=\"text-align: right;\">\n",
       "      <th></th>\n",
       "      <th>FileName</th>\n",
       "      <th>EmoClass</th>\n",
       "      <th>EmoAct</th>\n",
       "      <th>EmoVal</th>\n",
       "      <th>EmoDom</th>\n",
       "      <th>SpkrID</th>\n",
       "      <th>Gender</th>\n",
       "      <th>Split_Set</th>\n",
       "    </tr>\n",
       "  </thead>\n",
       "  <tbody>\n",
       "    <tr>\n",
       "      <th>0</th>\n",
       "      <td>MSP-PODCAST_0002_0033.wav</td>\n",
       "      <td>N</td>\n",
       "      <td>4.8</td>\n",
       "      <td>4.2</td>\n",
       "      <td>5.4</td>\n",
       "      <td>127</td>\n",
       "      <td>Female</td>\n",
       "      <td>Development</td>\n",
       "    </tr>\n",
       "    <tr>\n",
       "      <th>1</th>\n",
       "      <td>MSP-PODCAST_0002_0039.wav</td>\n",
       "      <td>N</td>\n",
       "      <td>4.0</td>\n",
       "      <td>4.2</td>\n",
       "      <td>4.2</td>\n",
       "      <td>127</td>\n",
       "      <td>Female</td>\n",
       "      <td>Development</td>\n",
       "    </tr>\n",
       "    <tr>\n",
       "      <th>2</th>\n",
       "      <td>MSP-PODCAST_0002_0051.wav</td>\n",
       "      <td>N</td>\n",
       "      <td>4.0</td>\n",
       "      <td>4.2</td>\n",
       "      <td>4.2</td>\n",
       "      <td>127</td>\n",
       "      <td>Female</td>\n",
       "      <td>Development</td>\n",
       "    </tr>\n",
       "    <tr>\n",
       "      <th>3</th>\n",
       "      <td>MSP-PODCAST_0002_0059.wav</td>\n",
       "      <td>X</td>\n",
       "      <td>4.0</td>\n",
       "      <td>3.8</td>\n",
       "      <td>4.0</td>\n",
       "      <td>128</td>\n",
       "      <td>Female</td>\n",
       "      <td>Development</td>\n",
       "    </tr>\n",
       "    <tr>\n",
       "      <th>4</th>\n",
       "      <td>MSP-PODCAST_0002_0061.wav</td>\n",
       "      <td>F</td>\n",
       "      <td>3.4</td>\n",
       "      <td>2.8</td>\n",
       "      <td>4.2</td>\n",
       "      <td>128</td>\n",
       "      <td>Female</td>\n",
       "      <td>Development</td>\n",
       "    </tr>\n",
       "  </tbody>\n",
       "</table>\n",
       "</div>"
      ],
      "text/plain": [
       "                    FileName EmoClass  EmoAct  EmoVal  EmoDom  SpkrID  Gender  \\\n",
       "0  MSP-PODCAST_0002_0033.wav        N     4.8     4.2     5.4     127  Female   \n",
       "1  MSP-PODCAST_0002_0039.wav        N     4.0     4.2     4.2     127  Female   \n",
       "2  MSP-PODCAST_0002_0051.wav        N     4.0     4.2     4.2     127  Female   \n",
       "3  MSP-PODCAST_0002_0059.wav        X     4.0     3.8     4.0     128  Female   \n",
       "4  MSP-PODCAST_0002_0061.wav        F     3.4     2.8     4.2     128  Female   \n",
       "\n",
       "     Split_Set  \n",
       "0  Development  \n",
       "1  Development  \n",
       "2  Development  \n",
       "3  Development  \n",
       "4  Development  "
      ]
     },
     "execution_count": 6,
     "metadata": {},
     "output_type": "execute_result"
    }
   ],
   "source": [
    "df = pd.read_csv('/workspace/lucas.ueda/interspeech_ser/data/Labels/labels_consensus.csv')\n",
    "df.head()"
   ]
  },
  {
   "cell_type": "code",
   "execution_count": 7,
   "id": "c3efa84c-a42c-4b16-adb9-6c0af843a12e",
   "metadata": {},
   "outputs": [],
   "source": [
    "preds['FileName'] = preds['Filename']\n",
    "preds = preds.merge(df[['FileName','EmoClass','Gender','SpkrID']], how='left', on = 'FileName')"
   ]
  },
  {
   "cell_type": "code",
   "execution_count": 8,
   "id": "0fbaa4bd-7393-44ea-a465-e088fc022055",
   "metadata": {},
   "outputs": [
    {
     "data": {
      "text/plain": [
       "0"
      ]
     },
     "execution_count": 8,
     "metadata": {},
     "output_type": "execute_result"
    }
   ],
   "source": [
    "preds['EmoClass'].isnull().sum()"
   ]
  },
  {
   "cell_type": "code",
   "execution_count": 9,
   "id": "22a3faa7-164e-4b1d-86e3-e6d9e058e3c5",
   "metadata": {},
   "outputs": [
    {
     "data": {
      "text/html": [
       "<div>\n",
       "<style scoped>\n",
       "    .dataframe tbody tr th:only-of-type {\n",
       "        vertical-align: middle;\n",
       "    }\n",
       "\n",
       "    .dataframe tbody tr th {\n",
       "        vertical-align: top;\n",
       "    }\n",
       "\n",
       "    .dataframe thead th {\n",
       "        text-align: right;\n",
       "    }\n",
       "</style>\n",
       "<table border=\"1\" class=\"dataframe\">\n",
       "  <thead>\n",
       "    <tr style=\"text-align: right;\">\n",
       "      <th></th>\n",
       "      <th>Filename</th>\n",
       "      <th>Prediction</th>\n",
       "      <th>class_0_prob</th>\n",
       "      <th>class_1_prob</th>\n",
       "      <th>class_2_prob</th>\n",
       "      <th>class_3_prob</th>\n",
       "      <th>class_4_prob</th>\n",
       "      <th>class_5_prob</th>\n",
       "      <th>class_6_prob</th>\n",
       "      <th>class_7_prob</th>\n",
       "      <th>FileName</th>\n",
       "      <th>EmoClass</th>\n",
       "      <th>Gender</th>\n",
       "      <th>SpkrID</th>\n",
       "    </tr>\n",
       "  </thead>\n",
       "  <tbody>\n",
       "    <tr>\n",
       "      <th>0</th>\n",
       "      <td>MSP-PODCAST_0002_0033.wav</td>\n",
       "      <td>F</td>\n",
       "      <td>-2.3731</td>\n",
       "      <td>-2.9168</td>\n",
       "      <td>-1.5092</td>\n",
       "      <td>-0.4441</td>\n",
       "      <td>-0.0443</td>\n",
       "      <td>-1.4159</td>\n",
       "      <td>-1.2152</td>\n",
       "      <td>-0.8510</td>\n",
       "      <td>MSP-PODCAST_0002_0033.wav</td>\n",
       "      <td>N</td>\n",
       "      <td>Female</td>\n",
       "      <td>127</td>\n",
       "    </tr>\n",
       "    <tr>\n",
       "      <th>1</th>\n",
       "      <td>MSP-PODCAST_0002_0039.wav</td>\n",
       "      <td>N</td>\n",
       "      <td>-2.7057</td>\n",
       "      <td>-2.4473</td>\n",
       "      <td>-1.0662</td>\n",
       "      <td>-1.5510</td>\n",
       "      <td>-1.2790</td>\n",
       "      <td>-1.4551</td>\n",
       "      <td>-0.7842</td>\n",
       "      <td>-0.3773</td>\n",
       "      <td>MSP-PODCAST_0002_0039.wav</td>\n",
       "      <td>N</td>\n",
       "      <td>Female</td>\n",
       "      <td>127</td>\n",
       "    </tr>\n",
       "    <tr>\n",
       "      <th>2</th>\n",
       "      <td>MSP-PODCAST_0002_0051.wav</td>\n",
       "      <td>N</td>\n",
       "      <td>-2.4262</td>\n",
       "      <td>-2.2340</td>\n",
       "      <td>-1.2545</td>\n",
       "      <td>-2.0483</td>\n",
       "      <td>-2.0708</td>\n",
       "      <td>-1.1401</td>\n",
       "      <td>-0.7878</td>\n",
       "      <td>-0.5329</td>\n",
       "      <td>MSP-PODCAST_0002_0051.wav</td>\n",
       "      <td>N</td>\n",
       "      <td>Female</td>\n",
       "      <td>127</td>\n",
       "    </tr>\n",
       "    <tr>\n",
       "      <th>3</th>\n",
       "      <td>MSP-PODCAST_0002_0061.wav</td>\n",
       "      <td>F</td>\n",
       "      <td>-2.8370</td>\n",
       "      <td>-1.0668</td>\n",
       "      <td>-1.8577</td>\n",
       "      <td>-1.2425</td>\n",
       "      <td>0.1975</td>\n",
       "      <td>-1.5300</td>\n",
       "      <td>-1.1089</td>\n",
       "      <td>-0.6582</td>\n",
       "      <td>MSP-PODCAST_0002_0061.wav</td>\n",
       "      <td>F</td>\n",
       "      <td>Female</td>\n",
       "      <td>128</td>\n",
       "    </tr>\n",
       "    <tr>\n",
       "      <th>4</th>\n",
       "      <td>MSP-PODCAST_0006_0017.wav</td>\n",
       "      <td>F</td>\n",
       "      <td>-3.8144</td>\n",
       "      <td>-1.3945</td>\n",
       "      <td>-1.4914</td>\n",
       "      <td>-0.6513</td>\n",
       "      <td>0.2636</td>\n",
       "      <td>-1.1785</td>\n",
       "      <td>-0.7943</td>\n",
       "      <td>-0.8912</td>\n",
       "      <td>MSP-PODCAST_0006_0017.wav</td>\n",
       "      <td>N</td>\n",
       "      <td>Female</td>\n",
       "      <td>127</td>\n",
       "    </tr>\n",
       "  </tbody>\n",
       "</table>\n",
       "</div>"
      ],
      "text/plain": [
       "                    Filename Prediction  class_0_prob  class_1_prob  \\\n",
       "0  MSP-PODCAST_0002_0033.wav          F       -2.3731       -2.9168   \n",
       "1  MSP-PODCAST_0002_0039.wav          N       -2.7057       -2.4473   \n",
       "2  MSP-PODCAST_0002_0051.wav          N       -2.4262       -2.2340   \n",
       "3  MSP-PODCAST_0002_0061.wav          F       -2.8370       -1.0668   \n",
       "4  MSP-PODCAST_0006_0017.wav          F       -3.8144       -1.3945   \n",
       "\n",
       "   class_2_prob  class_3_prob  class_4_prob  class_5_prob  class_6_prob  \\\n",
       "0       -1.5092       -0.4441       -0.0443       -1.4159       -1.2152   \n",
       "1       -1.0662       -1.5510       -1.2790       -1.4551       -0.7842   \n",
       "2       -1.2545       -2.0483       -2.0708       -1.1401       -0.7878   \n",
       "3       -1.8577       -1.2425        0.1975       -1.5300       -1.1089   \n",
       "4       -1.4914       -0.6513        0.2636       -1.1785       -0.7943   \n",
       "\n",
       "   class_7_prob                   FileName EmoClass  Gender  SpkrID  \n",
       "0       -0.8510  MSP-PODCAST_0002_0033.wav        N  Female     127  \n",
       "1       -0.3773  MSP-PODCAST_0002_0039.wav        N  Female     127  \n",
       "2       -0.5329  MSP-PODCAST_0002_0051.wav        N  Female     127  \n",
       "3       -0.6582  MSP-PODCAST_0002_0061.wav        F  Female     128  \n",
       "4       -0.8912  MSP-PODCAST_0006_0017.wav        N  Female     127  "
      ]
     },
     "execution_count": 9,
     "metadata": {},
     "output_type": "execute_result"
    }
   ],
   "source": [
    "preds.head()"
   ]
  },
  {
   "cell_type": "code",
   "execution_count": 10,
   "id": "1f88027d-0517-4018-8225-419b98548b88",
   "metadata": {},
   "outputs": [],
   "source": [
    "# !pip install matplotlib"
   ]
  },
  {
   "cell_type": "code",
   "execution_count": 11,
   "id": "d114f83a-54db-4615-989d-6db4a1229f73",
   "metadata": {},
   "outputs": [
    {
     "data": {
      "image/png": "[encoded data removed]",
      "text/plain": [
       "<Figure size 640x480 with 2 Axes>"
      ]
     },
     "metadata": {},
     "output_type": "display_data"
    }
   ],
   "source": [
    "import pandas as pd\n",
    "from sklearn.metrics import confusion_matrix, ConfusionMatrixDisplay, accuracy_score, f1_score\n",
    "import matplotlib.pyplot as plt\n",
    "\n",
    "# Generate confusion matrix\n",
    "cm = confusion_matrix(preds['EmoClass'], preds['Prediction'], labels=preds['EmoClass'].unique())\n",
    "\n",
    "# Display labels\n",
    "labels = preds['EmoClass'].unique()\n",
    "\n",
    "# Visualize confusion matrix\n",
    "cmd = ConfusionMatrixDisplay(confusion_matrix=cm, display_labels=labels)\n",
    "cmd.plot(cmap=plt.cm.Blues)\n",
    "plt.title(\"Confusion Matrix\")\n",
    "plt.show()"
   ]
  },
  {
   "cell_type": "code",
   "execution_count": 12,
   "id": "0f00b22b-aee3-4850-90c6-af42bb175f2f",
   "metadata": {},
   "outputs": [
    {
     "data": {
      "text/html": [
       "<div>\n",
       "<style scoped>\n",
       "    .dataframe tbody tr th:only-of-type {\n",
       "        vertical-align: middle;\n",
       "    }\n",
       "\n",
       "    .dataframe tbody tr th {\n",
       "        vertical-align: top;\n",
       "    }\n",
       "\n",
       "    .dataframe thead th {\n",
       "        text-align: right;\n",
       "    }\n",
       "</style>\n",
       "<table border=\"1\" class=\"dataframe\">\n",
       "  <thead>\n",
       "    <tr style=\"text-align: right;\">\n",
       "      <th></th>\n",
       "      <th>Filename</th>\n",
       "      <th>Prediction</th>\n",
       "      <th>class_0_prob</th>\n",
       "      <th>class_1_prob</th>\n",
       "      <th>class_2_prob</th>\n",
       "      <th>class_3_prob</th>\n",
       "      <th>class_4_prob</th>\n",
       "      <th>class_5_prob</th>\n",
       "      <th>class_6_prob</th>\n",
       "      <th>class_7_prob</th>\n",
       "      <th>FileName</th>\n",
       "      <th>EmoClass</th>\n",
       "      <th>Gender</th>\n",
       "      <th>SpkrID</th>\n",
       "    </tr>\n",
       "  </thead>\n",
       "  <tbody>\n",
       "    <tr>\n",
       "      <th>0</th>\n",
       "      <td>MSP-PODCAST_1420_0011_0059.wav</td>\n",
       "      <td>N</td>\n",
       "      <td>-3.2910</td>\n",
       "      <td>-3.5027</td>\n",
       "      <td>-1.2832</td>\n",
       "      <td>-1.2893</td>\n",
       "      <td>-2.6872</td>\n",
       "      <td>-1.6950</td>\n",
       "      <td>-0.8672</td>\n",
       "      <td>-0.3202</td>\n",
       "      <td>MSP-PODCAST_1420_0011_0059.wav</td>\n",
       "      <td>N</td>\n",
       "      <td>Female</td>\n",
       "      <td>772</td>\n",
       "    </tr>\n",
       "    <tr>\n",
       "      <th>1</th>\n",
       "      <td>MSP-PODCAST_2620_0377.wav</td>\n",
       "      <td>S</td>\n",
       "      <td>-0.1522</td>\n",
       "      <td>0.7128</td>\n",
       "      <td>-4.2757</td>\n",
       "      <td>-3.0425</td>\n",
       "      <td>-5.4575</td>\n",
       "      <td>0.5405</td>\n",
       "      <td>0.0836</td>\n",
       "      <td>-1.8497</td>\n",
       "      <td>MSP-PODCAST_2620_0377.wav</td>\n",
       "      <td>N</td>\n",
       "      <td>Female</td>\n",
       "      <td>1698</td>\n",
       "    </tr>\n",
       "    <tr>\n",
       "      <th>2</th>\n",
       "      <td>MSP-PODCAST_2295_0129.wav</td>\n",
       "      <td>S</td>\n",
       "      <td>-10.6442</td>\n",
       "      <td>2.4834</td>\n",
       "      <td>-2.5198</td>\n",
       "      <td>-5.7127</td>\n",
       "      <td>-8.7777</td>\n",
       "      <td>-6.4250</td>\n",
       "      <td>-3.9303</td>\n",
       "      <td>2.4250</td>\n",
       "      <td>MSP-PODCAST_2295_0129.wav</td>\n",
       "      <td>N</td>\n",
       "      <td>Female</td>\n",
       "      <td>1591</td>\n",
       "    </tr>\n",
       "    <tr>\n",
       "      <th>3</th>\n",
       "      <td>MSP-PODCAST_3185_0004.wav</td>\n",
       "      <td>N</td>\n",
       "      <td>-9.5610</td>\n",
       "      <td>-0.9807</td>\n",
       "      <td>-2.3114</td>\n",
       "      <td>-2.3574</td>\n",
       "      <td>-2.0238</td>\n",
       "      <td>-4.9223</td>\n",
       "      <td>-2.2297</td>\n",
       "      <td>1.4111</td>\n",
       "      <td>MSP-PODCAST_3185_0004.wav</td>\n",
       "      <td>N</td>\n",
       "      <td>Female</td>\n",
       "      <td>2184</td>\n",
       "    </tr>\n",
       "    <tr>\n",
       "      <th>4</th>\n",
       "      <td>MSP-PODCAST_3145_0397.wav</td>\n",
       "      <td>U</td>\n",
       "      <td>-9.2047</td>\n",
       "      <td>-7.8477</td>\n",
       "      <td>-0.2371</td>\n",
       "      <td>1.2517</td>\n",
       "      <td>-7.9455</td>\n",
       "      <td>-5.9816</td>\n",
       "      <td>-1.6284</td>\n",
       "      <td>1.2003</td>\n",
       "      <td>MSP-PODCAST_3145_0397.wav</td>\n",
       "      <td>N</td>\n",
       "      <td>Male</td>\n",
       "      <td>2112</td>\n",
       "    </tr>\n",
       "  </tbody>\n",
       "</table>\n",
       "</div>"
      ],
      "text/plain": [
       "                         Filename Prediction  class_0_prob  class_1_prob  \\\n",
       "0  MSP-PODCAST_1420_0011_0059.wav          N       -3.2910       -3.5027   \n",
       "1       MSP-PODCAST_2620_0377.wav          S       -0.1522        0.7128   \n",
       "2       MSP-PODCAST_2295_0129.wav          S      -10.6442        2.4834   \n",
       "3       MSP-PODCAST_3185_0004.wav          N       -9.5610       -0.9807   \n",
       "4       MSP-PODCAST_3145_0397.wav          U       -9.2047       -7.8477   \n",
       "\n",
       "   class_2_prob  class_3_prob  class_4_prob  class_5_prob  class_6_prob  \\\n",
       "0       -1.2832       -1.2893       -2.6872       -1.6950       -0.8672   \n",
       "1       -4.2757       -3.0425       -5.4575        0.5405        0.0836   \n",
       "2       -2.5198       -5.7127       -8.7777       -6.4250       -3.9303   \n",
       "3       -2.3114       -2.3574       -2.0238       -4.9223       -2.2297   \n",
       "4       -0.2371        1.2517       -7.9455       -5.9816       -1.6284   \n",
       "\n",
       "   class_7_prob                        FileName EmoClass  Gender  SpkrID  \n",
       "0       -0.3202  MSP-PODCAST_1420_0011_0059.wav        N  Female     772  \n",
       "1       -1.8497       MSP-PODCAST_2620_0377.wav        N  Female    1698  \n",
       "2        2.4250       MSP-PODCAST_2295_0129.wav        N  Female    1591  \n",
       "3        1.4111       MSP-PODCAST_3185_0004.wav        N  Female    2184  \n",
       "4        1.2003       MSP-PODCAST_3145_0397.wav        N    Male    2112  "
      ]
     },
     "execution_count": 12,
     "metadata": {},
     "output_type": "execute_result"
    }
   ],
   "source": [
    "preds_subset = get_stratified_subset(preds, 'EmoClass', 100)\n",
    "preds_subset.head()"
   ]
  },
  {
   "cell_type": "code",
   "execution_count": 13,
   "id": "8fb00efd-ac72-400d-a0ca-8faa1bc5aa21",
   "metadata": {},
   "outputs": [],
   "source": [
    "# Average F1-score using bootstrap\n",
    "f1_scores = []\n",
    "for i in range(100):\n",
    "    preds_subset = get_stratified_subset(preds, 'EmoClass', 200, i)\n",
    "    f1_scores.append(f1_score(preds_subset['EmoClass'], preds_subset['Prediction'], average='macro'))"
   ]
  },
  {
   "cell_type": "code",
   "execution_count": 14,
   "id": "b13fe35a-23b2-43f0-90cc-a693529754ea",
   "metadata": {},
   "outputs": [
    {
     "data": {
      "text/plain": [
       "(0.36984392938483424,\n",
       " 0.010225984315371904,\n",
       " 0.3979016538658295,\n",
       " 0.3461301459543722)"
      ]
     },
     "execution_count": 14,
     "metadata": {},
     "output_type": "execute_result"
    }
   ],
   "source": [
    "f1_scores = np.array(f1_scores)\n",
    "\n",
    "np.mean(f1_scores), np.std(f1_scores),np.max(f1_scores),np.min(f1_scores)"
   ]
  },
  {
   "cell_type": "code",
   "execution_count": 15,
   "id": "a5492076-5253-4211-b593-ec0cd9e01bb2",
   "metadata": {},
   "outputs": [
    {
     "data": {
      "image/png": "[encoded data removed]",
      "text/plain": [
       "<Figure size 640x480 with 1 Axes>"
      ]
     },
     "metadata": {},
     "output_type": "display_data"
    }
   ],
   "source": [
    "plt.hist(f1_scores, bins=10)\n",
    "plt.show()"
   ]
  },
  {
   "cell_type": "code",
   "execution_count": null,
   "id": "4eb0cd95-611b-438a-a5dd-52fd63b6c5aa",
   "metadata": {},
   "outputs": [],
   "source": []
  },
  {
   "cell_type": "code",
   "execution_count": 16,
   "id": "8159c179-b646-4164-aefe-ea07d1b14b63",
   "metadata": {},
   "outputs": [
    {
     "data": {
      "text/plain": [
       "0.3560677982782964"
      ]
     },
     "execution_count": 16,
     "metadata": {},
     "output_type": "execute_result"
    }
   ],
   "source": [
    "f1_score(preds['EmoClass'], preds['Prediction'], average='macro')"
   ]
  },
  {
   "cell_type": "code",
   "execution_count": 17,
   "id": "9ffcaae7-3a6c-4551-88b4-89443bf93542",
   "metadata": {},
   "outputs": [
    {
     "data": {
      "text/plain": [
       "0.4919629424340803"
      ]
     },
     "execution_count": 17,
     "metadata": {},
     "output_type": "execute_result"
    }
   ],
   "source": [
    "f1_score(preds['EmoClass'], preds['Prediction'], average='micro')"
   ]
  },
  {
   "cell_type": "code",
   "execution_count": 18,
   "id": "079afbb7-1cc7-4abd-8ddc-61c09caa62b4",
   "metadata": {},
   "outputs": [
    {
     "data": {
      "text/plain": [
       "0.4919629424340803"
      ]
     },
     "execution_count": 18,
     "metadata": {},
     "output_type": "execute_result"
    }
   ],
   "source": [
    "accuracy_score(preds['EmoClass'], preds['Prediction'])"
   ]
  },
  {
   "cell_type": "code",
   "execution_count": 19,
   "id": "b5b3e001-c2fd-4ac5-8700-3b8787d98c45",
   "metadata": {},
   "outputs": [
    {
     "data": {
      "text/plain": [
       "(0.05678375814693552, 0.2938870852799113)"
      ]
     },
     "execution_count": 19,
     "metadata": {},
     "output_type": "execute_result"
    }
   ],
   "source": [
    "preds['PRED_dumb'] = 'N'\n",
    "f1_score(preds['EmoClass'], preds['PRED_dumb'], average='macro'), accuracy_score(preds['EmoClass'], preds['PRED_dumb'])"
   ]
  },
  {
   "cell_type": "code",
   "execution_count": 20,
   "id": "b2406023-26bd-4c35-bf1d-a857c03a0173",
   "metadata": {},
   "outputs": [
    {
     "data": {
      "text/plain": [
       "EmoClass\n",
       "N    7423\n",
       "H    6344\n",
       "A    5836\n",
       "S    2341\n",
       "C    1459\n",
       "U     987\n",
       "D     542\n",
       "F     326\n",
       "Name: count, dtype: int64"
      ]
     },
     "execution_count": 20,
     "metadata": {},
     "output_type": "execute_result"
    }
   ],
   "source": [
    "preds['EmoClass'].value_counts()"
   ]
  },
  {
   "cell_type": "code",
   "execution_count": 21,
   "id": "85d9741c-041a-41fd-a379-72b8718e12e7",
   "metadata": {},
   "outputs": [
    {
     "data": {
      "text/html": [
       "<div>\n",
       "<style scoped>\n",
       "    .dataframe tbody tr th:only-of-type {\n",
       "        vertical-align: middle;\n",
       "    }\n",
       "\n",
       "    .dataframe tbody tr th {\n",
       "        vertical-align: top;\n",
       "    }\n",
       "\n",
       "    .dataframe thead th {\n",
       "        text-align: right;\n",
       "    }\n",
       "</style>\n",
       "<table border=\"1\" class=\"dataframe\">\n",
       "  <thead>\n",
       "    <tr style=\"text-align: right;\">\n",
       "      <th></th>\n",
       "      <th>Filename</th>\n",
       "      <th>Prediction</th>\n",
       "      <th>class_0_prob</th>\n",
       "      <th>class_1_prob</th>\n",
       "      <th>class_2_prob</th>\n",
       "      <th>class_3_prob</th>\n",
       "      <th>class_4_prob</th>\n",
       "      <th>class_5_prob</th>\n",
       "      <th>class_6_prob</th>\n",
       "      <th>class_7_prob</th>\n",
       "      <th>FileName</th>\n",
       "      <th>EmoClass</th>\n",
       "      <th>Gender</th>\n",
       "      <th>SpkrID</th>\n",
       "      <th>PRED_dumb</th>\n",
       "    </tr>\n",
       "  </thead>\n",
       "  <tbody>\n",
       "    <tr>\n",
       "      <th>0</th>\n",
       "      <td>MSP-PODCAST_0002_0033.wav</td>\n",
       "      <td>F</td>\n",
       "      <td>-2.3731</td>\n",
       "      <td>-2.9168</td>\n",
       "      <td>-1.5092</td>\n",
       "      <td>-0.4441</td>\n",
       "      <td>-0.0443</td>\n",
       "      <td>-1.4159</td>\n",
       "      <td>-1.2152</td>\n",
       "      <td>-0.8510</td>\n",
       "      <td>MSP-PODCAST_0002_0033.wav</td>\n",
       "      <td>N</td>\n",
       "      <td>Female</td>\n",
       "      <td>127</td>\n",
       "      <td>N</td>\n",
       "    </tr>\n",
       "    <tr>\n",
       "      <th>1</th>\n",
       "      <td>MSP-PODCAST_0002_0039.wav</td>\n",
       "      <td>N</td>\n",
       "      <td>-2.7057</td>\n",
       "      <td>-2.4473</td>\n",
       "      <td>-1.0662</td>\n",
       "      <td>-1.5510</td>\n",
       "      <td>-1.2790</td>\n",
       "      <td>-1.4551</td>\n",
       "      <td>-0.7842</td>\n",
       "      <td>-0.3773</td>\n",
       "      <td>MSP-PODCAST_0002_0039.wav</td>\n",
       "      <td>N</td>\n",
       "      <td>Female</td>\n",
       "      <td>127</td>\n",
       "      <td>N</td>\n",
       "    </tr>\n",
       "  </tbody>\n",
       "</table>\n",
       "</div>"
      ],
      "text/plain": [
       "                    Filename Prediction  class_0_prob  class_1_prob  \\\n",
       "0  MSP-PODCAST_0002_0033.wav          F       -2.3731       -2.9168   \n",
       "1  MSP-PODCAST_0002_0039.wav          N       -2.7057       -2.4473   \n",
       "\n",
       "   class_2_prob  class_3_prob  class_4_prob  class_5_prob  class_6_prob  \\\n",
       "0       -1.5092       -0.4441       -0.0443       -1.4159       -1.2152   \n",
       "1       -1.0662       -1.5510       -1.2790       -1.4551       -0.7842   \n",
       "\n",
       "   class_7_prob                   FileName EmoClass  Gender  SpkrID PRED_dumb  \n",
       "0       -0.8510  MSP-PODCAST_0002_0033.wav        N  Female     127         N  \n",
       "1       -0.3773  MSP-PODCAST_0002_0039.wav        N  Female     127         N  "
      ]
     },
     "execution_count": 21,
     "metadata": {},
     "output_type": "execute_result"
    }
   ],
   "source": [
    "preds.head(2)"
   ]
  },
  {
   "cell_type": "code",
   "execution_count": 21,
   "id": "6a50f0e8-da6b-4ed2-ad8d-f081c128cb9b",
   "metadata": {},
   "outputs": [
    {
     "data": {
      "text/plain": [
       "0.32761798126151165"
      ]
     },
     "execution_count": 21,
     "metadata": {},
     "output_type": "execute_result"
    }
   ],
   "source": [
    "f1_score(preds[preds['Gender']=='Female']['EmoClass'], preds[preds['Gender']=='Female']['Prediction'], average='macro')"
   ]
  },
  {
   "cell_type": "code",
   "execution_count": 22,
   "id": "2b2021da-895b-4780-ae73-4a8cc13dfe2c",
   "metadata": {},
   "outputs": [
    {
     "data": {
      "text/plain": [
       "0.3816636067260863"
      ]
     },
     "execution_count": 22,
     "metadata": {},
     "output_type": "execute_result"
    }
   ],
   "source": [
    "f1_score(preds[preds['Gender']=='Male']['EmoClass'], preds[preds['Gender']=='Male']['Prediction'], average='macro')"
   ]
  },
  {
   "cell_type": "code",
   "execution_count": 23,
   "id": "f899dc67-4135-4fea-98ed-8de8dce0823c",
   "metadata": {},
   "outputs": [
    {
     "data": {
      "text/plain": [
       "0.42292142731587273"
      ]
     },
     "execution_count": 23,
     "metadata": {},
     "output_type": "execute_result"
    }
   ],
   "source": [
    "accuracy_score(preds[preds['Gender']=='Female']['EmoClass'], preds[preds['Gender']=='Female']['Prediction'])"
   ]
  },
  {
   "cell_type": "code",
   "execution_count": 24,
   "id": "084d8c58-046d-4590-ac05-0f9cf97f6dfb",
   "metadata": {},
   "outputs": [
    {
     "data": {
      "text/plain": [
       "0.5427233429394812"
      ]
     },
     "execution_count": 24,
     "metadata": {},
     "output_type": "execute_result"
    }
   ],
   "source": [
    "accuracy_score(preds[preds['Gender']=='Male']['EmoClass'], preds[preds['Gender']=='Male']['Prediction'])"
   ]
  },
  {
   "cell_type": "code",
   "execution_count": 25,
   "id": "f03c7ac6-8acb-4764-b8ad-65e34477f9a3",
   "metadata": {},
   "outputs": [
    {
     "name": "stdout",
     "output_type": "stream",
     "text": [
      "Emotion N acc = 0.3716826081099286\n",
      "Emotion F acc = 0.147239263803681\n",
      "Emotion H acc = 0.5829129886506935\n",
      "Emotion D acc = 0.31365313653136534\n",
      "Emotion C acc = 0.24400274160383825\n",
      "Emotion S acc = 0.5540367364374199\n",
      "Emotion U acc = 0.3282674772036474\n",
      "Emotion A acc = 0.6327964359150103\n"
     ]
    }
   ],
   "source": [
    "for e in preds['EmoClass'].unique():\n",
    "    acc = accuracy_score(preds[preds['EmoClass']==e]['EmoClass'], preds[preds['EmoClass']==e]['Prediction'])\n",
    "    print(f'Emotion {e} acc = {acc}')"
   ]
  },
  {
   "cell_type": "code",
   "execution_count": 26,
   "id": "bf73e724-d25a-41bb-89b6-49f8aea045e7",
   "metadata": {},
   "outputs": [
    {
     "data": {
      "text/html": [
       "<div>\n",
       "<style scoped>\n",
       "    .dataframe tbody tr th:only-of-type {\n",
       "        vertical-align: middle;\n",
       "    }\n",
       "\n",
       "    .dataframe tbody tr th {\n",
       "        vertical-align: top;\n",
       "    }\n",
       "\n",
       "    .dataframe thead th {\n",
       "        text-align: right;\n",
       "    }\n",
       "</style>\n",
       "<table border=\"1\" class=\"dataframe\">\n",
       "  <thead>\n",
       "    <tr style=\"text-align: right;\">\n",
       "      <th></th>\n",
       "      <th>SpkrID</th>\n",
       "      <th>Gender</th>\n",
       "    </tr>\n",
       "  </thead>\n",
       "  <tbody>\n",
       "    <tr>\n",
       "      <th>17</th>\n",
       "      <td>210</td>\n",
       "      <td>3400</td>\n",
       "    </tr>\n",
       "    <tr>\n",
       "      <th>5</th>\n",
       "      <td>97</td>\n",
       "      <td>1371</td>\n",
       "    </tr>\n",
       "    <tr>\n",
       "      <th>610</th>\n",
       "      <td>2789</td>\n",
       "      <td>1135</td>\n",
       "    </tr>\n",
       "    <tr>\n",
       "      <th>4</th>\n",
       "      <td>54</td>\n",
       "      <td>444</td>\n",
       "    </tr>\n",
       "    <tr>\n",
       "      <th>281</th>\n",
       "      <td>2027</td>\n",
       "      <td>390</td>\n",
       "    </tr>\n",
       "    <tr>\n",
       "      <th>611</th>\n",
       "      <td>2794</td>\n",
       "      <td>353</td>\n",
       "    </tr>\n",
       "    <tr>\n",
       "      <th>623</th>\n",
       "      <td>2951</td>\n",
       "      <td>347</td>\n",
       "    </tr>\n",
       "    <tr>\n",
       "      <th>15</th>\n",
       "      <td>169</td>\n",
       "      <td>347</td>\n",
       "    </tr>\n",
       "    <tr>\n",
       "      <th>0</th>\n",
       "      <td>26</td>\n",
       "      <td>312</td>\n",
       "    </tr>\n",
       "    <tr>\n",
       "      <th>13</th>\n",
       "      <td>149</td>\n",
       "      <td>296</td>\n",
       "    </tr>\n",
       "  </tbody>\n",
       "</table>\n",
       "</div>"
      ],
      "text/plain": [
       "     SpkrID  Gender\n",
       "17      210    3400\n",
       "5        97    1371\n",
       "610    2789    1135\n",
       "4        54     444\n",
       "281    2027     390\n",
       "611    2794     353\n",
       "623    2951     347\n",
       "15      169     347\n",
       "0        26     312\n",
       "13      149     296"
      ]
     },
     "execution_count": 26,
     "metadata": {},
     "output_type": "execute_result"
    }
   ],
   "source": [
    "preds.groupby('SpkrID').agg({'Gender': 'count'}).reset_index().sort_values(by='Gender', ascending= False).head(10)"
   ]
  },
  {
   "cell_type": "code",
   "execution_count": 27,
   "id": "75e71014-e9fb-4a5e-a923-a3d1f7239fc8",
   "metadata": {},
   "outputs": [],
   "source": [
    "top10_volumetry_spks = preds.groupby('SpkrID').agg({'Gender': 'count'}).reset_index().sort_values(by='Gender', ascending= False).head(10).SpkrID"
   ]
  },
  {
   "cell_type": "code",
   "execution_count": 28,
   "id": "05fbe2d4-0a78-406f-809d-a2d3238b2704",
   "metadata": {},
   "outputs": [
    {
     "name": "stdout",
     "output_type": "stream",
     "text": [
      "Spk 210 (Gender = Female) has emotions = ['F' 'S' 'N' 'D' 'C' 'A' 'U' 'H'] with acc = 0.2938235294117647 f1-macro = 0.20224061699133744\n",
      "Spk 97 (Gender = Male) has emotions = ['H' 'C' 'N' 'D' 'U' 'A' 'F' 'S'] with acc = 0.4390955506929249 f1-macro = 0.2950157153418447\n",
      "Spk 2789 (Gender = Male) has emotions = ['C' 'A' 'H' 'N' 'S' 'U' 'D'] with acc = 0.8440528634361234 f1-macro = 0.2458113720016268\n",
      "Spk 54 (Gender = Male) has emotions = ['H' 'N' 'D' 'C' 'A' 'F' 'U'] with acc = 0.47297297297297297 f1-macro = 0.23462587291517012\n",
      "Spk 2027 (Gender = Male) has emotions = ['A' 'C' 'N' 'H' 'S' 'U' 'D'] with acc = 0.6897435897435897 f1-macro = 0.2296289217272945\n",
      "Spk 2794 (Gender = Male) has emotions = ['H' 'S' 'N' 'A' 'U'] with acc = 0.6628895184135978 f1-macro = 0.305663018898313\n",
      "Spk 2951 (Gender = Male) has emotions = ['H' 'N' 'A' 'S' 'C' 'U'] with acc = 0.7492795389048992 f1-macro = 0.3278552429950663\n",
      "Spk 169 (Gender = Male) has emotions = ['H' 'N' 'C' 'A' 'U' 'S' 'D' 'F'] with acc = 0.3285302593659942 f1-macro = 0.22724187231397316\n",
      "Spk 26 (Gender = Female) has emotions = ['H' 'N' 'S' 'D' 'C' 'U' 'A' 'F'] with acc = 0.4583333333333333 f1-macro = 0.38619924574641595\n",
      "Spk 149 (Gender = Female) has emotions = ['N' 'D' 'A' 'S' 'F' 'H' 'C' 'U'] with acc = 0.28378378378378377 f1-macro = 0.26142729653234625\n"
     ]
    }
   ],
   "source": [
    "for spk in top10_volumetry_spks:\n",
    "    emotions_spk = preds[preds['SpkrID']==spk]['EmoClass'].unique()\n",
    "    gender = preds[preds['SpkrID']==spk]['Gender'].values[0]\n",
    "    acc = accuracy_score(preds[preds['SpkrID']==spk]['EmoClass'], preds[preds['SpkrID']==spk]['Prediction'])\n",
    "    f1_ = f1_score(preds[preds['SpkrID']==spk]['EmoClass'], preds[preds['SpkrID']==spk]['Prediction'], average='macro')\n",
    "    print(f'Spk {spk} (Gender = {gender}) has emotions = {emotions_spk} with acc = {acc} f1-macro = {f1_}')"
   ]
  },
  {
   "cell_type": "code",
   "execution_count": 29,
   "id": "cc7101b0-d7e8-46b1-b153-f7361e0a9ee9",
   "metadata": {},
   "outputs": [
    {
     "name": "stdout",
     "output_type": "stream",
     "text": [
      "SPK 210 (gender = Female) in emotion F acc = 0.05303030303030303\n",
      "SPK 210 (gender = Female) in emotion S acc = 0.4094488188976378\n",
      "SPK 210 (gender = Female) in emotion N acc = 0.10555555555555556\n",
      "SPK 210 (gender = Female) in emotion D acc = 0.29069767441860467\n",
      "SPK 210 (gender = Female) in emotion C acc = 0.0931174089068826\n",
      "SPK 210 (gender = Female) in emotion A acc = 0.6025267249757046\n",
      "SPK 210 (gender = Female) in emotion U acc = 0.12195121951219512\n",
      "SPK 210 (gender = Female) in emotion H acc = 0.33783783783783783\n",
      "SPK 97 (gender = Male) in emotion H acc = 0.68\n",
      "SPK 97 (gender = Male) in emotion C acc = 0.37606837606837606\n",
      "SPK 97 (gender = Male) in emotion N acc = 0.21067415730337077\n",
      "SPK 97 (gender = Male) in emotion D acc = 0.38666666666666666\n",
      "SPK 97 (gender = Male) in emotion U acc = 0.31654676258992803\n",
      "SPK 97 (gender = Male) in emotion A acc = 0.37362637362637363\n",
      "SPK 97 (gender = Male) in emotion F acc = 0.027777777777777776\n",
      "SPK 97 (gender = Male) in emotion S acc = 0.14285714285714285\n",
      "SPK 2789 (gender = Male) in emotion C acc = 0.0\n",
      "SPK 2789 (gender = Male) in emotion A acc = 0.9671957671957672\n",
      "SPK 2789 (gender = Male) in emotion H acc = 0.4430379746835443\n",
      "SPK 2789 (gender = Male) in emotion N acc = 0.03076923076923077\n",
      "SPK 2789 (gender = Male) in emotion S acc = 0.25\n",
      "SPK 2789 (gender = Male) in emotion U acc = 0.1\n",
      "SPK 2789 (gender = Male) in emotion D acc = 0.0\n",
      "SPK 54 (gender = Male) in emotion H acc = 0.5\n",
      "SPK 54 (gender = Male) in emotion N acc = 0.06097560975609756\n",
      "SPK 54 (gender = Male) in emotion D acc = 0.2903225806451613\n",
      "SPK 54 (gender = Male) in emotion C acc = 0.031746031746031744\n",
      "SPK 54 (gender = Male) in emotion A acc = 0.8365384615384616\n",
      "SPK 54 (gender = Male) in emotion F acc = 0.25\n",
      "SPK 54 (gender = Male) in emotion U acc = 0.2857142857142857\n",
      "SPK 2027 (gender = Male) in emotion A acc = 0.9694656488549618\n",
      "SPK 2027 (gender = Male) in emotion C acc = 0.0\n",
      "SPK 2027 (gender = Male) in emotion N acc = 0.016666666666666666\n",
      "SPK 2027 (gender = Male) in emotion H acc = 0.37037037037037035\n",
      "SPK 2027 (gender = Male) in emotion S acc = 0.3\n",
      "SPK 2027 (gender = Male) in emotion U acc = 0.1111111111111111\n",
      "SPK 2027 (gender = Male) in emotion D acc = 0.0\n",
      "SPK 2794 (gender = Male) in emotion H acc = 0.8648648648648649\n",
      "SPK 2794 (gender = Male) in emotion S acc = 0.8282828282828283\n",
      "SPK 2794 (gender = Male) in emotion N acc = 0.22105263157894736\n",
      "SPK 2794 (gender = Male) in emotion A acc = 0.2222222222222222\n",
      "SPK 2794 (gender = Male) in emotion U acc = 0.5\n",
      "SPK 2951 (gender = Male) in emotion H acc = 0.6363636363636364\n",
      "SPK 2951 (gender = Male) in emotion N acc = 0.25\n",
      "SPK 2951 (gender = Male) in emotion A acc = 0.9205607476635514\n",
      "SPK 2951 (gender = Male) in emotion S acc = 0.625\n",
      "SPK 2951 (gender = Male) in emotion C acc = 0.0\n",
      "SPK 2951 (gender = Male) in emotion U acc = 0.0\n",
      "SPK 169 (gender = Male) in emotion H acc = 0.3333333333333333\n",
      "SPK 169 (gender = Male) in emotion N acc = 0.39849624060150374\n",
      "SPK 169 (gender = Male) in emotion C acc = 0.46153846153846156\n",
      "SPK 169 (gender = Male) in emotion A acc = 0.3157894736842105\n",
      "SPK 169 (gender = Male) in emotion U acc = 0.12121212121212122\n",
      "SPK 169 (gender = Male) in emotion S acc = 0.0\n",
      "SPK 169 (gender = Male) in emotion D acc = 0.26666666666666666\n",
      "SPK 169 (gender = Male) in emotion F acc = 0.08333333333333333\n",
      "SPK 26 (gender = Female) in emotion H acc = 0.9137931034482759\n",
      "SPK 26 (gender = Female) in emotion N acc = 0.20588235294117646\n",
      "SPK 26 (gender = Female) in emotion S acc = 0.3333333333333333\n",
      "SPK 26 (gender = Female) in emotion D acc = 0.3783783783783784\n",
      "SPK 26 (gender = Female) in emotion C acc = 0.3333333333333333\n",
      "SPK 26 (gender = Female) in emotion U acc = 0.625\n",
      "SPK 26 (gender = Female) in emotion A acc = 0.5789473684210527\n",
      "SPK 26 (gender = Female) in emotion F acc = 0.5\n",
      "SPK 149 (gender = Female) in emotion N acc = 0.16129032258064516\n",
      "SPK 149 (gender = Female) in emotion D acc = 0.4583333333333333\n",
      "SPK 149 (gender = Female) in emotion A acc = 0.18181818181818182\n",
      "SPK 149 (gender = Female) in emotion S acc = 0.43243243243243246\n",
      "SPK 149 (gender = Female) in emotion F acc = 0.2\n",
      "SPK 149 (gender = Female) in emotion H acc = 0.65625\n",
      "SPK 149 (gender = Female) in emotion C acc = 0.2631578947368421\n",
      "SPK 149 (gender = Female) in emotion U acc = 0.23076923076923078\n"
     ]
    }
   ],
   "source": [
    "for spk in top10_volumetry_spks:\n",
    "    df_filt = preds[preds['SpkrID']==spk]\n",
    "    gender = df_filt.Gender.values[0]\n",
    "    for e in df_filt['EmoClass'].unique():\n",
    "        acc = accuracy_score(df_filt[df_filt['EmoClass']==e]['EmoClass'], df_filt[df_filt['EmoClass']==e]['Prediction'])\n",
    "        print(f'SPK {spk} (gender = {gender}) in emotion {e} acc = {acc}')"
   ]
  },
  {
   "cell_type": "markdown",
   "id": "d050bd83-f890-4b04-b178-4f5a2c119c2c",
   "metadata": {},
   "source": [
    "# Dimensional"
   ]
  },
  {
   "cell_type": "code",
   "execution_count": 30,
   "id": "14344c0d-0250-4a39-a97c-26ae088cfd3b",
   "metadata": {},
   "outputs": [
    {
     "name": "stdout",
     "output_type": "stream",
     "text": [
      "dev.csv  test3.csv\n"
     ]
    }
   ],
   "source": [
    "!ls ../benchmark/model/dim_ser/7/results"
   ]
  },
  {
   "cell_type": "code",
   "execution_count": 27,
   "id": "d71ba360-1a4d-4c0e-8ea3-ef86876b75a7",
   "metadata": {},
   "outputs": [
    {
     "data": {
      "text/html": [
       "<div>\n",
       "<style scoped>\n",
       "    .dataframe tbody tr th:only-of-type {\n",
       "        vertical-align: middle;\n",
       "    }\n",
       "\n",
       "    .dataframe tbody tr th {\n",
       "        vertical-align: top;\n",
       "    }\n",
       "\n",
       "    .dataframe thead th {\n",
       "        text-align: right;\n",
       "    }\n",
       "</style>\n",
       "<table border=\"1\" class=\"dataframe\">\n",
       "  <thead>\n",
       "    <tr style=\"text-align: right;\">\n",
       "      <th></th>\n",
       "      <th>FileName</th>\n",
       "      <th>EmoAct</th>\n",
       "      <th>EmoVal</th>\n",
       "      <th>EmoDom</th>\n",
       "    </tr>\n",
       "  </thead>\n",
       "  <tbody>\n",
       "    <tr>\n",
       "      <th>0</th>\n",
       "      <td>MSP-PODCAST_0002_0033.wav</td>\n",
       "      <td>4.110488</td>\n",
       "      <td>3.377474</td>\n",
       "      <td>4.107728</td>\n",
       "    </tr>\n",
       "    <tr>\n",
       "      <th>1</th>\n",
       "      <td>MSP-PODCAST_0002_0039.wav</td>\n",
       "      <td>4.309968</td>\n",
       "      <td>3.705411</td>\n",
       "      <td>4.469491</td>\n",
       "    </tr>\n",
       "    <tr>\n",
       "      <th>2</th>\n",
       "      <td>MSP-PODCAST_0002_0051.wav</td>\n",
       "      <td>3.757301</td>\n",
       "      <td>4.351225</td>\n",
       "      <td>4.176206</td>\n",
       "    </tr>\n",
       "    <tr>\n",
       "      <th>3</th>\n",
       "      <td>MSP-PODCAST_0002_0059.wav</td>\n",
       "      <td>4.127300</td>\n",
       "      <td>3.831695</td>\n",
       "      <td>4.195695</td>\n",
       "    </tr>\n",
       "    <tr>\n",
       "      <th>4</th>\n",
       "      <td>MSP-PODCAST_0002_0061.wav</td>\n",
       "      <td>4.053204</td>\n",
       "      <td>3.987261</td>\n",
       "      <td>4.183712</td>\n",
       "    </tr>\n",
       "  </tbody>\n",
       "</table>\n",
       "</div>"
      ],
      "text/plain": [
       "                    FileName    EmoAct    EmoVal    EmoDom\n",
       "0  MSP-PODCAST_0002_0033.wav  4.110488  3.377474  4.107728\n",
       "1  MSP-PODCAST_0002_0039.wav  4.309968  3.705411  4.469491\n",
       "2  MSP-PODCAST_0002_0051.wav  3.757301  4.351225  4.176206\n",
       "3  MSP-PODCAST_0002_0059.wav  4.127300  3.831695  4.195695\n",
       "4  MSP-PODCAST_0002_0061.wav  4.053204  3.987261  4.183712"
      ]
     },
     "execution_count": 27,
     "metadata": {},
     "output_type": "execute_result"
    }
   ],
   "source": [
    "preds = pd.read_csv('../benchmark/model/dim_ser/7/results/dev.csv')\n",
    "preds.head()"
   ]
  },
  {
   "cell_type": "code",
   "execution_count": 28,
   "id": "23fd2162-6c5e-4f1d-aefb-289a838495c7",
   "metadata": {},
   "outputs": [
    {
     "data": {
      "text/html": [
       "<div>\n",
       "<style scoped>\n",
       "    .dataframe tbody tr th:only-of-type {\n",
       "        vertical-align: middle;\n",
       "    }\n",
       "\n",
       "    .dataframe tbody tr th {\n",
       "        vertical-align: top;\n",
       "    }\n",
       "\n",
       "    .dataframe thead th {\n",
       "        text-align: right;\n",
       "    }\n",
       "</style>\n",
       "<table border=\"1\" class=\"dataframe\">\n",
       "  <thead>\n",
       "    <tr style=\"text-align: right;\">\n",
       "      <th></th>\n",
       "      <th>FileName</th>\n",
       "      <th>EmoClass</th>\n",
       "      <th>EmoAct</th>\n",
       "      <th>EmoVal</th>\n",
       "      <th>EmoDom</th>\n",
       "      <th>SpkrID</th>\n",
       "      <th>Gender</th>\n",
       "      <th>Split_Set</th>\n",
       "    </tr>\n",
       "  </thead>\n",
       "  <tbody>\n",
       "    <tr>\n",
       "      <th>0</th>\n",
       "      <td>MSP-PODCAST_0002_0033.wav</td>\n",
       "      <td>N</td>\n",
       "      <td>4.8</td>\n",
       "      <td>4.2</td>\n",
       "      <td>5.4</td>\n",
       "      <td>127</td>\n",
       "      <td>Female</td>\n",
       "      <td>Development</td>\n",
       "    </tr>\n",
       "    <tr>\n",
       "      <th>1</th>\n",
       "      <td>MSP-PODCAST_0002_0039.wav</td>\n",
       "      <td>N</td>\n",
       "      <td>4.0</td>\n",
       "      <td>4.2</td>\n",
       "      <td>4.2</td>\n",
       "      <td>127</td>\n",
       "      <td>Female</td>\n",
       "      <td>Development</td>\n",
       "    </tr>\n",
       "  </tbody>\n",
       "</table>\n",
       "</div>"
      ],
      "text/plain": [
       "                    FileName EmoClass  EmoAct  EmoVal  EmoDom  SpkrID  Gender  \\\n",
       "0  MSP-PODCAST_0002_0033.wav        N     4.8     4.2     5.4     127  Female   \n",
       "1  MSP-PODCAST_0002_0039.wav        N     4.0     4.2     4.2     127  Female   \n",
       "\n",
       "     Split_Set  \n",
       "0  Development  \n",
       "1  Development  "
      ]
     },
     "execution_count": 28,
     "metadata": {},
     "output_type": "execute_result"
    }
   ],
   "source": [
    "df = pd.read_csv('/workspace/lucas.ueda/interspeech_ser/data/Labels/labels_consensus.csv')\n",
    "df.head(2)"
   ]
  },
  {
   "cell_type": "code",
   "execution_count": 47,
   "id": "58a3082d-d674-4645-8afd-261746c190f8",
   "metadata": {},
   "outputs": [],
   "source": [
    "preds = preds.merge(df[['FileName','EmoAct','EmoVal','EmoDom']], how='left', on = 'FileName')"
   ]
  },
  {
   "cell_type": "code",
   "execution_count": 49,
   "id": "bf318819-5944-4d28-b71f-ffd7751540f9",
   "metadata": {},
   "outputs": [
    {
     "data": {
      "text/html": [
       "<div>\n",
       "<style scoped>\n",
       "    .dataframe tbody tr th:only-of-type {\n",
       "        vertical-align: middle;\n",
       "    }\n",
       "\n",
       "    .dataframe tbody tr th {\n",
       "        vertical-align: top;\n",
       "    }\n",
       "\n",
       "    .dataframe thead th {\n",
       "        text-align: right;\n",
       "    }\n",
       "</style>\n",
       "<table border=\"1\" class=\"dataframe\">\n",
       "  <thead>\n",
       "    <tr style=\"text-align: right;\">\n",
       "      <th></th>\n",
       "      <th>FileName</th>\n",
       "      <th>EmoAct_x</th>\n",
       "      <th>EmoVal_x</th>\n",
       "      <th>EmoDom_x</th>\n",
       "      <th>EmoAct_y</th>\n",
       "      <th>EmoVal_y</th>\n",
       "      <th>EmoDom_y</th>\n",
       "    </tr>\n",
       "  </thead>\n",
       "  <tbody>\n",
       "    <tr>\n",
       "      <th>0</th>\n",
       "      <td>MSP-PODCAST_0002_0033.wav</td>\n",
       "      <td>4.110488</td>\n",
       "      <td>3.377474</td>\n",
       "      <td>4.107728</td>\n",
       "      <td>4.8</td>\n",
       "      <td>4.2</td>\n",
       "      <td>5.4</td>\n",
       "    </tr>\n",
       "    <tr>\n",
       "      <th>1</th>\n",
       "      <td>MSP-PODCAST_0002_0039.wav</td>\n",
       "      <td>4.309968</td>\n",
       "      <td>3.705411</td>\n",
       "      <td>4.469491</td>\n",
       "      <td>4.0</td>\n",
       "      <td>4.2</td>\n",
       "      <td>4.2</td>\n",
       "    </tr>\n",
       "  </tbody>\n",
       "</table>\n",
       "</div>"
      ],
      "text/plain": [
       "                    FileName  EmoAct_x  EmoVal_x  EmoDom_x  EmoAct_y  \\\n",
       "0  MSP-PODCAST_0002_0033.wav  4.110488  3.377474  4.107728       4.8   \n",
       "1  MSP-PODCAST_0002_0039.wav  4.309968  3.705411  4.469491       4.0   \n",
       "\n",
       "   EmoVal_y  EmoDom_y  \n",
       "0       4.2       5.4  \n",
       "1       4.2       4.2  "
      ]
     },
     "execution_count": 49,
     "metadata": {},
     "output_type": "execute_result"
    }
   ],
   "source": [
    "preds.head(2)"
   ]
  },
  {
   "cell_type": "code",
   "execution_count": 48,
   "id": "44fd8c93-f07e-4987-96cf-1fd91cb493b2",
   "metadata": {},
   "outputs": [],
   "source": [
    "import torch\n",
    "def CCC_loss(pred, lab, m_lab=None, v_lab=None, is_numpy=True):\n",
    "    \"\"\"\n",
    "    pred: (N, 3)\n",
    "    lab: (N, 3)\n",
    "    \"\"\"\n",
    "    if is_numpy:\n",
    "        pred = torch.Tensor(pred).float()\n",
    "        lab = torch.Tensor(lab).float()\n",
    "    \n",
    "    m_pred = torch.mean(pred, 0, keepdim=True)\n",
    "    m_lab = torch.mean(lab, 0, keepdim=True)\n",
    "\n",
    "    d_pred = pred - m_pred\n",
    "    d_lab = lab - m_lab\n",
    "\n",
    "    v_pred = torch.var(pred, 0, unbiased=False)\n",
    "    v_lab = torch.var(lab, 0, unbiased=False)\n",
    "\n",
    "    corr = torch.sum(d_pred * d_lab, 0) / (torch.sqrt(torch.sum(d_pred ** 2, 0)) * torch.sqrt(torch.sum(d_lab ** 2, 0)))\n",
    "\n",
    "    s_pred = torch.std(pred, 0, unbiased=False)\n",
    "    s_lab = torch.std(lab, 0, unbiased=False)\n",
    "\n",
    "    ccc = (2*corr*s_pred*s_lab) / (v_pred + v_lab + (m_pred[0]-m_lab[0])**2)    \n",
    "    return ccc"
   ]
  },
  {
   "cell_type": "code",
   "execution_count": 54,
   "id": "6c0a954f-9e58-45bb-a198-4c35c6d370da",
   "metadata": {},
   "outputs": [
    {
     "data": {
      "text/plain": [
       "tensor([0.6949, 0.7050, 0.6312])"
      ]
     },
     "execution_count": 54,
     "metadata": {},
     "output_type": "execute_result"
    }
   ],
   "source": [
    "CCC_loss(preds[['EmoAct_x','EmoVal_x','EmoDom_x']].values,preds[['EmoAct_y','EmoVal_y','EmoDom_y']].values)"
   ]
  },
  {
   "cell_type": "code",
   "execution_count": 55,
   "id": "1afe25e1-81c1-44dc-ae5e-bb45f7b0253b",
   "metadata": {},
   "outputs": [],
   "source": [
    "preds['EmoAct_d'] = preds['EmoAct_y'].mean() \n",
    "preds['EmoVal_d'] = preds['EmoVal_y'].mean() \n",
    "preds['EmoDom_d'] = preds['EmoDom_y'].mean() "
   ]
  },
  {
   "cell_type": "code",
   "execution_count": 56,
   "id": "39b76776-f62a-48a9-a42e-4e7c828d9a6c",
   "metadata": {},
   "outputs": [
    {
     "data": {
      "text/plain": [
       "tensor([-0., -0., -0.])"
      ]
     },
     "execution_count": 56,
     "metadata": {},
     "output_type": "execute_result"
    }
   ],
   "source": [
    "CCC_loss(preds[['EmoAct_d','EmoVal_d','EmoDom_d']].values,preds[['EmoAct_y','EmoVal_y','EmoDom_y']].values)"
   ]
  },
  {
   "cell_type": "code",
   "execution_count": null,
   "id": "e4940eb7-460e-410d-907b-a8081584ef5c",
   "metadata": {},
   "outputs": [],
   "source": []
  }
 ],
 "metadata": {
  "kernelspec": {
   "display_name": "Python 3 (ipykernel)",
   "language": "python",
   "name": "python3"
  },
  "language_info": {
   "codemirror_mode": {
    "name": "ipython",
    "version": 3
   },
   "file_extension": ".py",
   "mimetype": "text/x-python",
   "name": "python",
   "nbconvert_exporter": "python",
   "pygments_lexer": "ipython3",
   "version": "3.10.8"
  }
 },
 "nbformat": 4,
 "nbformat_minor": 5
}
