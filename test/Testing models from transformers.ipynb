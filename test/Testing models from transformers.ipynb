{
 "cells": [
  {
   "cell_type": "code",
   "execution_count": null,
   "id": "d434e863-5d2b-48f5-bed0-f5ef27e31779",
   "metadata": {},
   "outputs": [],
   "source": [
    "#Testing models"
   ]
  },
  {
   "cell_type": "code",
   "execution_count": 2,
   "id": "55e3c5c6-ad54-44f1-8ca7-71f19638e6ac",
   "metadata": {},
   "outputs": [],
   "source": [
    "# -*- coding: UTF-8 -*-\n",
    "# Local modules\n",
    "import os\n",
    "import sys\n",
    "import argparse\n",
    "# 3rd-Party Modules\n",
    "import numpy as np\n",
    "import pickle as pk\n",
    "import pandas as pd\n",
    "from tqdm import tqdm\n",
    "import glob\n",
    "import librosa\n",
    "import copy\n",
    "\n",
    "# PyTorch Modules\n",
    "import torch\n",
    "import torch.nn as nn\n",
    "import torch.optim as optim\n",
    "import torch.nn.functional as F\n",
    "from torch.utils.data import ConcatDataset, DataLoader\n",
    "import torch.optim as optim\n",
    "from transformers import AutoModel\n",
    "import importlib\n",
    "# Self-Written Modules\n",
    "sys.path.append(os.getcwd())\n",
    "sys.path.append('../')\n",
    "from benchmark import net\n",
    "from benchmark import utils"
   ]
  },
  {
   "cell_type": "code",
   "execution_count": 3,
   "id": "186cee5c-7e41-462e-b29c-3ff10d7a0c3d",
   "metadata": {},
   "outputs": [
    {
     "data": {
      "text/plain": [
       "'4.33.2'"
      ]
     },
     "execution_count": 3,
     "metadata": {},
     "output_type": "execute_result"
    }
   ],
   "source": [
    "import transformers\n",
    "transformers.__version__"
   ]
  },
  {
   "cell_type": "code",
   "execution_count": 4,
   "id": "330ef03e-475e-47e7-8785-b3c414851894",
   "metadata": {},
   "outputs": [
    {
     "name": "stderr",
     "output_type": "stream",
     "text": [
      "/opt/conda/lib/python3.10/site-packages/huggingface_hub/file_download.py:795: FutureWarning: `resume_download` is deprecated and will be removed in version 1.0.0. Downloads always resume when possible. If you want to force a new download, use `force_download=True`.\n",
      "  warnings.warn(\n"
     ]
    }
   ],
   "source": [
    "ssl_model = AutoModel.from_pretrained('microsoft/wavlm-base')\n",
    "ssl_model.freeze_feature_encoder()\n",
    "ssl_model.eval();"
   ]
  },
  {
   "cell_type": "code",
   "execution_count": 5,
   "id": "cc15952e-9379-401f-87e3-7e5d62c97325",
   "metadata": {},
   "outputs": [
    {
     "data": {
      "text/plain": [
       "768"
      ]
     },
     "execution_count": 5,
     "metadata": {},
     "output_type": "execute_result"
    }
   ],
   "source": [
    "ssl_model.config.hidden_size"
   ]
  },
  {
   "cell_type": "code",
   "execution_count": null,
   "id": "c4545b61-6315-4e46-ad96-7c3c5275253c",
   "metadata": {},
   "outputs": [],
   "source": [
    "\n",
    "import logging"
   ]
  },
  {
   "cell_type": "code",
   "execution_count": null,
   "id": "f141031d-e030-46c4-bd4b-028a56b0f46c",
   "metadata": {},
   "outputs": [],
   "source": [
    "df = pd.read_csv('../benchmark/processed_labels.csv')\n",
    "df.head(2)"
   ]
  },
  {
   "cell_type": "code",
   "execution_count": null,
   "id": "eaa531e1-8c36-4615-9f23-8eb73ec72807",
   "metadata": {},
   "outputs": [],
   "source": [
    "sample = f\"../data/Audios/{df.FileName.values[0]}\"\n",
    "\n",
    "result = pipe(sample)"
   ]
  }
 ],
 "metadata": {
  "kernelspec": {
   "display_name": "Python 3 (ipykernel)",
   "language": "python",
   "name": "python3"
  },
  "language_info": {
   "codemirror_mode": {
    "name": "ipython",
    "version": 3
   },
   "file_extension": ".py",
   "mimetype": "text/x-python",
   "name": "python",
   "nbconvert_exporter": "python",
   "pygments_lexer": "ipython3",
   "version": "3.10.8"
  }
 },
 "nbformat": 4,
 "nbformat_minor": 5
}
