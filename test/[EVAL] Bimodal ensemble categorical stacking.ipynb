{
 "cells": [
  {
   "cell_type": "code",
   "execution_count": 1545,
   "id": "607c5c82-3f02-4bea-9cfa-9d24f7484069",
   "metadata": {},
   "outputs": [],
   "source": [
    "import pandas as pd\n",
    "\n",
    "\n",
    "def get_stratified_subset(df, label_column, num_examples_per_label, random_state=None):\n",
    "    \"\"\"\n",
    "    Returns a stratified subset of the dataframe with a fixed number of examples for each label.\n",
    "\n",
    "    Args:\n",
    "        df (pd.DataFrame): The input dataframe.\n",
    "        label_column (str): The name of the column containing the labels.\n",
    "        num_examples_per_label (int): The fixed number of examples to sample for each label.\n",
    "        random_state (int, optional): Random seed for reproducibility.\n",
    "\n",
    "    Returns:\n",
    "        pd.DataFrame: A stratified subset of the dataframe.\n",
    "    \"\"\"\n",
    "    if random_state is not None:\n",
    "        np.random.seed(random_state)\n",
    "\n",
    "    stratified_subset = []\n",
    "\n",
    "    for label in df[label_column].unique():\n",
    "        label_group = df[df[label_column] == label]\n",
    "        if len(label_group) < num_examples_per_label:\n",
    "            raise ValueError(f\"Not enough examples for label '{label}'. Requested {num_examples_per_label}, but only {len(label_group)} available.\")\n",
    "        \n",
    "        sampled_group = label_group.sample(n=num_examples_per_label, random_state=random_state)\n",
    "        stratified_subset.append(sampled_group)\n",
    "\n",
    "    return pd.concat(stratified_subset).reset_index(drop=True)\n",
    "def concatenate_dataframes(dfs):\n",
    "    \"\"\"\n",
    "    Concatenates a list of DataFrames based on the 'filename' column as the ID.\n",
    "    Drops the 'Prediction' column from each DataFrame and returns all column names except 'filename'.\n",
    "\n",
    "    Parameters:\n",
    "        dfs (list): List of pandas DataFrames to concatenate. Each must have a 'filename' column.\n",
    "\n",
    "    Returns:\n",
    "        pd.DataFrame: A single DataFrame with merged data.\n",
    "        list: List of all column names excluding 'filename'.\n",
    "    \"\"\"\n",
    "    if not dfs:\n",
    "        raise ValueError(\"The list of DataFrames is empty.\")\n",
    "\n",
    "    for df in dfs:\n",
    "        if 'Filename' not in df.columns:\n",
    "            raise ValueError(\"Each DataFrame must contain a 'filename' column.\")\n",
    "\n",
    "    # Drop 'Prediction' column from each DataFrame if it exists\n",
    "    dfs = [df.drop(columns=['Prediction'], errors='ignore') for df in dfs]\n",
    "\n",
    "    # Start with the first DataFrame\n",
    "    result = dfs[0].copy()\n",
    "    \n",
    "    for idx, df in enumerate(dfs[1:], start=1):\n",
    "        # Rename columns to add a suffix except for 'filename'\n",
    "        renamed_df = df.rename(columns={col: f\"{col}_exp{idx}\" for col in df.columns if col != 'Filename'})\n",
    "        \n",
    "        # Merge with the existing result\n",
    "        result = pd.merge(result, renamed_df, on='Filename', how='outer')\n",
    "\n",
    "    # Get all column names except 'filename'\n",
    "    column_names = [col for col in result.columns if col != 'Filename']\n",
    "\n",
    "    return result, column_names"
   ]
  },
  {
   "cell_type": "code",
   "execution_count": 1471,
   "id": "d30bdb9f-8704-4a6b-b074-05afbe73dfc8",
   "metadata": {},
   "outputs": [],
   "source": [
    "import pandas as pd\n",
    "import numpy as np"
   ]
  },
  {
   "cell_type": "code",
   "execution_count": 1546,
   "id": "5fc017e4-c8fe-4ec6-b607-57e197608526",
   "metadata": {},
   "outputs": [],
   "source": [
    "experiments_list = [\n",
    "    'multimodalmodel_wavlmlarge_robertalarge_lazyload_lr1e4',\n",
    "    # 'multimodalmodel_wavlmlarge_robertalarge_lazyload_lr1e4_focalloss',\n",
    "    # 'multimodalmodel_wavlmlarge_robertalarge_lazyload_lr1e4_batchbalanced',\n",
    "    # 'multimodalmodel_wavlmlarge_robertalarge_lazyload_lr1e4_batchbalanced_focaloss',\n",
    "    'multimodalmodel_w2v2robust_robertalarge_lazyload_lr1e4',\n",
    "    'multimodalmodel_hubertxlarge_robertalarge_lazyload_lr1e4',\n",
    "    'multimodalmodel_w2v2xls2b_robertalarge_lazyload_lr1e4',\n",
    "    # \"multimodalmodel_w2v2xls2b_robertalarge_lazyload_lr1e4_focaloss\",\n",
    "    # \"multimodalmodel_whisperlarge_w2v2xls_lazyload_lr1e4\",\n",
    "    'multimodalmodel_whisperlarge_robertalarge_lazyload_lr1e4',\n",
    "    # \"multimodalmodel_whisperlarge_robertalarge_lazyload_lr1e4_focaloss\",\n",
    "    # \"multimodalmodel_whisperlarge_robertalarge_lazyload_lr1e4_focaloss_gamma3\"\n",
    "    \"multimodalmodel_whisperlarge_debertaxxlarge_lazyload_lr1e5_lasthidden\"\n",
    "]\n",
    "\n",
    "dfs = []\n",
    "dfs_val = []\n",
    "for exp in experiments_list:\n",
    "    dfs.append(pd.read_csv(f'../experiments/{exp}/results/train.csv'))\n",
    "    dfs_val.append(pd.read_csv(f'../experiments/{exp}/results/dev.csv'))\n",
    "# preds.head()"
   ]
  },
  {
   "cell_type": "code",
   "execution_count": 1547,
   "id": "912d4efb-8881-4fe6-baf4-48de3b038d7d",
   "metadata": {},
   "outputs": [
    {
     "data": {
      "text/plain": [
       "['class_0_prob',\n",
       " 'class_1_prob',\n",
       " 'class_2_prob',\n",
       " 'class_3_prob',\n",
       " 'class_4_prob',\n",
       " 'class_5_prob',\n",
       " 'class_6_prob',\n",
       " 'class_7_prob',\n",
       " 'class_0_prob_exp1',\n",
       " 'class_1_prob_exp1',\n",
       " 'class_2_prob_exp1',\n",
       " 'class_3_prob_exp1',\n",
       " 'class_4_prob_exp1',\n",
       " 'class_5_prob_exp1',\n",
       " 'class_6_prob_exp1',\n",
       " 'class_7_prob_exp1',\n",
       " 'class_0_prob_exp2',\n",
       " 'class_1_prob_exp2',\n",
       " 'class_2_prob_exp2',\n",
       " 'class_3_prob_exp2',\n",
       " 'class_4_prob_exp2',\n",
       " 'class_5_prob_exp2',\n",
       " 'class_6_prob_exp2',\n",
       " 'class_7_prob_exp2',\n",
       " 'class_0_prob_exp3',\n",
       " 'class_1_prob_exp3',\n",
       " 'class_2_prob_exp3',\n",
       " 'class_3_prob_exp3',\n",
       " 'class_4_prob_exp3',\n",
       " 'class_5_prob_exp3',\n",
       " 'class_6_prob_exp3',\n",
       " 'class_7_prob_exp3',\n",
       " 'class_0_prob_exp4',\n",
       " 'class_1_prob_exp4',\n",
       " 'class_2_prob_exp4',\n",
       " 'class_3_prob_exp4',\n",
       " 'class_4_prob_exp4',\n",
       " 'class_5_prob_exp4',\n",
       " 'class_6_prob_exp4',\n",
       " 'class_7_prob_exp4',\n",
       " 'class_0_prob_exp5',\n",
       " 'class_1_prob_exp5',\n",
       " 'class_2_prob_exp5',\n",
       " 'class_3_prob_exp5',\n",
       " 'class_4_prob_exp5',\n",
       " 'class_5_prob_exp5',\n",
       " 'class_6_prob_exp5',\n",
       " 'class_7_prob_exp5']"
      ]
     },
     "execution_count": 1547,
     "metadata": {},
     "output_type": "execute_result"
    }
   ],
   "source": [
    "cols"
   ]
  },
  {
   "cell_type": "code",
   "execution_count": 1548,
   "id": "04969df8-f7c0-4330-92a1-20b0f669458c",
   "metadata": {},
   "outputs": [],
   "source": [
    "preds, cols = concatenate_dataframes(dfs)\n",
    "preds_val, _ = concatenate_dataframes(dfs_val)"
   ]
  },
  {
   "cell_type": "code",
   "execution_count": 1549,
   "id": "c6771be3-748e-49e4-9840-2d3f4e2b9861",
   "metadata": {},
   "outputs": [
    {
     "data": {
      "text/html": [
       "<div>\n",
       "<style scoped>\n",
       "    .dataframe tbody tr th:only-of-type {\n",
       "        vertical-align: middle;\n",
       "    }\n",
       "\n",
       "    .dataframe tbody tr th {\n",
       "        vertical-align: top;\n",
       "    }\n",
       "\n",
       "    .dataframe thead th {\n",
       "        text-align: right;\n",
       "    }\n",
       "</style>\n",
       "<table border=\"1\" class=\"dataframe\">\n",
       "  <thead>\n",
       "    <tr style=\"text-align: right;\">\n",
       "      <th></th>\n",
       "      <th>Filename</th>\n",
       "      <th>class_0_prob</th>\n",
       "      <th>class_1_prob</th>\n",
       "      <th>class_2_prob</th>\n",
       "      <th>class_3_prob</th>\n",
       "      <th>class_4_prob</th>\n",
       "      <th>class_5_prob</th>\n",
       "      <th>class_6_prob</th>\n",
       "      <th>class_7_prob</th>\n",
       "      <th>class_0_prob_exp1</th>\n",
       "      <th>...</th>\n",
       "      <th>class_6_prob_exp4</th>\n",
       "      <th>class_7_prob_exp4</th>\n",
       "      <th>class_0_prob_exp5</th>\n",
       "      <th>class_1_prob_exp5</th>\n",
       "      <th>class_2_prob_exp5</th>\n",
       "      <th>class_3_prob_exp5</th>\n",
       "      <th>class_4_prob_exp5</th>\n",
       "      <th>class_5_prob_exp5</th>\n",
       "      <th>class_6_prob_exp5</th>\n",
       "      <th>class_7_prob_exp5</th>\n",
       "    </tr>\n",
       "  </thead>\n",
       "  <tbody>\n",
       "    <tr>\n",
       "      <th>0</th>\n",
       "      <td>MSP-PODCAST_0003_0052.wav</td>\n",
       "      <td>-2.6094</td>\n",
       "      <td>-1.5741</td>\n",
       "      <td>0.5319</td>\n",
       "      <td>-0.7780</td>\n",
       "      <td>-2.4081</td>\n",
       "      <td>-0.3807</td>\n",
       "      <td>0.9646</td>\n",
       "      <td>1.5363</td>\n",
       "      <td>-0.9920</td>\n",
       "      <td>...</td>\n",
       "      <td>0.7406</td>\n",
       "      <td>1.6452</td>\n",
       "      <td>-1.8473</td>\n",
       "      <td>-0.7090</td>\n",
       "      <td>0.7013</td>\n",
       "      <td>-0.0453</td>\n",
       "      <td>-0.6979</td>\n",
       "      <td>-0.5635</td>\n",
       "      <td>0.7584</td>\n",
       "      <td>1.3781</td>\n",
       "    </tr>\n",
       "    <tr>\n",
       "      <th>1</th>\n",
       "      <td>MSP-PODCAST_0003_0084.wav</td>\n",
       "      <td>-5.0658</td>\n",
       "      <td>2.0820</td>\n",
       "      <td>-0.2486</td>\n",
       "      <td>-1.3754</td>\n",
       "      <td>-1.5839</td>\n",
       "      <td>-4.0328</td>\n",
       "      <td>-1.2956</td>\n",
       "      <td>2.2646</td>\n",
       "      <td>-2.2851</td>\n",
       "      <td>...</td>\n",
       "      <td>-0.0835</td>\n",
       "      <td>2.0147</td>\n",
       "      <td>-3.1914</td>\n",
       "      <td>2.7650</td>\n",
       "      <td>-0.0990</td>\n",
       "      <td>-0.6732</td>\n",
       "      <td>-0.3002</td>\n",
       "      <td>-1.2726</td>\n",
       "      <td>-0.1841</td>\n",
       "      <td>2.5666</td>\n",
       "    </tr>\n",
       "    <tr>\n",
       "      <th>2</th>\n",
       "      <td>MSP-PODCAST_0003_0086.wav</td>\n",
       "      <td>-4.4962</td>\n",
       "      <td>2.8279</td>\n",
       "      <td>-0.3850</td>\n",
       "      <td>-1.2710</td>\n",
       "      <td>-0.9462</td>\n",
       "      <td>-3.1940</td>\n",
       "      <td>-1.7564</td>\n",
       "      <td>1.6332</td>\n",
       "      <td>-2.3826</td>\n",
       "      <td>...</td>\n",
       "      <td>-0.9473</td>\n",
       "      <td>2.1501</td>\n",
       "      <td>-2.9516</td>\n",
       "      <td>4.6548</td>\n",
       "      <td>-0.5516</td>\n",
       "      <td>-0.7974</td>\n",
       "      <td>0.9763</td>\n",
       "      <td>-1.5131</td>\n",
       "      <td>-1.1026</td>\n",
       "      <td>2.1649</td>\n",
       "    </tr>\n",
       "    <tr>\n",
       "      <th>3</th>\n",
       "      <td>MSP-PODCAST_0003_0106.wav</td>\n",
       "      <td>-2.2321</td>\n",
       "      <td>3.0808</td>\n",
       "      <td>-2.4715</td>\n",
       "      <td>-2.6153</td>\n",
       "      <td>-4.1133</td>\n",
       "      <td>-2.4933</td>\n",
       "      <td>-0.9217</td>\n",
       "      <td>0.4628</td>\n",
       "      <td>-0.7892</td>\n",
       "      <td>...</td>\n",
       "      <td>0.4374</td>\n",
       "      <td>0.4935</td>\n",
       "      <td>-2.1015</td>\n",
       "      <td>2.2953</td>\n",
       "      <td>-1.0060</td>\n",
       "      <td>-1.5412</td>\n",
       "      <td>-0.3874</td>\n",
       "      <td>0.4243</td>\n",
       "      <td>0.3829</td>\n",
       "      <td>0.1693</td>\n",
       "    </tr>\n",
       "    <tr>\n",
       "      <th>4</th>\n",
       "      <td>MSP-PODCAST_0003_0113.wav</td>\n",
       "      <td>-0.9049</td>\n",
       "      <td>1.1925</td>\n",
       "      <td>-1.4834</td>\n",
       "      <td>-0.6667</td>\n",
       "      <td>-1.1839</td>\n",
       "      <td>-0.0835</td>\n",
       "      <td>-0.1204</td>\n",
       "      <td>-0.0076</td>\n",
       "      <td>-1.9102</td>\n",
       "      <td>...</td>\n",
       "      <td>0.1043</td>\n",
       "      <td>0.7801</td>\n",
       "      <td>-1.3113</td>\n",
       "      <td>1.0971</td>\n",
       "      <td>-1.0805</td>\n",
       "      <td>0.7464</td>\n",
       "      <td>0.7365</td>\n",
       "      <td>-0.2862</td>\n",
       "      <td>0.0743</td>\n",
       "      <td>1.1663</td>\n",
       "    </tr>\n",
       "  </tbody>\n",
       "</table>\n",
       "<p>5 rows × 49 columns</p>\n",
       "</div>"
      ],
      "text/plain": [
       "                    Filename  class_0_prob  class_1_prob  class_2_prob  \\\n",
       "0  MSP-PODCAST_0003_0052.wav       -2.6094       -1.5741        0.5319   \n",
       "1  MSP-PODCAST_0003_0084.wav       -5.0658        2.0820       -0.2486   \n",
       "2  MSP-PODCAST_0003_0086.wav       -4.4962        2.8279       -0.3850   \n",
       "3  MSP-PODCAST_0003_0106.wav       -2.2321        3.0808       -2.4715   \n",
       "4  MSP-PODCAST_0003_0113.wav       -0.9049        1.1925       -1.4834   \n",
       "\n",
       "   class_3_prob  class_4_prob  class_5_prob  class_6_prob  class_7_prob  \\\n",
       "0       -0.7780       -2.4081       -0.3807        0.9646        1.5363   \n",
       "1       -1.3754       -1.5839       -4.0328       -1.2956        2.2646   \n",
       "2       -1.2710       -0.9462       -3.1940       -1.7564        1.6332   \n",
       "3       -2.6153       -4.1133       -2.4933       -0.9217        0.4628   \n",
       "4       -0.6667       -1.1839       -0.0835       -0.1204       -0.0076   \n",
       "\n",
       "   class_0_prob_exp1  ...  class_6_prob_exp4  class_7_prob_exp4  \\\n",
       "0            -0.9920  ...             0.7406             1.6452   \n",
       "1            -2.2851  ...            -0.0835             2.0147   \n",
       "2            -2.3826  ...            -0.9473             2.1501   \n",
       "3            -0.7892  ...             0.4374             0.4935   \n",
       "4            -1.9102  ...             0.1043             0.7801   \n",
       "\n",
       "   class_0_prob_exp5  class_1_prob_exp5  class_2_prob_exp5  class_3_prob_exp5  \\\n",
       "0            -1.8473            -0.7090             0.7013            -0.0453   \n",
       "1            -3.1914             2.7650            -0.0990            -0.6732   \n",
       "2            -2.9516             4.6548            -0.5516            -0.7974   \n",
       "3            -2.1015             2.2953            -1.0060            -1.5412   \n",
       "4            -1.3113             1.0971            -1.0805             0.7464   \n",
       "\n",
       "   class_4_prob_exp5  class_5_prob_exp5  class_6_prob_exp5  class_7_prob_exp5  \n",
       "0            -0.6979            -0.5635             0.7584             1.3781  \n",
       "1            -0.3002            -1.2726            -0.1841             2.5666  \n",
       "2             0.9763            -1.5131            -1.1026             2.1649  \n",
       "3            -0.3874             0.4243             0.3829             0.1693  \n",
       "4             0.7365            -0.2862             0.0743             1.1663  \n",
       "\n",
       "[5 rows x 49 columns]"
      ]
     },
     "execution_count": 1549,
     "metadata": {},
     "output_type": "execute_result"
    }
   ],
   "source": [
    "preds.head()"
   ]
  },
  {
   "cell_type": "code",
   "execution_count": 1550,
   "id": "c5acec0e-6aaf-4a34-93ad-1f12adbaaf54",
   "metadata": {},
   "outputs": [],
   "source": [
    "classes_ = ['A', 'S', 'H', 'U', 'F', 'D', 'C', 'N']\n",
    "\n",
    "map_idx = dict()\n",
    "for i, c in enumerate(classes_):\n",
    "    map_idx[c] = i\n",
    "\n",
    "map_argmax = dict()\n",
    "for i, c in enumerate(classes_):\n",
    "    map_argmax[i] = c"
   ]
  },
  {
   "cell_type": "code",
   "execution_count": 1551,
   "id": "9ca46356-04ea-491c-8aaa-687a04b9585f",
   "metadata": {},
   "outputs": [
    {
     "data": {
      "text/html": [
       "<div>\n",
       "<style scoped>\n",
       "    .dataframe tbody tr th:only-of-type {\n",
       "        vertical-align: middle;\n",
       "    }\n",
       "\n",
       "    .dataframe tbody tr th {\n",
       "        vertical-align: top;\n",
       "    }\n",
       "\n",
       "    .dataframe thead th {\n",
       "        text-align: right;\n",
       "    }\n",
       "</style>\n",
       "<table border=\"1\" class=\"dataframe\">\n",
       "  <thead>\n",
       "    <tr style=\"text-align: right;\">\n",
       "      <th></th>\n",
       "      <th>FileName</th>\n",
       "      <th>EmoClass</th>\n",
       "      <th>EmoAct</th>\n",
       "      <th>EmoVal</th>\n",
       "      <th>EmoDom</th>\n",
       "      <th>SpkrID</th>\n",
       "      <th>Gender</th>\n",
       "      <th>Split_Set</th>\n",
       "    </tr>\n",
       "  </thead>\n",
       "  <tbody>\n",
       "    <tr>\n",
       "      <th>0</th>\n",
       "      <td>MSP-PODCAST_0002_0033.wav</td>\n",
       "      <td>N</td>\n",
       "      <td>4.8</td>\n",
       "      <td>4.2</td>\n",
       "      <td>5.4</td>\n",
       "      <td>127</td>\n",
       "      <td>Female</td>\n",
       "      <td>Development</td>\n",
       "    </tr>\n",
       "    <tr>\n",
       "      <th>1</th>\n",
       "      <td>MSP-PODCAST_0002_0039.wav</td>\n",
       "      <td>N</td>\n",
       "      <td>4.0</td>\n",
       "      <td>4.2</td>\n",
       "      <td>4.2</td>\n",
       "      <td>127</td>\n",
       "      <td>Female</td>\n",
       "      <td>Development</td>\n",
       "    </tr>\n",
       "    <tr>\n",
       "      <th>2</th>\n",
       "      <td>MSP-PODCAST_0002_0051.wav</td>\n",
       "      <td>N</td>\n",
       "      <td>4.0</td>\n",
       "      <td>4.2</td>\n",
       "      <td>4.2</td>\n",
       "      <td>127</td>\n",
       "      <td>Female</td>\n",
       "      <td>Development</td>\n",
       "    </tr>\n",
       "    <tr>\n",
       "      <th>3</th>\n",
       "      <td>MSP-PODCAST_0002_0059.wav</td>\n",
       "      <td>X</td>\n",
       "      <td>4.0</td>\n",
       "      <td>3.8</td>\n",
       "      <td>4.0</td>\n",
       "      <td>128</td>\n",
       "      <td>Female</td>\n",
       "      <td>Development</td>\n",
       "    </tr>\n",
       "    <tr>\n",
       "      <th>4</th>\n",
       "      <td>MSP-PODCAST_0002_0061.wav</td>\n",
       "      <td>F</td>\n",
       "      <td>3.4</td>\n",
       "      <td>2.8</td>\n",
       "      <td>4.2</td>\n",
       "      <td>128</td>\n",
       "      <td>Female</td>\n",
       "      <td>Development</td>\n",
       "    </tr>\n",
       "  </tbody>\n",
       "</table>\n",
       "</div>"
      ],
      "text/plain": [
       "                    FileName EmoClass  EmoAct  EmoVal  EmoDom  SpkrID  Gender  \\\n",
       "0  MSP-PODCAST_0002_0033.wav        N     4.8     4.2     5.4     127  Female   \n",
       "1  MSP-PODCAST_0002_0039.wav        N     4.0     4.2     4.2     127  Female   \n",
       "2  MSP-PODCAST_0002_0051.wav        N     4.0     4.2     4.2     127  Female   \n",
       "3  MSP-PODCAST_0002_0059.wav        X     4.0     3.8     4.0     128  Female   \n",
       "4  MSP-PODCAST_0002_0061.wav        F     3.4     2.8     4.2     128  Female   \n",
       "\n",
       "     Split_Set  \n",
       "0  Development  \n",
       "1  Development  \n",
       "2  Development  \n",
       "3  Development  \n",
       "4  Development  "
      ]
     },
     "execution_count": 1551,
     "metadata": {},
     "output_type": "execute_result"
    }
   ],
   "source": [
    "df = pd.read_csv('/workspace/lucas.ueda/interspeech_ser/data/Labels/labels_consensus.csv')\n",
    "df.head()"
   ]
  },
  {
   "cell_type": "code",
   "execution_count": 1552,
   "id": "be037647-fa89-49d1-9a74-d08e28ec3c33",
   "metadata": {},
   "outputs": [],
   "source": [
    "# Just saving the auxiliardataset"
   ]
  },
  {
   "cell_type": "code",
   "execution_count": null,
   "id": "ed1421bd-07f7-4b28-b7e6-bba4fc947ac4",
   "metadata": {},
   "outputs": [],
   "source": []
  },
  {
   "cell_type": "code",
   "execution_count": 1553,
   "id": "c3efa84c-a42c-4b16-adb9-6c0af843a12e",
   "metadata": {},
   "outputs": [],
   "source": [
    "preds['FileName'] = preds['Filename']\n",
    "preds = preds.merge(df[['FileName','EmoClass','Gender','SpkrID']], how='left', on = 'FileName')\n",
    "\n",
    "preds_val['FileName'] = preds_val['Filename']\n",
    "preds_val = preds_val.merge(df[['FileName','EmoClass','Gender','SpkrID']], how='left', on = 'FileName')"
   ]
  },
  {
   "cell_type": "code",
   "execution_count": 1554,
   "id": "0fbaa4bd-7393-44ea-a465-e088fc022055",
   "metadata": {},
   "outputs": [],
   "source": [
    "preds['target'] = preds['EmoClass'].map(map_idx)\n",
    "preds_val['target'] = preds_val['EmoClass'].map(map_idx)"
   ]
  },
  {
   "cell_type": "code",
   "execution_count": 1555,
   "id": "22a3faa7-164e-4b1d-86e3-e6d9e058e3c5",
   "metadata": {},
   "outputs": [
    {
     "data": {
      "text/html": [
       "<div>\n",
       "<style scoped>\n",
       "    .dataframe tbody tr th:only-of-type {\n",
       "        vertical-align: middle;\n",
       "    }\n",
       "\n",
       "    .dataframe tbody tr th {\n",
       "        vertical-align: top;\n",
       "    }\n",
       "\n",
       "    .dataframe thead th {\n",
       "        text-align: right;\n",
       "    }\n",
       "</style>\n",
       "<table border=\"1\" class=\"dataframe\">\n",
       "  <thead>\n",
       "    <tr style=\"text-align: right;\">\n",
       "      <th></th>\n",
       "      <th>Filename</th>\n",
       "      <th>class_0_prob</th>\n",
       "      <th>class_1_prob</th>\n",
       "      <th>class_2_prob</th>\n",
       "      <th>class_3_prob</th>\n",
       "      <th>class_4_prob</th>\n",
       "      <th>class_5_prob</th>\n",
       "      <th>class_6_prob</th>\n",
       "      <th>class_7_prob</th>\n",
       "      <th>class_0_prob_exp1</th>\n",
       "      <th>...</th>\n",
       "      <th>class_3_prob_exp5</th>\n",
       "      <th>class_4_prob_exp5</th>\n",
       "      <th>class_5_prob_exp5</th>\n",
       "      <th>class_6_prob_exp5</th>\n",
       "      <th>class_7_prob_exp5</th>\n",
       "      <th>FileName</th>\n",
       "      <th>EmoClass</th>\n",
       "      <th>Gender</th>\n",
       "      <th>SpkrID</th>\n",
       "      <th>target</th>\n",
       "    </tr>\n",
       "  </thead>\n",
       "  <tbody>\n",
       "    <tr>\n",
       "      <th>0</th>\n",
       "      <td>MSP-PODCAST_0003_0052.wav</td>\n",
       "      <td>-2.6094</td>\n",
       "      <td>-1.5741</td>\n",
       "      <td>0.5319</td>\n",
       "      <td>-0.7780</td>\n",
       "      <td>-2.4081</td>\n",
       "      <td>-0.3807</td>\n",
       "      <td>0.9646</td>\n",
       "      <td>1.5363</td>\n",
       "      <td>-0.9920</td>\n",
       "      <td>...</td>\n",
       "      <td>-0.0453</td>\n",
       "      <td>-0.6979</td>\n",
       "      <td>-0.5635</td>\n",
       "      <td>0.7584</td>\n",
       "      <td>1.3781</td>\n",
       "      <td>MSP-PODCAST_0003_0052.wav</td>\n",
       "      <td>N</td>\n",
       "      <td>Male</td>\n",
       "      <td>3</td>\n",
       "      <td>7</td>\n",
       "    </tr>\n",
       "    <tr>\n",
       "      <th>1</th>\n",
       "      <td>MSP-PODCAST_0003_0084.wav</td>\n",
       "      <td>-5.0658</td>\n",
       "      <td>2.0820</td>\n",
       "      <td>-0.2486</td>\n",
       "      <td>-1.3754</td>\n",
       "      <td>-1.5839</td>\n",
       "      <td>-4.0328</td>\n",
       "      <td>-1.2956</td>\n",
       "      <td>2.2646</td>\n",
       "      <td>-2.2851</td>\n",
       "      <td>...</td>\n",
       "      <td>-0.6732</td>\n",
       "      <td>-0.3002</td>\n",
       "      <td>-1.2726</td>\n",
       "      <td>-0.1841</td>\n",
       "      <td>2.5666</td>\n",
       "      <td>MSP-PODCAST_0003_0084.wav</td>\n",
       "      <td>N</td>\n",
       "      <td>Male</td>\n",
       "      <td>3</td>\n",
       "      <td>7</td>\n",
       "    </tr>\n",
       "    <tr>\n",
       "      <th>2</th>\n",
       "      <td>MSP-PODCAST_0003_0086.wav</td>\n",
       "      <td>-4.4962</td>\n",
       "      <td>2.8279</td>\n",
       "      <td>-0.3850</td>\n",
       "      <td>-1.2710</td>\n",
       "      <td>-0.9462</td>\n",
       "      <td>-3.1940</td>\n",
       "      <td>-1.7564</td>\n",
       "      <td>1.6332</td>\n",
       "      <td>-2.3826</td>\n",
       "      <td>...</td>\n",
       "      <td>-0.7974</td>\n",
       "      <td>0.9763</td>\n",
       "      <td>-1.5131</td>\n",
       "      <td>-1.1026</td>\n",
       "      <td>2.1649</td>\n",
       "      <td>MSP-PODCAST_0003_0086.wav</td>\n",
       "      <td>N</td>\n",
       "      <td>Male</td>\n",
       "      <td>3</td>\n",
       "      <td>7</td>\n",
       "    </tr>\n",
       "    <tr>\n",
       "      <th>3</th>\n",
       "      <td>MSP-PODCAST_0003_0106.wav</td>\n",
       "      <td>-2.2321</td>\n",
       "      <td>3.0808</td>\n",
       "      <td>-2.4715</td>\n",
       "      <td>-2.6153</td>\n",
       "      <td>-4.1133</td>\n",
       "      <td>-2.4933</td>\n",
       "      <td>-0.9217</td>\n",
       "      <td>0.4628</td>\n",
       "      <td>-0.7892</td>\n",
       "      <td>...</td>\n",
       "      <td>-1.5412</td>\n",
       "      <td>-0.3874</td>\n",
       "      <td>0.4243</td>\n",
       "      <td>0.3829</td>\n",
       "      <td>0.1693</td>\n",
       "      <td>MSP-PODCAST_0003_0106.wav</td>\n",
       "      <td>S</td>\n",
       "      <td>Male</td>\n",
       "      <td>3</td>\n",
       "      <td>1</td>\n",
       "    </tr>\n",
       "    <tr>\n",
       "      <th>4</th>\n",
       "      <td>MSP-PODCAST_0003_0113.wav</td>\n",
       "      <td>-0.9049</td>\n",
       "      <td>1.1925</td>\n",
       "      <td>-1.4834</td>\n",
       "      <td>-0.6667</td>\n",
       "      <td>-1.1839</td>\n",
       "      <td>-0.0835</td>\n",
       "      <td>-0.1204</td>\n",
       "      <td>-0.0076</td>\n",
       "      <td>-1.9102</td>\n",
       "      <td>...</td>\n",
       "      <td>0.7464</td>\n",
       "      <td>0.7365</td>\n",
       "      <td>-0.2862</td>\n",
       "      <td>0.0743</td>\n",
       "      <td>1.1663</td>\n",
       "      <td>MSP-PODCAST_0003_0113.wav</td>\n",
       "      <td>N</td>\n",
       "      <td>Male</td>\n",
       "      <td>3</td>\n",
       "      <td>7</td>\n",
       "    </tr>\n",
       "  </tbody>\n",
       "</table>\n",
       "<p>5 rows × 54 columns</p>\n",
       "</div>"
      ],
      "text/plain": [
       "                    Filename  class_0_prob  class_1_prob  class_2_prob  \\\n",
       "0  MSP-PODCAST_0003_0052.wav       -2.6094       -1.5741        0.5319   \n",
       "1  MSP-PODCAST_0003_0084.wav       -5.0658        2.0820       -0.2486   \n",
       "2  MSP-PODCAST_0003_0086.wav       -4.4962        2.8279       -0.3850   \n",
       "3  MSP-PODCAST_0003_0106.wav       -2.2321        3.0808       -2.4715   \n",
       "4  MSP-PODCAST_0003_0113.wav       -0.9049        1.1925       -1.4834   \n",
       "\n",
       "   class_3_prob  class_4_prob  class_5_prob  class_6_prob  class_7_prob  \\\n",
       "0       -0.7780       -2.4081       -0.3807        0.9646        1.5363   \n",
       "1       -1.3754       -1.5839       -4.0328       -1.2956        2.2646   \n",
       "2       -1.2710       -0.9462       -3.1940       -1.7564        1.6332   \n",
       "3       -2.6153       -4.1133       -2.4933       -0.9217        0.4628   \n",
       "4       -0.6667       -1.1839       -0.0835       -0.1204       -0.0076   \n",
       "\n",
       "   class_0_prob_exp1  ...  class_3_prob_exp5  class_4_prob_exp5  \\\n",
       "0            -0.9920  ...            -0.0453            -0.6979   \n",
       "1            -2.2851  ...            -0.6732            -0.3002   \n",
       "2            -2.3826  ...            -0.7974             0.9763   \n",
       "3            -0.7892  ...            -1.5412            -0.3874   \n",
       "4            -1.9102  ...             0.7464             0.7365   \n",
       "\n",
       "   class_5_prob_exp5  class_6_prob_exp5  class_7_prob_exp5  \\\n",
       "0            -0.5635             0.7584             1.3781   \n",
       "1            -1.2726            -0.1841             2.5666   \n",
       "2            -1.5131            -1.1026             2.1649   \n",
       "3             0.4243             0.3829             0.1693   \n",
       "4            -0.2862             0.0743             1.1663   \n",
       "\n",
       "                    FileName  EmoClass  Gender  SpkrID  target  \n",
       "0  MSP-PODCAST_0003_0052.wav         N    Male       3       7  \n",
       "1  MSP-PODCAST_0003_0084.wav         N    Male       3       7  \n",
       "2  MSP-PODCAST_0003_0086.wav         N    Male       3       7  \n",
       "3  MSP-PODCAST_0003_0106.wav         S    Male       3       1  \n",
       "4  MSP-PODCAST_0003_0113.wav         N    Male       3       7  \n",
       "\n",
       "[5 rows x 54 columns]"
      ]
     },
     "execution_count": 1555,
     "metadata": {},
     "output_type": "execute_result"
    }
   ],
   "source": [
    "preds.head()"
   ]
  },
  {
   "cell_type": "code",
   "execution_count": 1556,
   "id": "1f88027d-0517-4018-8225-419b98548b88",
   "metadata": {},
   "outputs": [],
   "source": [
    "from sklearn.metrics import confusion_matrix, ConfusionMatrixDisplay, accuracy_score, f1_score\n",
    "from sklearn.linear_model import LogisticRegression\n",
    "from sklearn.ensemble import RandomForestClassifier\n",
    "from sklearn.svm import SVC\n",
    "from sklearn.model_selection import train_test_split"
   ]
  },
  {
   "cell_type": "code",
   "execution_count": 1557,
   "id": "d5081c84-442c-4670-81c0-fe362fd14229",
   "metadata": {},
   "outputs": [],
   "source": [
    "preds_estrat = get_stratified_subset(preds, 'EmoClass', 300, random_state=42)"
   ]
  },
  {
   "cell_type": "code",
   "execution_count": 1558,
   "id": "a9536b29-675b-4728-a673-855cd15ee27d",
   "metadata": {},
   "outputs": [],
   "source": [
    "# preds_estrat"
   ]
  },
  {
   "cell_type": "code",
   "execution_count": 1559,
   "id": "bc643259-a071-4aa0-98d2-3c8da69e7c1b",
   "metadata": {},
   "outputs": [],
   "source": [
    "# # Just saving the auxiliardataset\n",
    "# filenames = preds_estrat.FileName\n",
    "\n",
    "# tmp = pd.read_csv(\"../benchmark/processed_labels.csv\")"
   ]
  },
  {
   "cell_type": "code",
   "execution_count": 1560,
   "id": "6f5687a3-c5f8-4303-bcd4-85ded86698db",
   "metadata": {},
   "outputs": [],
   "source": [
    "# tmp = tmp[tmp['FileName'].isin(filenames)].reset_index(drop=True)\n",
    "# tmp.shape"
   ]
  },
  {
   "cell_type": "code",
   "execution_count": 1561,
   "id": "494c39f6-fda6-4971-bbab-b4516cb19edf",
   "metadata": {},
   "outputs": [],
   "source": [
    "# tmp.to_csv(\"train_stacking_sample.csv\")"
   ]
  },
  {
   "cell_type": "code",
   "execution_count": 1562,
   "id": "de234c72-21d1-42c3-a592-e2c84577cc5b",
   "metadata": {},
   "outputs": [],
   "source": [
    "# tmp.head()"
   ]
  },
  {
   "cell_type": "code",
   "execution_count": 1563,
   "id": "d8885b6a-bf31-456f-b403-27de40b97abc",
   "metadata": {},
   "outputs": [
    {
     "data": {
      "text/plain": [
       "EmoClass\n",
       "N    300\n",
       "S    300\n",
       "D    300\n",
       "H    300\n",
       "A    300\n",
       "C    300\n",
       "F    300\n",
       "U    300\n",
       "Name: count, dtype: int64"
      ]
     },
     "execution_count": 1563,
     "metadata": {},
     "output_type": "execute_result"
    }
   ],
   "source": [
    "preds_estrat.EmoClass.value_counts()"
   ]
  },
  {
   "cell_type": "code",
   "execution_count": 1564,
   "id": "051d579b-31e0-4f65-ae0a-0d76235bade2",
   "metadata": {},
   "outputs": [
    {
     "data": {
      "text/plain": [
       "Gender\n",
       "Male      1375\n",
       "Female    1025\n",
       "Name: count, dtype: int64"
      ]
     },
     "execution_count": 1564,
     "metadata": {},
     "output_type": "execute_result"
    }
   ],
   "source": [
    "preds_estrat.Gender.value_counts()"
   ]
  },
  {
   "cell_type": "code",
   "execution_count": 1597,
   "id": "984faaa1-2337-4f6b-9d21-4f8f651c97ae",
   "metadata": {},
   "outputs": [
    {
     "data": {
      "text/html": [
       "<style>#sk-container-id-69 {color: black;}#sk-container-id-69 pre{padding: 0;}#sk-container-id-69 div.sk-toggleable {background-color: white;}#sk-container-id-69 label.sk-toggleable__label {cursor: pointer;display: block;width: 100%;margin-bottom: 0;padding: 0.3em;box-sizing: border-box;text-align: center;}#sk-container-id-69 label.sk-toggleable__label-arrow:before {content: \"▸\";float: left;margin-right: 0.25em;color: #696969;}#sk-container-id-69 label.sk-toggleable__label-arrow:hover:before {color: black;}#sk-container-id-69 div.sk-estimator:hover label.sk-toggleable__label-arrow:before {color: black;}#sk-container-id-69 div.sk-toggleable__content {max-height: 0;max-width: 0;overflow: hidden;text-align: left;background-color: #f0f8ff;}#sk-container-id-69 div.sk-toggleable__content pre {margin: 0.2em;color: black;border-radius: 0.25em;background-color: #f0f8ff;}#sk-container-id-69 input.sk-toggleable__control:checked~div.sk-toggleable__content {max-height: 200px;max-width: 100%;overflow: auto;}#sk-container-id-69 input.sk-toggleable__control:checked~label.sk-toggleable__label-arrow:before {content: \"▾\";}#sk-container-id-69 div.sk-estimator input.sk-toggleable__control:checked~label.sk-toggleable__label {background-color: #d4ebff;}#sk-container-id-69 div.sk-label input.sk-toggleable__control:checked~label.sk-toggleable__label {background-color: #d4ebff;}#sk-container-id-69 input.sk-hidden--visually {border: 0;clip: rect(1px 1px 1px 1px);clip: rect(1px, 1px, 1px, 1px);height: 1px;margin: -1px;overflow: hidden;padding: 0;position: absolute;width: 1px;}#sk-container-id-69 div.sk-estimator {font-family: monospace;background-color: #f0f8ff;border: 1px dotted black;border-radius: 0.25em;box-sizing: border-box;margin-bottom: 0.5em;}#sk-container-id-69 div.sk-estimator:hover {background-color: #d4ebff;}#sk-container-id-69 div.sk-parallel-item::after {content: \"\";width: 100%;border-bottom: 1px solid gray;flex-grow: 1;}#sk-container-id-69 div.sk-label:hover label.sk-toggleable__label {background-color: #d4ebff;}#sk-container-id-69 div.sk-serial::before {content: \"\";position: absolute;border-left: 1px solid gray;box-sizing: border-box;top: 0;bottom: 0;left: 50%;z-index: 0;}#sk-container-id-69 div.sk-serial {display: flex;flex-direction: column;align-items: center;background-color: white;padding-right: 0.2em;padding-left: 0.2em;position: relative;}#sk-container-id-69 div.sk-item {position: relative;z-index: 1;}#sk-container-id-69 div.sk-parallel {display: flex;align-items: stretch;justify-content: center;background-color: white;position: relative;}#sk-container-id-69 div.sk-item::before, #sk-container-id-69 div.sk-parallel-item::before {content: \"\";position: absolute;border-left: 1px solid gray;box-sizing: border-box;top: 0;bottom: 0;left: 50%;z-index: -1;}#sk-container-id-69 div.sk-parallel-item {display: flex;flex-direction: column;z-index: 1;position: relative;background-color: white;}#sk-container-id-69 div.sk-parallel-item:first-child::after {align-self: flex-end;width: 50%;}#sk-container-id-69 div.sk-parallel-item:last-child::after {align-self: flex-start;width: 50%;}#sk-container-id-69 div.sk-parallel-item:only-child::after {width: 0;}#sk-container-id-69 div.sk-dashed-wrapped {border: 1px dashed gray;margin: 0 0.4em 0.5em 0.4em;box-sizing: border-box;padding-bottom: 0.4em;background-color: white;}#sk-container-id-69 div.sk-label label {font-family: monospace;font-weight: bold;display: inline-block;line-height: 1.2em;}#sk-container-id-69 div.sk-label-container {text-align: center;}#sk-container-id-69 div.sk-container {/* jupyter's `normalize.less` sets `[hidden] { display: none; }` but bootstrap.min.css set `[hidden] { display: none !important; }` so we also need the `!important` here to be able to override the default hidden behavior on the sphinx rendered scikit-learn.org. See: https://github.com/scikit-learn/scikit-learn/issues/21755 */display: inline-block !important;position: relative;}#sk-container-id-69 div.sk-text-repr-fallback {display: none;}</style><div id=\"sk-container-id-69\" class=\"sk-top-container\"><div class=\"sk-text-repr-fallback\"><pre>LogisticRegression(C=1, max_iter=500, multi_class=&#x27;ovr&#x27;, random_state=42)</pre><b>In a Jupyter environment, please rerun this cell to show the HTML representation or trust the notebook. <br />On GitHub, the HTML representation is unable to render, please try loading this page with nbviewer.org.</b></div><div class=\"sk-container\" hidden><div class=\"sk-item\"><div class=\"sk-estimator sk-toggleable\"><input class=\"sk-toggleable__control sk-hidden--visually\" id=\"sk-estimator-id-69\" type=\"checkbox\" checked><label for=\"sk-estimator-id-69\" class=\"sk-toggleable__label sk-toggleable__label-arrow\">LogisticRegression</label><div class=\"sk-toggleable__content\"><pre>LogisticRegression(C=1, max_iter=500, multi_class=&#x27;ovr&#x27;, random_state=42)</pre></div></div></div></div></div>"
      ],
      "text/plain": [
       "LogisticRegression(C=1, max_iter=500, multi_class='ovr', random_state=42)"
      ]
     },
     "execution_count": 1597,
     "metadata": {},
     "output_type": "execute_result"
    }
   ],
   "source": [
    "lr = LogisticRegression(random_state = 42, max_iter = 500, C=1,  multi_class='ovr', penalty='l2')\n",
    "# lr = RandomForestClassifier(random_state = 42, n_estimators = 500, max_depth = 13, min_samples_leaf=5)\n",
    "# lr = SVC(random_state = 42, C = 1, kernel='rbf', gamma = 'scale')\n",
    "\n",
    "lr.fit(preds_estrat[cols], preds_estrat['target'])"
   ]
  },
  {
   "cell_type": "code",
   "execution_count": 1598,
   "id": "371a894e-f673-41ce-9cdc-d46545573610",
   "metadata": {},
   "outputs": [],
   "source": [
    "preds_val['Prediction'] = lr.predict(preds_val[cols])\n",
    "preds_val['Prediction'] = preds_val['Prediction'].map(map_argmax) \n",
    "\n",
    "preds_estrat['Prediction'] = lr.predict(preds_estrat[cols])\n",
    "preds_estrat['Prediction'] = preds_estrat['Prediction'].map(map_argmax) "
   ]
  },
  {
   "cell_type": "code",
   "execution_count": 1599,
   "id": "58801223-8fea-4f4f-8250-fb210cdd12a1",
   "metadata": {},
   "outputs": [
    {
     "data": {
      "text/html": [
       "<div>\n",
       "<style scoped>\n",
       "    .dataframe tbody tr th:only-of-type {\n",
       "        vertical-align: middle;\n",
       "    }\n",
       "\n",
       "    .dataframe tbody tr th {\n",
       "        vertical-align: top;\n",
       "    }\n",
       "\n",
       "    .dataframe thead th {\n",
       "        text-align: right;\n",
       "    }\n",
       "</style>\n",
       "<table border=\"1\" class=\"dataframe\">\n",
       "  <thead>\n",
       "    <tr style=\"text-align: right;\">\n",
       "      <th></th>\n",
       "      <th>Filename</th>\n",
       "      <th>class_0_prob</th>\n",
       "      <th>class_1_prob</th>\n",
       "      <th>class_2_prob</th>\n",
       "      <th>class_3_prob</th>\n",
       "      <th>class_4_prob</th>\n",
       "      <th>class_5_prob</th>\n",
       "      <th>class_6_prob</th>\n",
       "      <th>class_7_prob</th>\n",
       "      <th>class_0_prob_exp1</th>\n",
       "      <th>...</th>\n",
       "      <th>class_4_prob_exp5</th>\n",
       "      <th>class_5_prob_exp5</th>\n",
       "      <th>class_6_prob_exp5</th>\n",
       "      <th>class_7_prob_exp5</th>\n",
       "      <th>FileName</th>\n",
       "      <th>EmoClass</th>\n",
       "      <th>Gender</th>\n",
       "      <th>SpkrID</th>\n",
       "      <th>target</th>\n",
       "      <th>Prediction</th>\n",
       "    </tr>\n",
       "  </thead>\n",
       "  <tbody>\n",
       "    <tr>\n",
       "      <th>0</th>\n",
       "      <td>MSP-PODCAST_0002_0033.wav</td>\n",
       "      <td>-1.4179</td>\n",
       "      <td>-0.5863</td>\n",
       "      <td>-0.6701</td>\n",
       "      <td>0.4331</td>\n",
       "      <td>0.7907</td>\n",
       "      <td>-0.5375</td>\n",
       "      <td>-0.6574</td>\n",
       "      <td>-0.1280</td>\n",
       "      <td>-2.2422</td>\n",
       "      <td>...</td>\n",
       "      <td>0.4979</td>\n",
       "      <td>-0.4059</td>\n",
       "      <td>-0.0991</td>\n",
       "      <td>0.9611</td>\n",
       "      <td>MSP-PODCAST_0002_0033.wav</td>\n",
       "      <td>N</td>\n",
       "      <td>Female</td>\n",
       "      <td>127</td>\n",
       "      <td>7</td>\n",
       "      <td>F</td>\n",
       "    </tr>\n",
       "    <tr>\n",
       "      <th>1</th>\n",
       "      <td>MSP-PODCAST_0002_0039.wav</td>\n",
       "      <td>-1.7175</td>\n",
       "      <td>-1.5450</td>\n",
       "      <td>0.5750</td>\n",
       "      <td>0.1468</td>\n",
       "      <td>0.0169</td>\n",
       "      <td>-1.1929</td>\n",
       "      <td>-0.1427</td>\n",
       "      <td>0.7643</td>\n",
       "      <td>-1.0855</td>\n",
       "      <td>...</td>\n",
       "      <td>0.1974</td>\n",
       "      <td>-0.7204</td>\n",
       "      <td>0.6862</td>\n",
       "      <td>0.7643</td>\n",
       "      <td>MSP-PODCAST_0002_0039.wav</td>\n",
       "      <td>N</td>\n",
       "      <td>Female</td>\n",
       "      <td>127</td>\n",
       "      <td>7</td>\n",
       "      <td>F</td>\n",
       "    </tr>\n",
       "    <tr>\n",
       "      <th>2</th>\n",
       "      <td>MSP-PODCAST_0002_0051.wav</td>\n",
       "      <td>-1.0199</td>\n",
       "      <td>-0.4363</td>\n",
       "      <td>0.2057</td>\n",
       "      <td>-0.1570</td>\n",
       "      <td>-0.3987</td>\n",
       "      <td>-0.7670</td>\n",
       "      <td>0.0676</td>\n",
       "      <td>0.5444</td>\n",
       "      <td>-1.0831</td>\n",
       "      <td>...</td>\n",
       "      <td>-0.4175</td>\n",
       "      <td>-0.7772</td>\n",
       "      <td>0.4548</td>\n",
       "      <td>1.5647</td>\n",
       "      <td>MSP-PODCAST_0002_0051.wav</td>\n",
       "      <td>N</td>\n",
       "      <td>Female</td>\n",
       "      <td>127</td>\n",
       "      <td>7</td>\n",
       "      <td>N</td>\n",
       "    </tr>\n",
       "    <tr>\n",
       "      <th>3</th>\n",
       "      <td>MSP-PODCAST_0002_0061.wav</td>\n",
       "      <td>-1.4278</td>\n",
       "      <td>-0.1977</td>\n",
       "      <td>-0.6342</td>\n",
       "      <td>-0.0041</td>\n",
       "      <td>0.6755</td>\n",
       "      <td>-0.3612</td>\n",
       "      <td>0.4292</td>\n",
       "      <td>0.1391</td>\n",
       "      <td>-0.6702</td>\n",
       "      <td>...</td>\n",
       "      <td>-0.1470</td>\n",
       "      <td>-0.6059</td>\n",
       "      <td>0.9237</td>\n",
       "      <td>0.1661</td>\n",
       "      <td>MSP-PODCAST_0002_0061.wav</td>\n",
       "      <td>F</td>\n",
       "      <td>Female</td>\n",
       "      <td>128</td>\n",
       "      <td>4</td>\n",
       "      <td>C</td>\n",
       "    </tr>\n",
       "    <tr>\n",
       "      <th>4</th>\n",
       "      <td>MSP-PODCAST_0006_0017.wav</td>\n",
       "      <td>-2.1206</td>\n",
       "      <td>0.4019</td>\n",
       "      <td>-0.5818</td>\n",
       "      <td>0.1007</td>\n",
       "      <td>0.5471</td>\n",
       "      <td>-0.2179</td>\n",
       "      <td>-0.0455</td>\n",
       "      <td>0.4408</td>\n",
       "      <td>-2.7826</td>\n",
       "      <td>...</td>\n",
       "      <td>-0.7302</td>\n",
       "      <td>-0.8533</td>\n",
       "      <td>0.2037</td>\n",
       "      <td>1.9450</td>\n",
       "      <td>MSP-PODCAST_0006_0017.wav</td>\n",
       "      <td>N</td>\n",
       "      <td>Female</td>\n",
       "      <td>127</td>\n",
       "      <td>7</td>\n",
       "      <td>N</td>\n",
       "    </tr>\n",
       "  </tbody>\n",
       "</table>\n",
       "<p>5 rows × 55 columns</p>\n",
       "</div>"
      ],
      "text/plain": [
       "                    Filename  class_0_prob  class_1_prob  class_2_prob  \\\n",
       "0  MSP-PODCAST_0002_0033.wav       -1.4179       -0.5863       -0.6701   \n",
       "1  MSP-PODCAST_0002_0039.wav       -1.7175       -1.5450        0.5750   \n",
       "2  MSP-PODCAST_0002_0051.wav       -1.0199       -0.4363        0.2057   \n",
       "3  MSP-PODCAST_0002_0061.wav       -1.4278       -0.1977       -0.6342   \n",
       "4  MSP-PODCAST_0006_0017.wav       -2.1206        0.4019       -0.5818   \n",
       "\n",
       "   class_3_prob  class_4_prob  class_5_prob  class_6_prob  class_7_prob  \\\n",
       "0        0.4331        0.7907       -0.5375       -0.6574       -0.1280   \n",
       "1        0.1468        0.0169       -1.1929       -0.1427        0.7643   \n",
       "2       -0.1570       -0.3987       -0.7670        0.0676        0.5444   \n",
       "3       -0.0041        0.6755       -0.3612        0.4292        0.1391   \n",
       "4        0.1007        0.5471       -0.2179       -0.0455        0.4408   \n",
       "\n",
       "   class_0_prob_exp1  ...  class_4_prob_exp5  class_5_prob_exp5  \\\n",
       "0            -2.2422  ...             0.4979            -0.4059   \n",
       "1            -1.0855  ...             0.1974            -0.7204   \n",
       "2            -1.0831  ...            -0.4175            -0.7772   \n",
       "3            -0.6702  ...            -0.1470            -0.6059   \n",
       "4            -2.7826  ...            -0.7302            -0.8533   \n",
       "\n",
       "   class_6_prob_exp5  class_7_prob_exp5                   FileName  EmoClass  \\\n",
       "0            -0.0991             0.9611  MSP-PODCAST_0002_0033.wav         N   \n",
       "1             0.6862             0.7643  MSP-PODCAST_0002_0039.wav         N   \n",
       "2             0.4548             1.5647  MSP-PODCAST_0002_0051.wav         N   \n",
       "3             0.9237             0.1661  MSP-PODCAST_0002_0061.wav         F   \n",
       "4             0.2037             1.9450  MSP-PODCAST_0006_0017.wav         N   \n",
       "\n",
       "   Gender  SpkrID  target  Prediction  \n",
       "0  Female     127       7           F  \n",
       "1  Female     127       7           F  \n",
       "2  Female     127       7           N  \n",
       "3  Female     128       4           C  \n",
       "4  Female     127       7           N  \n",
       "\n",
       "[5 rows x 55 columns]"
      ]
     },
     "execution_count": 1599,
     "metadata": {},
     "output_type": "execute_result"
    }
   ],
   "source": [
    "preds_val.head()"
   ]
  },
  {
   "cell_type": "code",
   "execution_count": 1612,
   "id": "d114f83a-54db-4615-989d-6db4a1229f73",
   "metadata": {},
   "outputs": [
    {
     "data": {
      "image/png": "[encoded data removed]",
      "text/plain": [
       "<Figure size 640x480 with 2 Axes>"
      ]
     },
     "metadata": {},
     "output_type": "display_data"
    }
   ],
   "source": [
    "import pandas as pd\n",
    "from sklearn.metrics import confusion_matrix, ConfusionMatrixDisplay, accuracy_score, f1_score\n",
    "import matplotlib.pyplot as plt\n",
    "\n",
    "# Generate confusion matrix\n",
    "cm = confusion_matrix(preds_val['EmoClass'], preds_val['Prediction'], labels=preds_val['EmoClass'].unique())\n",
    "\n",
    "# Display labels\n",
    "labels = preds_val['EmoClass'].unique()\n",
    "\n",
    "# Visualize confusion matrix\n",
    "cmd = ConfusionMatrixDisplay(confusion_matrix=cm, display_labels=labels)\n",
    "cmd.plot(cmap=plt.cm.Blues)\n",
    "plt.title(\"Confusion Matrix\")\n",
    "plt.show()"
   ]
  },
  {
   "cell_type": "code",
   "execution_count": 1613,
   "id": "0f00b22b-aee3-4850-90c6-af42bb175f2f",
   "metadata": {},
   "outputs": [
    {
     "data": {
      "text/html": [
       "<div>\n",
       "<style scoped>\n",
       "    .dataframe tbody tr th:only-of-type {\n",
       "        vertical-align: middle;\n",
       "    }\n",
       "\n",
       "    .dataframe tbody tr th {\n",
       "        vertical-align: top;\n",
       "    }\n",
       "\n",
       "    .dataframe thead th {\n",
       "        text-align: right;\n",
       "    }\n",
       "</style>\n",
       "<table border=\"1\" class=\"dataframe\">\n",
       "  <thead>\n",
       "    <tr style=\"text-align: right;\">\n",
       "      <th></th>\n",
       "      <th>Filename</th>\n",
       "      <th>class_0_prob</th>\n",
       "      <th>class_1_prob</th>\n",
       "      <th>class_2_prob</th>\n",
       "      <th>class_3_prob</th>\n",
       "      <th>class_4_prob</th>\n",
       "      <th>class_5_prob</th>\n",
       "      <th>class_6_prob</th>\n",
       "      <th>class_7_prob</th>\n",
       "      <th>class_0_prob_exp1</th>\n",
       "      <th>...</th>\n",
       "      <th>class_4_prob_exp5</th>\n",
       "      <th>class_5_prob_exp5</th>\n",
       "      <th>class_6_prob_exp5</th>\n",
       "      <th>class_7_prob_exp5</th>\n",
       "      <th>FileName</th>\n",
       "      <th>EmoClass</th>\n",
       "      <th>Gender</th>\n",
       "      <th>SpkrID</th>\n",
       "      <th>target</th>\n",
       "      <th>Prediction</th>\n",
       "    </tr>\n",
       "  </thead>\n",
       "  <tbody>\n",
       "    <tr>\n",
       "      <th>0</th>\n",
       "      <td>MSP-PODCAST_2421_0197.wav</td>\n",
       "      <td>-1.0402</td>\n",
       "      <td>1.2595</td>\n",
       "      <td>-3.3509</td>\n",
       "      <td>-1.5075</td>\n",
       "      <td>-0.5826</td>\n",
       "      <td>-0.4437</td>\n",
       "      <td>-0.8148</td>\n",
       "      <td>-0.9488</td>\n",
       "      <td>-0.6344</td>\n",
       "      <td>...</td>\n",
       "      <td>-0.8465</td>\n",
       "      <td>-0.3264</td>\n",
       "      <td>0.5793</td>\n",
       "      <td>-0.8662</td>\n",
       "      <td>MSP-PODCAST_2421_0197.wav</td>\n",
       "      <td>N</td>\n",
       "      <td>Female</td>\n",
       "      <td>210</td>\n",
       "      <td>7</td>\n",
       "      <td>S</td>\n",
       "    </tr>\n",
       "    <tr>\n",
       "      <th>1</th>\n",
       "      <td>MSP-PODCAST_2347_1004.wav</td>\n",
       "      <td>2.9500</td>\n",
       "      <td>-2.9352</td>\n",
       "      <td>-2.7740</td>\n",
       "      <td>-1.2526</td>\n",
       "      <td>-2.7135</td>\n",
       "      <td>-0.2511</td>\n",
       "      <td>0.8370</td>\n",
       "      <td>-1.8347</td>\n",
       "      <td>0.6139</td>\n",
       "      <td>...</td>\n",
       "      <td>-0.4108</td>\n",
       "      <td>1.9916</td>\n",
       "      <td>1.7639</td>\n",
       "      <td>-2.6662</td>\n",
       "      <td>MSP-PODCAST_2347_1004.wav</td>\n",
       "      <td>N</td>\n",
       "      <td>Female</td>\n",
       "      <td>210</td>\n",
       "      <td>7</td>\n",
       "      <td>A</td>\n",
       "    </tr>\n",
       "    <tr>\n",
       "      <th>2</th>\n",
       "      <td>MSP-PODCAST_3406_0004_0003.wav</td>\n",
       "      <td>-1.3348</td>\n",
       "      <td>0.2684</td>\n",
       "      <td>0.0360</td>\n",
       "      <td>-0.7542</td>\n",
       "      <td>-0.5391</td>\n",
       "      <td>-2.3222</td>\n",
       "      <td>-1.0530</td>\n",
       "      <td>0.2348</td>\n",
       "      <td>-1.6166</td>\n",
       "      <td>...</td>\n",
       "      <td>-0.6445</td>\n",
       "      <td>-2.0456</td>\n",
       "      <td>-0.2022</td>\n",
       "      <td>0.7619</td>\n",
       "      <td>MSP-PODCAST_3406_0004_0003.wav</td>\n",
       "      <td>N</td>\n",
       "      <td>Male</td>\n",
       "      <td>1767</td>\n",
       "      <td>7</td>\n",
       "      <td>S</td>\n",
       "    </tr>\n",
       "    <tr>\n",
       "      <th>3</th>\n",
       "      <td>MSP-PODCAST_0807_1720.wav</td>\n",
       "      <td>-2.4486</td>\n",
       "      <td>-4.0463</td>\n",
       "      <td>1.6285</td>\n",
       "      <td>2.0042</td>\n",
       "      <td>-1.8934</td>\n",
       "      <td>-1.6830</td>\n",
       "      <td>-0.0103</td>\n",
       "      <td>0.7909</td>\n",
       "      <td>-2.0340</td>\n",
       "      <td>...</td>\n",
       "      <td>-1.7131</td>\n",
       "      <td>0.0576</td>\n",
       "      <td>0.6348</td>\n",
       "      <td>0.2517</td>\n",
       "      <td>MSP-PODCAST_0807_1720.wav</td>\n",
       "      <td>N</td>\n",
       "      <td>Male</td>\n",
       "      <td>97</td>\n",
       "      <td>7</td>\n",
       "      <td>U</td>\n",
       "    </tr>\n",
       "    <tr>\n",
       "      <th>4</th>\n",
       "      <td>MSP-PODCAST_3079_1429.wav</td>\n",
       "      <td>-5.1446</td>\n",
       "      <td>0.9643</td>\n",
       "      <td>-0.3314</td>\n",
       "      <td>0.0405</td>\n",
       "      <td>-0.9966</td>\n",
       "      <td>-2.5701</td>\n",
       "      <td>-1.0628</td>\n",
       "      <td>2.7509</td>\n",
       "      <td>-2.5888</td>\n",
       "      <td>...</td>\n",
       "      <td>-0.4531</td>\n",
       "      <td>-1.6025</td>\n",
       "      <td>-0.9730</td>\n",
       "      <td>2.3553</td>\n",
       "      <td>MSP-PODCAST_3079_1429.wav</td>\n",
       "      <td>N</td>\n",
       "      <td>Male</td>\n",
       "      <td>2261</td>\n",
       "      <td>7</td>\n",
       "      <td>N</td>\n",
       "    </tr>\n",
       "  </tbody>\n",
       "</table>\n",
       "<p>5 rows × 55 columns</p>\n",
       "</div>"
      ],
      "text/plain": [
       "                         Filename  class_0_prob  class_1_prob  class_2_prob  \\\n",
       "0       MSP-PODCAST_2421_0197.wav       -1.0402        1.2595       -3.3509   \n",
       "1       MSP-PODCAST_2347_1004.wav        2.9500       -2.9352       -2.7740   \n",
       "2  MSP-PODCAST_3406_0004_0003.wav       -1.3348        0.2684        0.0360   \n",
       "3       MSP-PODCAST_0807_1720.wav       -2.4486       -4.0463        1.6285   \n",
       "4       MSP-PODCAST_3079_1429.wav       -5.1446        0.9643       -0.3314   \n",
       "\n",
       "   class_3_prob  class_4_prob  class_5_prob  class_6_prob  class_7_prob  \\\n",
       "0       -1.5075       -0.5826       -0.4437       -0.8148       -0.9488   \n",
       "1       -1.2526       -2.7135       -0.2511        0.8370       -1.8347   \n",
       "2       -0.7542       -0.5391       -2.3222       -1.0530        0.2348   \n",
       "3        2.0042       -1.8934       -1.6830       -0.0103        0.7909   \n",
       "4        0.0405       -0.9966       -2.5701       -1.0628        2.7509   \n",
       "\n",
       "   class_0_prob_exp1  ...  class_4_prob_exp5  class_5_prob_exp5  \\\n",
       "0            -0.6344  ...            -0.8465            -0.3264   \n",
       "1             0.6139  ...            -0.4108             1.9916   \n",
       "2            -1.6166  ...            -0.6445            -2.0456   \n",
       "3            -2.0340  ...            -1.7131             0.0576   \n",
       "4            -2.5888  ...            -0.4531            -1.6025   \n",
       "\n",
       "   class_6_prob_exp5  class_7_prob_exp5                        FileName  \\\n",
       "0             0.5793            -0.8662       MSP-PODCAST_2421_0197.wav   \n",
       "1             1.7639            -2.6662       MSP-PODCAST_2347_1004.wav   \n",
       "2            -0.2022             0.7619  MSP-PODCAST_3406_0004_0003.wav   \n",
       "3             0.6348             0.2517       MSP-PODCAST_0807_1720.wav   \n",
       "4            -0.9730             2.3553       MSP-PODCAST_3079_1429.wav   \n",
       "\n",
       "   EmoClass  Gender  SpkrID  target  Prediction  \n",
       "0         N  Female     210       7           S  \n",
       "1         N  Female     210       7           A  \n",
       "2         N    Male    1767       7           S  \n",
       "3         N    Male      97       7           U  \n",
       "4         N    Male    2261       7           N  \n",
       "\n",
       "[5 rows x 55 columns]"
      ]
     },
     "execution_count": 1613,
     "metadata": {},
     "output_type": "execute_result"
    }
   ],
   "source": [
    "preds_subset = get_stratified_subset(preds_val, 'EmoClass', 100)\n",
    "preds_subset.head()"
   ]
  },
  {
   "cell_type": "markdown",
   "id": "c6d276da-b7b8-49c7-9d65-9b00034390d7",
   "metadata": {},
   "source": [
    "# Training bootstrap"
   ]
  },
  {
   "cell_type": "code",
   "execution_count": 1614,
   "id": "0d8f431d-deb1-4659-8061-4d354a13712c",
   "metadata": {},
   "outputs": [],
   "source": [
    "# Average F1-score using bootstrap\n",
    "f1_scores = []\n",
    "for i in range(100):\n",
    "    preds_subset = get_stratified_subset(preds_estrat, 'EmoClass', 100, i)\n",
    "    f1_scores.append(f1_score(preds_estrat['EmoClass'], preds_estrat['Prediction'], average='macro'))"
   ]
  },
  {
   "cell_type": "code",
   "execution_count": 1615,
   "id": "098b7ff3-d17e-4135-8798-9dc2428db382",
   "metadata": {},
   "outputs": [
    {
     "data": {
      "text/plain": [
       "(0.5583195637738286, 0.0, 0.5583195637738286, 0.5583195637738286)"
      ]
     },
     "execution_count": 1615,
     "metadata": {},
     "output_type": "execute_result"
    }
   ],
   "source": [
    "f1_scores = np.array(f1_scores)\n",
    "\n",
    "np.mean(f1_scores), np.std(f1_scores),np.max(f1_scores),np.min(f1_scores)"
   ]
  },
  {
   "cell_type": "code",
   "execution_count": 1616,
   "id": "4eb0cd95-611b-438a-a5dd-52fd63b6c5aa",
   "metadata": {},
   "outputs": [
    {
     "data": {
      "text/plain": [
       "0.5583195637738286"
      ]
     },
     "execution_count": 1616,
     "metadata": {},
     "output_type": "execute_result"
    }
   ],
   "source": [
    "f1_score(preds_estrat['EmoClass'], preds_estrat['Prediction'], average='macro')"
   ]
  },
  {
   "cell_type": "code",
   "execution_count": 1617,
   "id": "c1b8ae11-358c-4630-8015-f6576259e306",
   "metadata": {},
   "outputs": [
    {
     "data": {
      "text/plain": [
       "0.5616666666666666"
      ]
     },
     "execution_count": 1617,
     "metadata": {},
     "output_type": "execute_result"
    }
   ],
   "source": [
    "accuracy_score(preds_estrat['EmoClass'], preds_estrat['Prediction'])"
   ]
  },
  {
   "cell_type": "markdown",
   "id": "61a7572e-1f30-403d-a83c-2ce462f8bba8",
   "metadata": {},
   "source": [
    "# Dev bootstrap"
   ]
  },
  {
   "cell_type": "code",
   "execution_count": 1618,
   "id": "8fb00efd-ac72-400d-a0ca-8faa1bc5aa21",
   "metadata": {},
   "outputs": [],
   "source": [
    "# Average F1-score using bootstrap\n",
    "f1_scores = []\n",
    "for i in range(100):\n",
    "    preds_subset = get_stratified_subset(preds_val, 'EmoClass', 200, i)\n",
    "    f1_scores.append(f1_score(preds_subset['EmoClass'], preds_subset['Prediction'], average='macro'))"
   ]
  },
  {
   "cell_type": "code",
   "execution_count": 1619,
   "id": "096eccda-b4b0-4af9-b0c4-58c67d0e3a01",
   "metadata": {},
   "outputs": [],
   "source": [
    "# f1_scores"
   ]
  },
  {
   "cell_type": "code",
   "execution_count": 1620,
   "id": "b13fe35a-23b2-43f0-90cc-a693529754ea",
   "metadata": {},
   "outputs": [
    {
     "data": {
      "text/plain": [
       "(0.41577636606487545,\n",
       " 0.010069686631523524,\n",
       " 0.4319973685059653,\n",
       " 0.385178087728379)"
      ]
     },
     "execution_count": 1620,
     "metadata": {},
     "output_type": "execute_result"
    }
   ],
   "source": [
    "f1_scores = np.array(f1_scores)\n",
    "\n",
    "np.mean(f1_scores), np.std(f1_scores),np.max(f1_scores),np.min(f1_scores)"
   ]
  },
  {
   "cell_type": "code",
   "execution_count": 1621,
   "id": "a5492076-5253-4211-b593-ec0cd9e01bb2",
   "metadata": {},
   "outputs": [
    {
     "data": {
      "image/png": "[encoded data removed]",
      "text/plain": [
       "<Figure size 640x480 with 1 Axes>"
      ]
     },
     "metadata": {},
     "output_type": "display_data"
    }
   ],
   "source": [
    "plt.hist(f1_scores, bins=10)\n",
    "plt.show()"
   ]
  },
  {
   "cell_type": "code",
   "execution_count": 1622,
   "id": "8159c179-b646-4164-aefe-ea07d1b14b63",
   "metadata": {},
   "outputs": [
    {
     "data": {
      "text/plain": [
       "0.3698079174403634"
      ]
     },
     "execution_count": 1622,
     "metadata": {},
     "output_type": "execute_result"
    }
   ],
   "source": [
    "f1_score(preds_val['EmoClass'], preds_val['Prediction'], average='macro')"
   ]
  },
  {
   "cell_type": "code",
   "execution_count": 1623,
   "id": "9ffcaae7-3a6c-4551-88b4-89443bf93542",
   "metadata": {},
   "outputs": [
    {
     "data": {
      "text/plain": [
       "0.4887956291076095"
      ]
     },
     "execution_count": 1623,
     "metadata": {},
     "output_type": "execute_result"
    }
   ],
   "source": [
    "f1_score(preds_val['EmoClass'], preds_val['Prediction'], average='micro')"
   ]
  },
  {
   "cell_type": "code",
   "execution_count": 1624,
   "id": "079afbb7-1cc7-4abd-8ddc-61c09caa62b4",
   "metadata": {},
   "outputs": [
    {
     "data": {
      "text/plain": [
       "0.4887956291076095"
      ]
     },
     "execution_count": 1624,
     "metadata": {},
     "output_type": "execute_result"
    }
   ],
   "source": [
    "accuracy_score(preds_val['EmoClass'], preds_val['Prediction'])"
   ]
  },
  {
   "cell_type": "code",
   "execution_count": 1625,
   "id": "6a50f0e8-da6b-4ed2-ad8d-f081c128cb9b",
   "metadata": {},
   "outputs": [
    {
     "data": {
      "text/plain": [
       "0.33588174059786857"
      ]
     },
     "execution_count": 1625,
     "metadata": {},
     "output_type": "execute_result"
    }
   ],
   "source": [
    "f1_score(preds_val[preds_val['Gender']=='Female']['EmoClass'], preds_val[preds_val['Gender']=='Female']['Prediction'], average='macro')"
   ]
  },
  {
   "cell_type": "code",
   "execution_count": 1626,
   "id": "2b2021da-895b-4780-ae73-4a8cc13dfe2c",
   "metadata": {},
   "outputs": [
    {
     "data": {
      "text/plain": [
       "0.3948580565978267"
      ]
     },
     "execution_count": 1626,
     "metadata": {},
     "output_type": "execute_result"
    }
   ],
   "source": [
    "f1_score(preds_val[preds_val['Gender']=='Male']['EmoClass'], preds_val[preds_val['Gender']=='Male']['Prediction'], average='macro')"
   ]
  },
  {
   "cell_type": "code",
   "execution_count": 1596,
   "id": "f899dc67-4135-4fea-98ed-8de8dce0823c",
   "metadata": {},
   "outputs": [
    {
     "data": {
      "text/plain": [
       "0.4027069783793285"
      ]
     },
     "execution_count": 1596,
     "metadata": {},
     "output_type": "execute_result"
    }
   ],
   "source": [
    "accuracy_score(preds_val[preds_val['Gender']=='Female']['EmoClass'], preds_val[preds_val['Gender']=='Female']['Prediction'])"
   ]
  },
  {
   "cell_type": "code",
   "execution_count": 1544,
   "id": "084d8c58-046d-4590-ac05-0f9cf97f6dfb",
   "metadata": {},
   "outputs": [
    {
     "data": {
      "text/plain": [
       "0.5362391930835735"
      ]
     },
     "execution_count": 1544,
     "metadata": {},
     "output_type": "execute_result"
    }
   ],
   "source": [
    "accuracy_score(preds_val[preds_val['Gender']=='Male']['EmoClass'], preds_val[preds_val['Gender']=='Male']['Prediction'])"
   ]
  },
  {
   "cell_type": "code",
   "execution_count": 1424,
   "id": "f03c7ac6-8acb-4764-b8ad-65e34477f9a3",
   "metadata": {
    "scrolled": true
   },
   "outputs": [
    {
     "name": "stdout",
     "output_type": "stream",
     "text": [
      "Emotion N acc = 0.3258790246531052\n",
      "Emotion S acc = 0.5950448526270824\n",
      "Emotion D acc = 0.3966789667896679\n",
      "Emotion H acc = 0.5517023959646911\n",
      "Emotion A acc = 0.6519876627827279\n",
      "Emotion C acc = 0.22960932145305005\n",
      "Emotion F acc = 0.22699386503067484\n",
      "Emotion U acc = 0.342451874366768\n"
     ]
    }
   ],
   "source": [
    "for e in preds['EmoClass'].unique():\n",
    "    acc = accuracy_score(preds_val[preds_val['EmoClass']==e]['EmoClass'], preds_val[preds_val['EmoClass']==e]['Prediction'])\n",
    "    print(f'Emotion {e} acc = {acc}')"
   ]
  },
  {
   "cell_type": "code",
   "execution_count": 1425,
   "id": "e4940eb7-460e-410d-907b-a8081584ef5c",
   "metadata": {},
   "outputs": [
    {
     "data": {
      "text/plain": [
       "EmoClass\n",
       "N    7423\n",
       "H    6344\n",
       "A    5836\n",
       "S    2341\n",
       "C    1459\n",
       "U     987\n",
       "D     542\n",
       "F     326\n",
       "Name: count, dtype: int64"
      ]
     },
     "execution_count": 1425,
     "metadata": {},
     "output_type": "execute_result"
    }
   ],
   "source": [
    "preds_val.EmoClass.value_counts()"
   ]
  },
  {
   "cell_type": "code",
   "execution_count": 1426,
   "id": "78ffb47e-a7ce-4fb0-805f-75e2f1ce0b38",
   "metadata": {},
   "outputs": [
    {
     "data": {
      "text/plain": [
       "Prediction\n",
       "A    0.219970\n",
       "H    0.171550\n",
       "N    0.147478\n",
       "S    0.127484\n",
       "C    0.096999\n",
       "F    0.081677\n",
       "D    0.077797\n",
       "U    0.077045\n",
       "Name: proportion, dtype: float64"
      ]
     },
     "execution_count": 1426,
     "metadata": {},
     "output_type": "execute_result"
    }
   ],
   "source": [
    "preds_val.Prediction.value_counts(normalize=True)"
   ]
  },
  {
   "cell_type": "code",
   "execution_count": 1306,
   "id": "c06efc45-f914-4107-a794-535953cd18ce",
   "metadata": {},
   "outputs": [
    {
     "data": {
      "text/plain": [
       "['../submissions/random_forest_model_stackingv1.pkl']"
      ]
     },
     "execution_count": 1306,
     "metadata": {},
     "output_type": "execute_result"
    }
   ],
   "source": [
    "import joblib\n",
    "\n",
    "# Save to a file\n",
    "# joblib.dump(lr, '../submissions/random_forest_model_stackingv1.pkl')"
   ]
  },
  {
   "cell_type": "code",
   "execution_count": null,
   "id": "08d3ec4c-c89c-4053-a9b4-df719f08216d",
   "metadata": {},
   "outputs": [],
   "source": []
  },
  {
   "cell_type": "code",
   "execution_count": null,
   "id": "a22eb401-32ec-485e-b226-ee82703e1102",
   "metadata": {},
   "outputs": [],
   "source": []
  }
 ],
 "metadata": {
  "kernelspec": {
   "display_name": "Python 3 (ipykernel)",
   "language": "python",
   "name": "python3"
  },
  "language_info": {
   "codemirror_mode": {
    "name": "ipython",
    "version": 3
   },
   "file_extension": ".py",
   "mimetype": "text/x-python",
   "name": "python",
   "nbconvert_exporter": "python",
   "pygments_lexer": "ipython3",
   "version": "3.10.8"
  }
 },
 "nbformat": 4,
 "nbformat_minor": 5
}
