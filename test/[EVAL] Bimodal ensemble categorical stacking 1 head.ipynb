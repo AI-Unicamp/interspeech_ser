{
 "cells": [
  {
   "cell_type": "code",
   "execution_count": 228,
   "id": "607c5c82-3f02-4bea-9cfa-9d24f7484069",
   "metadata": {},
   "outputs": [],
   "source": [
    "import pandas as pd\n",
    "\n",
    "\n",
    "def get_stratified_subset(df, label_column, num_examples_per_label, random_state=None):\n",
    "    \"\"\"\n",
    "    Returns a stratified subset of the dataframe with a fixed number of examples for each label.\n",
    "\n",
    "    Args:\n",
    "        df (pd.DataFrame): The input dataframe.\n",
    "        label_column (str): The name of the column containing the labels.\n",
    "        num_examples_per_label (int): The fixed number of examples to sample for each label.\n",
    "        random_state (int, optional): Random seed for reproducibility.\n",
    "\n",
    "    Returns:\n",
    "        pd.DataFrame: A stratified subset of the dataframe.\n",
    "    \"\"\"\n",
    "    if random_state is not None:\n",
    "        np.random.seed(random_state)\n",
    "\n",
    "    stratified_subset = []\n",
    "\n",
    "    for label in df[label_column].unique():\n",
    "        label_group = df[df[label_column] == label]\n",
    "        if len(label_group) < num_examples_per_label:\n",
    "            raise ValueError(f\"Not enough examples for label '{label}'. Requested {num_examples_per_label}, but only {len(label_group)} available.\")\n",
    "        \n",
    "        sampled_group = label_group.sample(n=num_examples_per_label, random_state=random_state)\n",
    "        stratified_subset.append(sampled_group)\n",
    "\n",
    "    return pd.concat(stratified_subset).reset_index(drop=True)\n",
    "def concatenate_dataframes(dfs):\n",
    "    \"\"\"\n",
    "    Concatenates a list of DataFrames based on the 'filename' column as the ID.\n",
    "    Drops the 'Prediction' column from each DataFrame and returns all column names except 'filename'.\n",
    "\n",
    "    Parameters:\n",
    "        dfs (list): List of pandas DataFrames to concatenate. Each must have a 'filename' column.\n",
    "\n",
    "    Returns:\n",
    "        pd.DataFrame: A single DataFrame with merged data.\n",
    "        list: List of all column names excluding 'filename'.\n",
    "    \"\"\"\n",
    "    if not dfs:\n",
    "        raise ValueError(\"The list of DataFrames is empty.\")\n",
    "\n",
    "    for df in dfs:\n",
    "        if 'Filename' not in df.columns:\n",
    "            raise ValueError(\"Each DataFrame must contain a 'filename' column.\")\n",
    "\n",
    "    # Drop 'Prediction' column from each DataFrame if it exists\n",
    "    dfs = [df.drop(columns=['Prediction'], errors='ignore') for df in dfs]\n",
    "\n",
    "    # Start with the first DataFrame\n",
    "    result = dfs[0].copy()\n",
    "    \n",
    "    for idx, df in enumerate(dfs[1:], start=1):\n",
    "        # Rename columns to add a suffix except for 'filename'\n",
    "        renamed_df = df.rename(columns={col: f\"{col}_exp{idx}\" for col in df.columns if col != 'Filename'})\n",
    "        \n",
    "        # Merge with the existing result\n",
    "        result = pd.merge(result, renamed_df, on='Filename', how='outer')\n",
    "\n",
    "    # Get all column names except 'filename'\n",
    "    column_names = [col for col in result.columns if col != 'Filename']\n",
    "\n",
    "    return result, column_names"
   ]
  },
  {
   "cell_type": "code",
   "execution_count": 229,
   "id": "d30bdb9f-8704-4a6b-b074-05afbe73dfc8",
   "metadata": {},
   "outputs": [],
   "source": [
    "import pandas as pd\n",
    "import numpy as np"
   ]
  },
  {
   "cell_type": "code",
   "execution_count": 230,
   "id": "5fc017e4-c8fe-4ec6-b607-57e197608526",
   "metadata": {},
   "outputs": [],
   "source": [
    "experiments_list = [\n",
    "    'multimodalmodel_w2v2xls2b_robertalarge_lazyload_lr1e4_head1',\n",
    "    'multimodalmodel_hubertxlarge_robertalarge_lazyload_lr1e4_head1',\n",
    "    'multimodalmodel_whisperlarge_robertalarge_lazyload_lr1e4_1head',\n",
    "    'multimodalmodel_wavlmlarge_robertalarge_lazyload_lr1e4_head1',\n",
    "    'multimodalmodel_w2v2robust_robertalarge_lazyload_lr1e4_head1',\n",
    "    \"multimodalmodel_whisperlarge_debertaxxlarge_lazyload_lr1e5_lasthidden_head1\",\n",
    "    \"multimodalmodel_whisperlarge_hubertxlarge_lazyload_lr1e4_head1\"\n",
    "]\n",
    "\n",
    "dfs = []\n",
    "dfs_val = []\n",
    "for exp in experiments_list:\n",
    "    dfs.append(pd.read_csv(f'../experiments/{exp}/results/train.csv'))\n",
    "    dfs_val.append(pd.read_csv(f'../experiments/{exp}/results/dev.csv'))\n",
    "# preds.head()"
   ]
  },
  {
   "cell_type": "code",
   "execution_count": 231,
   "id": "04969df8-f7c0-4330-92a1-20b0f669458c",
   "metadata": {},
   "outputs": [],
   "source": [
    "preds, cols = concatenate_dataframes(dfs)\n",
    "preds_val, _ = concatenate_dataframes(dfs_val)"
   ]
  },
  {
   "cell_type": "code",
   "execution_count": 232,
   "id": "c6771be3-748e-49e4-9840-2d3f4e2b9861",
   "metadata": {},
   "outputs": [
    {
     "data": {
      "text/html": [
       "<div>\n",
       "<style scoped>\n",
       "    .dataframe tbody tr th:only-of-type {\n",
       "        vertical-align: middle;\n",
       "    }\n",
       "\n",
       "    .dataframe tbody tr th {\n",
       "        vertical-align: top;\n",
       "    }\n",
       "\n",
       "    .dataframe thead th {\n",
       "        text-align: right;\n",
       "    }\n",
       "</style>\n",
       "<table border=\"1\" class=\"dataframe\">\n",
       "  <thead>\n",
       "    <tr style=\"text-align: right;\">\n",
       "      <th></th>\n",
       "      <th>Filename</th>\n",
       "      <th>class_0_prob</th>\n",
       "      <th>class_1_prob</th>\n",
       "      <th>class_2_prob</th>\n",
       "      <th>class_3_prob</th>\n",
       "      <th>class_4_prob</th>\n",
       "      <th>class_5_prob</th>\n",
       "      <th>class_6_prob</th>\n",
       "      <th>class_7_prob</th>\n",
       "      <th>class_0_prob_exp1</th>\n",
       "      <th>...</th>\n",
       "      <th>class_6_prob_exp5</th>\n",
       "      <th>class_7_prob_exp5</th>\n",
       "      <th>class_0_prob_exp6</th>\n",
       "      <th>class_1_prob_exp6</th>\n",
       "      <th>class_2_prob_exp6</th>\n",
       "      <th>class_3_prob_exp6</th>\n",
       "      <th>class_4_prob_exp6</th>\n",
       "      <th>class_5_prob_exp6</th>\n",
       "      <th>class_6_prob_exp6</th>\n",
       "      <th>class_7_prob_exp6</th>\n",
       "    </tr>\n",
       "  </thead>\n",
       "  <tbody>\n",
       "    <tr>\n",
       "      <th>0</th>\n",
       "      <td>MSP-PODCAST_0005_0110.wav</td>\n",
       "      <td>0.0467</td>\n",
       "      <td>-1.3908</td>\n",
       "      <td>-1.9270</td>\n",
       "      <td>-0.1232</td>\n",
       "      <td>-0.4376</td>\n",
       "      <td>1.3934</td>\n",
       "      <td>2.4141</td>\n",
       "      <td>-0.0260</td>\n",
       "      <td>0.6495</td>\n",
       "      <td>...</td>\n",
       "      <td>1.6446</td>\n",
       "      <td>0.7143</td>\n",
       "      <td>-0.6459</td>\n",
       "      <td>-1.3394</td>\n",
       "      <td>-0.4664</td>\n",
       "      <td>-0.3118</td>\n",
       "      <td>-0.9763</td>\n",
       "      <td>0.0663</td>\n",
       "      <td>1.4804</td>\n",
       "      <td>1.0746</td>\n",
       "    </tr>\n",
       "    <tr>\n",
       "      <th>1</th>\n",
       "      <td>MSP-PODCAST_0023_0064.wav</td>\n",
       "      <td>-1.8494</td>\n",
       "      <td>-0.4594</td>\n",
       "      <td>-0.1003</td>\n",
       "      <td>-0.5324</td>\n",
       "      <td>-0.8848</td>\n",
       "      <td>0.0798</td>\n",
       "      <td>2.1872</td>\n",
       "      <td>0.9556</td>\n",
       "      <td>-1.1495</td>\n",
       "      <td>...</td>\n",
       "      <td>0.4978</td>\n",
       "      <td>-0.1781</td>\n",
       "      <td>0.3437</td>\n",
       "      <td>0.5059</td>\n",
       "      <td>-1.4051</td>\n",
       "      <td>1.2146</td>\n",
       "      <td>-1.3883</td>\n",
       "      <td>-1.5404</td>\n",
       "      <td>0.8110</td>\n",
       "      <td>0.1797</td>\n",
       "    </tr>\n",
       "    <tr>\n",
       "      <th>2</th>\n",
       "      <td>MSP-PODCAST_0023_0179.wav</td>\n",
       "      <td>-0.5292</td>\n",
       "      <td>-0.5492</td>\n",
       "      <td>-0.5473</td>\n",
       "      <td>-0.7944</td>\n",
       "      <td>0.3030</td>\n",
       "      <td>-0.3077</td>\n",
       "      <td>1.2879</td>\n",
       "      <td>0.8922</td>\n",
       "      <td>-0.5645</td>\n",
       "      <td>...</td>\n",
       "      <td>2.0153</td>\n",
       "      <td>0.5828</td>\n",
       "      <td>-0.0208</td>\n",
       "      <td>-2.7570</td>\n",
       "      <td>0.1882</td>\n",
       "      <td>-0.4182</td>\n",
       "      <td>0.2964</td>\n",
       "      <td>-1.5373</td>\n",
       "      <td>1.5591</td>\n",
       "      <td>0.7393</td>\n",
       "    </tr>\n",
       "    <tr>\n",
       "      <th>3</th>\n",
       "      <td>MSP-PODCAST_0023_0320.wav</td>\n",
       "      <td>-0.3186</td>\n",
       "      <td>0.0905</td>\n",
       "      <td>-1.6711</td>\n",
       "      <td>0.1705</td>\n",
       "      <td>-2.4125</td>\n",
       "      <td>1.4789</td>\n",
       "      <td>1.8924</td>\n",
       "      <td>0.4987</td>\n",
       "      <td>-0.3674</td>\n",
       "      <td>...</td>\n",
       "      <td>1.0756</td>\n",
       "      <td>0.7353</td>\n",
       "      <td>-0.6430</td>\n",
       "      <td>-0.0076</td>\n",
       "      <td>-0.5034</td>\n",
       "      <td>-1.0032</td>\n",
       "      <td>0.4406</td>\n",
       "      <td>-0.8267</td>\n",
       "      <td>0.6628</td>\n",
       "      <td>0.9406</td>\n",
       "    </tr>\n",
       "    <tr>\n",
       "      <th>4</th>\n",
       "      <td>MSP-PODCAST_0023_0386.wav</td>\n",
       "      <td>-0.7226</td>\n",
       "      <td>-0.3260</td>\n",
       "      <td>-0.9338</td>\n",
       "      <td>0.4871</td>\n",
       "      <td>0.0017</td>\n",
       "      <td>0.4451</td>\n",
       "      <td>1.3037</td>\n",
       "      <td>0.3800</td>\n",
       "      <td>0.1489</td>\n",
       "      <td>...</td>\n",
       "      <td>0.9996</td>\n",
       "      <td>0.0355</td>\n",
       "      <td>0.1944</td>\n",
       "      <td>-1.1090</td>\n",
       "      <td>-0.1334</td>\n",
       "      <td>-0.0090</td>\n",
       "      <td>-0.0235</td>\n",
       "      <td>-1.4754</td>\n",
       "      <td>0.5965</td>\n",
       "      <td>0.1148</td>\n",
       "    </tr>\n",
       "  </tbody>\n",
       "</table>\n",
       "<p>5 rows × 57 columns</p>\n",
       "</div>"
      ],
      "text/plain": [
       "                    Filename  class_0_prob  class_1_prob  class_2_prob  \\\n",
       "0  MSP-PODCAST_0005_0110.wav        0.0467       -1.3908       -1.9270   \n",
       "1  MSP-PODCAST_0023_0064.wav       -1.8494       -0.4594       -0.1003   \n",
       "2  MSP-PODCAST_0023_0179.wav       -0.5292       -0.5492       -0.5473   \n",
       "3  MSP-PODCAST_0023_0320.wav       -0.3186        0.0905       -1.6711   \n",
       "4  MSP-PODCAST_0023_0386.wav       -0.7226       -0.3260       -0.9338   \n",
       "\n",
       "   class_3_prob  class_4_prob  class_5_prob  class_6_prob  class_7_prob  \\\n",
       "0       -0.1232       -0.4376        1.3934        2.4141       -0.0260   \n",
       "1       -0.5324       -0.8848        0.0798        2.1872        0.9556   \n",
       "2       -0.7944        0.3030       -0.3077        1.2879        0.8922   \n",
       "3        0.1705       -2.4125        1.4789        1.8924        0.4987   \n",
       "4        0.4871        0.0017        0.4451        1.3037        0.3800   \n",
       "\n",
       "   class_0_prob_exp1  ...  class_6_prob_exp5  class_7_prob_exp5  \\\n",
       "0             0.6495  ...             1.6446             0.7143   \n",
       "1            -1.1495  ...             0.4978            -0.1781   \n",
       "2            -0.5645  ...             2.0153             0.5828   \n",
       "3            -0.3674  ...             1.0756             0.7353   \n",
       "4             0.1489  ...             0.9996             0.0355   \n",
       "\n",
       "   class_0_prob_exp6  class_1_prob_exp6  class_2_prob_exp6  class_3_prob_exp6  \\\n",
       "0            -0.6459            -1.3394            -0.4664            -0.3118   \n",
       "1             0.3437             0.5059            -1.4051             1.2146   \n",
       "2            -0.0208            -2.7570             0.1882            -0.4182   \n",
       "3            -0.6430            -0.0076            -0.5034            -1.0032   \n",
       "4             0.1944            -1.1090            -0.1334            -0.0090   \n",
       "\n",
       "   class_4_prob_exp6  class_5_prob_exp6  class_6_prob_exp6  class_7_prob_exp6  \n",
       "0            -0.9763             0.0663             1.4804             1.0746  \n",
       "1            -1.3883            -1.5404             0.8110             0.1797  \n",
       "2             0.2964            -1.5373             1.5591             0.7393  \n",
       "3             0.4406            -0.8267             0.6628             0.9406  \n",
       "4            -0.0235            -1.4754             0.5965             0.1148  \n",
       "\n",
       "[5 rows x 57 columns]"
      ]
     },
     "execution_count": 232,
     "metadata": {},
     "output_type": "execute_result"
    }
   ],
   "source": [
    "preds.head()"
   ]
  },
  {
   "cell_type": "code",
   "execution_count": 233,
   "id": "c5acec0e-6aaf-4a34-93ad-1f12adbaaf54",
   "metadata": {},
   "outputs": [],
   "source": [
    "classes_ = ['A', 'S', 'H', 'U', 'F', 'D', 'C', 'N']\n",
    "\n",
    "map_idx = dict()\n",
    "for i, c in enumerate(classes_):\n",
    "    map_idx[c] = i\n",
    "\n",
    "map_argmax = dict()\n",
    "for i, c in enumerate(classes_):\n",
    "    map_argmax[i] = c"
   ]
  },
  {
   "cell_type": "code",
   "execution_count": 234,
   "id": "9ca46356-04ea-491c-8aaa-687a04b9585f",
   "metadata": {},
   "outputs": [
    {
     "data": {
      "text/html": [
       "<div>\n",
       "<style scoped>\n",
       "    .dataframe tbody tr th:only-of-type {\n",
       "        vertical-align: middle;\n",
       "    }\n",
       "\n",
       "    .dataframe tbody tr th {\n",
       "        vertical-align: top;\n",
       "    }\n",
       "\n",
       "    .dataframe thead th {\n",
       "        text-align: right;\n",
       "    }\n",
       "</style>\n",
       "<table border=\"1\" class=\"dataframe\">\n",
       "  <thead>\n",
       "    <tr style=\"text-align: right;\">\n",
       "      <th></th>\n",
       "      <th>FileName</th>\n",
       "      <th>EmoClass</th>\n",
       "      <th>EmoAct</th>\n",
       "      <th>EmoVal</th>\n",
       "      <th>EmoDom</th>\n",
       "      <th>SpkrID</th>\n",
       "      <th>Gender</th>\n",
       "      <th>Split_Set</th>\n",
       "    </tr>\n",
       "  </thead>\n",
       "  <tbody>\n",
       "    <tr>\n",
       "      <th>0</th>\n",
       "      <td>MSP-PODCAST_0002_0033.wav</td>\n",
       "      <td>N</td>\n",
       "      <td>4.8</td>\n",
       "      <td>4.2</td>\n",
       "      <td>5.4</td>\n",
       "      <td>127</td>\n",
       "      <td>Female</td>\n",
       "      <td>Development</td>\n",
       "    </tr>\n",
       "    <tr>\n",
       "      <th>1</th>\n",
       "      <td>MSP-PODCAST_0002_0039.wav</td>\n",
       "      <td>N</td>\n",
       "      <td>4.0</td>\n",
       "      <td>4.2</td>\n",
       "      <td>4.2</td>\n",
       "      <td>127</td>\n",
       "      <td>Female</td>\n",
       "      <td>Development</td>\n",
       "    </tr>\n",
       "    <tr>\n",
       "      <th>2</th>\n",
       "      <td>MSP-PODCAST_0002_0051.wav</td>\n",
       "      <td>N</td>\n",
       "      <td>4.0</td>\n",
       "      <td>4.2</td>\n",
       "      <td>4.2</td>\n",
       "      <td>127</td>\n",
       "      <td>Female</td>\n",
       "      <td>Development</td>\n",
       "    </tr>\n",
       "    <tr>\n",
       "      <th>3</th>\n",
       "      <td>MSP-PODCAST_0002_0059.wav</td>\n",
       "      <td>X</td>\n",
       "      <td>4.0</td>\n",
       "      <td>3.8</td>\n",
       "      <td>4.0</td>\n",
       "      <td>128</td>\n",
       "      <td>Female</td>\n",
       "      <td>Development</td>\n",
       "    </tr>\n",
       "    <tr>\n",
       "      <th>4</th>\n",
       "      <td>MSP-PODCAST_0002_0061.wav</td>\n",
       "      <td>F</td>\n",
       "      <td>3.4</td>\n",
       "      <td>2.8</td>\n",
       "      <td>4.2</td>\n",
       "      <td>128</td>\n",
       "      <td>Female</td>\n",
       "      <td>Development</td>\n",
       "    </tr>\n",
       "  </tbody>\n",
       "</table>\n",
       "</div>"
      ],
      "text/plain": [
       "                    FileName EmoClass  EmoAct  EmoVal  EmoDom  SpkrID  Gender  \\\n",
       "0  MSP-PODCAST_0002_0033.wav        N     4.8     4.2     5.4     127  Female   \n",
       "1  MSP-PODCAST_0002_0039.wav        N     4.0     4.2     4.2     127  Female   \n",
       "2  MSP-PODCAST_0002_0051.wav        N     4.0     4.2     4.2     127  Female   \n",
       "3  MSP-PODCAST_0002_0059.wav        X     4.0     3.8     4.0     128  Female   \n",
       "4  MSP-PODCAST_0002_0061.wav        F     3.4     2.8     4.2     128  Female   \n",
       "\n",
       "     Split_Set  \n",
       "0  Development  \n",
       "1  Development  \n",
       "2  Development  \n",
       "3  Development  \n",
       "4  Development  "
      ]
     },
     "execution_count": 234,
     "metadata": {},
     "output_type": "execute_result"
    }
   ],
   "source": [
    "df = pd.read_csv('/workspace/lucas.ueda/interspeech_ser/data/Labels/labels_consensus.csv')\n",
    "df.head()"
   ]
  },
  {
   "cell_type": "code",
   "execution_count": 235,
   "id": "be037647-fa89-49d1-9a74-d08e28ec3c33",
   "metadata": {},
   "outputs": [],
   "source": [
    "# Just saving the auxiliardataset"
   ]
  },
  {
   "cell_type": "code",
   "execution_count": null,
   "id": "ed1421bd-07f7-4b28-b7e6-bba4fc947ac4",
   "metadata": {},
   "outputs": [],
   "source": []
  },
  {
   "cell_type": "code",
   "execution_count": 236,
   "id": "c3efa84c-a42c-4b16-adb9-6c0af843a12e",
   "metadata": {},
   "outputs": [],
   "source": [
    "preds['FileName'] = preds['Filename']\n",
    "preds = preds.merge(df[['FileName','EmoClass','Gender','SpkrID']], how='left', on = 'FileName')\n",
    "\n",
    "preds_val['FileName'] = preds_val['Filename']\n",
    "preds_val = preds_val.merge(df[['FileName','EmoClass','Gender','SpkrID']], how='left', on = 'FileName')"
   ]
  },
  {
   "cell_type": "code",
   "execution_count": 237,
   "id": "0fbaa4bd-7393-44ea-a465-e088fc022055",
   "metadata": {},
   "outputs": [],
   "source": [
    "preds['target'] = preds['EmoClass'].map(map_idx)\n",
    "preds_val['target'] = preds_val['EmoClass'].map(map_idx)"
   ]
  },
  {
   "cell_type": "code",
   "execution_count": 238,
   "id": "22a3faa7-164e-4b1d-86e3-e6d9e058e3c5",
   "metadata": {},
   "outputs": [
    {
     "data": {
      "text/html": [
       "<div>\n",
       "<style scoped>\n",
       "    .dataframe tbody tr th:only-of-type {\n",
       "        vertical-align: middle;\n",
       "    }\n",
       "\n",
       "    .dataframe tbody tr th {\n",
       "        vertical-align: top;\n",
       "    }\n",
       "\n",
       "    .dataframe thead th {\n",
       "        text-align: right;\n",
       "    }\n",
       "</style>\n",
       "<table border=\"1\" class=\"dataframe\">\n",
       "  <thead>\n",
       "    <tr style=\"text-align: right;\">\n",
       "      <th></th>\n",
       "      <th>Filename</th>\n",
       "      <th>class_0_prob</th>\n",
       "      <th>class_1_prob</th>\n",
       "      <th>class_2_prob</th>\n",
       "      <th>class_3_prob</th>\n",
       "      <th>class_4_prob</th>\n",
       "      <th>class_5_prob</th>\n",
       "      <th>class_6_prob</th>\n",
       "      <th>class_7_prob</th>\n",
       "      <th>class_0_prob_exp1</th>\n",
       "      <th>...</th>\n",
       "      <th>class_3_prob_exp6</th>\n",
       "      <th>class_4_prob_exp6</th>\n",
       "      <th>class_5_prob_exp6</th>\n",
       "      <th>class_6_prob_exp6</th>\n",
       "      <th>class_7_prob_exp6</th>\n",
       "      <th>FileName</th>\n",
       "      <th>EmoClass</th>\n",
       "      <th>Gender</th>\n",
       "      <th>SpkrID</th>\n",
       "      <th>target</th>\n",
       "    </tr>\n",
       "  </thead>\n",
       "  <tbody>\n",
       "    <tr>\n",
       "      <th>0</th>\n",
       "      <td>MSP-PODCAST_0005_0110.wav</td>\n",
       "      <td>0.0467</td>\n",
       "      <td>-1.3908</td>\n",
       "      <td>-1.9270</td>\n",
       "      <td>-0.1232</td>\n",
       "      <td>-0.4376</td>\n",
       "      <td>1.3934</td>\n",
       "      <td>2.4141</td>\n",
       "      <td>-0.0260</td>\n",
       "      <td>0.6495</td>\n",
       "      <td>...</td>\n",
       "      <td>-0.3118</td>\n",
       "      <td>-0.9763</td>\n",
       "      <td>0.0663</td>\n",
       "      <td>1.4804</td>\n",
       "      <td>1.0746</td>\n",
       "      <td>MSP-PODCAST_0005_0110.wav</td>\n",
       "      <td>H</td>\n",
       "      <td>Male</td>\n",
       "      <td>85</td>\n",
       "      <td>2</td>\n",
       "    </tr>\n",
       "    <tr>\n",
       "      <th>1</th>\n",
       "      <td>MSP-PODCAST_0023_0064.wav</td>\n",
       "      <td>-1.8494</td>\n",
       "      <td>-0.4594</td>\n",
       "      <td>-0.1003</td>\n",
       "      <td>-0.5324</td>\n",
       "      <td>-0.8848</td>\n",
       "      <td>0.0798</td>\n",
       "      <td>2.1872</td>\n",
       "      <td>0.9556</td>\n",
       "      <td>-1.1495</td>\n",
       "      <td>...</td>\n",
       "      <td>1.2146</td>\n",
       "      <td>-1.3883</td>\n",
       "      <td>-1.5404</td>\n",
       "      <td>0.8110</td>\n",
       "      <td>0.1797</td>\n",
       "      <td>MSP-PODCAST_0023_0064.wav</td>\n",
       "      <td>H</td>\n",
       "      <td>Male</td>\n",
       "      <td>1</td>\n",
       "      <td>2</td>\n",
       "    </tr>\n",
       "    <tr>\n",
       "      <th>2</th>\n",
       "      <td>MSP-PODCAST_0023_0179.wav</td>\n",
       "      <td>-0.5292</td>\n",
       "      <td>-0.5492</td>\n",
       "      <td>-0.5473</td>\n",
       "      <td>-0.7944</td>\n",
       "      <td>0.3030</td>\n",
       "      <td>-0.3077</td>\n",
       "      <td>1.2879</td>\n",
       "      <td>0.8922</td>\n",
       "      <td>-0.5645</td>\n",
       "      <td>...</td>\n",
       "      <td>-0.4182</td>\n",
       "      <td>0.2964</td>\n",
       "      <td>-1.5373</td>\n",
       "      <td>1.5591</td>\n",
       "      <td>0.7393</td>\n",
       "      <td>MSP-PODCAST_0023_0179.wav</td>\n",
       "      <td>F</td>\n",
       "      <td>Male</td>\n",
       "      <td>1</td>\n",
       "      <td>4</td>\n",
       "    </tr>\n",
       "    <tr>\n",
       "      <th>3</th>\n",
       "      <td>MSP-PODCAST_0023_0320.wav</td>\n",
       "      <td>-0.3186</td>\n",
       "      <td>0.0905</td>\n",
       "      <td>-1.6711</td>\n",
       "      <td>0.1705</td>\n",
       "      <td>-2.4125</td>\n",
       "      <td>1.4789</td>\n",
       "      <td>1.8924</td>\n",
       "      <td>0.4987</td>\n",
       "      <td>-0.3674</td>\n",
       "      <td>...</td>\n",
       "      <td>-1.0032</td>\n",
       "      <td>0.4406</td>\n",
       "      <td>-0.8267</td>\n",
       "      <td>0.6628</td>\n",
       "      <td>0.9406</td>\n",
       "      <td>MSP-PODCAST_0023_0320.wav</td>\n",
       "      <td>A</td>\n",
       "      <td>Male</td>\n",
       "      <td>1</td>\n",
       "      <td>0</td>\n",
       "    </tr>\n",
       "    <tr>\n",
       "      <th>4</th>\n",
       "      <td>MSP-PODCAST_0023_0386.wav</td>\n",
       "      <td>-0.7226</td>\n",
       "      <td>-0.3260</td>\n",
       "      <td>-0.9338</td>\n",
       "      <td>0.4871</td>\n",
       "      <td>0.0017</td>\n",
       "      <td>0.4451</td>\n",
       "      <td>1.3037</td>\n",
       "      <td>0.3800</td>\n",
       "      <td>0.1489</td>\n",
       "      <td>...</td>\n",
       "      <td>-0.0090</td>\n",
       "      <td>-0.0235</td>\n",
       "      <td>-1.4754</td>\n",
       "      <td>0.5965</td>\n",
       "      <td>0.1148</td>\n",
       "      <td>MSP-PODCAST_0023_0386.wav</td>\n",
       "      <td>F</td>\n",
       "      <td>Male</td>\n",
       "      <td>163</td>\n",
       "      <td>4</td>\n",
       "    </tr>\n",
       "  </tbody>\n",
       "</table>\n",
       "<p>5 rows × 62 columns</p>\n",
       "</div>"
      ],
      "text/plain": [
       "                    Filename  class_0_prob  class_1_prob  class_2_prob  \\\n",
       "0  MSP-PODCAST_0005_0110.wav        0.0467       -1.3908       -1.9270   \n",
       "1  MSP-PODCAST_0023_0064.wav       -1.8494       -0.4594       -0.1003   \n",
       "2  MSP-PODCAST_0023_0179.wav       -0.5292       -0.5492       -0.5473   \n",
       "3  MSP-PODCAST_0023_0320.wav       -0.3186        0.0905       -1.6711   \n",
       "4  MSP-PODCAST_0023_0386.wav       -0.7226       -0.3260       -0.9338   \n",
       "\n",
       "   class_3_prob  class_4_prob  class_5_prob  class_6_prob  class_7_prob  \\\n",
       "0       -0.1232       -0.4376        1.3934        2.4141       -0.0260   \n",
       "1       -0.5324       -0.8848        0.0798        2.1872        0.9556   \n",
       "2       -0.7944        0.3030       -0.3077        1.2879        0.8922   \n",
       "3        0.1705       -2.4125        1.4789        1.8924        0.4987   \n",
       "4        0.4871        0.0017        0.4451        1.3037        0.3800   \n",
       "\n",
       "   class_0_prob_exp1  ...  class_3_prob_exp6  class_4_prob_exp6  \\\n",
       "0             0.6495  ...            -0.3118            -0.9763   \n",
       "1            -1.1495  ...             1.2146            -1.3883   \n",
       "2            -0.5645  ...            -0.4182             0.2964   \n",
       "3            -0.3674  ...            -1.0032             0.4406   \n",
       "4             0.1489  ...            -0.0090            -0.0235   \n",
       "\n",
       "   class_5_prob_exp6  class_6_prob_exp6  class_7_prob_exp6  \\\n",
       "0             0.0663             1.4804             1.0746   \n",
       "1            -1.5404             0.8110             0.1797   \n",
       "2            -1.5373             1.5591             0.7393   \n",
       "3            -0.8267             0.6628             0.9406   \n",
       "4            -1.4754             0.5965             0.1148   \n",
       "\n",
       "                    FileName  EmoClass  Gender  SpkrID  target  \n",
       "0  MSP-PODCAST_0005_0110.wav         H    Male      85       2  \n",
       "1  MSP-PODCAST_0023_0064.wav         H    Male       1       2  \n",
       "2  MSP-PODCAST_0023_0179.wav         F    Male       1       4  \n",
       "3  MSP-PODCAST_0023_0320.wav         A    Male       1       0  \n",
       "4  MSP-PODCAST_0023_0386.wav         F    Male     163       4  \n",
       "\n",
       "[5 rows x 62 columns]"
      ]
     },
     "execution_count": 238,
     "metadata": {},
     "output_type": "execute_result"
    }
   ],
   "source": [
    "preds.head()"
   ]
  },
  {
   "cell_type": "code",
   "execution_count": 239,
   "id": "1f88027d-0517-4018-8225-419b98548b88",
   "metadata": {},
   "outputs": [],
   "source": [
    "from sklearn.metrics import confusion_matrix, ConfusionMatrixDisplay, accuracy_score, f1_score\n",
    "from sklearn.linear_model import LogisticRegression\n",
    "from sklearn.ensemble import RandomForestClassifier\n",
    "from sklearn.svm import SVC\n",
    "from sklearn.model_selection import train_test_split"
   ]
  },
  {
   "cell_type": "code",
   "execution_count": 240,
   "id": "d5081c84-442c-4670-81c0-fe362fd14229",
   "metadata": {},
   "outputs": [],
   "source": [
    "preds_estrat = get_stratified_subset(preds, 'EmoClass', 300, random_state=42)"
   ]
  },
  {
   "cell_type": "code",
   "execution_count": 241,
   "id": "a9536b29-675b-4728-a673-855cd15ee27d",
   "metadata": {},
   "outputs": [],
   "source": [
    "# preds_estrat"
   ]
  },
  {
   "cell_type": "code",
   "execution_count": 242,
   "id": "bc643259-a071-4aa0-98d2-3c8da69e7c1b",
   "metadata": {},
   "outputs": [],
   "source": [
    "# # Just saving the auxiliardataset\n",
    "# filenames = preds_estrat.FileName\n",
    "\n",
    "# tmp = pd.read_csv(\"../benchmark/processed_labels.csv\")"
   ]
  },
  {
   "cell_type": "code",
   "execution_count": 243,
   "id": "6f5687a3-c5f8-4303-bcd4-85ded86698db",
   "metadata": {},
   "outputs": [],
   "source": [
    "# tmp = tmp[tmp['FileName'].isin(filenames)].reset_index(drop=True)\n",
    "# tmp.shape"
   ]
  },
  {
   "cell_type": "code",
   "execution_count": 244,
   "id": "494c39f6-fda6-4971-bbab-b4516cb19edf",
   "metadata": {},
   "outputs": [],
   "source": [
    "# tmp.to_csv(\"train_stacking_sample.csv\")"
   ]
  },
  {
   "cell_type": "code",
   "execution_count": 245,
   "id": "de234c72-21d1-42c3-a592-e2c84577cc5b",
   "metadata": {},
   "outputs": [],
   "source": [
    "# tmp.head()"
   ]
  },
  {
   "cell_type": "code",
   "execution_count": 246,
   "id": "d8885b6a-bf31-456f-b403-27de40b97abc",
   "metadata": {},
   "outputs": [
    {
     "data": {
      "text/plain": [
       "EmoClass\n",
       "H    300\n",
       "F    300\n",
       "A    300\n",
       "C    300\n",
       "N    300\n",
       "D    300\n",
       "S    300\n",
       "U    300\n",
       "Name: count, dtype: int64"
      ]
     },
     "execution_count": 246,
     "metadata": {},
     "output_type": "execute_result"
    }
   ],
   "source": [
    "preds_estrat.EmoClass.value_counts()"
   ]
  },
  {
   "cell_type": "code",
   "execution_count": 247,
   "id": "051d579b-31e0-4f65-ae0a-0d76235bade2",
   "metadata": {},
   "outputs": [
    {
     "data": {
      "text/plain": [
       "Gender\n",
       "Male      1375\n",
       "Female    1025\n",
       "Name: count, dtype: int64"
      ]
     },
     "execution_count": 247,
     "metadata": {},
     "output_type": "execute_result"
    }
   ],
   "source": [
    "preds_estrat.Gender.value_counts()"
   ]
  },
  {
   "cell_type": "code",
   "execution_count": 299,
   "id": "984faaa1-2337-4f6b-9d21-4f8f651c97ae",
   "metadata": {},
   "outputs": [
    {
     "data": {
      "text/html": [
       "<style>#sk-container-id-12 {color: black;}#sk-container-id-12 pre{padding: 0;}#sk-container-id-12 div.sk-toggleable {background-color: white;}#sk-container-id-12 label.sk-toggleable__label {cursor: pointer;display: block;width: 100%;margin-bottom: 0;padding: 0.3em;box-sizing: border-box;text-align: center;}#sk-container-id-12 label.sk-toggleable__label-arrow:before {content: \"▸\";float: left;margin-right: 0.25em;color: #696969;}#sk-container-id-12 label.sk-toggleable__label-arrow:hover:before {color: black;}#sk-container-id-12 div.sk-estimator:hover label.sk-toggleable__label-arrow:before {color: black;}#sk-container-id-12 div.sk-toggleable__content {max-height: 0;max-width: 0;overflow: hidden;text-align: left;background-color: #f0f8ff;}#sk-container-id-12 div.sk-toggleable__content pre {margin: 0.2em;color: black;border-radius: 0.25em;background-color: #f0f8ff;}#sk-container-id-12 input.sk-toggleable__control:checked~div.sk-toggleable__content {max-height: 200px;max-width: 100%;overflow: auto;}#sk-container-id-12 input.sk-toggleable__control:checked~label.sk-toggleable__label-arrow:before {content: \"▾\";}#sk-container-id-12 div.sk-estimator input.sk-toggleable__control:checked~label.sk-toggleable__label {background-color: #d4ebff;}#sk-container-id-12 div.sk-label input.sk-toggleable__control:checked~label.sk-toggleable__label {background-color: #d4ebff;}#sk-container-id-12 input.sk-hidden--visually {border: 0;clip: rect(1px 1px 1px 1px);clip: rect(1px, 1px, 1px, 1px);height: 1px;margin: -1px;overflow: hidden;padding: 0;position: absolute;width: 1px;}#sk-container-id-12 div.sk-estimator {font-family: monospace;background-color: #f0f8ff;border: 1px dotted black;border-radius: 0.25em;box-sizing: border-box;margin-bottom: 0.5em;}#sk-container-id-12 div.sk-estimator:hover {background-color: #d4ebff;}#sk-container-id-12 div.sk-parallel-item::after {content: \"\";width: 100%;border-bottom: 1px solid gray;flex-grow: 1;}#sk-container-id-12 div.sk-label:hover label.sk-toggleable__label {background-color: #d4ebff;}#sk-container-id-12 div.sk-serial::before {content: \"\";position: absolute;border-left: 1px solid gray;box-sizing: border-box;top: 0;bottom: 0;left: 50%;z-index: 0;}#sk-container-id-12 div.sk-serial {display: flex;flex-direction: column;align-items: center;background-color: white;padding-right: 0.2em;padding-left: 0.2em;position: relative;}#sk-container-id-12 div.sk-item {position: relative;z-index: 1;}#sk-container-id-12 div.sk-parallel {display: flex;align-items: stretch;justify-content: center;background-color: white;position: relative;}#sk-container-id-12 div.sk-item::before, #sk-container-id-12 div.sk-parallel-item::before {content: \"\";position: absolute;border-left: 1px solid gray;box-sizing: border-box;top: 0;bottom: 0;left: 50%;z-index: -1;}#sk-container-id-12 div.sk-parallel-item {display: flex;flex-direction: column;z-index: 1;position: relative;background-color: white;}#sk-container-id-12 div.sk-parallel-item:first-child::after {align-self: flex-end;width: 50%;}#sk-container-id-12 div.sk-parallel-item:last-child::after {align-self: flex-start;width: 50%;}#sk-container-id-12 div.sk-parallel-item:only-child::after {width: 0;}#sk-container-id-12 div.sk-dashed-wrapped {border: 1px dashed gray;margin: 0 0.4em 0.5em 0.4em;box-sizing: border-box;padding-bottom: 0.4em;background-color: white;}#sk-container-id-12 div.sk-label label {font-family: monospace;font-weight: bold;display: inline-block;line-height: 1.2em;}#sk-container-id-12 div.sk-label-container {text-align: center;}#sk-container-id-12 div.sk-container {/* jupyter's `normalize.less` sets `[hidden] { display: none; }` but bootstrap.min.css set `[hidden] { display: none !important; }` so we also need the `!important` here to be able to override the default hidden behavior on the sphinx rendered scikit-learn.org. See: https://github.com/scikit-learn/scikit-learn/issues/21755 */display: inline-block !important;position: relative;}#sk-container-id-12 div.sk-text-repr-fallback {display: none;}</style><div id=\"sk-container-id-12\" class=\"sk-top-container\"><div class=\"sk-text-repr-fallback\"><pre>SVC(C=1, random_state=42)</pre><b>In a Jupyter environment, please rerun this cell to show the HTML representation or trust the notebook. <br />On GitHub, the HTML representation is unable to render, please try loading this page with nbviewer.org.</b></div><div class=\"sk-container\" hidden><div class=\"sk-item\"><div class=\"sk-estimator sk-toggleable\"><input class=\"sk-toggleable__control sk-hidden--visually\" id=\"sk-estimator-id-12\" type=\"checkbox\" checked><label for=\"sk-estimator-id-12\" class=\"sk-toggleable__label sk-toggleable__label-arrow\">SVC</label><div class=\"sk-toggleable__content\"><pre>SVC(C=1, random_state=42)</pre></div></div></div></div></div>"
      ],
      "text/plain": [
       "SVC(C=1, random_state=42)"
      ]
     },
     "execution_count": 299,
     "metadata": {},
     "output_type": "execute_result"
    }
   ],
   "source": [
    "# lr = LogisticRegression(random_state = 42, max_iter = 500, C=1,  multi_class='ovr', penalty='l2')\n",
    "# lr = RandomForestClassifier(random_state = 42, n_estimators = 500, max_depth = 13, min_samples_leaf=5)\n",
    "lr = SVC(random_state = 42, C = 1, kernel='rbf', gamma = 'scale')\n",
    "\n",
    "lr.fit(preds_estrat[cols], preds_estrat['target'])"
   ]
  },
  {
   "cell_type": "code",
   "execution_count": 300,
   "id": "371a894e-f673-41ce-9cdc-d46545573610",
   "metadata": {},
   "outputs": [],
   "source": [
    "preds_val['Prediction'] = lr.predict(preds_val[cols])\n",
    "preds_val['Prediction'] = preds_val['Prediction'].map(map_argmax) \n",
    "\n",
    "preds_estrat['Prediction'] = lr.predict(preds_estrat[cols])\n",
    "preds_estrat['Prediction'] = preds_estrat['Prediction'].map(map_argmax) "
   ]
  },
  {
   "cell_type": "code",
   "execution_count": 301,
   "id": "58801223-8fea-4f4f-8250-fb210cdd12a1",
   "metadata": {},
   "outputs": [
    {
     "data": {
      "text/html": [
       "<div>\n",
       "<style scoped>\n",
       "    .dataframe tbody tr th:only-of-type {\n",
       "        vertical-align: middle;\n",
       "    }\n",
       "\n",
       "    .dataframe tbody tr th {\n",
       "        vertical-align: top;\n",
       "    }\n",
       "\n",
       "    .dataframe thead th {\n",
       "        text-align: right;\n",
       "    }\n",
       "</style>\n",
       "<table border=\"1\" class=\"dataframe\">\n",
       "  <thead>\n",
       "    <tr style=\"text-align: right;\">\n",
       "      <th></th>\n",
       "      <th>Filename</th>\n",
       "      <th>class_0_prob</th>\n",
       "      <th>class_1_prob</th>\n",
       "      <th>class_2_prob</th>\n",
       "      <th>class_3_prob</th>\n",
       "      <th>class_4_prob</th>\n",
       "      <th>class_5_prob</th>\n",
       "      <th>class_6_prob</th>\n",
       "      <th>class_7_prob</th>\n",
       "      <th>class_0_prob_exp1</th>\n",
       "      <th>...</th>\n",
       "      <th>class_4_prob_exp6</th>\n",
       "      <th>class_5_prob_exp6</th>\n",
       "      <th>class_6_prob_exp6</th>\n",
       "      <th>class_7_prob_exp6</th>\n",
       "      <th>FileName</th>\n",
       "      <th>EmoClass</th>\n",
       "      <th>Gender</th>\n",
       "      <th>SpkrID</th>\n",
       "      <th>target</th>\n",
       "      <th>Prediction</th>\n",
       "    </tr>\n",
       "  </thead>\n",
       "  <tbody>\n",
       "    <tr>\n",
       "      <th>0</th>\n",
       "      <td>MSP-PODCAST_0002_0033.wav</td>\n",
       "      <td>-0.5309</td>\n",
       "      <td>-0.2458</td>\n",
       "      <td>0.3321</td>\n",
       "      <td>0.8860</td>\n",
       "      <td>0.2190</td>\n",
       "      <td>-0.6096</td>\n",
       "      <td>0.0435</td>\n",
       "      <td>0.5484</td>\n",
       "      <td>-1.5255</td>\n",
       "      <td>...</td>\n",
       "      <td>1.3440</td>\n",
       "      <td>-1.4271</td>\n",
       "      <td>-0.9826</td>\n",
       "      <td>0.9510</td>\n",
       "      <td>MSP-PODCAST_0002_0033.wav</td>\n",
       "      <td>N</td>\n",
       "      <td>Female</td>\n",
       "      <td>127</td>\n",
       "      <td>7</td>\n",
       "      <td>F</td>\n",
       "    </tr>\n",
       "    <tr>\n",
       "      <th>1</th>\n",
       "      <td>MSP-PODCAST_0002_0039.wav</td>\n",
       "      <td>-0.4002</td>\n",
       "      <td>-0.8329</td>\n",
       "      <td>0.6057</td>\n",
       "      <td>0.5029</td>\n",
       "      <td>0.6050</td>\n",
       "      <td>-1.3757</td>\n",
       "      <td>-0.1083</td>\n",
       "      <td>0.6480</td>\n",
       "      <td>-1.1414</td>\n",
       "      <td>...</td>\n",
       "      <td>0.4338</td>\n",
       "      <td>-0.4464</td>\n",
       "      <td>-0.1509</td>\n",
       "      <td>0.2246</td>\n",
       "      <td>MSP-PODCAST_0002_0039.wav</td>\n",
       "      <td>N</td>\n",
       "      <td>Female</td>\n",
       "      <td>127</td>\n",
       "      <td>7</td>\n",
       "      <td>N</td>\n",
       "    </tr>\n",
       "    <tr>\n",
       "      <th>2</th>\n",
       "      <td>MSP-PODCAST_0002_0051.wav</td>\n",
       "      <td>-1.2119</td>\n",
       "      <td>0.0838</td>\n",
       "      <td>0.2217</td>\n",
       "      <td>0.1194</td>\n",
       "      <td>-0.0451</td>\n",
       "      <td>-0.4760</td>\n",
       "      <td>0.5950</td>\n",
       "      <td>1.0839</td>\n",
       "      <td>-0.6628</td>\n",
       "      <td>...</td>\n",
       "      <td>-0.5418</td>\n",
       "      <td>-0.3170</td>\n",
       "      <td>-0.3014</td>\n",
       "      <td>1.3358</td>\n",
       "      <td>MSP-PODCAST_0002_0051.wav</td>\n",
       "      <td>N</td>\n",
       "      <td>Female</td>\n",
       "      <td>127</td>\n",
       "      <td>7</td>\n",
       "      <td>N</td>\n",
       "    </tr>\n",
       "    <tr>\n",
       "      <th>3</th>\n",
       "      <td>MSP-PODCAST_0002_0061.wav</td>\n",
       "      <td>-0.4291</td>\n",
       "      <td>-0.8196</td>\n",
       "      <td>-0.2584</td>\n",
       "      <td>0.2270</td>\n",
       "      <td>-0.9395</td>\n",
       "      <td>0.2972</td>\n",
       "      <td>1.5520</td>\n",
       "      <td>0.2986</td>\n",
       "      <td>-1.1753</td>\n",
       "      <td>...</td>\n",
       "      <td>0.3608</td>\n",
       "      <td>-0.6804</td>\n",
       "      <td>0.4722</td>\n",
       "      <td>0.4183</td>\n",
       "      <td>MSP-PODCAST_0002_0061.wav</td>\n",
       "      <td>F</td>\n",
       "      <td>Female</td>\n",
       "      <td>128</td>\n",
       "      <td>4</td>\n",
       "      <td>C</td>\n",
       "    </tr>\n",
       "    <tr>\n",
       "      <th>4</th>\n",
       "      <td>MSP-PODCAST_0006_0017.wav</td>\n",
       "      <td>-1.6810</td>\n",
       "      <td>0.9330</td>\n",
       "      <td>0.1571</td>\n",
       "      <td>0.2959</td>\n",
       "      <td>1.0096</td>\n",
       "      <td>-0.9140</td>\n",
       "      <td>0.1110</td>\n",
       "      <td>0.5220</td>\n",
       "      <td>-1.9912</td>\n",
       "      <td>...</td>\n",
       "      <td>1.4300</td>\n",
       "      <td>-1.0312</td>\n",
       "      <td>-0.4236</td>\n",
       "      <td>0.5618</td>\n",
       "      <td>MSP-PODCAST_0006_0017.wav</td>\n",
       "      <td>N</td>\n",
       "      <td>Female</td>\n",
       "      <td>127</td>\n",
       "      <td>7</td>\n",
       "      <td>N</td>\n",
       "    </tr>\n",
       "  </tbody>\n",
       "</table>\n",
       "<p>5 rows × 63 columns</p>\n",
       "</div>"
      ],
      "text/plain": [
       "                    Filename  class_0_prob  class_1_prob  class_2_prob  \\\n",
       "0  MSP-PODCAST_0002_0033.wav       -0.5309       -0.2458        0.3321   \n",
       "1  MSP-PODCAST_0002_0039.wav       -0.4002       -0.8329        0.6057   \n",
       "2  MSP-PODCAST_0002_0051.wav       -1.2119        0.0838        0.2217   \n",
       "3  MSP-PODCAST_0002_0061.wav       -0.4291       -0.8196       -0.2584   \n",
       "4  MSP-PODCAST_0006_0017.wav       -1.6810        0.9330        0.1571   \n",
       "\n",
       "   class_3_prob  class_4_prob  class_5_prob  class_6_prob  class_7_prob  \\\n",
       "0        0.8860        0.2190       -0.6096        0.0435        0.5484   \n",
       "1        0.5029        0.6050       -1.3757       -0.1083        0.6480   \n",
       "2        0.1194       -0.0451       -0.4760        0.5950        1.0839   \n",
       "3        0.2270       -0.9395        0.2972        1.5520        0.2986   \n",
       "4        0.2959        1.0096       -0.9140        0.1110        0.5220   \n",
       "\n",
       "   class_0_prob_exp1  ...  class_4_prob_exp6  class_5_prob_exp6  \\\n",
       "0            -1.5255  ...             1.3440            -1.4271   \n",
       "1            -1.1414  ...             0.4338            -0.4464   \n",
       "2            -0.6628  ...            -0.5418            -0.3170   \n",
       "3            -1.1753  ...             0.3608            -0.6804   \n",
       "4            -1.9912  ...             1.4300            -1.0312   \n",
       "\n",
       "   class_6_prob_exp6  class_7_prob_exp6                   FileName  EmoClass  \\\n",
       "0            -0.9826             0.9510  MSP-PODCAST_0002_0033.wav         N   \n",
       "1            -0.1509             0.2246  MSP-PODCAST_0002_0039.wav         N   \n",
       "2            -0.3014             1.3358  MSP-PODCAST_0002_0051.wav         N   \n",
       "3             0.4722             0.4183  MSP-PODCAST_0002_0061.wav         F   \n",
       "4            -0.4236             0.5618  MSP-PODCAST_0006_0017.wav         N   \n",
       "\n",
       "   Gender  SpkrID  target  Prediction  \n",
       "0  Female     127       7           F  \n",
       "1  Female     127       7           N  \n",
       "2  Female     127       7           N  \n",
       "3  Female     128       4           C  \n",
       "4  Female     127       7           N  \n",
       "\n",
       "[5 rows x 63 columns]"
      ]
     },
     "execution_count": 301,
     "metadata": {},
     "output_type": "execute_result"
    }
   ],
   "source": [
    "preds_val.head()"
   ]
  },
  {
   "cell_type": "code",
   "execution_count": 302,
   "id": "d114f83a-54db-4615-989d-6db4a1229f73",
   "metadata": {},
   "outputs": [
    {
     "data": {
      "image/png": "[encoded data removed]",
      "text/plain": [
       "<Figure size 640x480 with 2 Axes>"
      ]
     },
     "metadata": {},
     "output_type": "display_data"
    }
   ],
   "source": [
    "import pandas as pd\n",
    "from sklearn.metrics import confusion_matrix, ConfusionMatrixDisplay, accuracy_score, f1_score\n",
    "import matplotlib.pyplot as plt\n",
    "\n",
    "# Generate confusion matrix\n",
    "cm = confusion_matrix(preds_val['EmoClass'], preds_val['Prediction'], labels=preds_val['EmoClass'].unique())\n",
    "\n",
    "# Display labels\n",
    "labels = preds_val['EmoClass'].unique()\n",
    "\n",
    "# Visualize confusion matrix\n",
    "cmd = ConfusionMatrixDisplay(confusion_matrix=cm, display_labels=labels)\n",
    "cmd.plot(cmap=plt.cm.Blues)\n",
    "plt.title(\"Confusion Matrix\")\n",
    "plt.show()"
   ]
  },
  {
   "cell_type": "code",
   "execution_count": 303,
   "id": "0f00b22b-aee3-4850-90c6-af42bb175f2f",
   "metadata": {},
   "outputs": [
    {
     "data": {
      "text/html": [
       "<div>\n",
       "<style scoped>\n",
       "    .dataframe tbody tr th:only-of-type {\n",
       "        vertical-align: middle;\n",
       "    }\n",
       "\n",
       "    .dataframe tbody tr th {\n",
       "        vertical-align: top;\n",
       "    }\n",
       "\n",
       "    .dataframe thead th {\n",
       "        text-align: right;\n",
       "    }\n",
       "</style>\n",
       "<table border=\"1\" class=\"dataframe\">\n",
       "  <thead>\n",
       "    <tr style=\"text-align: right;\">\n",
       "      <th></th>\n",
       "      <th>Filename</th>\n",
       "      <th>class_0_prob</th>\n",
       "      <th>class_1_prob</th>\n",
       "      <th>class_2_prob</th>\n",
       "      <th>class_3_prob</th>\n",
       "      <th>class_4_prob</th>\n",
       "      <th>class_5_prob</th>\n",
       "      <th>class_6_prob</th>\n",
       "      <th>class_7_prob</th>\n",
       "      <th>class_0_prob_exp1</th>\n",
       "      <th>...</th>\n",
       "      <th>class_4_prob_exp6</th>\n",
       "      <th>class_5_prob_exp6</th>\n",
       "      <th>class_6_prob_exp6</th>\n",
       "      <th>class_7_prob_exp6</th>\n",
       "      <th>FileName</th>\n",
       "      <th>EmoClass</th>\n",
       "      <th>Gender</th>\n",
       "      <th>SpkrID</th>\n",
       "      <th>target</th>\n",
       "      <th>Prediction</th>\n",
       "    </tr>\n",
       "  </thead>\n",
       "  <tbody>\n",
       "    <tr>\n",
       "      <th>0</th>\n",
       "      <td>MSP-PODCAST_2421_0197.wav</td>\n",
       "      <td>-0.1429</td>\n",
       "      <td>1.9078</td>\n",
       "      <td>-2.2522</td>\n",
       "      <td>0.2773</td>\n",
       "      <td>-0.5917</td>\n",
       "      <td>0.3216</td>\n",
       "      <td>0.5634</td>\n",
       "      <td>0.1462</td>\n",
       "      <td>0.5336</td>\n",
       "      <td>...</td>\n",
       "      <td>1.4520</td>\n",
       "      <td>-1.9122</td>\n",
       "      <td>0.0203</td>\n",
       "      <td>-0.2465</td>\n",
       "      <td>MSP-PODCAST_2421_0197.wav</td>\n",
       "      <td>N</td>\n",
       "      <td>Female</td>\n",
       "      <td>210</td>\n",
       "      <td>7</td>\n",
       "      <td>S</td>\n",
       "    </tr>\n",
       "    <tr>\n",
       "      <th>1</th>\n",
       "      <td>MSP-PODCAST_2347_1004.wav</td>\n",
       "      <td>5.3873</td>\n",
       "      <td>-2.7548</td>\n",
       "      <td>-1.8572</td>\n",
       "      <td>-0.6234</td>\n",
       "      <td>-1.6750</td>\n",
       "      <td>0.3968</td>\n",
       "      <td>1.2889</td>\n",
       "      <td>-1.8675</td>\n",
       "      <td>4.1935</td>\n",
       "      <td>...</td>\n",
       "      <td>0.0834</td>\n",
       "      <td>0.1977</td>\n",
       "      <td>1.1440</td>\n",
       "      <td>-1.4790</td>\n",
       "      <td>MSP-PODCAST_2347_1004.wav</td>\n",
       "      <td>N</td>\n",
       "      <td>Female</td>\n",
       "      <td>210</td>\n",
       "      <td>7</td>\n",
       "      <td>A</td>\n",
       "    </tr>\n",
       "    <tr>\n",
       "      <th>2</th>\n",
       "      <td>MSP-PODCAST_3406_0004_0003.wav</td>\n",
       "      <td>-0.5038</td>\n",
       "      <td>-0.7409</td>\n",
       "      <td>0.7005</td>\n",
       "      <td>-0.6081</td>\n",
       "      <td>0.1385</td>\n",
       "      <td>-0.6309</td>\n",
       "      <td>-0.0234</td>\n",
       "      <td>0.3116</td>\n",
       "      <td>-1.3492</td>\n",
       "      <td>...</td>\n",
       "      <td>0.2275</td>\n",
       "      <td>-2.1435</td>\n",
       "      <td>-0.5567</td>\n",
       "      <td>0.6260</td>\n",
       "      <td>MSP-PODCAST_3406_0004_0003.wav</td>\n",
       "      <td>N</td>\n",
       "      <td>Male</td>\n",
       "      <td>1767</td>\n",
       "      <td>7</td>\n",
       "      <td>N</td>\n",
       "    </tr>\n",
       "    <tr>\n",
       "      <th>3</th>\n",
       "      <td>MSP-PODCAST_0807_1720.wav</td>\n",
       "      <td>-1.9514</td>\n",
       "      <td>-1.5792</td>\n",
       "      <td>2.3005</td>\n",
       "      <td>2.8567</td>\n",
       "      <td>-1.5613</td>\n",
       "      <td>-1.5856</td>\n",
       "      <td>0.0751</td>\n",
       "      <td>1.4576</td>\n",
       "      <td>-2.1952</td>\n",
       "      <td>...</td>\n",
       "      <td>-1.1132</td>\n",
       "      <td>-0.9354</td>\n",
       "      <td>0.6544</td>\n",
       "      <td>0.6132</td>\n",
       "      <td>MSP-PODCAST_0807_1720.wav</td>\n",
       "      <td>N</td>\n",
       "      <td>Male</td>\n",
       "      <td>97</td>\n",
       "      <td>7</td>\n",
       "      <td>U</td>\n",
       "    </tr>\n",
       "    <tr>\n",
       "      <th>4</th>\n",
       "      <td>MSP-PODCAST_3079_1429.wav</td>\n",
       "      <td>-2.2008</td>\n",
       "      <td>2.4689</td>\n",
       "      <td>-0.1923</td>\n",
       "      <td>-0.0080</td>\n",
       "      <td>-0.6137</td>\n",
       "      <td>-1.0631</td>\n",
       "      <td>-0.2149</td>\n",
       "      <td>2.6420</td>\n",
       "      <td>-2.6322</td>\n",
       "      <td>...</td>\n",
       "      <td>-1.3977</td>\n",
       "      <td>-2.0196</td>\n",
       "      <td>-1.6459</td>\n",
       "      <td>2.2442</td>\n",
       "      <td>MSP-PODCAST_3079_1429.wav</td>\n",
       "      <td>N</td>\n",
       "      <td>Male</td>\n",
       "      <td>2261</td>\n",
       "      <td>7</td>\n",
       "      <td>N</td>\n",
       "    </tr>\n",
       "  </tbody>\n",
       "</table>\n",
       "<p>5 rows × 63 columns</p>\n",
       "</div>"
      ],
      "text/plain": [
       "                         Filename  class_0_prob  class_1_prob  class_2_prob  \\\n",
       "0       MSP-PODCAST_2421_0197.wav       -0.1429        1.9078       -2.2522   \n",
       "1       MSP-PODCAST_2347_1004.wav        5.3873       -2.7548       -1.8572   \n",
       "2  MSP-PODCAST_3406_0004_0003.wav       -0.5038       -0.7409        0.7005   \n",
       "3       MSP-PODCAST_0807_1720.wav       -1.9514       -1.5792        2.3005   \n",
       "4       MSP-PODCAST_3079_1429.wav       -2.2008        2.4689       -0.1923   \n",
       "\n",
       "   class_3_prob  class_4_prob  class_5_prob  class_6_prob  class_7_prob  \\\n",
       "0        0.2773       -0.5917        0.3216        0.5634        0.1462   \n",
       "1       -0.6234       -1.6750        0.3968        1.2889       -1.8675   \n",
       "2       -0.6081        0.1385       -0.6309       -0.0234        0.3116   \n",
       "3        2.8567       -1.5613       -1.5856        0.0751        1.4576   \n",
       "4       -0.0080       -0.6137       -1.0631       -0.2149        2.6420   \n",
       "\n",
       "   class_0_prob_exp1  ...  class_4_prob_exp6  class_5_prob_exp6  \\\n",
       "0             0.5336  ...             1.4520            -1.9122   \n",
       "1             4.1935  ...             0.0834             0.1977   \n",
       "2            -1.3492  ...             0.2275            -2.1435   \n",
       "3            -2.1952  ...            -1.1132            -0.9354   \n",
       "4            -2.6322  ...            -1.3977            -2.0196   \n",
       "\n",
       "   class_6_prob_exp6  class_7_prob_exp6                        FileName  \\\n",
       "0             0.0203            -0.2465       MSP-PODCAST_2421_0197.wav   \n",
       "1             1.1440            -1.4790       MSP-PODCAST_2347_1004.wav   \n",
       "2            -0.5567             0.6260  MSP-PODCAST_3406_0004_0003.wav   \n",
       "3             0.6544             0.6132       MSP-PODCAST_0807_1720.wav   \n",
       "4            -1.6459             2.2442       MSP-PODCAST_3079_1429.wav   \n",
       "\n",
       "   EmoClass  Gender  SpkrID  target  Prediction  \n",
       "0         N  Female     210       7           S  \n",
       "1         N  Female     210       7           A  \n",
       "2         N    Male    1767       7           N  \n",
       "3         N    Male      97       7           U  \n",
       "4         N    Male    2261       7           N  \n",
       "\n",
       "[5 rows x 63 columns]"
      ]
     },
     "execution_count": 303,
     "metadata": {},
     "output_type": "execute_result"
    }
   ],
   "source": [
    "preds_subset = get_stratified_subset(preds_val, 'EmoClass', 100)\n",
    "preds_subset.head()"
   ]
  },
  {
   "cell_type": "markdown",
   "id": "c6d276da-b7b8-49c7-9d65-9b00034390d7",
   "metadata": {},
   "source": [
    "# Training bootstrap"
   ]
  },
  {
   "cell_type": "code",
   "execution_count": 304,
   "id": "0d8f431d-deb1-4659-8061-4d354a13712c",
   "metadata": {},
   "outputs": [],
   "source": [
    "# Average F1-score using bootstrap\n",
    "f1_scores = []\n",
    "for i in range(100):\n",
    "    preds_subset = get_stratified_subset(preds_estrat, 'EmoClass', 100, i)\n",
    "    f1_scores.append(f1_score(preds_estrat['EmoClass'], preds_estrat['Prediction'], average='macro'))"
   ]
  },
  {
   "cell_type": "code",
   "execution_count": 305,
   "id": "098b7ff3-d17e-4135-8798-9dc2428db382",
   "metadata": {},
   "outputs": [
    {
     "data": {
      "text/plain": [
       "(0.6882375033585886,\n",
       " 3.3306690738754696e-16,\n",
       " 0.6882375033585882,\n",
       " 0.6882375033585882)"
      ]
     },
     "execution_count": 305,
     "metadata": {},
     "output_type": "execute_result"
    }
   ],
   "source": [
    "f1_scores = np.array(f1_scores)\n",
    "\n",
    "np.mean(f1_scores), np.std(f1_scores),np.max(f1_scores),np.min(f1_scores)"
   ]
  },
  {
   "cell_type": "code",
   "execution_count": 306,
   "id": "4eb0cd95-611b-438a-a5dd-52fd63b6c5aa",
   "metadata": {},
   "outputs": [
    {
     "data": {
      "text/plain": [
       "0.6882375033585882"
      ]
     },
     "execution_count": 306,
     "metadata": {},
     "output_type": "execute_result"
    }
   ],
   "source": [
    "f1_score(preds_estrat['EmoClass'], preds_estrat['Prediction'], average='macro')"
   ]
  },
  {
   "cell_type": "code",
   "execution_count": 307,
   "id": "c1b8ae11-358c-4630-8015-f6576259e306",
   "metadata": {},
   "outputs": [
    {
     "data": {
      "text/plain": [
       "0.69"
      ]
     },
     "execution_count": 307,
     "metadata": {},
     "output_type": "execute_result"
    }
   ],
   "source": [
    "accuracy_score(preds_estrat['EmoClass'], preds_estrat['Prediction'])"
   ]
  },
  {
   "cell_type": "markdown",
   "id": "61a7572e-1f30-403d-a83c-2ce462f8bba8",
   "metadata": {},
   "source": [
    "# Dev bootstrap"
   ]
  },
  {
   "cell_type": "code",
   "execution_count": 308,
   "id": "8fb00efd-ac72-400d-a0ca-8faa1bc5aa21",
   "metadata": {},
   "outputs": [],
   "source": [
    "# Average F1-score using bootstrap\n",
    "f1_scores = []\n",
    "for i in range(100):\n",
    "    preds_subset = get_stratified_subset(preds_val, 'EmoClass', 200, i)\n",
    "    f1_scores.append(f1_score(preds_subset['EmoClass'], preds_subset['Prediction'], average='macro'))"
   ]
  },
  {
   "cell_type": "code",
   "execution_count": 309,
   "id": "096eccda-b4b0-4af9-b0c4-58c67d0e3a01",
   "metadata": {},
   "outputs": [],
   "source": [
    "# f1_scores"
   ]
  },
  {
   "cell_type": "code",
   "execution_count": 310,
   "id": "b13fe35a-23b2-43f0-90cc-a693529754ea",
   "metadata": {},
   "outputs": [
    {
     "data": {
      "text/plain": [
       "(0.4238527498269292,\n",
       " 0.009681258838977308,\n",
       " 0.44909127126266035,\n",
       " 0.39177252853276245)"
      ]
     },
     "execution_count": 310,
     "metadata": {},
     "output_type": "execute_result"
    }
   ],
   "source": [
    "f1_scores = np.array(f1_scores)\n",
    "\n",
    "np.mean(f1_scores), np.std(f1_scores),np.max(f1_scores),np.min(f1_scores)"
   ]
  },
  {
   "cell_type": "code",
   "execution_count": 311,
   "id": "a5492076-5253-4211-b593-ec0cd9e01bb2",
   "metadata": {},
   "outputs": [
    {
     "data": {
      "image/png": "[encoded data removed]",
      "text/plain": [
       "<Figure size 640x480 with 1 Axes>"
      ]
     },
     "metadata": {},
     "output_type": "display_data"
    }
   ],
   "source": [
    "plt.hist(f1_scores, bins=10)\n",
    "plt.show()"
   ]
  },
  {
   "cell_type": "code",
   "execution_count": 312,
   "id": "8159c179-b646-4164-aefe-ea07d1b14b63",
   "metadata": {},
   "outputs": [
    {
     "data": {
      "text/plain": [
       "0.3835853405321236"
      ]
     },
     "execution_count": 312,
     "metadata": {},
     "output_type": "execute_result"
    }
   ],
   "source": [
    "f1_score(preds_val['EmoClass'], preds_val['Prediction'], average='macro')"
   ]
  },
  {
   "cell_type": "code",
   "execution_count": 313,
   "id": "9ffcaae7-3a6c-4551-88b4-89443bf93542",
   "metadata": {},
   "outputs": [
    {
     "data": {
      "text/plain": [
       "0.5167867606302954"
      ]
     },
     "execution_count": 313,
     "metadata": {},
     "output_type": "execute_result"
    }
   ],
   "source": [
    "f1_score(preds_val['EmoClass'], preds_val['Prediction'], average='micro')"
   ]
  },
  {
   "cell_type": "code",
   "execution_count": 314,
   "id": "079afbb7-1cc7-4abd-8ddc-61c09caa62b4",
   "metadata": {},
   "outputs": [
    {
     "data": {
      "text/plain": [
       "0.5167867606302954"
      ]
     },
     "execution_count": 314,
     "metadata": {},
     "output_type": "execute_result"
    }
   ],
   "source": [
    "accuracy_score(preds_val['EmoClass'], preds_val['Prediction'])"
   ]
  },
  {
   "cell_type": "code",
   "execution_count": 315,
   "id": "6a50f0e8-da6b-4ed2-ad8d-f081c128cb9b",
   "metadata": {},
   "outputs": [
    {
     "data": {
      "text/plain": [
       "0.3587398737171242"
      ]
     },
     "execution_count": 315,
     "metadata": {},
     "output_type": "execute_result"
    }
   ],
   "source": [
    "f1_score(preds_val[preds_val['Gender']=='Female']['EmoClass'], preds_val[preds_val['Gender']=='Female']['Prediction'], average='macro')"
   ]
  },
  {
   "cell_type": "code",
   "execution_count": 316,
   "id": "2b2021da-895b-4780-ae73-4a8cc13dfe2c",
   "metadata": {},
   "outputs": [
    {
     "data": {
      "text/plain": [
       "0.4006480873675678"
      ]
     },
     "execution_count": 316,
     "metadata": {},
     "output_type": "execute_result"
    }
   ],
   "source": [
    "f1_score(preds_val[preds_val['Gender']=='Male']['EmoClass'], preds_val[preds_val['Gender']=='Male']['Prediction'], average='macro')"
   ]
  },
  {
   "cell_type": "code",
   "execution_count": 317,
   "id": "f899dc67-4135-4fea-98ed-8de8dce0823c",
   "metadata": {},
   "outputs": [
    {
     "data": {
      "text/plain": [
       "0.456143434698541"
      ]
     },
     "execution_count": 317,
     "metadata": {},
     "output_type": "execute_result"
    }
   ],
   "source": [
    "accuracy_score(preds_val[preds_val['Gender']=='Female']['EmoClass'], preds_val[preds_val['Gender']=='Female']['Prediction'])"
   ]
  },
  {
   "cell_type": "code",
   "execution_count": 318,
   "id": "084d8c58-046d-4590-ac05-0f9cf97f6dfb",
   "metadata": {},
   "outputs": [
    {
     "data": {
      "text/plain": [
       "0.5664985590778098"
      ]
     },
     "execution_count": 318,
     "metadata": {},
     "output_type": "execute_result"
    }
   ],
   "source": [
    "accuracy_score(preds_val[preds_val['Gender']=='Male']['EmoClass'], preds_val[preds_val['Gender']=='Male']['Prediction'])"
   ]
  },
  {
   "cell_type": "code",
   "execution_count": 319,
   "id": "f03c7ac6-8acb-4764-b8ad-65e34477f9a3",
   "metadata": {
    "scrolled": true
   },
   "outputs": [
    {
     "name": "stdout",
     "output_type": "stream",
     "text": [
      "Emotion H acc = 0.6354035308953342\n",
      "Emotion F acc = 0.2607361963190184\n",
      "Emotion A acc = 0.731665524331734\n",
      "Emotion C acc = 0.2213845099383139\n",
      "Emotion N acc = 0.3346355920786744\n",
      "Emotion D acc = 0.34686346863468637\n",
      "Emotion S acc = 0.5484835540367364\n",
      "Emotion U acc = 0.39311043566362713\n"
     ]
    }
   ],
   "source": [
    "for e in preds['EmoClass'].unique():\n",
    "    acc = accuracy_score(preds_val[preds_val['EmoClass']==e]['EmoClass'], preds_val[preds_val['EmoClass']==e]['Prediction'])\n",
    "    print(f'Emotion {e} acc = {acc}')"
   ]
  },
  {
   "cell_type": "code",
   "execution_count": 320,
   "id": "e4940eb7-460e-410d-907b-a8081584ef5c",
   "metadata": {},
   "outputs": [
    {
     "data": {
      "text/plain": [
       "EmoClass\n",
       "N    7423\n",
       "H    6344\n",
       "A    5836\n",
       "S    2341\n",
       "C    1459\n",
       "U     987\n",
       "D     542\n",
       "F     326\n",
       "Name: count, dtype: int64"
      ]
     },
     "execution_count": 320,
     "metadata": {},
     "output_type": "execute_result"
    }
   ],
   "source": [
    "preds_val.EmoClass.value_counts()"
   ]
  },
  {
   "cell_type": "code",
   "execution_count": 321,
   "id": "78ffb47e-a7ce-4fb0-805f-75e2f1ce0b38",
   "metadata": {},
   "outputs": [
    {
     "data": {
      "text/plain": [
       "Prediction\n",
       "A    0.262927\n",
       "H    0.208488\n",
       "N    0.147043\n",
       "S    0.106184\n",
       "C    0.078312\n",
       "U    0.077164\n",
       "F    0.064178\n",
       "D    0.055705\n",
       "Name: proportion, dtype: float64"
      ]
     },
     "execution_count": 321,
     "metadata": {},
     "output_type": "execute_result"
    }
   ],
   "source": [
    "preds_val.Prediction.value_counts(normalize=True)"
   ]
  },
  {
   "cell_type": "code",
   "execution_count": 323,
   "id": "c06efc45-f914-4107-a794-535953cd18ce",
   "metadata": {},
   "outputs": [
    {
     "data": {
      "text/plain": [
       "['../submissions/svm_model_stackingv2_augmented.pkl']"
      ]
     },
     "execution_count": 323,
     "metadata": {},
     "output_type": "execute_result"
    }
   ],
   "source": [
    "import joblib\n",
    "\n",
    "# Save to a file\n",
    "# joblib.dump(lr, '../submissions/svm_model_stackingv2_augmented.pkl')"
   ]
  },
  {
   "cell_type": "code",
   "execution_count": null,
   "id": "08d3ec4c-c89c-4053-a9b4-df719f08216d",
   "metadata": {},
   "outputs": [],
   "source": []
  },
  {
   "cell_type": "code",
   "execution_count": null,
   "id": "a22eb401-32ec-485e-b226-ee82703e1102",
   "metadata": {},
   "outputs": [],
   "source": []
  }
 ],
 "metadata": {
  "kernelspec": {
   "display_name": "Python 3 (ipykernel)",
   "language": "python",
   "name": "python3"
  },
  "language_info": {
   "codemirror_mode": {
    "name": "ipython",
    "version": 3
   },
   "file_extension": ".py",
   "mimetype": "text/x-python",
   "name": "python",
   "nbconvert_exporter": "python",
   "pygments_lexer": "ipython3",
   "version": "3.10.8"
  }
 },
 "nbformat": 4,
 "nbformat_minor": 5
}
