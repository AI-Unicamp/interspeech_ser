{
 "cells": [
  {
   "cell_type": "code",
   "execution_count": 3,
   "id": "c121eed9-d1ce-4084-bd32-026d59bcfe96",
   "metadata": {},
   "outputs": [
    {
     "name": "stdout",
     "output_type": "stream",
     "text": [
      "../experiments/dim_multimodalmodel_wavlmlarge_robertalarge_lazyload_lr1e4_mse/results/dev.csv\n"
     ]
    }
   ],
   "source": [
    "!ls ../experiments/dim_multimodalmodel_wavlmlarge_robertalarge_lazyload_lr1e4_mse/results/dev.csv"
   ]
  },
  {
   "cell_type": "code",
   "execution_count": 4,
   "id": "607c5c82-3f02-4bea-9cfa-9d24f7484069",
   "metadata": {},
   "outputs": [],
   "source": [
    "import torch\n",
    "def CCC_loss(pred, lab, m_lab=None, v_lab=None, is_numpy=True):\n",
    "    \"\"\"\n",
    "    pred: (N, 3)\n",
    "    lab: (N, 3)\n",
    "    \"\"\"\n",
    "    if is_numpy:\n",
    "        pred = torch.Tensor(pred).float()\n",
    "        lab = torch.Tensor(lab).float()\n",
    "    \n",
    "    m_pred = torch.mean(pred, 0, keepdim=True)\n",
    "    m_lab = torch.mean(lab, 0, keepdim=True)\n",
    "\n",
    "    d_pred = pred - m_pred\n",
    "    d_lab = lab - m_lab\n",
    "\n",
    "    v_pred = torch.var(pred, 0, unbiased=False)\n",
    "    v_lab = torch.var(lab, 0, unbiased=False)\n",
    "\n",
    "    corr = torch.sum(d_pred * d_lab, 0) / (torch.sqrt(torch.sum(d_pred ** 2, 0)) * torch.sqrt(torch.sum(d_lab ** 2, 0)))\n",
    "\n",
    "    s_pred = torch.std(pred, 0, unbiased=False)\n",
    "    s_lab = torch.std(lab, 0, unbiased=False)\n",
    "\n",
    "    ccc = (2*corr*s_pred*s_lab) / (v_pred + v_lab + (m_pred[0]-m_lab[0])**2)    \n",
    "    return ccc"
   ]
  },
  {
   "cell_type": "code",
   "execution_count": 5,
   "id": "d30bdb9f-8704-4a6b-b074-05afbe73dfc8",
   "metadata": {},
   "outputs": [],
   "source": [
    "import pandas as pd\n",
    "import numpy as np"
   ]
  },
  {
   "cell_type": "code",
   "execution_count": 6,
   "id": "5fc017e4-c8fe-4ec6-b607-57e197608526",
   "metadata": {},
   "outputs": [
    {
     "data": {
      "text/html": [
       "<div>\n",
       "<style scoped>\n",
       "    .dataframe tbody tr th:only-of-type {\n",
       "        vertical-align: middle;\n",
       "    }\n",
       "\n",
       "    .dataframe tbody tr th {\n",
       "        vertical-align: top;\n",
       "    }\n",
       "\n",
       "    .dataframe thead th {\n",
       "        text-align: right;\n",
       "    }\n",
       "</style>\n",
       "<table border=\"1\" class=\"dataframe\">\n",
       "  <thead>\n",
       "    <tr style=\"text-align: right;\">\n",
       "      <th></th>\n",
       "      <th>Filename</th>\n",
       "      <th>EmoAct_pred</th>\n",
       "      <th>EmoDom_pred</th>\n",
       "      <th>EmoVal_pred</th>\n",
       "    </tr>\n",
       "  </thead>\n",
       "  <tbody>\n",
       "    <tr>\n",
       "      <th>0</th>\n",
       "      <td>MSP-PODCAST_0002_0033.wav</td>\n",
       "      <td>4.056100</td>\n",
       "      <td>4.044851</td>\n",
       "      <td>3.043020</td>\n",
       "    </tr>\n",
       "    <tr>\n",
       "      <th>1</th>\n",
       "      <td>MSP-PODCAST_0002_0039.wav</td>\n",
       "      <td>3.617270</td>\n",
       "      <td>3.742541</td>\n",
       "      <td>3.200677</td>\n",
       "    </tr>\n",
       "    <tr>\n",
       "      <th>2</th>\n",
       "      <td>MSP-PODCAST_0002_0051.wav</td>\n",
       "      <td>3.427005</td>\n",
       "      <td>3.645125</td>\n",
       "      <td>3.415780</td>\n",
       "    </tr>\n",
       "    <tr>\n",
       "      <th>3</th>\n",
       "      <td>MSP-PODCAST_0002_0059.wav</td>\n",
       "      <td>3.822627</td>\n",
       "      <td>3.862643</td>\n",
       "      <td>3.463450</td>\n",
       "    </tr>\n",
       "    <tr>\n",
       "      <th>4</th>\n",
       "      <td>MSP-PODCAST_0002_0061.wav</td>\n",
       "      <td>3.524748</td>\n",
       "      <td>3.707217</td>\n",
       "      <td>3.169890</td>\n",
       "    </tr>\n",
       "  </tbody>\n",
       "</table>\n",
       "</div>"
      ],
      "text/plain": [
       "                    Filename  EmoAct_pred  EmoDom_pred  EmoVal_pred\n",
       "0  MSP-PODCAST_0002_0033.wav     4.056100     4.044851     3.043020\n",
       "1  MSP-PODCAST_0002_0039.wav     3.617270     3.742541     3.200677\n",
       "2  MSP-PODCAST_0002_0051.wav     3.427005     3.645125     3.415780\n",
       "3  MSP-PODCAST_0002_0059.wav     3.822627     3.862643     3.463450\n",
       "4  MSP-PODCAST_0002_0061.wav     3.524748     3.707217     3.169890"
      ]
     },
     "execution_count": 6,
     "metadata": {},
     "output_type": "execute_result"
    }
   ],
   "source": [
    "preds = pd.read_csv('../experiments/dim_multimodalmodel_wavlmlarge_robertalarge_lazyload_lr1e4_mse/results/dev.csv')\n",
    "preds.head()"
   ]
  },
  {
   "cell_type": "code",
   "execution_count": 7,
   "id": "9ca46356-04ea-491c-8aaa-687a04b9585f",
   "metadata": {},
   "outputs": [
    {
     "data": {
      "text/html": [
       "<div>\n",
       "<style scoped>\n",
       "    .dataframe tbody tr th:only-of-type {\n",
       "        vertical-align: middle;\n",
       "    }\n",
       "\n",
       "    .dataframe tbody tr th {\n",
       "        vertical-align: top;\n",
       "    }\n",
       "\n",
       "    .dataframe thead th {\n",
       "        text-align: right;\n",
       "    }\n",
       "</style>\n",
       "<table border=\"1\" class=\"dataframe\">\n",
       "  <thead>\n",
       "    <tr style=\"text-align: right;\">\n",
       "      <th></th>\n",
       "      <th>FileName</th>\n",
       "      <th>EmoClass</th>\n",
       "      <th>EmoAct</th>\n",
       "      <th>EmoVal</th>\n",
       "      <th>EmoDom</th>\n",
       "      <th>SpkrID</th>\n",
       "      <th>Gender</th>\n",
       "      <th>Split_Set</th>\n",
       "    </tr>\n",
       "  </thead>\n",
       "  <tbody>\n",
       "    <tr>\n",
       "      <th>0</th>\n",
       "      <td>MSP-PODCAST_0002_0033.wav</td>\n",
       "      <td>N</td>\n",
       "      <td>4.8</td>\n",
       "      <td>4.2</td>\n",
       "      <td>5.4</td>\n",
       "      <td>127</td>\n",
       "      <td>Female</td>\n",
       "      <td>Development</td>\n",
       "    </tr>\n",
       "    <tr>\n",
       "      <th>1</th>\n",
       "      <td>MSP-PODCAST_0002_0039.wav</td>\n",
       "      <td>N</td>\n",
       "      <td>4.0</td>\n",
       "      <td>4.2</td>\n",
       "      <td>4.2</td>\n",
       "      <td>127</td>\n",
       "      <td>Female</td>\n",
       "      <td>Development</td>\n",
       "    </tr>\n",
       "    <tr>\n",
       "      <th>2</th>\n",
       "      <td>MSP-PODCAST_0002_0051.wav</td>\n",
       "      <td>N</td>\n",
       "      <td>4.0</td>\n",
       "      <td>4.2</td>\n",
       "      <td>4.2</td>\n",
       "      <td>127</td>\n",
       "      <td>Female</td>\n",
       "      <td>Development</td>\n",
       "    </tr>\n",
       "    <tr>\n",
       "      <th>3</th>\n",
       "      <td>MSP-PODCAST_0002_0059.wav</td>\n",
       "      <td>X</td>\n",
       "      <td>4.0</td>\n",
       "      <td>3.8</td>\n",
       "      <td>4.0</td>\n",
       "      <td>128</td>\n",
       "      <td>Female</td>\n",
       "      <td>Development</td>\n",
       "    </tr>\n",
       "    <tr>\n",
       "      <th>4</th>\n",
       "      <td>MSP-PODCAST_0002_0061.wav</td>\n",
       "      <td>F</td>\n",
       "      <td>3.4</td>\n",
       "      <td>2.8</td>\n",
       "      <td>4.2</td>\n",
       "      <td>128</td>\n",
       "      <td>Female</td>\n",
       "      <td>Development</td>\n",
       "    </tr>\n",
       "  </tbody>\n",
       "</table>\n",
       "</div>"
      ],
      "text/plain": [
       "                    FileName EmoClass  EmoAct  EmoVal  EmoDom  SpkrID  Gender  \\\n",
       "0  MSP-PODCAST_0002_0033.wav        N     4.8     4.2     5.4     127  Female   \n",
       "1  MSP-PODCAST_0002_0039.wav        N     4.0     4.2     4.2     127  Female   \n",
       "2  MSP-PODCAST_0002_0051.wav        N     4.0     4.2     4.2     127  Female   \n",
       "3  MSP-PODCAST_0002_0059.wav        X     4.0     3.8     4.0     128  Female   \n",
       "4  MSP-PODCAST_0002_0061.wav        F     3.4     2.8     4.2     128  Female   \n",
       "\n",
       "     Split_Set  \n",
       "0  Development  \n",
       "1  Development  \n",
       "2  Development  \n",
       "3  Development  \n",
       "4  Development  "
      ]
     },
     "execution_count": 7,
     "metadata": {},
     "output_type": "execute_result"
    }
   ],
   "source": [
    "df = pd.read_csv('/workspace/lucas.ueda/interspeech_ser/data/Labels/labels_consensus.csv')\n",
    "df.head()"
   ]
  },
  {
   "cell_type": "code",
   "execution_count": 8,
   "id": "c3efa84c-a42c-4b16-adb9-6c0af843a12e",
   "metadata": {},
   "outputs": [],
   "source": [
    "preds['FileName'] = preds['Filename']\n",
    "preds = preds.merge(df[['FileName','EmoAct','EmoVal','EmoDom','Gender','SpkrID']], how='left', on = 'FileName')"
   ]
  },
  {
   "cell_type": "code",
   "execution_count": 9,
   "id": "0fbaa4bd-7393-44ea-a465-e088fc022055",
   "metadata": {},
   "outputs": [],
   "source": [
    "# preds['EmoClass'].isnull().sum()"
   ]
  },
  {
   "cell_type": "code",
   "execution_count": 10,
   "id": "22a3faa7-164e-4b1d-86e3-e6d9e058e3c5",
   "metadata": {},
   "outputs": [
    {
     "data": {
      "text/html": [
       "<div>\n",
       "<style scoped>\n",
       "    .dataframe tbody tr th:only-of-type {\n",
       "        vertical-align: middle;\n",
       "    }\n",
       "\n",
       "    .dataframe tbody tr th {\n",
       "        vertical-align: top;\n",
       "    }\n",
       "\n",
       "    .dataframe thead th {\n",
       "        text-align: right;\n",
       "    }\n",
       "</style>\n",
       "<table border=\"1\" class=\"dataframe\">\n",
       "  <thead>\n",
       "    <tr style=\"text-align: right;\">\n",
       "      <th></th>\n",
       "      <th>Filename</th>\n",
       "      <th>EmoAct_pred</th>\n",
       "      <th>EmoDom_pred</th>\n",
       "      <th>EmoVal_pred</th>\n",
       "      <th>FileName</th>\n",
       "      <th>EmoAct</th>\n",
       "      <th>EmoVal</th>\n",
       "      <th>EmoDom</th>\n",
       "      <th>Gender</th>\n",
       "      <th>SpkrID</th>\n",
       "    </tr>\n",
       "  </thead>\n",
       "  <tbody>\n",
       "    <tr>\n",
       "      <th>0</th>\n",
       "      <td>MSP-PODCAST_0002_0033.wav</td>\n",
       "      <td>4.056100</td>\n",
       "      <td>4.044851</td>\n",
       "      <td>3.043020</td>\n",
       "      <td>MSP-PODCAST_0002_0033.wav</td>\n",
       "      <td>4.8</td>\n",
       "      <td>4.2</td>\n",
       "      <td>5.4</td>\n",
       "      <td>Female</td>\n",
       "      <td>127</td>\n",
       "    </tr>\n",
       "    <tr>\n",
       "      <th>1</th>\n",
       "      <td>MSP-PODCAST_0002_0039.wav</td>\n",
       "      <td>3.617270</td>\n",
       "      <td>3.742541</td>\n",
       "      <td>3.200677</td>\n",
       "      <td>MSP-PODCAST_0002_0039.wav</td>\n",
       "      <td>4.0</td>\n",
       "      <td>4.2</td>\n",
       "      <td>4.2</td>\n",
       "      <td>Female</td>\n",
       "      <td>127</td>\n",
       "    </tr>\n",
       "    <tr>\n",
       "      <th>2</th>\n",
       "      <td>MSP-PODCAST_0002_0051.wav</td>\n",
       "      <td>3.427005</td>\n",
       "      <td>3.645125</td>\n",
       "      <td>3.415780</td>\n",
       "      <td>MSP-PODCAST_0002_0051.wav</td>\n",
       "      <td>4.0</td>\n",
       "      <td>4.2</td>\n",
       "      <td>4.2</td>\n",
       "      <td>Female</td>\n",
       "      <td>127</td>\n",
       "    </tr>\n",
       "    <tr>\n",
       "      <th>3</th>\n",
       "      <td>MSP-PODCAST_0002_0059.wav</td>\n",
       "      <td>3.822627</td>\n",
       "      <td>3.862643</td>\n",
       "      <td>3.463450</td>\n",
       "      <td>MSP-PODCAST_0002_0059.wav</td>\n",
       "      <td>4.0</td>\n",
       "      <td>3.8</td>\n",
       "      <td>4.0</td>\n",
       "      <td>Female</td>\n",
       "      <td>128</td>\n",
       "    </tr>\n",
       "    <tr>\n",
       "      <th>4</th>\n",
       "      <td>MSP-PODCAST_0002_0061.wav</td>\n",
       "      <td>3.524748</td>\n",
       "      <td>3.707217</td>\n",
       "      <td>3.169890</td>\n",
       "      <td>MSP-PODCAST_0002_0061.wav</td>\n",
       "      <td>3.4</td>\n",
       "      <td>2.8</td>\n",
       "      <td>4.2</td>\n",
       "      <td>Female</td>\n",
       "      <td>128</td>\n",
       "    </tr>\n",
       "  </tbody>\n",
       "</table>\n",
       "</div>"
      ],
      "text/plain": [
       "                    Filename  EmoAct_pred  EmoDom_pred  EmoVal_pred  \\\n",
       "0  MSP-PODCAST_0002_0033.wav     4.056100     4.044851     3.043020   \n",
       "1  MSP-PODCAST_0002_0039.wav     3.617270     3.742541     3.200677   \n",
       "2  MSP-PODCAST_0002_0051.wav     3.427005     3.645125     3.415780   \n",
       "3  MSP-PODCAST_0002_0059.wav     3.822627     3.862643     3.463450   \n",
       "4  MSP-PODCAST_0002_0061.wav     3.524748     3.707217     3.169890   \n",
       "\n",
       "                    FileName  EmoAct  EmoVal  EmoDom  Gender  SpkrID  \n",
       "0  MSP-PODCAST_0002_0033.wav     4.8     4.2     5.4  Female     127  \n",
       "1  MSP-PODCAST_0002_0039.wav     4.0     4.2     4.2  Female     127  \n",
       "2  MSP-PODCAST_0002_0051.wav     4.0     4.2     4.2  Female     127  \n",
       "3  MSP-PODCAST_0002_0059.wav     4.0     3.8     4.0  Female     128  \n",
       "4  MSP-PODCAST_0002_0061.wav     3.4     2.8     4.2  Female     128  "
      ]
     },
     "execution_count": 10,
     "metadata": {},
     "output_type": "execute_result"
    }
   ],
   "source": [
    "preds.head()"
   ]
  },
  {
   "cell_type": "code",
   "execution_count": 11,
   "id": "83f539f1-66dc-422c-9b8b-cfdab7fcb377",
   "metadata": {},
   "outputs": [],
   "source": [
    "c = CCC_loss(preds[['EmoAct_pred','EmoVal_pred','EmoDom_pred']].values,preds[['EmoAct','EmoVal','EmoDom']].values)"
   ]
  },
  {
   "cell_type": "code",
   "execution_count": 12,
   "id": "6e56a771-7629-4a4f-a425-cedb32a20452",
   "metadata": {},
   "outputs": [
    {
     "data": {
      "text/plain": [
       "(0.6045978665351868, 0.7128731608390808, 0.5261974334716797)"
      ]
     },
     "execution_count": 12,
     "metadata": {},
     "output_type": "execute_result"
    }
   ],
   "source": [
    "c[0].item(), c[1].item(), c[2].item()"
   ]
  },
  {
   "cell_type": "code",
   "execution_count": 13,
   "id": "b98f92bf-9962-489f-9227-b76507c0b39d",
   "metadata": {},
   "outputs": [],
   "source": [
    "# Average F1-score using bootstrap\n",
    "act = []\n",
    "val = []\n",
    "dom = []\n",
    "\n",
    "for i in range(100):\n",
    "    preds_subset = preds.sample(1000).reset_index(drop=True)\n",
    "    c = CCC_loss(preds_subset[['EmoAct_pred','EmoVal_pred','EmoDom_pred']].values,preds_subset[['EmoAct','EmoVal','EmoDom']].values)\n",
    "\n",
    "    act.append(c[0].item())\n",
    "    val.append(c[1].item())\n",
    "    dom.append(c[2].item())"
   ]
  },
  {
   "cell_type": "code",
   "execution_count": 14,
   "id": "1140d5bf-8dbc-4d58-9339-0d1aef7f5d81",
   "metadata": {},
   "outputs": [
    {
     "data": {
      "text/plain": [
       "(0.6074517786502838, 0.7115796327590942, 0.5291915512084961)"
      ]
     },
     "execution_count": 14,
     "metadata": {},
     "output_type": "execute_result"
    }
   ],
   "source": [
    "np.mean(act), np.mean(val), np.mean(dom)"
   ]
  },
  {
   "cell_type": "code",
   "execution_count": 15,
   "id": "0f73044a-a0e7-4722-8de1-fa11f4aef6e8",
   "metadata": {},
   "outputs": [
    {
     "data": {
      "text/plain": [
       "(0.020170189004072962, 0.015535349485199986, 0.02261652940041456)"
      ]
     },
     "execution_count": 15,
     "metadata": {},
     "output_type": "execute_result"
    }
   ],
   "source": [
    "np.std(act), np.std(val), np.std(dom)"
   ]
  },
  {
   "cell_type": "code",
   "execution_count": 16,
   "id": "e4940eb7-460e-410d-907b-a8081584ef5c",
   "metadata": {},
   "outputs": [
    {
     "data": {
      "text/plain": [
       "(0.5569736361503601, 0.6673967838287354, 0.46635887026786804)"
      ]
     },
     "execution_count": 16,
     "metadata": {},
     "output_type": "execute_result"
    }
   ],
   "source": [
    "np.min(act), np.min(val), np.min(dom)"
   ]
  },
  {
   "cell_type": "code",
   "execution_count": 17,
   "id": "6385ec6a-1740-425e-9c57-8367deb8e087",
   "metadata": {},
   "outputs": [
    {
     "data": {
      "text/plain": [
       "(0.6555277109146118, 0.7646738290786743, 0.5797133445739746)"
      ]
     },
     "execution_count": 17,
     "metadata": {},
     "output_type": "execute_result"
    }
   ],
   "source": [
    "np.max(act), np.max(val), np.max(dom)"
   ]
  },
  {
   "cell_type": "markdown",
   "id": "634254be-044f-4c78-af80-58f9c9f0b2c8",
   "metadata": {},
   "source": [
    "# per gender"
   ]
  },
  {
   "cell_type": "code",
   "execution_count": 18,
   "id": "e17f022c-4f38-43f0-a95b-ab923854482a",
   "metadata": {},
   "outputs": [
    {
     "data": {
      "text/plain": [
       "tensor([0.5436, 0.6877, 0.4585])"
      ]
     },
     "execution_count": 18,
     "metadata": {},
     "output_type": "execute_result"
    }
   ],
   "source": [
    "preds_subset = preds[preds['Gender'] == 'Female']\n",
    "c = CCC_loss(preds_subset[['EmoAct_pred','EmoVal_pred','EmoDom_pred']].values,preds_subset[['EmoAct','EmoVal','EmoDom']].values)\n",
    "c"
   ]
  },
  {
   "cell_type": "code",
   "execution_count": 19,
   "id": "fbb91e4c-fbfd-42f2-a05d-03474776871d",
   "metadata": {},
   "outputs": [
    {
     "data": {
      "text/plain": [
       "tensor([0.6683, 0.7310, 0.6156])"
      ]
     },
     "execution_count": 19,
     "metadata": {},
     "output_type": "execute_result"
    }
   ],
   "source": [
    "preds_subset = preds[preds['Gender'] == 'Male']\n",
    "c = CCC_loss(preds_subset[['EmoAct_pred','EmoVal_pred','EmoDom_pred']].values,preds_subset[['EmoAct','EmoVal','EmoDom']].values)\n",
    "c"
   ]
  },
  {
   "cell_type": "code",
   "execution_count": null,
   "id": "4e7df574-b62f-479a-a897-002da5f20de3",
   "metadata": {},
   "outputs": [],
   "source": []
  },
  {
   "cell_type": "code",
   "execution_count": null,
   "id": "37a2a4cd-ce51-4604-ad86-923c448fe48f",
   "metadata": {},
   "outputs": [],
   "source": []
  }
 ],
 "metadata": {
  "kernelspec": {
   "display_name": "Python 3 (ipykernel)",
   "language": "python",
   "name": "python3"
  },
  "language_info": {
   "codemirror_mode": {
    "name": "ipython",
    "version": 3
   },
   "file_extension": ".py",
   "mimetype": "text/x-python",
   "name": "python",
   "nbconvert_exporter": "python",
   "pygments_lexer": "ipython3",
   "version": "3.10.8"
  }
 },
 "nbformat": 4,
 "nbformat_minor": 5
}
