{
 "cells": [
  {
   "cell_type": "code",
   "execution_count": 1,
   "id": "d434e863-5d2b-48f5-bed0-f5ef27e31779",
   "metadata": {},
   "outputs": [],
   "source": [
    "#Testing models"
   ]
  },
  {
   "cell_type": "code",
   "execution_count": 1,
   "id": "55e3c5c6-ad54-44f1-8ca7-71f19638e6ac",
   "metadata": {},
   "outputs": [],
   "source": [
    "# -*- coding: UTF-8 -*-\n",
    "# Local modules\n",
    "import os\n",
    "import sys\n",
    "import argparse\n",
    "# 3rd-Party Modules\n",
    "import numpy as np\n",
    "import pickle as pk\n",
    "import pandas as pd\n",
    "from tqdm import tqdm\n",
    "import glob\n",
    "import librosa\n",
    "import copy\n",
    "\n",
    "# PyTorch Modules\n",
    "import torch\n",
    "import torch.nn as nn\n",
    "import torch.optim as optim\n",
    "import torch.nn.functional as F\n",
    "from torch.utils.data import ConcatDataset, DataLoader\n",
    "import torch.optim as optim\n",
    "from transformers import AutoModel\n",
    "import importlib\n",
    "# Self-Written Modules\n",
    "sys.path.append(os.getcwd())\n",
    "sys.path.append('../')\n",
    "from benchmark import net\n",
    "from benchmark import utils"
   ]
  },
  {
   "cell_type": "code",
   "execution_count": null,
   "id": "e2611876-e5ea-4813-99f3-c3802b27fda5",
   "metadata": {},
   "outputs": [],
   "source": []
  },
  {
   "cell_type": "code",
   "execution_count": 9,
   "id": "25d6ff28-0a32-4064-8d57-2714d6bc8b12",
   "metadata": {},
   "outputs": [
    {
     "data": {
      "text/plain": [
       "['MSP-PODCAST_0656_0234.pt',\n",
       " 'MSP-PODCAST_2796_0625.pt',\n",
       " 'MSP-PODCAST_3571_0440_0001.pt']"
      ]
     },
     "execution_count": 9,
     "metadata": {},
     "output_type": "execute_result"
    }
   ],
   "source": [
    "os.listdir('../data_tmp/wavlm_large_meanlast4')[:3]"
   ]
  },
  {
   "cell_type": "code",
   "execution_count": 11,
   "id": "3ad72b5b-ee3c-464c-8979-16050e9dcda9",
   "metadata": {},
   "outputs": [
    {
     "data": {
      "text/plain": [
       "(tensor(0.1361), tensor(-0.0005))"
      ]
     },
     "execution_count": 11,
     "metadata": {},
     "output_type": "execute_result"
    }
   ],
   "source": [
    "x = torch.load('../data_tmp/wavlm_large_meanlast4/MSP-PODCAST_2796_0625.pt', map_location='cpu')\n",
    "y = torch.load('../data_tmp/wavlm_large/MSP-PODCAST_2796_0625.pt', map_location='cpu')\n",
    "\n",
    "x.mean(), y.mean()"
   ]
  },
  {
   "cell_type": "code",
   "execution_count": 2,
   "id": "4c50f065-1053-46d2-aae0-c3d7a476b544",
   "metadata": {},
   "outputs": [],
   "source": [
    "# !pip install --upgrade transformers"
   ]
  },
  {
   "cell_type": "code",
   "execution_count": 3,
   "id": "186cee5c-7e41-462e-b29c-3ff10d7a0c3d",
   "metadata": {},
   "outputs": [
    {
     "data": {
      "text/plain": [
       "'4.47.1'"
      ]
     },
     "execution_count": 3,
     "metadata": {},
     "output_type": "execute_result"
    }
   ],
   "source": [
    "import transformers\n",
    "transformers.__version__"
   ]
  },
  {
   "cell_type": "code",
   "execution_count": 4,
   "id": "330ef03e-475e-47e7-8785-b3c414851894",
   "metadata": {},
   "outputs": [],
   "source": [
    "# ssl_model = AutoModel.from_pretrained('microsoft/wavlm-base')\n",
    "# ssl_model.freeze_feature_encoder()\n",
    "# ssl_model.eval();"
   ]
  },
  {
   "cell_type": "code",
   "execution_count": 5,
   "id": "cc15952e-9379-401f-87e3-7e5d62c97325",
   "metadata": {},
   "outputs": [],
   "source": [
    "# ssl_model.config.hidden_size"
   ]
  },
  {
   "cell_type": "code",
   "execution_count": 6,
   "id": "a05e1bff-b80d-4ba0-86d4-9b920f12668b",
   "metadata": {},
   "outputs": [],
   "source": [
    "# torch.cuda.empty_cache()\n",
    "# del transcriber"
   ]
  },
  {
   "cell_type": "code",
   "execution_count": 7,
   "id": "e050e22e-4aab-4ea1-b09d-029b0af725c7",
   "metadata": {
    "scrolled": true
   },
   "outputs": [
    {
     "ename": "RuntimeError",
     "evalue": "CUDA error: out of memory\nCUDA kernel errors might be asynchronously reported at some other API call,so the stacktrace below might be incorrect.\nFor debugging consider passing CUDA_LAUNCH_BLOCKING=1.",
     "output_type": "error",
     "traceback": [
      "\u001b[0;31m---------------------------------------------------------------------------\u001b[0m",
      "\u001b[0;31mRuntimeError\u001b[0m                              Traceback (most recent call last)",
      "Cell \u001b[0;32mIn[7], line 10\u001b[0m\n\u001b[1;32m      7\u001b[0m \u001b[38;5;28;01mimport\u001b[39;00m \u001b[38;5;21;01mtorch\u001b[39;00m\n\u001b[1;32m      9\u001b[0m \u001b[38;5;66;03m# Load model and processor\u001b[39;00m\n\u001b[0;32m---> 10\u001b[0m model \u001b[38;5;241m=\u001b[39m \u001b[43mAutoModelForSpeechSeq2Seq\u001b[49m\u001b[38;5;241;43m.\u001b[39;49m\u001b[43mfrom_pretrained\u001b[49m\u001b[43m(\u001b[49m\u001b[38;5;124;43m\"\u001b[39;49m\u001b[38;5;124;43mopenai/whisper-large-v3\u001b[39;49m\u001b[38;5;124;43m\"\u001b[39;49m\u001b[43m)\u001b[49m\u001b[38;5;241;43m.\u001b[39;49m\u001b[43mto\u001b[49m\u001b[43m(\u001b[49m\u001b[38;5;124;43m\"\u001b[39;49m\u001b[38;5;124;43mcuda\u001b[39;49m\u001b[38;5;124;43m\"\u001b[39;49m\u001b[43m)\u001b[49m\n\u001b[1;32m     11\u001b[0m processor \u001b[38;5;241m=\u001b[39m AutoProcessor\u001b[38;5;241m.\u001b[39mfrom_pretrained(\u001b[38;5;124m\"\u001b[39m\u001b[38;5;124mopenai/whisper-large-v3\u001b[39m\u001b[38;5;124m\"\u001b[39m)\n\u001b[1;32m     13\u001b[0m \u001b[38;5;66;03m# Disable gradient computation\u001b[39;00m\n",
      "File \u001b[0;32m/opt/conda/lib/python3.10/site-packages/transformers/modeling_utils.py:3164\u001b[0m, in \u001b[0;36mPreTrainedModel.to\u001b[0;34m(self, *args, **kwargs)\u001b[0m\n\u001b[1;32m   3159\u001b[0m     \u001b[38;5;28;01mif\u001b[39;00m dtype_present_in_args:\n\u001b[1;32m   3160\u001b[0m         \u001b[38;5;28;01mraise\u001b[39;00m \u001b[38;5;167;01mValueError\u001b[39;00m(\n\u001b[1;32m   3161\u001b[0m             \u001b[38;5;124m\"\u001b[39m\u001b[38;5;124mYou cannot cast a GPTQ model in a new `dtype`. Make sure to load the model using `from_pretrained` using the desired\u001b[39m\u001b[38;5;124m\"\u001b[39m\n\u001b[1;32m   3162\u001b[0m             \u001b[38;5;124m\"\u001b[39m\u001b[38;5;124m `dtype` by passing the correct `torch_dtype` argument.\u001b[39m\u001b[38;5;124m\"\u001b[39m\n\u001b[1;32m   3163\u001b[0m         )\n\u001b[0;32m-> 3164\u001b[0m \u001b[38;5;28;01mreturn\u001b[39;00m \u001b[38;5;28;43msuper\u001b[39;49m\u001b[43m(\u001b[49m\u001b[43m)\u001b[49m\u001b[38;5;241;43m.\u001b[39;49m\u001b[43mto\u001b[49m\u001b[43m(\u001b[49m\u001b[38;5;241;43m*\u001b[39;49m\u001b[43margs\u001b[49m\u001b[43m,\u001b[49m\u001b[43m \u001b[49m\u001b[38;5;241;43m*\u001b[39;49m\u001b[38;5;241;43m*\u001b[39;49m\u001b[43mkwargs\u001b[49m\u001b[43m)\u001b[49m\n",
      "File \u001b[0;32m/opt/conda/lib/python3.10/site-packages/torch/nn/modules/module.py:987\u001b[0m, in \u001b[0;36mModule.to\u001b[0;34m(self, *args, **kwargs)\u001b[0m\n\u001b[1;32m    983\u001b[0m         \u001b[38;5;28;01mreturn\u001b[39;00m t\u001b[38;5;241m.\u001b[39mto(device, dtype \u001b[38;5;28;01mif\u001b[39;00m t\u001b[38;5;241m.\u001b[39mis_floating_point() \u001b[38;5;129;01mor\u001b[39;00m t\u001b[38;5;241m.\u001b[39mis_complex() \u001b[38;5;28;01melse\u001b[39;00m \u001b[38;5;28;01mNone\u001b[39;00m,\n\u001b[1;32m    984\u001b[0m                     non_blocking, memory_format\u001b[38;5;241m=\u001b[39mconvert_to_format)\n\u001b[1;32m    985\u001b[0m     \u001b[38;5;28;01mreturn\u001b[39;00m t\u001b[38;5;241m.\u001b[39mto(device, dtype \u001b[38;5;28;01mif\u001b[39;00m t\u001b[38;5;241m.\u001b[39mis_floating_point() \u001b[38;5;129;01mor\u001b[39;00m t\u001b[38;5;241m.\u001b[39mis_complex() \u001b[38;5;28;01melse\u001b[39;00m \u001b[38;5;28;01mNone\u001b[39;00m, non_blocking)\n\u001b[0;32m--> 987\u001b[0m \u001b[38;5;28;01mreturn\u001b[39;00m \u001b[38;5;28;43mself\u001b[39;49m\u001b[38;5;241;43m.\u001b[39;49m\u001b[43m_apply\u001b[49m\u001b[43m(\u001b[49m\u001b[43mconvert\u001b[49m\u001b[43m)\u001b[49m\n",
      "File \u001b[0;32m/opt/conda/lib/python3.10/site-packages/torch/nn/modules/module.py:639\u001b[0m, in \u001b[0;36mModule._apply\u001b[0;34m(self, fn)\u001b[0m\n\u001b[1;32m    637\u001b[0m \u001b[38;5;28;01mdef\u001b[39;00m \u001b[38;5;21m_apply\u001b[39m(\u001b[38;5;28mself\u001b[39m, fn):\n\u001b[1;32m    638\u001b[0m     \u001b[38;5;28;01mfor\u001b[39;00m module \u001b[38;5;129;01min\u001b[39;00m \u001b[38;5;28mself\u001b[39m\u001b[38;5;241m.\u001b[39mchildren():\n\u001b[0;32m--> 639\u001b[0m         \u001b[43mmodule\u001b[49m\u001b[38;5;241;43m.\u001b[39;49m\u001b[43m_apply\u001b[49m\u001b[43m(\u001b[49m\u001b[43mfn\u001b[49m\u001b[43m)\u001b[49m\n\u001b[1;32m    641\u001b[0m     \u001b[38;5;28;01mdef\u001b[39;00m \u001b[38;5;21mcompute_should_use_set_data\u001b[39m(tensor, tensor_applied):\n\u001b[1;32m    642\u001b[0m         \u001b[38;5;28;01mif\u001b[39;00m torch\u001b[38;5;241m.\u001b[39m_has_compatible_shallow_copy_type(tensor, tensor_applied):\n\u001b[1;32m    643\u001b[0m             \u001b[38;5;66;03m# If the new tensor has compatible tensor type as the existing tensor,\u001b[39;00m\n\u001b[1;32m    644\u001b[0m             \u001b[38;5;66;03m# the current behavior is to change the tensor in-place using `.data =`,\u001b[39;00m\n\u001b[0;32m   (...)\u001b[0m\n\u001b[1;32m    649\u001b[0m             \u001b[38;5;66;03m# global flag to let the user control whether they want the future\u001b[39;00m\n\u001b[1;32m    650\u001b[0m             \u001b[38;5;66;03m# behavior of overwriting the existing tensor or not.\u001b[39;00m\n",
      "File \u001b[0;32m/opt/conda/lib/python3.10/site-packages/torch/nn/modules/module.py:639\u001b[0m, in \u001b[0;36mModule._apply\u001b[0;34m(self, fn)\u001b[0m\n\u001b[1;32m    637\u001b[0m \u001b[38;5;28;01mdef\u001b[39;00m \u001b[38;5;21m_apply\u001b[39m(\u001b[38;5;28mself\u001b[39m, fn):\n\u001b[1;32m    638\u001b[0m     \u001b[38;5;28;01mfor\u001b[39;00m module \u001b[38;5;129;01min\u001b[39;00m \u001b[38;5;28mself\u001b[39m\u001b[38;5;241m.\u001b[39mchildren():\n\u001b[0;32m--> 639\u001b[0m         \u001b[43mmodule\u001b[49m\u001b[38;5;241;43m.\u001b[39;49m\u001b[43m_apply\u001b[49m\u001b[43m(\u001b[49m\u001b[43mfn\u001b[49m\u001b[43m)\u001b[49m\n\u001b[1;32m    641\u001b[0m     \u001b[38;5;28;01mdef\u001b[39;00m \u001b[38;5;21mcompute_should_use_set_data\u001b[39m(tensor, tensor_applied):\n\u001b[1;32m    642\u001b[0m         \u001b[38;5;28;01mif\u001b[39;00m torch\u001b[38;5;241m.\u001b[39m_has_compatible_shallow_copy_type(tensor, tensor_applied):\n\u001b[1;32m    643\u001b[0m             \u001b[38;5;66;03m# If the new tensor has compatible tensor type as the existing tensor,\u001b[39;00m\n\u001b[1;32m    644\u001b[0m             \u001b[38;5;66;03m# the current behavior is to change the tensor in-place using `.data =`,\u001b[39;00m\n\u001b[0;32m   (...)\u001b[0m\n\u001b[1;32m    649\u001b[0m             \u001b[38;5;66;03m# global flag to let the user control whether they want the future\u001b[39;00m\n\u001b[1;32m    650\u001b[0m             \u001b[38;5;66;03m# behavior of overwriting the existing tensor or not.\u001b[39;00m\n",
      "File \u001b[0;32m/opt/conda/lib/python3.10/site-packages/torch/nn/modules/module.py:639\u001b[0m, in \u001b[0;36mModule._apply\u001b[0;34m(self, fn)\u001b[0m\n\u001b[1;32m    637\u001b[0m \u001b[38;5;28;01mdef\u001b[39;00m \u001b[38;5;21m_apply\u001b[39m(\u001b[38;5;28mself\u001b[39m, fn):\n\u001b[1;32m    638\u001b[0m     \u001b[38;5;28;01mfor\u001b[39;00m module \u001b[38;5;129;01min\u001b[39;00m \u001b[38;5;28mself\u001b[39m\u001b[38;5;241m.\u001b[39mchildren():\n\u001b[0;32m--> 639\u001b[0m         \u001b[43mmodule\u001b[49m\u001b[38;5;241;43m.\u001b[39;49m\u001b[43m_apply\u001b[49m\u001b[43m(\u001b[49m\u001b[43mfn\u001b[49m\u001b[43m)\u001b[49m\n\u001b[1;32m    641\u001b[0m     \u001b[38;5;28;01mdef\u001b[39;00m \u001b[38;5;21mcompute_should_use_set_data\u001b[39m(tensor, tensor_applied):\n\u001b[1;32m    642\u001b[0m         \u001b[38;5;28;01mif\u001b[39;00m torch\u001b[38;5;241m.\u001b[39m_has_compatible_shallow_copy_type(tensor, tensor_applied):\n\u001b[1;32m    643\u001b[0m             \u001b[38;5;66;03m# If the new tensor has compatible tensor type as the existing tensor,\u001b[39;00m\n\u001b[1;32m    644\u001b[0m             \u001b[38;5;66;03m# the current behavior is to change the tensor in-place using `.data =`,\u001b[39;00m\n\u001b[0;32m   (...)\u001b[0m\n\u001b[1;32m    649\u001b[0m             \u001b[38;5;66;03m# global flag to let the user control whether they want the future\u001b[39;00m\n\u001b[1;32m    650\u001b[0m             \u001b[38;5;66;03m# behavior of overwriting the existing tensor or not.\u001b[39;00m\n",
      "File \u001b[0;32m/opt/conda/lib/python3.10/site-packages/torch/nn/modules/module.py:662\u001b[0m, in \u001b[0;36mModule._apply\u001b[0;34m(self, fn)\u001b[0m\n\u001b[1;32m    658\u001b[0m \u001b[38;5;66;03m# Tensors stored in modules are graph leaves, and we don't want to\u001b[39;00m\n\u001b[1;32m    659\u001b[0m \u001b[38;5;66;03m# track autograd history of `param_applied`, so we have to use\u001b[39;00m\n\u001b[1;32m    660\u001b[0m \u001b[38;5;66;03m# `with torch.no_grad():`\u001b[39;00m\n\u001b[1;32m    661\u001b[0m \u001b[38;5;28;01mwith\u001b[39;00m torch\u001b[38;5;241m.\u001b[39mno_grad():\n\u001b[0;32m--> 662\u001b[0m     param_applied \u001b[38;5;241m=\u001b[39m \u001b[43mfn\u001b[49m\u001b[43m(\u001b[49m\u001b[43mparam\u001b[49m\u001b[43m)\u001b[49m\n\u001b[1;32m    663\u001b[0m should_use_set_data \u001b[38;5;241m=\u001b[39m compute_should_use_set_data(param, param_applied)\n\u001b[1;32m    664\u001b[0m \u001b[38;5;28;01mif\u001b[39;00m should_use_set_data:\n",
      "File \u001b[0;32m/opt/conda/lib/python3.10/site-packages/torch/nn/modules/module.py:985\u001b[0m, in \u001b[0;36mModule.to.<locals>.convert\u001b[0;34m(t)\u001b[0m\n\u001b[1;32m    982\u001b[0m \u001b[38;5;28;01mif\u001b[39;00m convert_to_format \u001b[38;5;129;01mis\u001b[39;00m \u001b[38;5;129;01mnot\u001b[39;00m \u001b[38;5;28;01mNone\u001b[39;00m \u001b[38;5;129;01mand\u001b[39;00m t\u001b[38;5;241m.\u001b[39mdim() \u001b[38;5;129;01min\u001b[39;00m (\u001b[38;5;241m4\u001b[39m, \u001b[38;5;241m5\u001b[39m):\n\u001b[1;32m    983\u001b[0m     \u001b[38;5;28;01mreturn\u001b[39;00m t\u001b[38;5;241m.\u001b[39mto(device, dtype \u001b[38;5;28;01mif\u001b[39;00m t\u001b[38;5;241m.\u001b[39mis_floating_point() \u001b[38;5;129;01mor\u001b[39;00m t\u001b[38;5;241m.\u001b[39mis_complex() \u001b[38;5;28;01melse\u001b[39;00m \u001b[38;5;28;01mNone\u001b[39;00m,\n\u001b[1;32m    984\u001b[0m                 non_blocking, memory_format\u001b[38;5;241m=\u001b[39mconvert_to_format)\n\u001b[0;32m--> 985\u001b[0m \u001b[38;5;28;01mreturn\u001b[39;00m \u001b[43mt\u001b[49m\u001b[38;5;241;43m.\u001b[39;49m\u001b[43mto\u001b[49m\u001b[43m(\u001b[49m\u001b[43mdevice\u001b[49m\u001b[43m,\u001b[49m\u001b[43m \u001b[49m\u001b[43mdtype\u001b[49m\u001b[43m \u001b[49m\u001b[38;5;28;43;01mif\u001b[39;49;00m\u001b[43m \u001b[49m\u001b[43mt\u001b[49m\u001b[38;5;241;43m.\u001b[39;49m\u001b[43mis_floating_point\u001b[49m\u001b[43m(\u001b[49m\u001b[43m)\u001b[49m\u001b[43m \u001b[49m\u001b[38;5;129;43;01mor\u001b[39;49;00m\u001b[43m \u001b[49m\u001b[43mt\u001b[49m\u001b[38;5;241;43m.\u001b[39;49m\u001b[43mis_complex\u001b[49m\u001b[43m(\u001b[49m\u001b[43m)\u001b[49m\u001b[43m \u001b[49m\u001b[38;5;28;43;01melse\u001b[39;49;00m\u001b[43m \u001b[49m\u001b[38;5;28;43;01mNone\u001b[39;49;00m\u001b[43m,\u001b[49m\u001b[43m \u001b[49m\u001b[43mnon_blocking\u001b[49m\u001b[43m)\u001b[49m\n",
      "\u001b[0;31mRuntimeError\u001b[0m: CUDA error: out of memory\nCUDA kernel errors might be asynchronously reported at some other API call,so the stacktrace below might be incorrect.\nFor debugging consider passing CUDA_LAUNCH_BLOCKING=1."
     ]
    }
   ],
   "source": [
    "from transformers import pipeline\n",
    "import numpy as np\n",
    "\n",
    "# transcriber = pipeline(\"automatic-speech-recognition\", model=\"openai/whisper-large-v3\", device=0, batch_size= 64)\n",
    "\n",
    "from transformers import AutoModelForSpeechSeq2Seq, AutoProcessor\n",
    "import torch\n",
    "\n",
    "# Load model and processor\n",
    "model = AutoModelForSpeechSeq2Seq.from_pretrained(\"openai/whisper-large-v3\").to(\"cuda\")\n",
    "processor = AutoProcessor.from_pretrained(\"openai/whisper-large-v3\")\n",
    "\n",
    "# Disable gradient computation\n",
    "model.eval()"
   ]
  },
  {
   "cell_type": "code",
   "execution_count": null,
   "id": "c4545b61-6315-4e46-ad96-7c3c5275253c",
   "metadata": {},
   "outputs": [],
   "source": [
    "\n",
    "import logging"
   ]
  },
  {
   "cell_type": "code",
   "execution_count": null,
   "id": "f141031d-e030-46c4-bd4b-028a56b0f46c",
   "metadata": {},
   "outputs": [],
   "source": [
    "df = pd.read_csv('../benchmark/processed_labels.csv')\n",
    "df.head(2)"
   ]
  },
  {
   "cell_type": "code",
   "execution_count": null,
   "id": "9d0358d5-3178-4e97-8554-a8583df6ef0d",
   "metadata": {},
   "outputs": [],
   "source": [
    "!ls ../data/Labels/labels_consensus.csv"
   ]
  },
  {
   "cell_type": "code",
   "execution_count": null,
   "id": "06e2f69c-2bae-479d-ae83-4f34dd0014c3",
   "metadata": {},
   "outputs": [],
   "source": [
    "df = pd.read_csv('../data/Labels/labels_consensus.csv')\n",
    "df.head(2)"
   ]
  },
  {
   "cell_type": "code",
   "execution_count": null,
   "id": "c3a7e95b-6b51-4f10-bed1-9697f3651e6b",
   "metadata": {},
   "outputs": [],
   "source": [
    "def transcribe(audio_files, batch_size=8):\n",
    "    results = []\n",
    "    for i in range(0, len(audio_files), batch_size):\n",
    "        batch = audio_files[i:i + batch_size]\n",
    "\n",
    "        # Prepare inputs\n",
    "        inputs = processor(batch, sampling_rate=16000, return_tensors=\"pt\", padding=True)\n",
    "\n",
    "        # Move inputs to GPU\n",
    "        input_features = inputs[\"input_features\"].to(\"cuda\")\n",
    "\n",
    "        # Perform inference\n",
    "        with torch.no_grad():\n",
    "            output = model.generate(input_features)\n",
    "\n",
    "        # Decode and store results\n",
    "        transcriptions = processor.batch_decode(output, skip_special_tokens=True)\n",
    "        results.extend(transcriptions)\n",
    "    return results"
   ]
  },
  {
   "cell_type": "code",
   "execution_count": null,
   "id": "5e37cac7-9f76-4392-b0c2-c3e9321247d7",
   "metadata": {},
   "outputs": [],
   "source": [
    "# # Prepare inputs\n",
    "# inputs = processor(batch, sampling_rate=16000, return_tensors=\"pt\", padding=True)\n",
    "\n",
    "# # Move inputs to GPU\n",
    "# input_features = inputs[\"input_features\"].to(\"cuda\")\n",
    "\n",
    "# # Perform inference\n",
    "# with torch.no_grad():\n",
    "#     output = model.generate(input_features)\n",
    "\n",
    "# # Decode and store results\n",
    "# transcriptions = processor.batch_decode(output, skip_special_tokens=True)"
   ]
  },
  {
   "cell_type": "code",
   "execution_count": 14,
   "id": "eaa531e1-8c36-4615-9f23-8eb73ec72807",
   "metadata": {},
   "outputs": [
    {
     "name": "stderr",
     "output_type": "stream",
     "text": [
      "Due to a bug fix in https://github.com/huggingface/transformers/pull/28687 transcription using a multilingual Whisper will default to language detection followed by transcription instead of translation to English.This might be a breaking change for your use case. If you want to instead always translate your audio to English, make sure to pass `language='en'`.\n",
      "Passing a tuple of `past_key_values` is deprecated and will be removed in Transformers v4.43.0. You should pass an instance of `EncoderDecoderCache` instead, e.g. `past_key_values=EncoderDecoderCache.from_legacy_cache(past_key_values)`.\n",
      "The attention mask is not set and cannot be inferred from input because pad token is same as eos token. As a consequence, you may observe unexpected behavior. Please pass your input's `attention_mask` to obtain reliable results.\n"
     ]
    },
    {
     "data": {
      "text/plain": [
       "[\" 1500 or something. It talks about the two different medical devices that they're authorizing them to use. And part one of them is for them to allow these chips to go into our bodies for medical purposes.\",\n",
       " \" 1500 or something. It talks about the two different medical devices that they're authorizing them to use. And part one of them is for them to allow these chips to go into our bodies for medical purposes.\"]"
      ]
     },
     "execution_count": 14,
     "metadata": {},
     "output_type": "execute_result"
    }
   ],
   "source": [
    "sample = f\"../data/Audios/{df.FileName.values[1]}\"\n",
    "\n",
    "y, sr = librosa.load(sample)\n",
    "\n",
    "# result = transcriber({\"sampling_rate\": sr, \"raw\": y})[\"text\"]  \n",
    "\n",
    "inputs = processor([y,y], sampling_rate=16000, return_tensors=\"pt\")#,  padding=True, max_length=3000)\n",
    "\n",
    "# inputs[\"input_features\"].shape\n",
    "\n",
    "# # Move inputs to GPU\n",
    "input_features = inputs[\"input_features\"].to(\"cuda\")\n",
    "\n",
    "# # # Perform inference\n",
    "with torch.no_grad():\n",
    "    output = model.generate(input_features)\n",
    "\n",
    "# # # Decode and store results\n",
    "transcriptions = processor.batch_decode(output, skip_special_tokens=True)\n",
    "transcriptions"
   ]
  },
  {
   "cell_type": "code",
   "execution_count": 15,
   "id": "bd7ac7de-49fe-4eea-8db1-651c88b8e677",
   "metadata": {},
   "outputs": [],
   "source": [
    "def transcribe_it(y):\n",
    "    # y, sr = librosa.load(w_path)\n",
    "\n",
    "    # result = transcriber({\"sampling_rate\": sr, \"raw\": y})[\"text\"]  \n",
    "    \n",
    "    inputs = processor(y, sampling_rate=16000, return_tensors=\"pt\")#,  padding=True, max_length=3000)\n",
    "    \n",
    "    # inputs[\"input_features\"].shape\n",
    "    \n",
    "    # # Move inputs to GPU\n",
    "    input_features = inputs[\"input_features\"].to(\"cuda\")\n",
    "    \n",
    "    # # # Perform inference\n",
    "    with torch.inference_mode():\n",
    "        output = model.generate(input_features)\n",
    "\n",
    "    del input_features \n",
    "    \n",
    "    # # # Decode and store results\n",
    "    transcriptions = processor.batch_decode(output, skip_special_tokens=True)\n",
    "    return transcriptions"
   ]
  },
  {
   "cell_type": "code",
   "execution_count": 16,
   "id": "55851fbd-c0a0-465a-87b7-512cfe9840cf",
   "metadata": {},
   "outputs": [
    {
     "data": {
      "text/plain": [
       "[\" 1500 or something. It talks about the two different medical devices that they're authorizing them to use. And part one of them is for them to allow these chips to go into our bodies for medical purposes.\"]"
      ]
     },
     "execution_count": 16,
     "metadata": {},
     "output_type": "execute_result"
    }
   ],
   "source": [
    " y, sr = librosa.load(sample)\n",
    "\n",
    "transcribe_it(y)"
   ]
  },
  {
   "cell_type": "code",
   "execution_count": null,
   "id": "ac5fa604-04a5-4e39-8506-64e7c10d0463",
   "metadata": {},
   "outputs": [],
   "source": []
  },
  {
   "cell_type": "code",
   "execution_count": 18,
   "id": "cc8f6be1-112f-487b-b342-9d3e971b9a2a",
   "metadata": {},
   "outputs": [
    {
     "data": {
      "text/html": [
       "<div>\n",
       "<style scoped>\n",
       "    .dataframe tbody tr th:only-of-type {\n",
       "        vertical-align: middle;\n",
       "    }\n",
       "\n",
       "    .dataframe tbody tr th {\n",
       "        vertical-align: top;\n",
       "    }\n",
       "\n",
       "    .dataframe thead th {\n",
       "        text-align: right;\n",
       "    }\n",
       "</style>\n",
       "<table border=\"1\" class=\"dataframe\">\n",
       "  <thead>\n",
       "    <tr style=\"text-align: right;\">\n",
       "      <th></th>\n",
       "      <th>FileName</th>\n",
       "      <th>EmoClass</th>\n",
       "    </tr>\n",
       "  </thead>\n",
       "  <tbody>\n",
       "    <tr>\n",
       "      <th>0</th>\n",
       "      <td>MSP-PODCAST_test3_0001.wav</td>\n",
       "      <td>C</td>\n",
       "    </tr>\n",
       "    <tr>\n",
       "      <th>1</th>\n",
       "      <td>MSP-PODCAST_test3_0002.wav</td>\n",
       "      <td>C</td>\n",
       "    </tr>\n",
       "  </tbody>\n",
       "</table>\n",
       "</div>"
      ],
      "text/plain": [
       "                     FileName EmoClass\n",
       "0  MSP-PODCAST_test3_0001.wav        C\n",
       "1  MSP-PODCAST_test3_0002.wav        C"
      ]
     },
     "execution_count": 18,
     "metadata": {},
     "output_type": "execute_result"
    }
   ],
   "source": [
    "df = pd.read_csv('../test/Categorical_test.csv')\n",
    "df.head(2)"
   ]
  },
  {
   "cell_type": "code",
   "execution_count": 19,
   "id": "eba8a72d-e9aa-4c94-bf6e-94b8b801b4b3",
   "metadata": {},
   "outputs": [],
   "source": [
    "wav_files = [f\"../data/Audios/{f}\" for f in df.FileName]\n",
    "file_ids = df.FileName"
   ]
  },
  {
   "cell_type": "code",
   "execution_count": 20,
   "id": "4d244b21-8fc2-4072-917f-bc412c9105b2",
   "metadata": {},
   "outputs": [
    {
     "data": {
      "text/plain": [
       "3200"
      ]
     },
     "execution_count": 20,
     "metadata": {},
     "output_type": "execute_result"
    }
   ],
   "source": [
    "len(file_ids)"
   ]
  },
  {
   "cell_type": "code",
   "execution_count": null,
   "id": "99fbe614-cdff-497c-a29c-1873175ca23d",
   "metadata": {},
   "outputs": [],
   "source": []
  },
  {
   "cell_type": "code",
   "execution_count": 21,
   "id": "4b0e962e-d0f4-4922-ba94-01444c148aac",
   "metadata": {},
   "outputs": [],
   "source": [
    "import os\n",
    "\n",
    "for w in wav_files:\n",
    "    if(not os.path.isfile(w)):\n",
    "        print('error')\n",
    "        break"
   ]
  },
  {
   "cell_type": "code",
   "execution_count": 22,
   "id": "e2a26702-aba8-4b44-a62d-49a35c9ec3d2",
   "metadata": {},
   "outputs": [],
   "source": [
    "# !pip install datasets"
   ]
  },
  {
   "cell_type": "code",
   "execution_count": null,
   "id": "6efd1e4e-cc51-4f26-bda0-8dda79be282f",
   "metadata": {},
   "outputs": [],
   "source": []
  },
  {
   "cell_type": "code",
   "execution_count": 23,
   "id": "67b572f9-5cb5-453a-90dd-1874467f65a0",
   "metadata": {
    "scrolled": true
   },
   "outputs": [
    {
     "name": "stderr",
     "output_type": "stream",
     "text": [
      "  1%|▊                                                                                  | 1/100 [00:33<54:35, 33.08s/it]"
     ]
    },
    {
     "name": "stdout",
     "output_type": "stream",
     "text": [
      "GPU memory allocated: 12.62 GB // GPU memory reserved: 12.98 GB\n"
     ]
    },
    {
     "name": "stderr",
     "output_type": "stream",
     "text": [
      "  2%|█▋                                                                                 | 2/100 [00:55<44:11, 27.05s/it]"
     ]
    },
    {
     "name": "stdout",
     "output_type": "stream",
     "text": [
      "GPU memory allocated: 12.62 GB // GPU memory reserved: 29.81 GB\n"
     ]
    },
    {
     "name": "stderr",
     "output_type": "stream",
     "text": [
      "  3%|██▍                                                                                | 3/100 [01:17<39:26, 24.39s/it]"
     ]
    },
    {
     "name": "stdout",
     "output_type": "stream",
     "text": [
      "GPU memory allocated: 12.62 GB // GPU memory reserved: 29.81 GB\n"
     ]
    },
    {
     "name": "stderr",
     "output_type": "stream",
     "text": [
      "  4%|███▎                                                                               | 4/100 [01:38<37:19, 23.33s/it]"
     ]
    },
    {
     "name": "stdout",
     "output_type": "stream",
     "text": [
      "GPU memory allocated: 12.62 GB // GPU memory reserved: 29.81 GB\n"
     ]
    },
    {
     "name": "stderr",
     "output_type": "stream",
     "text": [
      "  5%|████▏                                                                              | 5/100 [02:00<36:07, 22.81s/it]"
     ]
    },
    {
     "name": "stdout",
     "output_type": "stream",
     "text": [
      "GPU memory allocated: 12.62 GB // GPU memory reserved: 29.90 GB\n"
     ]
    },
    {
     "name": "stderr",
     "output_type": "stream",
     "text": [
      "  6%|████▉                                                                              | 6/100 [02:24<36:04, 23.03s/it]"
     ]
    },
    {
     "name": "stdout",
     "output_type": "stream",
     "text": [
      "GPU memory allocated: 12.62 GB // GPU memory reserved: 12.98 GB\n"
     ]
    },
    {
     "name": "stderr",
     "output_type": "stream",
     "text": [
      "  7%|█████▊                                                                             | 7/100 [02:46<35:06, 22.65s/it]"
     ]
    },
    {
     "name": "stdout",
     "output_type": "stream",
     "text": [
      "GPU memory allocated: 12.62 GB // GPU memory reserved: 29.83 GB\n"
     ]
    },
    {
     "name": "stderr",
     "output_type": "stream",
     "text": [
      "  8%|██████▋                                                                            | 8/100 [03:08<34:28, 22.49s/it]"
     ]
    },
    {
     "name": "stdout",
     "output_type": "stream",
     "text": [
      "GPU memory allocated: 12.62 GB // GPU memory reserved: 29.92 GB\n"
     ]
    },
    {
     "name": "stderr",
     "output_type": "stream",
     "text": [
      "  9%|███████▍                                                                           | 9/100 [03:29<33:34, 22.14s/it]"
     ]
    },
    {
     "name": "stdout",
     "output_type": "stream",
     "text": [
      "GPU memory allocated: 12.62 GB // GPU memory reserved: 29.92 GB\n"
     ]
    },
    {
     "name": "stderr",
     "output_type": "stream",
     "text": [
      " 10%|████████▏                                                                         | 10/100 [03:51<33:09, 22.10s/it]"
     ]
    },
    {
     "name": "stdout",
     "output_type": "stream",
     "text": [
      "GPU memory allocated: 12.62 GB // GPU memory reserved: 29.92 GB\n"
     ]
    },
    {
     "name": "stderr",
     "output_type": "stream",
     "text": [
      " 11%|█████████                                                                         | 11/100 [04:25<38:20, 25.85s/it]"
     ]
    },
    {
     "name": "stdout",
     "output_type": "stream",
     "text": [
      "GPU memory allocated: 12.62 GB // GPU memory reserved: 12.98 GB\n"
     ]
    },
    {
     "name": "stderr",
     "output_type": "stream",
     "text": [
      " 12%|█████████▊                                                                        | 12/100 [04:47<36:00, 24.55s/it]"
     ]
    },
    {
     "name": "stdout",
     "output_type": "stream",
     "text": [
      "GPU memory allocated: 12.62 GB // GPU memory reserved: 29.83 GB\n"
     ]
    },
    {
     "name": "stderr",
     "output_type": "stream",
     "text": [
      " 13%|██████████▋                                                                       | 13/100 [05:09<34:20, 23.69s/it]"
     ]
    },
    {
     "name": "stdout",
     "output_type": "stream",
     "text": [
      "GPU memory allocated: 12.62 GB // GPU memory reserved: 29.86 GB\n"
     ]
    },
    {
     "name": "stderr",
     "output_type": "stream",
     "text": [
      " 14%|███████████▍                                                                      | 14/100 [05:30<32:48, 22.89s/it]"
     ]
    },
    {
     "name": "stdout",
     "output_type": "stream",
     "text": [
      "GPU memory allocated: 12.62 GB // GPU memory reserved: 29.86 GB\n"
     ]
    },
    {
     "name": "stderr",
     "output_type": "stream",
     "text": [
      " 15%|████████████▎                                                                     | 15/100 [05:52<31:59, 22.59s/it]"
     ]
    },
    {
     "name": "stdout",
     "output_type": "stream",
     "text": [
      "GPU memory allocated: 12.62 GB // GPU memory reserved: 29.86 GB\n"
     ]
    },
    {
     "name": "stderr",
     "output_type": "stream",
     "text": [
      " 16%|█████████████                                                                     | 16/100 [06:13<31:01, 22.16s/it]"
     ]
    },
    {
     "name": "stdout",
     "output_type": "stream",
     "text": [
      "GPU memory allocated: 12.62 GB // GPU memory reserved: 12.98 GB\n"
     ]
    },
    {
     "name": "stderr",
     "output_type": "stream",
     "text": [
      " 17%|█████████████▉                                                                    | 17/100 [06:34<30:12, 21.83s/it]"
     ]
    },
    {
     "name": "stdout",
     "output_type": "stream",
     "text": [
      "GPU memory allocated: 12.62 GB // GPU memory reserved: 29.81 GB\n"
     ]
    },
    {
     "name": "stderr",
     "output_type": "stream",
     "text": [
      " 18%|██████████████▊                                                                   | 18/100 [06:54<29:16, 21.42s/it]"
     ]
    },
    {
     "name": "stdout",
     "output_type": "stream",
     "text": [
      "GPU memory allocated: 12.62 GB // GPU memory reserved: 29.81 GB\n"
     ]
    },
    {
     "name": "stderr",
     "output_type": "stream",
     "text": [
      " 19%|███████████████▌                                                                  | 19/100 [07:16<28:48, 21.34s/it]"
     ]
    },
    {
     "name": "stdout",
     "output_type": "stream",
     "text": [
      "GPU memory allocated: 12.62 GB // GPU memory reserved: 29.81 GB\n"
     ]
    },
    {
     "name": "stderr",
     "output_type": "stream",
     "text": [
      " 20%|████████████████▍                                                                 | 20/100 [07:36<28:16, 21.21s/it]"
     ]
    },
    {
     "name": "stdout",
     "output_type": "stream",
     "text": [
      "GPU memory allocated: 12.62 GB // GPU memory reserved: 29.81 GB\n"
     ]
    },
    {
     "name": "stderr",
     "output_type": "stream",
     "text": [
      " 21%|█████████████████▏                                                                | 21/100 [08:10<32:47, 24.91s/it]"
     ]
    },
    {
     "name": "stdout",
     "output_type": "stream",
     "text": [
      "GPU memory allocated: 12.62 GB // GPU memory reserved: 12.98 GB\n"
     ]
    },
    {
     "name": "stderr",
     "output_type": "stream",
     "text": [
      " 22%|██████████████████                                                                | 22/100 [08:31<30:50, 23.73s/it]"
     ]
    },
    {
     "name": "stdout",
     "output_type": "stream",
     "text": [
      "GPU memory allocated: 12.62 GB // GPU memory reserved: 29.81 GB\n"
     ]
    },
    {
     "name": "stderr",
     "output_type": "stream",
     "text": [
      " 23%|██████████████████▊                                                               | 23/100 [08:51<28:58, 22.58s/it]"
     ]
    },
    {
     "name": "stdout",
     "output_type": "stream",
     "text": [
      "GPU memory allocated: 12.62 GB // GPU memory reserved: 29.81 GB\n"
     ]
    },
    {
     "name": "stderr",
     "output_type": "stream",
     "text": [
      " 24%|███████████████████▋                                                              | 24/100 [09:11<27:36, 21.79s/it]"
     ]
    },
    {
     "name": "stdout",
     "output_type": "stream",
     "text": [
      "GPU memory allocated: 12.62 GB // GPU memory reserved: 29.81 GB\n"
     ]
    },
    {
     "name": "stderr",
     "output_type": "stream",
     "text": [
      " 25%|████████████████████▌                                                             | 25/100 [09:32<26:52, 21.49s/it]"
     ]
    },
    {
     "name": "stdout",
     "output_type": "stream",
     "text": [
      "GPU memory allocated: 12.62 GB // GPU memory reserved: 29.81 GB\n"
     ]
    },
    {
     "name": "stderr",
     "output_type": "stream",
     "text": [
      " 26%|█████████████████████▎                                                            | 26/100 [09:53<26:33, 21.54s/it]"
     ]
    },
    {
     "name": "stdout",
     "output_type": "stream",
     "text": [
      "GPU memory allocated: 12.62 GB // GPU memory reserved: 12.98 GB\n"
     ]
    },
    {
     "name": "stderr",
     "output_type": "stream",
     "text": [
      " 27%|██████████████████████▏                                                           | 27/100 [10:14<26:00, 21.38s/it]"
     ]
    },
    {
     "name": "stdout",
     "output_type": "stream",
     "text": [
      "GPU memory allocated: 12.62 GB // GPU memory reserved: 29.81 GB\n"
     ]
    },
    {
     "name": "stderr",
     "output_type": "stream",
     "text": [
      " 28%|██████████████████████▉                                                           | 28/100 [10:35<25:30, 21.26s/it]"
     ]
    },
    {
     "name": "stdout",
     "output_type": "stream",
     "text": [
      "GPU memory allocated: 12.62 GB // GPU memory reserved: 29.81 GB\n"
     ]
    },
    {
     "name": "stderr",
     "output_type": "stream",
     "text": [
      " 29%|███████████████████████▊                                                          | 29/100 [10:56<24:52, 21.02s/it]"
     ]
    },
    {
     "name": "stdout",
     "output_type": "stream",
     "text": [
      "GPU memory allocated: 12.62 GB // GPU memory reserved: 29.81 GB\n"
     ]
    },
    {
     "name": "stderr",
     "output_type": "stream",
     "text": [
      " 30%|████████████████████████▌                                                         | 30/100 [11:16<24:19, 20.85s/it]"
     ]
    },
    {
     "name": "stdout",
     "output_type": "stream",
     "text": [
      "GPU memory allocated: 12.62 GB // GPU memory reserved: 29.81 GB\n"
     ]
    },
    {
     "name": "stderr",
     "output_type": "stream",
     "text": [
      " 31%|█████████████████████████▍                                                        | 31/100 [11:50<28:29, 24.77s/it]"
     ]
    },
    {
     "name": "stdout",
     "output_type": "stream",
     "text": [
      "GPU memory allocated: 12.62 GB // GPU memory reserved: 12.98 GB\n"
     ]
    },
    {
     "name": "stderr",
     "output_type": "stream",
     "text": [
      " 32%|██████████████████████████▏                                                       | 32/100 [12:11<26:43, 23.59s/it]"
     ]
    },
    {
     "name": "stdout",
     "output_type": "stream",
     "text": [
      "GPU memory allocated: 12.62 GB // GPU memory reserved: 29.81 GB\n"
     ]
    },
    {
     "name": "stderr",
     "output_type": "stream",
     "text": [
      " 33%|███████████████████████████                                                       | 33/100 [12:32<25:29, 22.83s/it]"
     ]
    },
    {
     "name": "stdout",
     "output_type": "stream",
     "text": [
      "GPU memory allocated: 12.62 GB // GPU memory reserved: 29.81 GB\n"
     ]
    },
    {
     "name": "stderr",
     "output_type": "stream",
     "text": [
      " 34%|███████████████████████████▉                                                      | 34/100 [12:53<24:23, 22.18s/it]"
     ]
    },
    {
     "name": "stdout",
     "output_type": "stream",
     "text": [
      "GPU memory allocated: 12.62 GB // GPU memory reserved: 29.81 GB\n"
     ]
    },
    {
     "name": "stderr",
     "output_type": "stream",
     "text": [
      " 35%|████████████████████████████▋                                                     | 35/100 [13:14<23:50, 22.01s/it]"
     ]
    },
    {
     "name": "stdout",
     "output_type": "stream",
     "text": [
      "GPU memory allocated: 12.62 GB // GPU memory reserved: 29.81 GB\n"
     ]
    },
    {
     "name": "stderr",
     "output_type": "stream",
     "text": [
      " 36%|█████████████████████████████▌                                                    | 36/100 [13:36<23:22, 21.91s/it]"
     ]
    },
    {
     "name": "stdout",
     "output_type": "stream",
     "text": [
      "GPU memory allocated: 12.62 GB // GPU memory reserved: 12.98 GB\n"
     ]
    },
    {
     "name": "stderr",
     "output_type": "stream",
     "text": [
      " 37%|██████████████████████████████▎                                                   | 37/100 [13:57<22:45, 21.67s/it]"
     ]
    },
    {
     "name": "stdout",
     "output_type": "stream",
     "text": [
      "GPU memory allocated: 12.62 GB // GPU memory reserved: 29.81 GB\n"
     ]
    },
    {
     "name": "stderr",
     "output_type": "stream",
     "text": [
      " 38%|███████████████████████████████▏                                                  | 38/100 [14:19<22:35, 21.86s/it]"
     ]
    },
    {
     "name": "stdout",
     "output_type": "stream",
     "text": [
      "GPU memory allocated: 12.62 GB // GPU memory reserved: 30.00 GB\n"
     ]
    },
    {
     "name": "stderr",
     "output_type": "stream",
     "text": [
      " 39%|███████████████████████████████▉                                                  | 39/100 [14:41<22:09, 21.80s/it]"
     ]
    },
    {
     "name": "stdout",
     "output_type": "stream",
     "text": [
      "GPU memory allocated: 12.62 GB // GPU memory reserved: 30.00 GB\n"
     ]
    },
    {
     "name": "stderr",
     "output_type": "stream",
     "text": [
      " 40%|████████████████████████████████▊                                                 | 40/100 [15:02<21:28, 21.48s/it]"
     ]
    },
    {
     "name": "stdout",
     "output_type": "stream",
     "text": [
      "GPU memory allocated: 12.62 GB // GPU memory reserved: 30.00 GB\n"
     ]
    },
    {
     "name": "stderr",
     "output_type": "stream",
     "text": [
      " 41%|█████████████████████████████████▌                                                | 41/100 [15:35<24:39, 25.07s/it]"
     ]
    },
    {
     "name": "stdout",
     "output_type": "stream",
     "text": [
      "GPU memory allocated: 12.62 GB // GPU memory reserved: 12.98 GB\n"
     ]
    },
    {
     "name": "stderr",
     "output_type": "stream",
     "text": [
      " 42%|██████████████████████████████████▍                                               | 42/100 [15:56<23:07, 23.92s/it]"
     ]
    },
    {
     "name": "stdout",
     "output_type": "stream",
     "text": [
      "GPU memory allocated: 12.62 GB // GPU memory reserved: 29.83 GB\n"
     ]
    },
    {
     "name": "stderr",
     "output_type": "stream",
     "text": [
      " 43%|███████████████████████████████████▎                                              | 43/100 [16:17<21:52, 23.02s/it]"
     ]
    },
    {
     "name": "stdout",
     "output_type": "stream",
     "text": [
      "GPU memory allocated: 12.62 GB // GPU memory reserved: 29.83 GB\n"
     ]
    },
    {
     "name": "stderr",
     "output_type": "stream",
     "text": [
      " 44%|████████████████████████████████████                                              | 44/100 [16:38<20:54, 22.40s/it]"
     ]
    },
    {
     "name": "stdout",
     "output_type": "stream",
     "text": [
      "GPU memory allocated: 12.62 GB // GPU memory reserved: 29.83 GB\n"
     ]
    },
    {
     "name": "stderr",
     "output_type": "stream",
     "text": [
      " 45%|████████████████████████████████████▉                                             | 45/100 [16:59<20:05, 21.91s/it]"
     ]
    },
    {
     "name": "stdout",
     "output_type": "stream",
     "text": [
      "GPU memory allocated: 12.62 GB // GPU memory reserved: 29.83 GB\n"
     ]
    },
    {
     "name": "stderr",
     "output_type": "stream",
     "text": [
      " 46%|█████████████████████████████████████▋                                            | 46/100 [17:21<19:42, 21.90s/it]"
     ]
    },
    {
     "name": "stdout",
     "output_type": "stream",
     "text": [
      "GPU memory allocated: 12.62 GB // GPU memory reserved: 12.98 GB\n"
     ]
    },
    {
     "name": "stderr",
     "output_type": "stream",
     "text": [
      " 47%|██████████████████████████████████████▌                                           | 47/100 [17:43<19:18, 21.87s/it]"
     ]
    },
    {
     "name": "stdout",
     "output_type": "stream",
     "text": [
      "GPU memory allocated: 12.62 GB // GPU memory reserved: 29.92 GB\n"
     ]
    },
    {
     "name": "stderr",
     "output_type": "stream",
     "text": [
      " 48%|███████████████████████████████████████▎                                          | 48/100 [18:04<18:46, 21.67s/it]"
     ]
    },
    {
     "name": "stdout",
     "output_type": "stream",
     "text": [
      "GPU memory allocated: 12.62 GB // GPU memory reserved: 29.92 GB\n"
     ]
    },
    {
     "name": "stderr",
     "output_type": "stream",
     "text": [
      " 49%|████████████████████████████████████████▏                                         | 49/100 [18:25<18:11, 21.40s/it]"
     ]
    },
    {
     "name": "stdout",
     "output_type": "stream",
     "text": [
      "GPU memory allocated: 12.62 GB // GPU memory reserved: 29.92 GB\n"
     ]
    },
    {
     "name": "stderr",
     "output_type": "stream",
     "text": [
      " 50%|█████████████████████████████████████████                                         | 50/100 [18:46<17:43, 21.26s/it]"
     ]
    },
    {
     "name": "stdout",
     "output_type": "stream",
     "text": [
      "GPU memory allocated: 12.62 GB // GPU memory reserved: 29.92 GB\n"
     ]
    },
    {
     "name": "stderr",
     "output_type": "stream",
     "text": [
      " 51%|█████████████████████████████████████████▊                                        | 51/100 [19:19<20:16, 24.82s/it]"
     ]
    },
    {
     "name": "stdout",
     "output_type": "stream",
     "text": [
      "GPU memory allocated: 12.62 GB // GPU memory reserved: 12.98 GB\n"
     ]
    },
    {
     "name": "stderr",
     "output_type": "stream",
     "text": [
      " 52%|██████████████████████████████████████████▋                                       | 52/100 [19:40<18:59, 23.74s/it]"
     ]
    },
    {
     "name": "stdout",
     "output_type": "stream",
     "text": [
      "GPU memory allocated: 12.62 GB // GPU memory reserved: 29.81 GB\n"
     ]
    },
    {
     "name": "stderr",
     "output_type": "stream",
     "text": [
      " 53%|███████████████████████████████████████████▍                                      | 53/100 [20:01<18:04, 23.08s/it]"
     ]
    },
    {
     "name": "stdout",
     "output_type": "stream",
     "text": [
      "GPU memory allocated: 12.62 GB // GPU memory reserved: 29.81 GB\n"
     ]
    },
    {
     "name": "stderr",
     "output_type": "stream",
     "text": [
      " 54%|████████████████████████████████████████████▎                                     | 54/100 [20:23<17:15, 22.51s/it]"
     ]
    },
    {
     "name": "stdout",
     "output_type": "stream",
     "text": [
      "GPU memory allocated: 12.62 GB // GPU memory reserved: 29.81 GB\n"
     ]
    },
    {
     "name": "stderr",
     "output_type": "stream",
     "text": [
      " 55%|█████████████████████████████████████████████                                     | 55/100 [20:45<16:54, 22.53s/it]"
     ]
    },
    {
     "name": "stdout",
     "output_type": "stream",
     "text": [
      "GPU memory allocated: 12.62 GB // GPU memory reserved: 30.11 GB\n"
     ]
    },
    {
     "name": "stderr",
     "output_type": "stream",
     "text": [
      " 56%|█████████████████████████████████████████████▉                                    | 56/100 [21:07<16:21, 22.31s/it]"
     ]
    },
    {
     "name": "stdout",
     "output_type": "stream",
     "text": [
      "GPU memory allocated: 12.62 GB // GPU memory reserved: 12.98 GB\n"
     ]
    },
    {
     "name": "stderr",
     "output_type": "stream",
     "text": [
      " 57%|██████████████████████████████████████████████▋                                   | 57/100 [21:28<15:41, 21.89s/it]"
     ]
    },
    {
     "name": "stdout",
     "output_type": "stream",
     "text": [
      "GPU memory allocated: 12.62 GB // GPU memory reserved: 29.81 GB\n"
     ]
    },
    {
     "name": "stderr",
     "output_type": "stream",
     "text": [
      " 58%|███████████████████████████████████████████████▌                                  | 58/100 [21:50<15:26, 22.07s/it]"
     ]
    },
    {
     "name": "stdout",
     "output_type": "stream",
     "text": [
      "GPU memory allocated: 12.62 GB // GPU memory reserved: 30.10 GB\n"
     ]
    },
    {
     "name": "stderr",
     "output_type": "stream",
     "text": [
      " 59%|████████████████████████████████████████████████▍                                 | 59/100 [22:12<14:54, 21.81s/it]"
     ]
    },
    {
     "name": "stdout",
     "output_type": "stream",
     "text": [
      "GPU memory allocated: 12.62 GB // GPU memory reserved: 30.10 GB\n"
     ]
    },
    {
     "name": "stderr",
     "output_type": "stream",
     "text": [
      " 60%|█████████████████████████████████████████████████▏                                | 60/100 [22:33<14:21, 21.53s/it]"
     ]
    },
    {
     "name": "stdout",
     "output_type": "stream",
     "text": [
      "GPU memory allocated: 12.62 GB // GPU memory reserved: 30.10 GB\n"
     ]
    },
    {
     "name": "stderr",
     "output_type": "stream",
     "text": [
      " 61%|██████████████████████████████████████████████████                                | 61/100 [23:06<16:17, 25.07s/it]"
     ]
    },
    {
     "name": "stdout",
     "output_type": "stream",
     "text": [
      "GPU memory allocated: 12.62 GB // GPU memory reserved: 12.98 GB\n"
     ]
    },
    {
     "name": "stderr",
     "output_type": "stream",
     "text": [
      " 62%|██████████████████████████████████████████████████▊                               | 62/100 [23:27<15:13, 24.04s/it]"
     ]
    },
    {
     "name": "stdout",
     "output_type": "stream",
     "text": [
      "GPU memory allocated: 12.62 GB // GPU memory reserved: 29.92 GB\n"
     ]
    },
    {
     "name": "stderr",
     "output_type": "stream",
     "text": [
      " 63%|███████████████████████████████████████████████████▋                              | 63/100 [23:48<14:15, 23.11s/it]"
     ]
    },
    {
     "name": "stdout",
     "output_type": "stream",
     "text": [
      "GPU memory allocated: 12.62 GB // GPU memory reserved: 29.92 GB\n"
     ]
    },
    {
     "name": "stderr",
     "output_type": "stream",
     "text": [
      " 64%|████████████████████████████████████████████████████▍                             | 64/100 [24:10<13:31, 22.53s/it]"
     ]
    },
    {
     "name": "stdout",
     "output_type": "stream",
     "text": [
      "GPU memory allocated: 12.62 GB // GPU memory reserved: 29.92 GB\n"
     ]
    },
    {
     "name": "stderr",
     "output_type": "stream",
     "text": [
      " 65%|█████████████████████████████████████████████████████▎                            | 65/100 [24:31<12:58, 22.24s/it]"
     ]
    },
    {
     "name": "stdout",
     "output_type": "stream",
     "text": [
      "GPU memory allocated: 12.62 GB // GPU memory reserved: 29.92 GB\n"
     ]
    },
    {
     "name": "stderr",
     "output_type": "stream",
     "text": [
      " 66%|██████████████████████████████████████████████████████                            | 66/100 [24:53<12:34, 22.20s/it]"
     ]
    },
    {
     "name": "stdout",
     "output_type": "stream",
     "text": [
      "GPU memory allocated: 12.62 GB // GPU memory reserved: 12.98 GB\n"
     ]
    },
    {
     "name": "stderr",
     "output_type": "stream",
     "text": [
      " 67%|██████████████████████████████████████████████████████▉                           | 67/100 [25:15<12:06, 22.01s/it]"
     ]
    },
    {
     "name": "stdout",
     "output_type": "stream",
     "text": [
      "GPU memory allocated: 12.62 GB // GPU memory reserved: 29.83 GB\n"
     ]
    },
    {
     "name": "stderr",
     "output_type": "stream",
     "text": [
      " 68%|███████████████████████████████████████████████████████▊                          | 68/100 [25:36<11:36, 21.77s/it]"
     ]
    },
    {
     "name": "stdout",
     "output_type": "stream",
     "text": [
      "GPU memory allocated: 12.62 GB // GPU memory reserved: 29.83 GB\n"
     ]
    },
    {
     "name": "stderr",
     "output_type": "stream",
     "text": [
      " 69%|████████████████████████████████████████████████████████▌                         | 69/100 [25:58<11:17, 21.85s/it]"
     ]
    },
    {
     "name": "stdout",
     "output_type": "stream",
     "text": [
      "GPU memory allocated: 12.62 GB // GPU memory reserved: 29.90 GB\n"
     ]
    },
    {
     "name": "stderr",
     "output_type": "stream",
     "text": [
      " 70%|█████████████████████████████████████████████████████████▍                        | 70/100 [26:20<10:55, 21.85s/it]"
     ]
    },
    {
     "name": "stdout",
     "output_type": "stream",
     "text": [
      "GPU memory allocated: 12.62 GB // GPU memory reserved: 29.92 GB\n"
     ]
    },
    {
     "name": "stderr",
     "output_type": "stream",
     "text": [
      " 71%|██████████████████████████████████████████████████████████▏                       | 71/100 [26:53<12:11, 25.21s/it]"
     ]
    },
    {
     "name": "stdout",
     "output_type": "stream",
     "text": [
      "GPU memory allocated: 12.62 GB // GPU memory reserved: 12.98 GB\n"
     ]
    },
    {
     "name": "stderr",
     "output_type": "stream",
     "text": [
      " 72%|███████████████████████████████████████████████████████████                       | 72/100 [27:15<11:18, 24.23s/it]"
     ]
    },
    {
     "name": "stdout",
     "output_type": "stream",
     "text": [
      "GPU memory allocated: 12.62 GB // GPU memory reserved: 30.00 GB\n"
     ]
    },
    {
     "name": "stderr",
     "output_type": "stream",
     "text": [
      " 73%|███████████████████████████████████████████████████████████▊                      | 73/100 [27:37<10:35, 23.54s/it]"
     ]
    },
    {
     "name": "stdout",
     "output_type": "stream",
     "text": [
      "GPU memory allocated: 12.62 GB // GPU memory reserved: 30.00 GB\n"
     ]
    },
    {
     "name": "stderr",
     "output_type": "stream",
     "text": [
      " 74%|████████████████████████████████████████████████████████████▋                     | 74/100 [27:59<09:59, 23.07s/it]"
     ]
    },
    {
     "name": "stdout",
     "output_type": "stream",
     "text": [
      "GPU memory allocated: 12.62 GB // GPU memory reserved: 30.00 GB\n"
     ]
    },
    {
     "name": "stderr",
     "output_type": "stream",
     "text": [
      " 75%|█████████████████████████████████████████████████████████████▌                    | 75/100 [28:21<09:31, 22.86s/it]"
     ]
    },
    {
     "name": "stdout",
     "output_type": "stream",
     "text": [
      "GPU memory allocated: 12.62 GB // GPU memory reserved: 30.12 GB\n"
     ]
    },
    {
     "name": "stderr",
     "output_type": "stream",
     "text": [
      " 76%|██████████████████████████████████████████████████████████████▎                   | 76/100 [28:42<08:56, 22.34s/it]"
     ]
    },
    {
     "name": "stdout",
     "output_type": "stream",
     "text": [
      "GPU memory allocated: 12.62 GB // GPU memory reserved: 12.98 GB\n"
     ]
    },
    {
     "name": "stderr",
     "output_type": "stream",
     "text": [
      " 77%|███████████████████████████████████████████████████████████████▏                  | 77/100 [29:03<08:24, 21.95s/it]"
     ]
    },
    {
     "name": "stdout",
     "output_type": "stream",
     "text": [
      "GPU memory allocated: 12.62 GB // GPU memory reserved: 29.81 GB\n"
     ]
    },
    {
     "name": "stderr",
     "output_type": "stream",
     "text": [
      " 78%|███████████████████████████████████████████████████████████████▉                  | 78/100 [29:25<07:58, 21.77s/it]"
     ]
    },
    {
     "name": "stdout",
     "output_type": "stream",
     "text": [
      "GPU memory allocated: 12.62 GB // GPU memory reserved: 29.83 GB\n"
     ]
    },
    {
     "name": "stderr",
     "output_type": "stream",
     "text": [
      " 79%|████████████████████████████████████████████████████████████████▊                 | 79/100 [29:46<07:33, 21.58s/it]"
     ]
    },
    {
     "name": "stdout",
     "output_type": "stream",
     "text": [
      "GPU memory allocated: 12.62 GB // GPU memory reserved: 29.83 GB\n"
     ]
    },
    {
     "name": "stderr",
     "output_type": "stream",
     "text": [
      " 80%|█████████████████████████████████████████████████████████████████▌                | 80/100 [30:07<07:10, 21.51s/it]"
     ]
    },
    {
     "name": "stdout",
     "output_type": "stream",
     "text": [
      "GPU memory allocated: 12.62 GB // GPU memory reserved: 29.83 GB\n"
     ]
    },
    {
     "name": "stderr",
     "output_type": "stream",
     "text": [
      " 81%|██████████████████████████████████████████████████████████████████▍               | 81/100 [30:40<07:50, 24.76s/it]"
     ]
    },
    {
     "name": "stdout",
     "output_type": "stream",
     "text": [
      "GPU memory allocated: 12.62 GB // GPU memory reserved: 12.98 GB\n"
     ]
    },
    {
     "name": "stderr",
     "output_type": "stream",
     "text": [
      " 82%|███████████████████████████████████████████████████████████████████▏              | 82/100 [31:01<07:09, 23.88s/it]"
     ]
    },
    {
     "name": "stdout",
     "output_type": "stream",
     "text": [
      "GPU memory allocated: 12.62 GB // GPU memory reserved: 30.00 GB\n"
     ]
    },
    {
     "name": "stderr",
     "output_type": "stream",
     "text": [
      " 83%|████████████████████████████████████████████████████████████████████              | 83/100 [31:23<06:35, 23.25s/it]"
     ]
    },
    {
     "name": "stdout",
     "output_type": "stream",
     "text": [
      "GPU memory allocated: 12.62 GB // GPU memory reserved: 30.00 GB\n"
     ]
    },
    {
     "name": "stderr",
     "output_type": "stream",
     "text": [
      " 84%|████████████████████████████████████████████████████████████████████▉             | 84/100 [31:45<06:02, 22.68s/it]"
     ]
    },
    {
     "name": "stdout",
     "output_type": "stream",
     "text": [
      "GPU memory allocated: 12.62 GB // GPU memory reserved: 30.00 GB\n"
     ]
    },
    {
     "name": "stderr",
     "output_type": "stream",
     "text": [
      " 85%|█████████████████████████████████████████████████████████████████████▋            | 85/100 [32:06<05:34, 22.30s/it]"
     ]
    },
    {
     "name": "stdout",
     "output_type": "stream",
     "text": [
      "GPU memory allocated: 12.62 GB // GPU memory reserved: 30.00 GB\n"
     ]
    },
    {
     "name": "stderr",
     "output_type": "stream",
     "text": [
      " 86%|██████████████████████████████████████████████████████████████████████▌           | 86/100 [32:28<05:10, 22.18s/it]"
     ]
    },
    {
     "name": "stdout",
     "output_type": "stream",
     "text": [
      "GPU memory allocated: 12.62 GB // GPU memory reserved: 12.98 GB\n"
     ]
    },
    {
     "name": "stderr",
     "output_type": "stream",
     "text": [
      " 87%|███████████████████████████████████████████████████████████████████████▎          | 87/100 [32:50<04:48, 22.16s/it]"
     ]
    },
    {
     "name": "stdout",
     "output_type": "stream",
     "text": [
      "GPU memory allocated: 12.62 GB // GPU memory reserved: 30.07 GB\n"
     ]
    },
    {
     "name": "stderr",
     "output_type": "stream",
     "text": [
      " 88%|████████████████████████████████████████████████████████████████████████▏         | 88/100 [33:12<04:24, 22.03s/it]"
     ]
    },
    {
     "name": "stdout",
     "output_type": "stream",
     "text": [
      "GPU memory allocated: 12.62 GB // GPU memory reserved: 30.07 GB\n"
     ]
    },
    {
     "name": "stderr",
     "output_type": "stream",
     "text": [
      " 89%|████████████████████████████████████████████████████████████████████████▉         | 89/100 [33:33<04:00, 21.86s/it]"
     ]
    },
    {
     "name": "stdout",
     "output_type": "stream",
     "text": [
      "GPU memory allocated: 12.62 GB // GPU memory reserved: 30.07 GB\n"
     ]
    },
    {
     "name": "stderr",
     "output_type": "stream",
     "text": [
      " 90%|█████████████████████████████████████████████████████████████████████████▊        | 90/100 [33:54<03:34, 21.45s/it]"
     ]
    },
    {
     "name": "stdout",
     "output_type": "stream",
     "text": [
      "GPU memory allocated: 12.62 GB // GPU memory reserved: 30.07 GB\n"
     ]
    },
    {
     "name": "stderr",
     "output_type": "stream",
     "text": [
      " 91%|██████████████████████████████████████████████████████████████████████████▌       | 91/100 [34:25<03:39, 24.37s/it]"
     ]
    },
    {
     "name": "stdout",
     "output_type": "stream",
     "text": [
      "GPU memory allocated: 12.62 GB // GPU memory reserved: 12.98 GB\n"
     ]
    },
    {
     "name": "stderr",
     "output_type": "stream",
     "text": [
      " 92%|███████████████████████████████████████████████████████████████████████████▍      | 92/100 [34:45<03:05, 23.25s/it]"
     ]
    },
    {
     "name": "stdout",
     "output_type": "stream",
     "text": [
      "GPU memory allocated: 12.62 GB // GPU memory reserved: 29.81 GB\n"
     ]
    },
    {
     "name": "stderr",
     "output_type": "stream",
     "text": [
      " 93%|████████████████████████████████████████████████████████████████████████████▎     | 93/100 [35:06<02:37, 22.51s/it]"
     ]
    },
    {
     "name": "stdout",
     "output_type": "stream",
     "text": [
      "GPU memory allocated: 12.62 GB // GPU memory reserved: 29.81 GB\n"
     ]
    },
    {
     "name": "stderr",
     "output_type": "stream",
     "text": [
      " 94%|█████████████████████████████████████████████████████████████████████████████     | 94/100 [35:28<02:13, 22.24s/it]"
     ]
    },
    {
     "name": "stdout",
     "output_type": "stream",
     "text": [
      "GPU memory allocated: 12.62 GB // GPU memory reserved: 29.96 GB\n"
     ]
    },
    {
     "name": "stderr",
     "output_type": "stream",
     "text": [
      " 95%|█████████████████████████████████████████████████████████████████████████████▉    | 95/100 [35:49<01:49, 21.92s/it]"
     ]
    },
    {
     "name": "stdout",
     "output_type": "stream",
     "text": [
      "GPU memory allocated: 12.62 GB // GPU memory reserved: 29.96 GB\n"
     ]
    },
    {
     "name": "stderr",
     "output_type": "stream",
     "text": [
      " 96%|██████████████████████████████████████████████████████████████████████████████▋   | 96/100 [36:11<01:27, 21.92s/it]"
     ]
    },
    {
     "name": "stdout",
     "output_type": "stream",
     "text": [
      "GPU memory allocated: 12.62 GB // GPU memory reserved: 12.98 GB\n"
     ]
    },
    {
     "name": "stderr",
     "output_type": "stream",
     "text": [
      " 97%|███████████████████████████████████████████████████████████████████████████████▌  | 97/100 [36:32<01:05, 21.75s/it]"
     ]
    },
    {
     "name": "stdout",
     "output_type": "stream",
     "text": [
      "GPU memory allocated: 12.62 GB // GPU memory reserved: 29.86 GB\n"
     ]
    },
    {
     "name": "stderr",
     "output_type": "stream",
     "text": [
      " 98%|████████████████████████████████████████████████████████████████████████████████▎ | 98/100 [36:52<00:42, 21.28s/it]"
     ]
    },
    {
     "name": "stdout",
     "output_type": "stream",
     "text": [
      "GPU memory allocated: 12.62 GB // GPU memory reserved: 29.86 GB\n"
     ]
    },
    {
     "name": "stderr",
     "output_type": "stream",
     "text": [
      " 99%|█████████████████████████████████████████████████████████████████████████████████▏| 99/100 [37:13<00:21, 21.04s/it]"
     ]
    },
    {
     "name": "stdout",
     "output_type": "stream",
     "text": [
      "GPU memory allocated: 12.62 GB // GPU memory reserved: 29.86 GB\n"
     ]
    },
    {
     "name": "stderr",
     "output_type": "stream",
     "text": [
      "100%|█████████████████████████████████████████████████████████████████████████████████| 100/100 [37:35<00:00, 22.55s/it]"
     ]
    },
    {
     "name": "stdout",
     "output_type": "stream",
     "text": [
      "GPU memory allocated: 12.62 GB // GPU memory reserved: 29.90 GB\n"
     ]
    },
    {
     "name": "stderr",
     "output_type": "stream",
     "text": [
      "\n"
     ]
    }
   ],
   "source": [
    "# Helper function to load audio files\n",
    "def load_audio(file_path):\n",
    "    audio, _ = librosa.load(file_path, sr=16000)  # Ensure 16kHz sampling rate\n",
    "    return audio\n",
    "\n",
    "batch_size = 32\n",
    "import tqdm\n",
    "import gc\n",
    "# Process in batches\n",
    "results = []\n",
    "c = 0\n",
    "for i in tqdm.tqdm(range(0, len(wav_files), batch_size)):\n",
    "    model.past_key_values = None\n",
    "    batch_files = wav_files[i:i + batch_size]\n",
    "    batch_ids = file_ids[i:i + batch_size]\n",
    "\n",
    "    # Load audio files for the current batch\n",
    "    audios = [load_audio(file) for file in batch_files]\n",
    "\n",
    "    # Get transcriptions\n",
    "    transcriptions = transcribe_it(audios)\n",
    "\n",
    "    # torch.cuda.empty_cache()\n",
    "    # torch.cuda.empty_cache()\n",
    "    # gc.collect()\n",
    "    # torch.cuda.synchronize()\n",
    "    # gc.collect()\n",
    "\n",
    "    if(c%5==0):\n",
    "        torch.cuda.empty_cache()\n",
    "        gc.collect()\n",
    "        # torch.cuda.reset_peak_memory_stats()\n",
    "        # Optional: Force CUDA device reset\n",
    "        torch.cuda.reset_peak_memory_stats()\n",
    "        torch.cuda.reset_accumulated_memory_stats()\n",
    "\n",
    "    if(c%10==0):\n",
    "        del model\n",
    "        model = AutoModelForSpeechSeq2Seq.from_pretrained(\"openai/whisper-large-v3\").to(\"cuda\")\n",
    "        \n",
    "    print(f\"GPU memory allocated: {torch.cuda.memory_allocated() / 1e9:.2f} GB // GPU memory reserved: {torch.cuda.memory_reserved()/1e9:.2f} GB\")\n",
    "    # del audios\n",
    "    # transcriber.model.to(\"cpu\")\n",
    "    # torch.cuda.empty_cache()\n",
    "    # transcriber.model.to(\"cuda\")\n",
    "    # Merge transcriptions with IDs\n",
    "    for trans, file_id in zip(transcriptions, batch_ids):\n",
    "        results.append({\"FileName\": file_id, \"transcription\": trans})\n",
    "\n",
    "    c += 1"
   ]
  },
  {
   "cell_type": "code",
   "execution_count": null,
   "id": "73d9e497-032a-49c6-84c6-53796203f77d",
   "metadata": {},
   "outputs": [],
   "source": []
  },
  {
   "cell_type": "code",
   "execution_count": 24,
   "id": "c2e02e67-3dc4-4c87-a033-cff69ce4cd4e",
   "metadata": {},
   "outputs": [
    {
     "name": "stderr",
     "output_type": "stream",
     "text": [
      "\n",
      "00%|██████████████████████████████████████████████████████████████████████████████| 100/100 [00:00<00:00, 12116.31it/s]"
     ]
    }
   ],
   "source": [
    "for i in tqdm.tqdm(range(0, len(wav_files), batch_size)):\n",
    "    batch_files = wav_files[i:i + batch_size]\n",
    "    batch_ids = file_ids[i:i + batch_size]"
   ]
  },
  {
   "cell_type": "code",
   "execution_count": 25,
   "id": "d9930086-632d-40aa-b4a2-14d174fb773c",
   "metadata": {},
   "outputs": [],
   "source": [
    "# del transcriber"
   ]
  },
  {
   "cell_type": "code",
   "execution_count": 26,
   "id": "16fdc042-9bcb-4cbe-bebf-62f7d7210a71",
   "metadata": {},
   "outputs": [
    {
     "data": {
      "text/html": [
       "<div>\n",
       "<style scoped>\n",
       "    .dataframe tbody tr th:only-of-type {\n",
       "        vertical-align: middle;\n",
       "    }\n",
       "\n",
       "    .dataframe tbody tr th {\n",
       "        vertical-align: top;\n",
       "    }\n",
       "\n",
       "    .dataframe thead th {\n",
       "        text-align: right;\n",
       "    }\n",
       "</style>\n",
       "<table border=\"1\" class=\"dataframe\">\n",
       "  <thead>\n",
       "    <tr style=\"text-align: right;\">\n",
       "      <th></th>\n",
       "      <th>FileName</th>\n",
       "      <th>transcription</th>\n",
       "    </tr>\n",
       "  </thead>\n",
       "  <tbody>\n",
       "    <tr>\n",
       "      <th>0</th>\n",
       "      <td>MSP-PODCAST_test3_0001.wav</td>\n",
       "      <td>And it's a sad thing, and I feel that's one o...</td>\n",
       "    </tr>\n",
       "    <tr>\n",
       "      <th>1</th>\n",
       "      <td>MSP-PODCAST_test3_0002.wav</td>\n",
       "      <td>And this isn't getting them in for a demo. Th...</td>\n",
       "    </tr>\n",
       "    <tr>\n",
       "      <th>2</th>\n",
       "      <td>MSP-PODCAST_test3_0003.wav</td>\n",
       "      <td>nurse us in hospitals or in who care for us i...</td>\n",
       "    </tr>\n",
       "    <tr>\n",
       "      <th>3</th>\n",
       "      <td>MSP-PODCAST_test3_0004.wav</td>\n",
       "      <td>seriously i mean people don't like to be push...</td>\n",
       "    </tr>\n",
       "    <tr>\n",
       "      <th>4</th>\n",
       "      <td>MSP-PODCAST_test3_0005.wav</td>\n",
       "      <td>are really hardcore train writer i think they...</td>\n",
       "    </tr>\n",
       "  </tbody>\n",
       "</table>\n",
       "</div>"
      ],
      "text/plain": [
       "                     FileName  \\\n",
       "0  MSP-PODCAST_test3_0001.wav   \n",
       "1  MSP-PODCAST_test3_0002.wav   \n",
       "2  MSP-PODCAST_test3_0003.wav   \n",
       "3  MSP-PODCAST_test3_0004.wav   \n",
       "4  MSP-PODCAST_test3_0005.wav   \n",
       "\n",
       "                                       transcription  \n",
       "0   And it's a sad thing, and I feel that's one o...  \n",
       "1   And this isn't getting them in for a demo. Th...  \n",
       "2   nurse us in hospitals or in who care for us i...  \n",
       "3   seriously i mean people don't like to be push...  \n",
       "4   are really hardcore train writer i think they...  "
      ]
     },
     "execution_count": 26,
     "metadata": {},
     "output_type": "execute_result"
    }
   ],
   "source": [
    "# import pandas as pd\n",
    "\n",
    "# # Convert results to DataFrame\n",
    "# transcriptions_df = pd.DataFrame(results)\n",
    "# transcriptions_df.head()"
   ]
  },
  {
   "cell_type": "code",
   "execution_count": 27,
   "id": "b357d7a6-d5ec-4916-b996-a2e45e37965a",
   "metadata": {},
   "outputs": [],
   "source": [
    "# transcriptions_df.to_csv(\"whisper_transcripts_test.csv\", index = False)"
   ]
  },
  {
   "cell_type": "code",
   "execution_count": 29,
   "id": "cf2a354a-c471-42da-9621-d72dbbd5de57",
   "metadata": {},
   "outputs": [
    {
     "data": {
      "text/html": [
       "<div>\n",
       "<style scoped>\n",
       "    .dataframe tbody tr th:only-of-type {\n",
       "        vertical-align: middle;\n",
       "    }\n",
       "\n",
       "    .dataframe tbody tr th {\n",
       "        vertical-align: top;\n",
       "    }\n",
       "\n",
       "    .dataframe thead th {\n",
       "        text-align: right;\n",
       "    }\n",
       "</style>\n",
       "<table border=\"1\" class=\"dataframe\">\n",
       "  <thead>\n",
       "    <tr style=\"text-align: right;\">\n",
       "      <th></th>\n",
       "      <th>FileName</th>\n",
       "      <th>transcription</th>\n",
       "      <th>l</th>\n",
       "    </tr>\n",
       "  </thead>\n",
       "  <tbody>\n",
       "    <tr>\n",
       "      <th>0</th>\n",
       "      <td>MSP-PODCAST_test3_0001.wav</td>\n",
       "      <td>And it's a sad thing, and I feel that's one o...</td>\n",
       "      <td>100</td>\n",
       "    </tr>\n",
       "    <tr>\n",
       "      <th>1</th>\n",
       "      <td>MSP-PODCAST_test3_0002.wav</td>\n",
       "      <td>And this isn't getting them in for a demo. Th...</td>\n",
       "      <td>128</td>\n",
       "    </tr>\n",
       "    <tr>\n",
       "      <th>2</th>\n",
       "      <td>MSP-PODCAST_test3_0003.wav</td>\n",
       "      <td>nurse us in hospitals or in who care for us i...</td>\n",
       "      <td>61</td>\n",
       "    </tr>\n",
       "    <tr>\n",
       "      <th>3</th>\n",
       "      <td>MSP-PODCAST_test3_0004.wav</td>\n",
       "      <td>seriously i mean people don't like to be push...</td>\n",
       "      <td>59</td>\n",
       "    </tr>\n",
       "    <tr>\n",
       "      <th>4</th>\n",
       "      <td>MSP-PODCAST_test3_0005.wav</td>\n",
       "      <td>are really hardcore train writer i think they...</td>\n",
       "      <td>81</td>\n",
       "    </tr>\n",
       "  </tbody>\n",
       "</table>\n",
       "</div>"
      ],
      "text/plain": [
       "                     FileName  \\\n",
       "0  MSP-PODCAST_test3_0001.wav   \n",
       "1  MSP-PODCAST_test3_0002.wav   \n",
       "2  MSP-PODCAST_test3_0003.wav   \n",
       "3  MSP-PODCAST_test3_0004.wav   \n",
       "4  MSP-PODCAST_test3_0005.wav   \n",
       "\n",
       "                                       transcription    l  \n",
       "0   And it's a sad thing, and I feel that's one o...  100  \n",
       "1   And this isn't getting them in for a demo. Th...  128  \n",
       "2   nurse us in hospitals or in who care for us i...   61  \n",
       "3   seriously i mean people don't like to be push...   59  \n",
       "4   are really hardcore train writer i think they...   81  "
      ]
     },
     "execution_count": 29,
     "metadata": {},
     "output_type": "execute_result"
    }
   ],
   "source": [
    "transcriptions_df['l'] = transcriptions_df['transcription'].str.len()\n",
    "transcriptions_df.head()"
   ]
  },
  {
   "cell_type": "code",
   "execution_count": 38,
   "id": "df62aab6-1fd2-4f41-b73b-290ec4a3c35d",
   "metadata": {},
   "outputs": [
    {
     "data": {
      "text/html": [
       "<div>\n",
       "<style scoped>\n",
       "    .dataframe tbody tr th:only-of-type {\n",
       "        vertical-align: middle;\n",
       "    }\n",
       "\n",
       "    .dataframe tbody tr th {\n",
       "        vertical-align: top;\n",
       "    }\n",
       "\n",
       "    .dataframe thead th {\n",
       "        text-align: right;\n",
       "    }\n",
       "</style>\n",
       "<table border=\"1\" class=\"dataframe\">\n",
       "  <thead>\n",
       "    <tr style=\"text-align: right;\">\n",
       "      <th></th>\n",
       "      <th>FileName</th>\n",
       "      <th>transcription</th>\n",
       "      <th>l</th>\n",
       "    </tr>\n",
       "  </thead>\n",
       "  <tbody>\n",
       "    <tr>\n",
       "      <th>1892</th>\n",
       "      <td>MSP-PODCAST_test3_1893.wav</td>\n",
       "      <td>Ooh.</td>\n",
       "      <td>5</td>\n",
       "    </tr>\n",
       "    <tr>\n",
       "      <th>1229</th>\n",
       "      <td>MSP-PODCAST_test3_1230.wav</td>\n",
       "      <td>Ooh.</td>\n",
       "      <td>5</td>\n",
       "    </tr>\n",
       "    <tr>\n",
       "      <th>2930</th>\n",
       "      <td>MSP-PODCAST_test3_2931.wav</td>\n",
       "      <td>Yeah.</td>\n",
       "      <td>6</td>\n",
       "    </tr>\n",
       "    <tr>\n",
       "      <th>1428</th>\n",
       "      <td>MSP-PODCAST_test3_1429.wav</td>\n",
       "      <td>Yeah.</td>\n",
       "      <td>6</td>\n",
       "    </tr>\n",
       "    <tr>\n",
       "      <th>1904</th>\n",
       "      <td>MSP-PODCAST_test3_1905.wav</td>\n",
       "      <td>Yeah.</td>\n",
       "      <td>6</td>\n",
       "    </tr>\n",
       "    <tr>\n",
       "      <th>162</th>\n",
       "      <td>MSP-PODCAST_test3_0163.wav</td>\n",
       "      <td>Yeah.</td>\n",
       "      <td>6</td>\n",
       "    </tr>\n",
       "    <tr>\n",
       "      <th>2855</th>\n",
       "      <td>MSP-PODCAST_test3_2856.wav</td>\n",
       "      <td>Mm-hmm.</td>\n",
       "      <td>8</td>\n",
       "    </tr>\n",
       "    <tr>\n",
       "      <th>981</th>\n",
       "      <td>MSP-PODCAST_test3_0982.wav</td>\n",
       "      <td>He says,</td>\n",
       "      <td>9</td>\n",
       "    </tr>\n",
       "    <tr>\n",
       "      <th>427</th>\n",
       "      <td>MSP-PODCAST_test3_0428.wav</td>\n",
       "      <td>Thank you.</td>\n",
       "      <td>11</td>\n",
       "    </tr>\n",
       "    <tr>\n",
       "      <th>2716</th>\n",
       "      <td>MSP-PODCAST_test3_2717.wav</td>\n",
       "      <td>gentle and</td>\n",
       "      <td>11</td>\n",
       "    </tr>\n",
       "  </tbody>\n",
       "</table>\n",
       "</div>"
      ],
      "text/plain": [
       "                        FileName transcription   l\n",
       "1892  MSP-PODCAST_test3_1893.wav          Ooh.   5\n",
       "1229  MSP-PODCAST_test3_1230.wav          Ooh.   5\n",
       "2930  MSP-PODCAST_test3_2931.wav         Yeah.   6\n",
       "1428  MSP-PODCAST_test3_1429.wav         Yeah.   6\n",
       "1904  MSP-PODCAST_test3_1905.wav         Yeah.   6\n",
       "162   MSP-PODCAST_test3_0163.wav         Yeah.   6\n",
       "2855  MSP-PODCAST_test3_2856.wav       Mm-hmm.   8\n",
       "981   MSP-PODCAST_test3_0982.wav      He says,   9\n",
       "427   MSP-PODCAST_test3_0428.wav    Thank you.  11\n",
       "2716  MSP-PODCAST_test3_2717.wav    gentle and  11"
      ]
     },
     "execution_count": 38,
     "metadata": {},
     "output_type": "execute_result"
    }
   ],
   "source": [
    "transcriptions_df.sort_values(by='l', ascending=True).head(10)"
   ]
  },
  {
   "cell_type": "code",
   "execution_count": 41,
   "id": "5557209d-1cba-40e2-bb0e-4082bbb79733",
   "metadata": {},
   "outputs": [
    {
     "data": {
      "text/html": [
       "\n",
       "                <audio  controls=\"controls\" >\n",
       "                    <source src=\"data:audio/x-wav;base64,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\" type=\"audio/x-wav\" />\n",
       "                    Your browser does not support the audio element.\n",
       "                </audio>\n",
       "              "
      ],
      "text/plain": [
       "<IPython.lib.display.Audio object>"
      ]
     },
     "execution_count": 41,
     "metadata": {},
     "output_type": "execute_result"
    }
   ],
   "source": [
    "import IPython\n",
    "IPython.display.Audio('../data/Audios/MSP-PODCAST_test3_1905.wav')"
   ]
  },
  {
   "cell_type": "code",
   "execution_count": null,
   "id": "fe08eeb7-7a54-42b9-8ba3-1e4ebc0894b4",
   "metadata": {},
   "outputs": [],
   "source": []
  },
  {
   "cell_type": "code",
   "execution_count": 7,
   "id": "0661f36e-b57a-4ff6-a48d-5559ab160199",
   "metadata": {},
   "outputs": [
    {
     "data": {
      "text/plain": [
       "(                    FileName  \\\n",
       " 0  MSP-PODCAST_0002_0033.wav   \n",
       " 1  MSP-PODCAST_0002_0039.wav   \n",
       " 2  MSP-PODCAST_0002_0051.wav   \n",
       " 3  MSP-PODCAST_0002_0059.wav   \n",
       " 4  MSP-PODCAST_0002_0061.wav   \n",
       " \n",
       "                                        transcription  \n",
       " 0               and I mean the numbers, right? So...  \n",
       " 1   1500 or something. It talks about the two dif...  \n",
       " 2   I did. So here it is. So it's page 1501 in th...  \n",
       " 3   You know, it sounds like it could be like a b...  \n",
       " 4   Yeah. So, but Molly, I mean, this is really o...  ,\n",
       " (116221, 2))"
      ]
     },
     "execution_count": 7,
     "metadata": {},
     "output_type": "execute_result"
    }
   ],
   "source": [
    "import pandas as pd\n",
    "transcriptions_df = pd.read_csv(\"whisper_transcripts.csv\")\n",
    "transcriptions_df.head(),transcriptions_df.shape"
   ]
  },
  {
   "cell_type": "code",
   "execution_count": 5,
   "id": "16025332-f31d-45bd-805f-56548aebf43e",
   "metadata": {},
   "outputs": [],
   "source": [
    "transcriptions_df['FileName'] = transcriptions_df['id'] "
   ]
  },
  {
   "cell_type": "code",
   "execution_count": 8,
   "id": "903f0b6f-cf61-4680-b99d-6b9b60d2c0a7",
   "metadata": {},
   "outputs": [],
   "source": [
    "# transcriptions_df[['FileName','transcription']].to_csv(\"whisper_transcripts.csv\", index = False)"
   ]
  },
  {
   "cell_type": "code",
   "execution_count": null,
   "id": "14bb2254-b627-44da-aa48-38895eeae5ff",
   "metadata": {},
   "outputs": [],
   "source": []
  },
  {
   "cell_type": "code",
   "execution_count": null,
   "id": "6bd263c6-afe2-4240-ab73-6431ff7d7c61",
   "metadata": {},
   "outputs": [],
   "source": [
    "!nvidia-smi"
   ]
  },
  {
   "cell_type": "code",
   "execution_count": null,
   "id": "5bd8bd0b-89a1-4832-ad46-73da46701f00",
   "metadata": {},
   "outputs": [],
   "source": [
    "\n",
    "torch.cuda.empty_cache()\n",
    "gc.collect()\n",
    "torch.cuda.reset_peak_memory_stats()\n",
    "print(f\"GPU memory allocated: {torch.cuda.memory_allocated() / 1e9:.2f} GB\")\n",
    "# Optional: Force CUDA device reset\n",
    "torch.cuda.reset_peak_memory_stats()\n",
    "torch.cuda.reset_accumulated_memory_stats()"
   ]
  },
  {
   "cell_type": "code",
   "execution_count": null,
   "id": "5dfd4129-a372-4649-9636-ef94cc6b0b9b",
   "metadata": {},
   "outputs": [],
   "source": [
    "def force_gpu_cleanup():\n",
    "    # Delete all CUDA tensors\n",
    "    for obj in gc.get_objects():\n",
    "        try:\n",
    "            if torch.is_tensor(obj):\n",
    "                if obj.is_cuda:\n",
    "                    del obj\n",
    "        except Exception:\n",
    "            pass\n",
    "    \n",
    "    # Clear CUDA cache\n",
    "    torch.cuda.empty_cache()\n",
    "    torch.cuda.synchronize()\n",
    "    \n",
    "    # Force Python garbage collection\n",
    "    gc.collect()\n",
    "    \n",
    "    # Optional: Reset CUDA device\n",
    "    torch.cuda.reset_peak_memory_stats()\n",
    "    if torch.cuda.is_available():\n",
    "        current_device = torch.cuda.current_device()\n",
    "        torch.cuda.set_device(current_device)"
   ]
  },
  {
   "cell_type": "code",
   "execution_count": null,
   "id": "b4bcd51c-4855-4675-b336-60665d31e113",
   "metadata": {},
   "outputs": [],
   "source": [
    "os.system('sync') # Linux/Mac only"
   ]
  },
  {
   "cell_type": "code",
   "execution_count": null,
   "id": "cbdd8942-e8c5-44e9-a8f9-3593e2b9e6a2",
   "metadata": {},
   "outputs": [],
   "source": [
    "import gc\n",
    "torch.cuda.empty_cache()\n",
    "gc.collect()\n",
    "torch.cuda.reset_peak_memory_stats()\n",
    "# Optional: Force CUDA device reset\n",
    "# torch.cuda.reset_peak_memory_stats()\n",
    "torch.cuda.reset_accumulated_memory_stats()\n",
    "print(f\"GPU memory allocated: {torch.cuda.memory_allocated() / 1e9:.2f} GB // GPU memory reserved: {torch.cuda.memory_reserved()/1e9:.2f} GB\")"
   ]
  },
  {
   "cell_type": "code",
   "execution_count": null,
   "id": "01c2d03b-4f71-4ac5-b4f7-a5b005fce6ce",
   "metadata": {},
   "outputs": [],
   "source": []
  }
 ],
 "metadata": {
  "kernelspec": {
   "display_name": "Python 3 (ipykernel)",
   "language": "python",
   "name": "python3"
  },
  "language_info": {
   "codemirror_mode": {
    "name": "ipython",
    "version": 3
   },
   "file_extension": ".py",
   "mimetype": "text/x-python",
   "name": "python",
   "nbconvert_exporter": "python",
   "pygments_lexer": "ipython3",
   "version": "3.10.8"
  }
 },
 "nbformat": 4,
 "nbformat_minor": 5
}
